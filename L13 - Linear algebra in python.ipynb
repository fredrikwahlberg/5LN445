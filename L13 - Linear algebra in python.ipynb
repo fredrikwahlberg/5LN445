{
  "nbformat": 4,
  "nbformat_minor": 0,
  "metadata": {
    "colab": {
      "name": "Math L13 - Linear algebra in python.ipynb",
      "provenance": []
    },
    "kernelspec": {
      "name": "python3",
      "display_name": "Python 3"
    }
  },
  "cells": [
    {
      "cell_type": "markdown",
      "metadata": {
        "id": "QpCt57u3vUf_"
      },
      "source": [
        "# Primer on using vectors in python\n",
        " \n",
        "This notebook is intended to show you the basics of linear algebra in python using the NumPy library. Why do we use a special library for linear algebra? Because python's own data types are multi-purpose while we want speed and efficiency. Numpy also provides a multitude of operations that are only relevant for us who use python for mathematics heavy applications."
      ]
    },
    {
      "cell_type": "code",
      "metadata": {
        "id": "HvVvJN9WwIHM"
      },
      "source": [
        "import numpy as np"
      ],
      "execution_count": null,
      "outputs": []
    },
    {
      "cell_type": "markdown",
      "metadata": {
        "id": "qqBF8XOawITm"
      },
      "source": [
        "## Chapter 1.1 exercises\n",
        "\n",
        "Vectors are defined by making a list with numbers and then letting numpy transforming it into its own data format. Note that vectors in numpy do not differentiate between horisontal or vertical order by default (as we do in the lectures)."
      ]
    },
    {
      "cell_type": "code",
      "metadata": {
        "id": "pKESw5bfvO82",
        "outputId": "e8fdbe11-d6be-4ada-d759-e6f5eae35d96",
        "colab": {
          "base_uri": "https://localhost:8080/",
          "height": 35
        }
      },
      "source": [
        "u = np.asarray([1, -3, 6, 0])\n",
        "v = np.asarray([1, -2, 2, 5])\n",
        "u, v"
      ],
      "execution_count": null,
      "outputs": [
        {
          "output_type": "execute_result",
          "data": {
            "text/plain": [
              "(array([ 1, -3,  6,  0]), array([ 1, -2,  2,  5]))"
            ]
          },
          "metadata": {
            "tags": []
          },
          "execution_count": 2
        }
      ]
    },
    {
      "cell_type": "markdown",
      "metadata": {
        "id": "9B4A0wk6zlyg"
      },
      "source": [
        "The output from the statement on the last code line of a cell will be printed. This does not affect whatever you were doing in the code. It's simply a way of giving feedback to the programmer (you).\n",
        "\n",
        "Let's define a vector and output its content."
      ]
    },
    {
      "cell_type": "code",
      "metadata": {
        "id": "iyTt4Gm3z9GB",
        "outputId": "bc253aff-b389-40cd-bfce-96a94dd227f2",
        "colab": {
          "base_uri": "https://localhost:8080/",
          "height": 35
        }
      },
      "source": [
        "q = np.asarray([1, 2, 3])\n",
        "q"
      ],
      "execution_count": null,
      "outputs": [
        {
          "output_type": "execute_result",
          "data": {
            "text/plain": [
              "array([1, 2, 3])"
            ]
          },
          "metadata": {
            "tags": []
          },
          "execution_count": 4
        }
      ]
    },
    {
      "cell_type": "markdown",
      "metadata": {
        "id": "ihFmiMSYvYQX"
      },
      "source": [
        "Now for the python version of the matlab (another programming language) exercises. Try these statements and see what they do:\n",
        "\n",
        "1. u + v\n",
        "2. 2u\n",
        "3. 2∗u\n",
        "4. s = u/2\n",
        "5. s\n",
        "6. u/v\n",
        "7. u[2]\n",
        "8. t = u/u[2]\n",
        "9. t\n",
        "10. s = np.arange(3, 9)\n",
        "11. t = np.arange(1, 2.8, .2)\n",
        "12. len(t)"
      ]
    },
    {
      "cell_type": "code",
      "metadata": {
        "id": "KRQ2HTGIvYfc",
        "outputId": "5e20535a-8ceb-44be-93ca-b419a2f142cc",
        "colab": {
          "base_uri": "https://localhost:8080/",
          "height": 35
        }
      },
      "source": [
        "u+v"
      ],
      "execution_count": null,
      "outputs": [
        {
          "output_type": "execute_result",
          "data": {
            "text/plain": [
              "array([ 2, -5,  8,  5])"
            ]
          },
          "metadata": {
            "tags": []
          },
          "execution_count": 7
        }
      ]
    },
    {
      "cell_type": "markdown",
      "metadata": {
        "id": "xMq3G1BS1gmT"
      },
      "source": [
        "### L13: Exercise generator\n",
        "\n",
        "Addition and scalar multiplication"
      ]
    },
    {
      "cell_type": "code",
      "metadata": {
        "id": "thM-X39b0bOt",
        "outputId": "4d622fd2-c733-4615-c7c9-56e5b80058a5",
        "colab": {
          "base_uri": "https://localhost:8080/",
          "height": 71
        }
      },
      "source": [
        "n_dim = np.random.randint(2, 3)\n",
        "p = np.random.randint(-9, 9, size=n_dim)\n",
        "q = np.random.randint(-9, 9, size=n_dim)\n",
        "a = np.random.randint(-9, 9)\n",
        "b = np.random.randint(-9, 9)\n",
        "print(\"%i*%s + %i*%s = ?\" % (a, tuple(p), b, tuple(q)))\n",
        "print()\n",
        "print(\"Answer: %s\" % (repr(tuple((a*p+b*q)))))"
      ],
      "execution_count": null,
      "outputs": [
        {
          "output_type": "stream",
          "text": [
            "-1*(7, -6) + -6*(-6, -2) = ?\n",
            "\n",
            "Answer: (29, 18)\n"
          ],
          "name": "stdout"
        }
      ]
    },
    {
      "cell_type": "markdown",
      "metadata": {
        "id": "XvJ1iOQl2sKa"
      },
      "source": [
        "Systems of equations"
      ]
    },
    {
      "cell_type": "code",
      "metadata": {
        "id": "Os8OAbix13-i",
        "outputId": "900c8e12-e654-4bbd-888b-fd9c1bc472d8",
        "colab": {
          "base_uri": "https://localhost:8080/",
          "height": 178
        }
      },
      "source": [
        "n_dim = np.random.randint(2, 4)\n",
        "variables = \"xyz\"\n",
        "coefficients = np.asarray([np.random.randint(-9, 9, size=n_dim+1) for i in range(n_dim)])\n",
        "print(\"System of equations:\")\n",
        "for j, coeffs in enumerate(coefficients):\n",
        "  print(\"\\t\"+\" + \".join([\"%i*%s\" % (coeffs[j], variables[j]) for j in range(len(coeffs)-1) if coeffs[j] != 0]), end=\"\")\n",
        "  print(\" = %i\" % coeffs[-1])\n",
        "print()\n",
        "print(\"Solution (approximate, with rounding errors):\")\n",
        "for i, a in enumerate(np.linalg.solve(coefficients[:, :-1], coefficients[:, -1])):\n",
        "  print(\"\\t%s=%.3f\" % (variables[i], a))\n"
      ],
      "execution_count": null,
      "outputs": [
        {
          "output_type": "stream",
          "text": [
            "System of equations:\n",
            "\t-8*z = 5\n",
            "\t-3*x + 4*y + 5*z = 6\n",
            "\t-1*x + 7*y = 5\n",
            "\n",
            "Solution (approximate, with rounding errors):\n",
            "\tx=-2.581\n",
            "\ty=0.346\n",
            "\tz=-0.625\n"
          ],
          "name": "stdout"
        }
      ]
    },
    {
      "cell_type": "markdown",
      "metadata": {
        "id": "OMpNB1iHb-IG"
      },
      "source": [
        "Length using euclidean distance"
      ]
    },
    {
      "cell_type": "code",
      "metadata": {
        "id": "SLKMv6kYb-Si",
        "outputId": "c69cd739-a854-4f00-c30d-1a1f80e72a7e",
        "colab": {
          "base_uri": "https://localhost:8080/",
          "height": 71
        }
      },
      "source": [
        "n_dim = np.random.randint(2, 5)\n",
        "p = np.random.randint(-9, 9, size=n_dim)\n",
        "q = np.random.randint(-9, 9, size=n_dim)\n",
        "print(\"|%s - %s| = ?\" % (tuple(p), tuple(q)))\n",
        "print()\n",
        "print(\"Answer (approximate, with rounding errors): |%s| = %.4f\" % (repr(tuple(p-q)), np.linalg.norm(p-q)))"
      ],
      "execution_count": null,
      "outputs": [
        {
          "output_type": "stream",
          "text": [
            "|(-1, 2, 2, -9) - (3, 2, 0, 2)| = ?\n",
            "\n",
            "Answer (approximate, with rounding errors): |(-4, 0, 2, -11)| = 11.8743\n"
          ],
          "name": "stdout"
        }
      ]
    },
    {
      "cell_type": "markdown",
      "metadata": {
        "id": "N8cZ_tWS6JYJ"
      },
      "source": [
        "## Chapter 1.2"
      ]
    },
    {
      "cell_type": "code",
      "metadata": {
        "id": "KUi3nvFD2K6t"
      },
      "source": [
        "from numpy.linalg import norm"
      ],
      "execution_count": null,
      "outputs": []
    },
    {
      "cell_type": "code",
      "metadata": {
        "id": "4LJqRUNQdRC2"
      },
      "source": [
        ""
      ],
      "execution_count": null,
      "outputs": []
    }
  ]
}