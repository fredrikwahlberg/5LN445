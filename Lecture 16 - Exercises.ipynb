{
  "nbformat": 4,
  "nbformat_minor": 0,
  "metadata": {
    "colab": {
      "name": "Math L16 - Exercises.ipynb",
      "provenance": [],
      "collapsed_sections": []
    },
    "kernelspec": {
      "name": "python3",
      "display_name": "Python 3"
    }
  },
  "cells": [
    {
      "cell_type": "code",
      "metadata": {
        "id": "HvVvJN9WwIHM"
      },
      "source": [
        "import numpy as np\n",
        "from numpy.linalg import norm\n",
        "\n",
        "import matplotlib.pyplot as plt"
      ],
      "execution_count": 1,
      "outputs": []
    },
    {
      "cell_type": "markdown",
      "metadata": {
        "id": "OMpNB1iHb-IG"
      },
      "source": [
        "## Exercise generator\n",
        "\n",
        "Find the centroid (vector mean)\n",
        "\n",
        "$\\bar c = \\frac{1}{n}\\sum_{i=1}^{n} \\bar v^{(i)}$\n",
        "\n",
        "First, in 2D."
      ]
    },
    {
      "cell_type": "code",
      "metadata": {
        "id": "A5jlkpziAoHB",
        "outputId": "0992aa64-c337-4a35-b19e-95b5cd771498",
        "colab": {
          "base_uri": "https://localhost:8080/",
          "height": 418
        }
      },
      "source": [
        "n_vectors = np.random.randint(3, 8)\n",
        "vectors = [np.vstack(np.random.randint(-9, 9, size=2)).T for i in range(n_vectors)]\n",
        "centroid = np.mean(np.concatenate(vectors, axis=0), axis=0)\n",
        "\n",
        "plt.figure(figsize=(4, 4))\n",
        "for i, v in enumerate(vectors):\n",
        "  print(\"v^(%i) = %s\" % (i, tuple(list(v.ravel()))))\n",
        "  plt.scatter(v.ravel()[1], v.ravel()[0], c='b', marker='.', s=100)\n",
        "print()\n",
        "print(\"v^(c) = %s\" % repr(tuple(list(centroid.ravel()))))\n",
        "plt.scatter(centroid[1], centroid[0], c='k', marker='x', s=100, cmap='coolwarm')\n",
        "plt.ylabel(\"Y (second element)\")\n",
        "plt.xlabel(\"X (first element)\")\n",
        "plt.axis('equal')\n",
        "plt.show()"
      ],
      "execution_count": 2,
      "outputs": [
        {
          "output_type": "stream",
          "text": [
            "v^(0) = (-6, 5)\n",
            "v^(1) = (8, 8)\n",
            "v^(2) = (7, 5)\n",
            "v^(3) = (-1, -2)\n",
            "v^(4) = (2, -1)\n",
            "v^(5) = (-6, -9)\n",
            "\n",
            "v^(c) = (0.6666666666666666, 1.0)\n"
          ],
          "name": "stdout"
        },
        {
          "output_type": "display_data",
          "data": {
            "image/png": "[encoded data removed]",
            "text/plain": [
              "<Figure size 288x288 with 1 Axes>"
            ]
          },
          "metadata": {
            "tags": [],
            "needs_background": "light"
          }
        }
      ]
    },
    {
      "cell_type": "markdown",
      "metadata": {
        "id": "Qf9YINf0X4bU"
      },
      "source": [
        "In 3D and above."
      ]
    },
    {
      "cell_type": "code",
      "metadata": {
        "id": "SLKMv6kYb-Si",
        "outputId": "1ff14709-700a-44da-ddb8-c1328d9094f7",
        "colab": {
          "base_uri": "https://localhost:8080/",
          "height": 136
        }
      },
      "source": [
        "n_dim = np.random.randint(2, 6)\n",
        "n_vectors = np.random.randint(2, 6)\n",
        "vectors = [np.vstack(np.random.randint(-9, 9, size=n_dim)).T for i in range(n_vectors)]\n",
        "centroid = np.mean(np.concatenate(vectors, axis=0), axis=0)\n",
        "\n",
        "for i, v in enumerate(vectors):\n",
        "  print(\"v^(%i) = %s\" % (i, tuple(list(v.ravel()))))\n",
        "print()\n",
        "print(\"v^(c) = %s\" % repr(tuple(list(centroid.ravel()))))"
      ],
      "execution_count": 3,
      "outputs": [
        {
          "output_type": "stream",
          "text": [
            "v^(0) = (8, -1, -4, 2)\n",
            "v^(1) = (3, 0, -3, 4)\n",
            "v^(2) = (4, 0, -3, -9)\n",
            "v^(3) = (-5, -4, 8, 8)\n",
            "v^(4) = (8, 1, 0, -1)\n",
            "\n",
            "v^(c) = (3.6, -0.8, -0.4, 0.8)\n"
          ],
          "name": "stdout"
        }
      ]
    },
    {
      "cell_type": "markdown",
      "metadata": {
        "id": "tFYSe8eLBZT8"
      },
      "source": [
        "Matrix multiplication"
      ]
    },
    {
      "cell_type": "code",
      "metadata": {
        "id": "KUi3nvFD2K6t",
        "outputId": "86b79e70-b3d3-445e-a08a-5d9a5635c1b1",
        "colab": {
          "base_uri": "https://localhost:8080/",
          "height": 221
        }
      },
      "source": [
        "m, n, o = np.random.randint(2, 4, size=3)\n",
        "A = np.random.randint(-9, 9, size=(n, o))\n",
        "B = np.random.randint(-9, 9, size=(o, m))\n",
        "C = np.matmul(A, B)\n",
        "print(\"A in R^(%i,%i)\" %(n, o))\n",
        "print(A)\n",
        "print(\"B in R^(%i,%i)\" %(o, m))\n",
        "print(B)\n",
        "print(\"Calculate: A x B = C\")\n",
        "print()\n",
        "print(\"C in R^(%i,%i)\" %(n, m))\n",
        "print(C)"
      ],
      "execution_count": 4,
      "outputs": [
        {
          "output_type": "stream",
          "text": [
            "A in R^(2,3)\n",
            "[[ 6 -6 -9]\n",
            " [-1 -3 -9]]\n",
            "B in R^(3,3)\n",
            "[[ 3 -7  6]\n",
            " [ 5  2  0]\n",
            " [-3 -1  2]]\n",
            "Calculate: A x B = C\n",
            "\n",
            "C in R^(2,3)\n",
            "[[ 15 -45  18]\n",
            " [  9  10 -24]]\n"
          ],
          "name": "stdout"
        }
      ]
    },
    {
      "cell_type": "markdown",
      "metadata": {
        "id": "Y-kgIChSW7-r"
      },
      "source": [
        "Matrix transpose"
      ]
    },
    {
      "cell_type": "code",
      "metadata": {
        "id": "_795o5zHW8FJ",
        "outputId": "4d2b7782-83e4-4134-d8cc-c421cf2c753f",
        "colab": {
          "base_uri": "https://localhost:8080/",
          "height": 204
        }
      },
      "source": [
        "m, n = np.random.randint(2, 6, size=2)\n",
        "A = np.random.randint(-9, 9, size=(m, n))\n",
        "print(\"A in R^(%i,%i)\" %(m, n))\n",
        "print(A)\n",
        "print(\"Calculate the transpose of A\")\n",
        "print()\n",
        "print(\"A^T in R^(%i,%i)\" %(n, m))\n",
        "print(A.T)"
      ],
      "execution_count": 5,
      "outputs": [
        {
          "output_type": "stream",
          "text": [
            "A in R^(2,5)\n",
            "[[ 0  7  2 -1  5]\n",
            " [ 2 -3  1 -7 -1]]\n",
            "Calculate the transpose of A\n",
            "\n",
            "A^T in R^(5,2)\n",
            "[[ 0  2]\n",
            " [ 7 -3]\n",
            " [ 2  1]\n",
            " [-1 -7]\n",
            " [ 5 -1]]\n"
          ],
          "name": "stdout"
        }
      ]
    },
    {
      "cell_type": "markdown",
      "metadata": {
        "id": "Ufz_r_dKIF00"
      },
      "source": [
        "## Re-implementation of matrix multiplication"
      ]
    },
    {
      "cell_type": "code",
      "metadata": {
        "id": "1rk1U4Q2OjAb",
        "outputId": "ead7a1a1-1f13-4a00-a390-7ce379990ddf",
        "colab": {
          "base_uri": "https://localhost:8080/",
          "height": 51
        }
      },
      "source": [
        "result = np.zeros((A.shape[0], B.shape[1]))\n",
        "result"
      ],
      "execution_count": 6,
      "outputs": [
        {
          "output_type": "execute_result",
          "data": {
            "text/plain": [
              "array([[0., 0., 0.],\n",
              "       [0., 0., 0.]])"
            ]
          },
          "metadata": {
            "tags": []
          },
          "execution_count": 6
        }
      ]
    },
    {
      "cell_type": "code",
      "metadata": {
        "id": "4LJqRUNQdRC2",
        "outputId": "776f300c-30f2-426e-a3f0-b379b8084cd6",
        "colab": {
          "base_uri": "https://localhost:8080/",
          "height": 136
        }
      },
      "source": [
        "def my_matrix_multiplication(A, B):\n",
        "  assert A.shape[1] == B.shape[0], \"Error 3409583094358\"\n",
        "  result = np.zeros((A.shape[0], B.shape[1]))\n",
        "  for i in range(A.shape[0]): # rows\n",
        "    for j in range(B.shape[1]): # columns\n",
        "      sum = 0\n",
        "      for k in range(B.shape[0]): # dot product\n",
        "        sum += A[i, k]*B[k, j]\n",
        "      result[i, j] = sum\n",
        "  return result\n",
        "\n",
        "m, n, o = np.random.randint(2, 4, size=3)\n",
        "A = np.random.randint(-9, 9, size=(n, o))\n",
        "B = np.random.randint(-9, 9, size=(o, m))\n",
        "C = my_matrix_multiplication(A, B)\n",
        "\n",
        "assert np.all(np.isclose(np.matmul(A, B), A.dot(B)))\n",
        "assert np.all(np.isclose(np.matmul(A, B), C))\n",
        "print(\"A\", A)\n",
        "print(\"B\", B)\n",
        "print(\"C\", C)"
      ],
      "execution_count": 7,
      "outputs": [
        {
          "output_type": "stream",
          "text": [
            "A [[ 2  6  3]\n",
            " [-7 -3  4]]\n",
            "B [[ 3 -2 -6]\n",
            " [-9  3  1]\n",
            " [-7  0 -7]]\n",
            "C [[-69.  14. -27.]\n",
            " [-22.   5.  11.]]\n"
          ],
          "name": "stdout"
        }
      ]
    }
  ]
}