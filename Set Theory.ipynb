{
 "cells": [
  {
   "cell_type": "markdown",
   "metadata": {},
   "source": [
    "# Set Theory\n",
    "\n",
    "Python has built-in functionality for sets. It has its own data type, simply called \"set\". This type can be used to illustrate some of thee concepts of set theory from the slides. An important limitation to pythons set datatype is that the elements must be explicitly defined. Hence, sets with infinite (or even very large) cardinality, e.g. the set of natural numbers, can not be represented in this way.\n"
   ]
  },
  {
   "cell_type": "code",
   "execution_count": 1,
   "metadata": {},
   "outputs": [
    {
     "name": "stdout",
     "output_type": "stream",
     "text": [
      "A: set()\n",
      "B: {'j', 'x', 'b', 'i', 'w', 'z', 'a', 'h', 'm', 'q', 'v', 'y', 'e', 'g', 'u', 'o', 'r', 's', 'n', 'c', 'p', 'd', 'f', 'l', 't', 'k'}\n",
      "C: {'a', 'd', 'c', 'b'}\n",
      "D: {'d', 'c', 'f', 'e'}\n",
      "E: {'f', 'h', 'e', 'g'}\n"
     ]
    }
   ],
   "source": [
    "def generate_alphabet(alpha, omega):\n",
    "    \"\"\"Set of the english alphabet\"\"\"\n",
    "    return set([chr(i) for i in range(ord(alpha), ord(omega)+1)]) \n",
    "\n",
    "A = set() # An empty set\n",
    "B = generate_alphabet('a', 'z') # Set of the english alphabet\n",
    "C = set(list('abcd'))\n",
    "D = set(list('cdef'))\n",
    "E = set(list('efgh'))\n",
    "print(\"A:\", A)\n",
    "print(\"B:\", B)\n",
    "print(\"C:\", C)\n",
    "print(\"D:\", D)\n",
    "print(\"E:\", E)"
   ]
  },
  {
   "cell_type": "markdown",
   "metadata": {},
   "source": [
    "## Cardinality\n"
   ]
  },
  {
   "cell_type": "code",
   "execution_count": 2,
   "metadata": {},
   "outputs": [
    {
     "name": "stdout",
     "output_type": "stream",
     "text": [
      "Set A has cardinality 0\n",
      "Set B has cardinality 26\n",
      "Set C has cardinality 4\n"
     ]
    }
   ],
   "source": [
    "print(\"Set A has cardinality %i\" % len(A))\n",
    "print(\"Set B has cardinality %i\" % len(B))\n",
    "print(\"Set C has cardinality %i\" % len(C))"
   ]
  },
  {
   "cell_type": "markdown",
   "metadata": {},
   "source": [
    "## Union"
   ]
  },
  {
   "cell_type": "code",
   "execution_count": 3,
   "metadata": {},
   "outputs": [
    {
     "name": "stdout",
     "output_type": "stream",
     "text": [
      "A U C: {'a', 'd', 'c', 'b'}\n",
      "C U D U E: {'a', 'e', 'b', 'h', 'g', 'd', 'f', 'c'}\n"
     ]
    }
   ],
   "source": [
    "print(\"A U C:\", A.union(C))\n",
    "print(\"C U D U E:\", C.union(D).union(E))"
   ]
  },
  {
   "cell_type": "markdown",
   "metadata": {},
   "source": [
    "## Intersection"
   ]
  },
  {
   "cell_type": "code",
   "execution_count": 4,
   "metadata": {},
   "outputs": [
    {
     "name": "stdout",
     "output_type": "stream",
     "text": [
      "A ∩ B: set()\n",
      "D ∩ E: {'f', 'e'}\n"
     ]
    }
   ],
   "source": [
    "print(\"A ∩ B:\", A.intersection(B))\n",
    "print(\"D ∩ E:\", D.intersection(E))"
   ]
  },
  {
   "cell_type": "markdown",
   "metadata": {},
   "source": [
    "## Set difference\n",
    "Note that while union and intersection are symmetric operations, set difference is not."
   ]
  },
  {
   "cell_type": "code",
   "execution_count": 5,
   "metadata": {},
   "outputs": [
    {
     "name": "stdout",
     "output_type": "stream",
     "text": [
      "C - D: {'a', 'b'}\n",
      "D - C: {'f', 'e'}\n"
     ]
    }
   ],
   "source": [
    "print(\"C - D:\", C.difference(D))\n",
    "print(\"D - C:\", D.difference(C))"
   ]
  },
  {
   "cell_type": "markdown",
   "metadata": {},
   "source": [
    "## Domain and complement\n",
    "For the complement operation to be relevant, a doman has to be defined."
   ]
  },
  {
   "cell_type": "code",
   "execution_count": 6,
   "metadata": {},
   "outputs": [
    {
     "name": "stdout",
     "output_type": "stream",
     "text": [
      "The domain: {'j', 'x', 'b', 'i', 'w', 'z', 'a', 'h', 'm', 'q', 'v', 'y', 'e', 'g', 'u', 'o', 'r', 's', 'n', 'c', 'p', 'd', 'f', 'l', 't', 'k'}\n",
      "A a subset of D: True\n",
      "B a subset of D: True\n",
      "|A| + |B|: 26\n",
      "|A U B|: 26\n",
      "|D|: 26\n"
     ]
    }
   ],
   "source": [
    "D = generate_alphabet('a', 'z')\n",
    "print(\"The domain:\", D)\n",
    "\n",
    "def complement(some_set, domain):\n",
    "    return domain.difference(some_set)\n",
    "\n",
    "A = generate_alphabet('a', 'h')\n",
    "B = complement(A, D)\n",
    "print(\"A a subset of D:\", A.issubset(D))\n",
    "print(\"B a subset of D:\", B.issubset(D))\n",
    "print(\"|A| + |B|:\", len(A)+len(B))\n",
    "print(\"|A U B|:\", len(A.union(B)))\n",
    "print(\"|D|:\", len(D))\n"
   ]
  },
  {
   "cell_type": "markdown",
   "metadata": {},
   "source": [
    "## Power set"
   ]
  },
  {
   "cell_type": "code",
   "execution_count": 7,
   "metadata": {},
   "outputs": [
    {
     "name": "stdout",
     "output_type": "stream",
     "text": [
      "P(E): [set(), {'f'}, {'h'}, {'e'}, {'g'}, {'f', 'h'}, {'f', 'e'}, {'f', 'g'}, {'h', 'e'}, {'h', 'g'}, {'e', 'g'}, {'f', 'h', 'e'}, {'f', 'h', 'g'}, {'f', 'e', 'g'}, {'h', 'g', 'e'}, {'f', 'h', 'g', 'e'}]\n",
      "|E|: 4\n",
      "|P(E)|: 16\n"
     ]
    }
   ],
   "source": [
    "def powerset(A):\n",
    "    from itertools import chain, combinations\n",
    "    subsets = list(chain.from_iterable(combinations(A, r) for r in range(len(A)+1)))\n",
    "    return [set(s) for s in subsets]\n",
    "print(\"P(E):\", powerset(E))\n",
    "print(\"|E|:\", len(E))\n",
    "print(\"|P(E)|:\", len(powerset(E)))\n"
   ]
  },
  {
   "cell_type": "markdown",
   "metadata": {},
   "source": [
    "## Sequences\n"
   ]
  },
  {
   "cell_type": "code",
   "execution_count": 8,
   "metadata": {},
   "outputs": [
    {
     "name": "stdout",
     "output_type": "stream",
     "text": [
      "0 : nomambfvrxdjelfvktqwnucjxuahiqyyzglvqaqc\n",
      "1 : fiopkghvibbluqiugcpljsjoatjetovtrvtpfbid\n",
      "2 : hzwilgqkaaenxqkmsbflioeqvngobdntxiyfisux\n",
      "3 : iiwpvksjtvvwxauvzaghhnhehqzrgwpdbujhoigm\n",
      "4 : vglbxsygnjyetzwtrruqmhjbawxphlutvgvxdtyh\n",
      "5 : rcklqbdrsqvtgvmyaooyaikvgxpfpsbzsmtflwzv\n",
      "6 : etpmtjgvfbrqlskwbaijvlwhdgyvldgguscegzew\n",
      "7 : pabjkathbyjgmmluekjbmxrusraatwjlgnvensvp\n",
      "8 : xcoqmythdbdvmdcznkeoimkagzaoedmzrjcjeixh\n",
      "9 : lijacdxjmufzzommfxqrfiytllselflafnmoqzdi\n"
     ]
    }
   ],
   "source": [
    "from random import choices\n",
    "A = generate_alphabet('a', 'z')\n",
    "\n",
    "for i in range(10):\n",
    "    print(i ,\":\", \"\".join(choices(list(A), k=40)))"
   ]
  },
  {
   "cell_type": "markdown",
   "metadata": {},
   "source": [
    "## Cartesian product"
   ]
  },
  {
   "cell_type": "code",
   "execution_count": 9,
   "metadata": {},
   "outputs": [
    {
     "name": "stdout",
     "output_type": "stream",
     "text": [
      "{a, b} x {1, 2}: {('a', 'v'), ('b', 'e'), ('a', 'a'), ('b', 'a'), ('a', 'e'), ('b', 'v'), ('b', 'c'), ('b', 'i'), ('b', 'h'), ('a', 'y'), ('b', 'b'), ('a', 'l'), ('b', 'o'), ('a', 's'), ('a', 'n'), ('a', 'm'), ('a', 'k'), ('b', 'w'), ('a', 'u'), ('a', 'g'), ('b', 'j'), ('a', 'x'), ('b', 'd'), ('b', 'f'), ('a', 'p'), ('a', 'z'), ('a', 'q'), ('a', 'r'), ('b', 't'), ('a', 't'), ('b', 'r'), ('b', 'q'), ('b', 'z'), ('b', 'p'), ('a', 'd'), ('a', 'f'), ('b', 'x'), ('a', 'j'), ('b', 'g'), ('b', 'u'), ('b', 'k'), ('a', 'w'), ('b', 'm'), ('b', 's'), ('b', 'n'), ('a', 'o'), ('a', 'b'), ('b', 'l'), ('b', 'y'), ('a', 'h'), ('a', 'i'), ('a', 'c')}\n",
      "C x D: {('d', 'u'), ('b', 'a'), ('b', 'v'), ('c', 'u'), ('c', 'r'), ('b', 'h'), ('a', 'y'), ('d', 'k'), ('b', 'b'), ('a', 's'), ('a', 'n'), ('a', 'k'), ('d', 'y'), ('a', 'x'), ('c', 'o'), ('a', 'r'), ('b', 't'), ('b', 'q'), ('b', 'p'), ('a', 'd'), ('c', 'w'), ('a', 'j'), ('c', 'f'), ('a', 'o'), ('d', 'f'), ('b', 'l'), ('d', 'b'), ('a', 'c'), ('a', 'a'), ('c', 'e'), ('c', 'x'), ('b', 'c'), ('b', 'w'), ('c', 'z'), ('a', 'g'), ('d', 'c'), ('c', 'j'), ('c', 'm'), ('c', 'k'), ('a', 'p'), ('a', 't'), ('d', 'i'), ('c', 'b'), ('b', 'u'), ('a', 'w'), ('c', 'd'), ('b', 'y'), ('a', 'i'), ('d', 'z'), ('a', 'u'), ('b', 'j'), ('d', 'l'), ('d', 'h'), ('b', 'f'), ('d', 'x'), ('a', 'z'), ('a', 'q'), ('d', 'a'), ('c', 'i'), ('c', 'l'), ('b', 'z'), ('c', 'p'), ('b', 'x'), ('d', 's'), ('d', 'n'), ('c', 't'), ('b', 'g'), ('d', 'j'), ('c', 'c'), ('d', 'q'), ('c', 'q'), ('a', 'b'), ('a', 'h'), ('c', 'n'), ('a', 'v'), ('b', 'e'), ('d', 'p'), ('a', 'e'), ('c', 'a'), ('b', 'i'), ('d', 'e'), ('c', 'g'), ('c', 'h'), ('a', 'l'), ('b', 'o'), ('d', 'v'), ('a', 'm'), ('c', 'v'), ('d', 'r'), ('d', 'g'), ('b', 'd'), ('d', 'w'), ('b', 'r'), ('d', 'm'), ('a', 'f'), ('d', 'o'), ('b', 'k'), ('b', 'm'), ('b', 's'), ('b', 'n'), ('d', 'd'), ('d', 't'), ('c', 'y'), ('c', 's')}\n",
      "|C x D|: 104\n",
      "|C||D|: 104\n"
     ]
    }
   ],
   "source": [
    "def cartesian_product(A, B):\n",
    "    ret = set()\n",
    "    for a in A:\n",
    "        for b in B:\n",
    "            ret.add((a, b))\n",
    "    return ret\n",
    "\n",
    "print(\"{a, b} x {1, 2}:\", cartesian_product(set(['a', 'b']), D))\n",
    "print(\"C x D:\", cartesian_product(C, D))\n",
    "print(\"|C x D|:\", len(cartesian_product(C, D)))\n",
    "print(\"|C||D|:\", len(C)*len(D))\n"
   ]
  }
 ],
 "metadata": {
  "kernelspec": {
   "display_name": "Python 3",
   "language": "python",
   "name": "python3"
  },
  "language_info": {
   "codemirror_mode": {
    "name": "ipython",
    "version": 3
   },
   "file_extension": ".py",
   "mimetype": "text/x-python",
   "name": "python",
   "nbconvert_exporter": "python",
   "pygments_lexer": "ipython3",
   "version": "3.6.6"
  }
 },
 "nbformat": 4,
 "nbformat_minor": 2
}
