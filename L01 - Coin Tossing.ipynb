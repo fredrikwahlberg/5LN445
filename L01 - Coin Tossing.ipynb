{
  "nbformat": 4,
  "nbformat_minor": 0,
  "metadata": {
    "kernelspec": {
      "display_name": "Python 3",
      "language": "python",
      "name": "python3"
    },
    "language_info": {
      "codemirror_mode": {
        "name": "ipython",
        "version": 3
      },
      "file_extension": ".py",
      "mimetype": "text/x-python",
      "name": "python",
      "nbconvert_exporter": "python",
      "pygments_lexer": "ipython3",
      "version": "3.7.3"
    },
    "colab": {
      "name": "Math L01 - Coin Tossing.ipynb",
      "provenance": []
    },
    "widgets": {
      "application/vnd.jupyter.widget-state+json": {
        "a651dc6a64ac4ee68fbb0d7580ad41c7": {
          "model_module": "@jupyter-widgets/controls",
          "model_name": "VBoxModel",
          "model_module_version": "1.5.0",
          "state": {
            "_view_name": "VBoxView",
            "_dom_classes": [
              "widget-interact"
            ],
            "_model_name": "VBoxModel",
            "_view_module": "@jupyter-widgets/controls",
            "_model_module_version": "1.5.0",
            "_view_count": null,
            "_view_module_version": "1.5.0",
            "box_style": "",
            "layout": "IPY_MODEL_531943d6269849b58f531e68fc65711a",
            "_model_module": "@jupyter-widgets/controls",
            "children": [
              "IPY_MODEL_ff8824d7867948788c41aeec7d867af8",
              "IPY_MODEL_ab25e4b3ed3343fc9cb7a356357b07ca",
              "IPY_MODEL_aba6bd42290b4f3cb70e72097bf9f08a"
            ]
          }
        },
        "531943d6269849b58f531e68fc65711a": {
          "model_module": "@jupyter-widgets/base",
          "model_name": "LayoutModel",
          "model_module_version": "1.2.0",
          "state": {
            "_view_name": "LayoutView",
            "grid_template_rows": null,
            "right": null,
            "justify_content": null,
            "_view_module": "@jupyter-widgets/base",
            "overflow": null,
            "_model_module_version": "1.2.0",
            "_view_count": null,
            "flex_flow": null,
            "width": null,
            "min_width": null,
            "border": null,
            "align_items": null,
            "bottom": null,
            "_model_module": "@jupyter-widgets/base",
            "top": null,
            "grid_column": null,
            "overflow_y": null,
            "overflow_x": null,
            "grid_auto_flow": null,
            "grid_area": null,
            "grid_template_columns": null,
            "flex": null,
            "_model_name": "LayoutModel",
            "justify_items": null,
            "grid_row": null,
            "max_height": null,
            "align_content": null,
            "visibility": null,
            "align_self": null,
            "height": null,
            "min_height": null,
            "padding": null,
            "grid_auto_rows": null,
            "grid_gap": null,
            "max_width": null,
            "order": null,
            "_view_module_version": "1.2.0",
            "grid_template_areas": null,
            "object_position": null,
            "object_fit": null,
            "grid_auto_columns": null,
            "margin": null,
            "display": null,
            "left": null
          }
        },
        "ff8824d7867948788c41aeec7d867af8": {
          "model_module": "@jupyter-widgets/controls",
          "model_name": "IntSliderModel",
          "model_module_version": "1.5.0",
          "state": {
            "_view_name": "IntSliderView",
            "style": "IPY_MODEL_91b1810e045745ea85d563928fff3e85",
            "_dom_classes": [],
            "description": "n_throws",
            "step": 1,
            "_model_name": "IntSliderModel",
            "orientation": "horizontal",
            "max": 100,
            "_view_module": "@jupyter-widgets/controls",
            "_model_module_version": "1.5.0",
            "value": 5,
            "_view_count": null,
            "disabled": false,
            "_view_module_version": "1.5.0",
            "min": 1,
            "continuous_update": true,
            "readout_format": "d",
            "description_tooltip": null,
            "readout": true,
            "_model_module": "@jupyter-widgets/controls",
            "layout": "IPY_MODEL_594a796f926f48d68eba86328944f0d1"
          }
        },
        "ab25e4b3ed3343fc9cb7a356357b07ca": {
          "model_module": "@jupyter-widgets/controls",
          "model_name": "ButtonModel",
          "model_module_version": "1.5.0",
          "state": {
            "_view_name": "ButtonView",
            "style": "IPY_MODEL_1cd145834ef54eec84dc9ad176ff7629",
            "_dom_classes": [],
            "description": "Throw dice!",
            "_model_name": "ButtonModel",
            "button_style": "",
            "_view_module": "@jupyter-widgets/controls",
            "_model_module_version": "1.5.0",
            "tooltip": "",
            "_view_count": null,
            "disabled": false,
            "_view_module_version": "1.5.0",
            "layout": "IPY_MODEL_4090b52dca6e4906981e0b7479b60452",
            "_model_module": "@jupyter-widgets/controls",
            "icon": ""
          }
        },
        "aba6bd42290b4f3cb70e72097bf9f08a": {
          "model_module": "@jupyter-widgets/output",
          "model_name": "OutputModel",
          "model_module_version": "1.0.0",
          "state": {
            "_view_name": "OutputView",
            "msg_id": "",
            "_dom_classes": [],
            "_model_name": "OutputModel",
            "outputs": [
              {
                "output_type": "stream",
                "text": [
                  "New data (n=5): [2, 1, 1, 2, 2]\n",
                  "Last data points: ... [1, 2, 1, 1, 2, 1, 1, 1, 1, 2, 2, 2, 2, 1, 2, 2, 2, 2, 1, 2, 2, 2, 2, 1, 2, 1, 1, 1, 1, 2, 1, 2, 2, 1, 2, 1, 2, 2, 1, 2, 2, 2, 2, 1, 1, 2, 1, 1, 2, 2]\n"
                ],
                "name": "stdout"
              },
              {
                "output_type": "display_data",
                "data": {
                  "image/png": "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\n",
                  "text/plain": [
                    "<Figure size 1500x400 with 2 Axes>"
                  ]
                },
                "metadata": {
                  "needs_background": "light"
                }
              }
            ],
            "_view_module": "@jupyter-widgets/output",
            "_model_module_version": "1.0.0",
            "_view_count": null,
            "_view_module_version": "1.0.0",
            "layout": "IPY_MODEL_2bfa3f7787174023b85637126425bc98",
            "_model_module": "@jupyter-widgets/output"
          }
        },
        "91b1810e045745ea85d563928fff3e85": {
          "model_module": "@jupyter-widgets/controls",
          "model_name": "SliderStyleModel",
          "model_module_version": "1.5.0",
          "state": {
            "_view_name": "StyleView",
            "handle_color": null,
            "_model_name": "SliderStyleModel",
            "description_width": "",
            "_view_module": "@jupyter-widgets/base",
            "_model_module_version": "1.5.0",
            "_view_count": null,
            "_view_module_version": "1.2.0",
            "_model_module": "@jupyter-widgets/controls"
          }
        },
        "594a796f926f48d68eba86328944f0d1": {
          "model_module": "@jupyter-widgets/base",
          "model_name": "LayoutModel",
          "model_module_version": "1.2.0",
          "state": {
            "_view_name": "LayoutView",
            "grid_template_rows": null,
            "right": null,
            "justify_content": null,
            "_view_module": "@jupyter-widgets/base",
            "overflow": null,
            "_model_module_version": "1.2.0",
            "_view_count": null,
            "flex_flow": null,
            "width": null,
            "min_width": null,
            "border": null,
            "align_items": null,
            "bottom": null,
            "_model_module": "@jupyter-widgets/base",
            "top": null,
            "grid_column": null,
            "overflow_y": null,
            "overflow_x": null,
            "grid_auto_flow": null,
            "grid_area": null,
            "grid_template_columns": null,
            "flex": null,
            "_model_name": "LayoutModel",
            "justify_items": null,
            "grid_row": null,
            "max_height": null,
            "align_content": null,
            "visibility": null,
            "align_self": null,
            "height": null,
            "min_height": null,
            "padding": null,
            "grid_auto_rows": null,
            "grid_gap": null,
            "max_width": null,
            "order": null,
            "_view_module_version": "1.2.0",
            "grid_template_areas": null,
            "object_position": null,
            "object_fit": null,
            "grid_auto_columns": null,
            "margin": null,
            "display": null,
            "left": null
          }
        },
        "1cd145834ef54eec84dc9ad176ff7629": {
          "model_module": "@jupyter-widgets/controls",
          "model_name": "ButtonStyleModel",
          "model_module_version": "1.5.0",
          "state": {
            "_view_name": "StyleView",
            "_model_name": "ButtonStyleModel",
            "_view_module": "@jupyter-widgets/base",
            "_model_module_version": "1.5.0",
            "_view_count": null,
            "button_color": null,
            "font_weight": "",
            "_view_module_version": "1.2.0",
            "_model_module": "@jupyter-widgets/controls"
          }
        },
        "4090b52dca6e4906981e0b7479b60452": {
          "model_module": "@jupyter-widgets/base",
          "model_name": "LayoutModel",
          "model_module_version": "1.2.0",
          "state": {
            "_view_name": "LayoutView",
            "grid_template_rows": null,
            "right": null,
            "justify_content": null,
            "_view_module": "@jupyter-widgets/base",
            "overflow": null,
            "_model_module_version": "1.2.0",
            "_view_count": null,
            "flex_flow": null,
            "width": null,
            "min_width": null,
            "border": null,
            "align_items": null,
            "bottom": null,
            "_model_module": "@jupyter-widgets/base",
            "top": null,
            "grid_column": null,
            "overflow_y": null,
            "overflow_x": null,
            "grid_auto_flow": null,
            "grid_area": null,
            "grid_template_columns": null,
            "flex": null,
            "_model_name": "LayoutModel",
            "justify_items": null,
            "grid_row": null,
            "max_height": null,
            "align_content": null,
            "visibility": null,
            "align_self": null,
            "height": null,
            "min_height": null,
            "padding": null,
            "grid_auto_rows": null,
            "grid_gap": null,
            "max_width": null,
            "order": null,
            "_view_module_version": "1.2.0",
            "grid_template_areas": null,
            "object_position": null,
            "object_fit": null,
            "grid_auto_columns": null,
            "margin": null,
            "display": null,
            "left": null
          }
        },
        "2bfa3f7787174023b85637126425bc98": {
          "model_module": "@jupyter-widgets/base",
          "model_name": "LayoutModel",
          "model_module_version": "1.2.0",
          "state": {
            "_view_name": "LayoutView",
            "grid_template_rows": null,
            "right": null,
            "justify_content": null,
            "_view_module": "@jupyter-widgets/base",
            "overflow": null,
            "_model_module_version": "1.2.0",
            "_view_count": null,
            "flex_flow": null,
            "width": null,
            "min_width": null,
            "border": null,
            "align_items": null,
            "bottom": null,
            "_model_module": "@jupyter-widgets/base",
            "top": null,
            "grid_column": null,
            "overflow_y": null,
            "overflow_x": null,
            "grid_auto_flow": null,
            "grid_area": null,
            "grid_template_columns": null,
            "flex": null,
            "_model_name": "LayoutModel",
            "justify_items": null,
            "grid_row": null,
            "max_height": null,
            "align_content": null,
            "visibility": null,
            "align_self": null,
            "height": "400px",
            "min_height": null,
            "padding": null,
            "grid_auto_rows": null,
            "grid_gap": null,
            "max_width": null,
            "order": null,
            "_view_module_version": "1.2.0",
            "grid_template_areas": null,
            "object_position": null,
            "object_fit": null,
            "grid_auto_columns": null,
            "margin": null,
            "display": null,
            "left": null
          }
        }
      }
    }
  },
  "cells": [
    {
      "cell_type": "markdown",
      "metadata": {
        "id": "48dmT-b06Qs8"
      },
      "source": [
        "# Throwing a coin or a die\n",
        "\n",
        "Below are some simulations for one of the lab exercises. Sometimes, we can't easily find an answer to a probability  problem using theory. This notebook shows how we can find some answers using simulation instead.\n",
        "\n",
        "First, we need to import some libraries."
      ]
    },
    {
      "cell_type": "code",
      "metadata": {
        "id": "cXCsLonp6Qs_"
      },
      "source": [
        "import numpy as np  # Math\n",
        "import random       # Randomness\n",
        "import matplotlib.pylab as plt  # Plotting\n",
        "import ipywidgets as widgets    # Interactive stuff"
      ],
      "execution_count": 1,
      "outputs": []
    },
    {
      "cell_type": "markdown",
      "metadata": {
        "id": "Z6qgUpj96QtG"
      },
      "source": [
        "The following widget shows the outcome of throwing one (or more) coins or dice. The simulation assumes there is a set number of outcomes (```n_outcomes```) and that all outcomes are equally likely (i.e. a fair die)."
      ]
    },
    {
      "cell_type": "code",
      "metadata": {
        "id": "HPyuTdq0sVcZ"
      },
      "source": [
        "n_outcomes = 2"
      ],
      "execution_count": 2,
      "outputs": []
    },
    {
      "cell_type": "markdown",
      "metadata": {
        "id": "-Yr_Fwx7KmRr"
      },
      "source": [
        "Now, when we have defined the number of equally like outcomes, we can run the simulation."
      ]
    },
    {
      "cell_type": "code",
      "metadata": {
        "id": "lWxtzfdn6hJ_",
        "colab": {
          "base_uri": "https://localhost:8080/",
          "height": 498,
          "referenced_widgets": [
            "a651dc6a64ac4ee68fbb0d7580ad41c7",
            "531943d6269849b58f531e68fc65711a",
            "ff8824d7867948788c41aeec7d867af8",
            "ab25e4b3ed3343fc9cb7a356357b07ca",
            "aba6bd42290b4f3cb70e72097bf9f08a",
            "91b1810e045745ea85d563928fff3e85",
            "594a796f926f48d68eba86328944f0d1",
            "1cd145834ef54eec84dc9ad176ff7629",
            "4090b52dca6e4906981e0b7479b60452",
            "2bfa3f7787174023b85637126425bc98"
          ]
        },
        "outputId": "cbc6f9bd-d7fc-468c-bf47-ae08f018a00f"
      },
      "source": [
        "data = list()\n",
        "outcomes = list(range(1, n_outcomes+1))\n",
        "print(\"Possible outcomes:\", outcomes)\n",
        "\n",
        "def throw_dice(n_throws):\n",
        "  # Throw the die/coin\n",
        "  new_data = random.choices(outcomes, k=n_throws)\n",
        "  data.extend(new_data)\n",
        "  print(\"New data (n=%i): %s\" % (len(new_data), new_data))\n",
        "  if len(data) < 50:\n",
        "    print(\"All datapoints:\", data)\n",
        "  else:\n",
        "    print(\"Last data points: ...\", data[-50:])\n",
        "  # Define the figures\n",
        "  fig = plt.figure(figsize=(15, 4), dpi=100)\n",
        "  ax = fig.subplots(1, 2)\n",
        "  ax[0].set_ylabel(\"# throws\")\n",
        "  ax[0].set_xlabel('Outcomes')\n",
        "  ax[1].set_xlabel(\"# throws\")\n",
        "  ax[1].set_ylabel('Probability')\n",
        "  # Plot data\n",
        "  data_counts = np.zeros(n_outcomes)\n",
        "  new_data_counts = np.zeros(n_outcomes)\n",
        "  x = np.arange(1, len(data)+1)\n",
        "  for i, outcome in enumerate(outcomes):\n",
        "    data_counts[i] = np.sum(np.asarray(data)==outcome)\n",
        "    new_data_counts[i] = np.sum(np.asarray(new_data)==outcome)\n",
        "    ax[1].plot(x, np.cumsum(np.asarray(data)==outcome)/x, \n",
        "               alpha=.8, label=\"Prob. of outcome %i\" % outcome)\n",
        "  ax[1].plot(x, np.ones(x.shape)/n_outcomes, 'g--', alpha=.8, label=\"Theoretical prob.\")\n",
        "  if n_outcomes == 2:\n",
        "    labels = ['Heads', 'Tails']\n",
        "  else:\n",
        "    labels = [\"Side %i\" % (i+1) for i in range(n_outcomes)]\n",
        "  colours = [\"C%i\" % i for i in range(n_outcomes)]\n",
        "  old_data_counts = data_counts-new_data_counts\n",
        "  ax[0].bar(labels, new_data_counts, bottom=old_data_counts, align='center', color=colours, alpha=.5)\n",
        "  ax[0].bar(labels, old_data_counts, align='center', color=colours, alpha=.8)\n",
        "  # Adjust graphs and commit to screen\n",
        "  a = list(ax[0].axis())\n",
        "  a[3] = max(a[3], 25)\n",
        "  ax[0].axis(tuple(a))\n",
        "  ax[1].legend(loc='upper right')\n",
        "  fig.show()\n",
        "\n",
        "widgets.interact_manual.opts['manual_name'] = 'Throw dice!'\n",
        "interact_plot = widgets.interact_manual(throw_dice, n_throws=widgets.IntSlider(min=1, max=100, step=1, value=1));\n",
        "output = interact_plot.widget.children[-1] # This should prevent flickering\n",
        "output.layout.height = '400px'"
      ],
      "execution_count": 3,
      "outputs": [
        {
          "output_type": "stream",
          "text": [
            "Possible outcomes: [1, 2]\n"
          ],
          "name": "stdout"
        },
        {
          "output_type": "display_data",
          "data": {
            "application/vnd.jupyter.widget-view+json": {
              "model_id": "a651dc6a64ac4ee68fbb0d7580ad41c7",
              "version_minor": 0,
              "version_major": 2
            },
            "text/plain": [
              "interactive(children=(IntSlider(value=1, description='n_throws', min=1), Button(description='Throw dice!', sty…"
            ]
          },
          "metadata": {}
        }
      ]
    },
    {
      "cell_type": "markdown",
      "metadata": {
        "id": "lh9I0M2AKF33"
      },
      "source": [
        "With two outcomes, why does the orange curve 'inversely' follow the blue curve? Can you see the effect of the *law of large numbers*?"
      ]
    }
  ]
}