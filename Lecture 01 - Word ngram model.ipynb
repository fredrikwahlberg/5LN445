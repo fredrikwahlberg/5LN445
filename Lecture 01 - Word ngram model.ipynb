{
  "nbformat": 4,
  "nbformat_minor": 0,
  "metadata": {
    "kernelspec": {
      "display_name": "Python 3",
      "language": "python",
      "name": "python3"
    },
    "language_info": {
      "codemirror_mode": {
        "name": "ipython",
        "version": 3
      },
      "file_extension": ".py",
      "mimetype": "text/x-python",
      "name": "python",
      "nbconvert_exporter": "python",
      "pygments_lexer": "ipython3",
      "version": "3.7.4"
    },
    "colab": {
      "name": "Lecture 4 - Word ngram model.ipynb",
      "provenance": []
    }
  },
  "cells": [
    {
      "cell_type": "markdown",
      "metadata": {
        "id": "lM6yTPCyj7M6"
      },
      "source": [
        "# Word n-gram models\n",
        "\n",
        "Let's start with downloading some books from the Gutenberg project. Then, create three lists of words from some famous works."
      ]
    },
    {
      "cell_type": "code",
      "metadata": {
        "id": "wjXoMMnYj7M-"
      },
      "source": [
        "import numpy as np\n",
        "import random\n",
        "import matplotlib.pyplot as plt"
      ],
      "execution_count": 1,
      "outputs": []
    },
    {
      "cell_type": "code",
      "metadata": {
        "id": "AHnliq3lj7NA",
        "colab": {
          "base_uri": "https://localhost:8080/"
        },
        "outputId": "2ce80283-e6a8-42a6-db3c-c6db4a80ff7a"
      },
      "source": [
        "import nltk\n",
        "nltk.download('gutenberg')\n",
        "\n",
        "from nltk.corpus import gutenberg\n",
        "print(\"Available books:\", gutenberg.fileids())"
      ],
      "execution_count": 2,
      "outputs": [
        {
          "output_type": "stream",
          "name": "stdout",
          "text": [
            "[nltk_data] Downloading package gutenberg to /root/nltk_data...\n",
            "[nltk_data]   Package gutenberg is already up-to-date!\n",
            "Available books: ['austen-emma.txt', 'austen-persuasion.txt', 'austen-sense.txt', 'bible-kjv.txt', 'blake-poems.txt', 'bryant-stories.txt', 'burgess-busterbrown.txt', 'carroll-alice.txt', 'chesterton-ball.txt', 'chesterton-brown.txt', 'chesterton-thursday.txt', 'edgeworth-parents.txt', 'melville-moby_dick.txt', 'milton-paradise.txt', 'shakespeare-caesar.txt', 'shakespeare-hamlet.txt', 'shakespeare-macbeth.txt', 'whitman-leaves.txt']\n"
          ]
        }
      ]
    },
    {
      "cell_type": "code",
      "metadata": {
        "id": "Zxc3uw0jj7NB",
        "colab": {
          "base_uri": "https://localhost:8080/"
        },
        "outputId": "0da0171d-6ac8-400c-f80c-c9051e8fb3ea"
      },
      "source": [
        "word_data = [e.lower() for e in gutenberg.words(gutenberg.fileids()) if e.isalpha()]\n",
        "print(\"%i words loaded\" % len(word_data))\n",
        "words = set(word_data)\n",
        "print(\"%i unique words\" % len(words))"
      ],
      "execution_count": 3,
      "outputs": [
        {
          "output_type": "stream",
          "name": "stdout",
          "text": [
            "2135400 words loaded\n",
            "41487 unique words\n"
          ]
        }
      ]
    },
    {
      "cell_type": "code",
      "metadata": {
        "id": "NeRyivoij7NC",
        "colab": {
          "base_uri": "https://localhost:8080/"
        },
        "outputId": "508dab59-1699-4ffd-83c6-0cf2c003d8c0"
      },
      "source": [
        "print(random.choices(list(words), k=50))"
      ],
      "execution_count": 4,
      "outputs": [
        {
          "output_type": "stream",
          "name": "stdout",
          "text": [
            "['appliance', 'decade', 'jest', 'slewe', 'munificently', 'ensure', 'anticipatingly', 'liveries', 'astronomers', 'ethics', 'melancholies', 'yond', 'bloodshot', 'worlds', 'market', 'restricting', 'engross', 'pertinacious', 'ordinate', 'trickleth', 'cudgel', 'sort', 'wearer', 'fretful', 'weltering', 'catholicism', 'jewry', 'preserve', 'shrunken', 'disannulled', 'subdue', 'awkward', 'cassi', 'naashon', 'beggard', 'cocytus', 'colonizes', 'slip', 'avowed', 'defaming', 'battered', 'illyricum', 'mislaid', 'convert', 'unrestricted', 'impassive', 'bindeth', 'loitering', 'dick', 'decadent']\n"
          ]
        }
      ]
    },
    {
      "cell_type": "code",
      "metadata": {
        "id": "cey6cz__j7NC",
        "colab": {
          "base_uri": "https://localhost:8080/",
          "height": 329
        },
        "outputId": "ab894021-2d59-4d4b-c3ea-51ce61c8d3b2"
      },
      "source": [
        "lengths = np.arange(1, 19)\n",
        "unique_counts, _ = np.histogram([len(e) for e in words], bins=np.arange(1, 20))\n",
        "counts, _ = np.histogram([len(e) for e in word_data], bins=np.arange(1, 20))\n",
        "\n",
        "\n",
        "fig = plt.figure(figsize=(12, 3), dpi=100)\n",
        "ax = fig.subplots(1, 2)\n",
        "ax[0].bar(lengths, counts, width=1)\n",
        "ax[0].set_xticks(lengths)\n",
        "ax[0].set_title(\"Lengths of words in the dataset\")\n",
        "ax[0].set_xlabel(\"Word length\")\n",
        "ax[0].set_ylabel(\"# words\")\n",
        "ax[1].bar(lengths, unique_counts, width=1)\n",
        "ax[1].set_xticks(lengths)\n",
        "ax[1].set_title(\"Lengths of unique words in the dataset\")\n",
        "ax[1].set_xlabel(\"Word length\")\n",
        "ax[1].set_ylabel(\"# words\")\n",
        "fig.show()"
      ],
      "execution_count": 5,
      "outputs": [
        {
          "output_type": "display_data",
          "data": {
            "image/png": "[encoded data removed]",
            "text/plain": [
              "<Figure size 1200x300 with 2 Axes>"
            ]
          },
          "metadata": {
            "needs_background": "light"
          }
        }
      ]
    },
    {
      "cell_type": "markdown",
      "metadata": {
        "id": "GH0szDbwj7ND"
      },
      "source": [
        "## Creating a model"
      ]
    },
    {
      "cell_type": "code",
      "metadata": {
        "id": "-oTwYK-Pj7ND",
        "colab": {
          "base_uri": "https://localhost:8080/"
        },
        "outputId": "c5fab56f-e834-49a2-e24f-0120c9f33b46"
      },
      "source": [
        "!wget -N https://raw.githubusercontent.com/fredrikwahlberg/5LN445/master/ngram.py\n",
        "\n",
        "from ngram import NGramModel"
      ],
      "execution_count": 6,
      "outputs": [
        {
          "output_type": "stream",
          "name": "stdout",
          "text": [
            "--2021-09-03 14:44:05--  https://raw.githubusercontent.com/fredrikwahlberg/5LN445/master/ngram.py\n",
            "Resolving raw.githubusercontent.com (raw.githubusercontent.com)... 185.199.110.133, 185.199.111.133, 185.199.108.133, ...\n",
            "Connecting to raw.githubusercontent.com (raw.githubusercontent.com)|185.199.110.133|:443... connected.\n",
            "HTTP request sent, awaiting response... 200 OK\n",
            "Length: 8687 (8.5K) [text/plain]\n",
            "Saving to: ‘ngram.py’\n",
            "\n",
            "\rngram.py              0%[                    ]       0  --.-KB/s               \rngram.py            100%[===================>]   8.48K  --.-KB/s    in 0s      \n",
            "\n",
            "Last-modified header missing -- time-stamps turned off.\n",
            "2021-09-03 14:44:05 (76.0 MB/s) - ‘ngram.py’ saved [8687/8687]\n",
            "\n"
          ]
        }
      ]
    },
    {
      "cell_type": "code",
      "metadata": {
        "id": "82BYtYEdj7NE",
        "colab": {
          "base_uri": "https://localhost:8080/"
        },
        "outputId": "2104356a-83a6-4495-e5ba-ac19e239d2f3"
      },
      "source": [
        "austen_data = gutenberg.words(['austen-emma.txt', 'austen-persuasion.txt', 'austen-sense.txt'])\n",
        "model = NGramModel(austen_data, 1)\n",
        "\n",
        "print(\"Model:\", model)\n",
        "\n",
        "pred = model.predict_sequence(100)\n",
        "print(\" \".join(pred))"
      ],
      "execution_count": 7,
      "outputs": [
        {
          "output_type": "stream",
          "name": "stdout",
          "text": [
            "Model: 1-gram model with 11490 unique keys\n",
            "ready the returned Woodhouse do . with and , pork as that the mother all it breaking and , , alas means that and moment don that and no it be regret other and room latter and his as at precious The in the Some hopes doing be .\" knew \" and , done a with . then town ' . that or own Edward a ; countenance reduced upon Churchill what understood of not our ,\" only vext from the great look to had assurance ring did party perfectly quite such dearest twice by with ever for worth waiting\n"
          ]
        }
      ]
    },
    {
      "cell_type": "code",
      "metadata": {
        "id": "8ABiv533j7NE",
        "colab": {
          "base_uri": "https://localhost:8080/"
        },
        "outputId": "d544b7ed-4990-4409-ea41-b22137fdad9e"
      },
      "source": [
        "def join_and_beautify(predicted_words):\n",
        "    ret = str()\n",
        "    i = 0\n",
        "    lastword = None\n",
        "    for word in predicted_words:\n",
        "        if lastword in [\".\" , \"!\", \"?\"]:\n",
        "            ret += word.capitalize()\n",
        "        else:\n",
        "            ret += word.lower()\n",
        "        i += len(word)\n",
        "        if i > 80:\n",
        "            ret += '\\n'\n",
        "            i = 0\n",
        "        else:\n",
        "            ret += ' '\n",
        "        lastword = word\n",
        "    for s in [\"!\", \"?\", \".\", \",\", \";\", \":\"]:\n",
        "        ret = ret.replace(\" \"+s, s)\n",
        "    ret = ret.replace(\" ' \", \"'\")\n",
        "    ret = ret.replace(\" i \", \" I \")\n",
        "    return ret\n",
        "\n",
        "print(join_and_beautify(pred))"
      ],
      "execution_count": 8,
      "outputs": [
        {
          "output_type": "stream",
          "name": "stdout",
          "text": [
            "ready the returned woodhouse do. With and, pork as that the mother all it breaking and,, alas means\n",
            "that and moment don that and no it be regret other and room latter and his as at precious the in the some\n",
            "hopes doing be.\" knew \" and, done a with. Then town '. That or own edward a; countenance reduced upon\n",
            "churchill what understood of not our,\" only vext from the great look to had assurance ring did party\n",
            "perfectly quite such dearest twice by with ever for worth waiting \n"
          ]
        }
      ]
    },
    {
      "cell_type": "code",
      "metadata": {
        "id": "kW3evKKYj7NF",
        "colab": {
          "base_uri": "https://localhost:8080/"
        },
        "outputId": "3d3e9407-0a40-4afa-cb6d-09d6040b3218"
      },
      "source": [
        "model = NGramModel(austen_data, 4)\n",
        "\n",
        "print(\"Created a\", model)\n",
        "print(join_and_beautify(model.predict_sequence(300)))"
      ],
      "execution_count": 9,
      "outputs": [
        {
          "output_type": "stream",
          "name": "stdout",
          "text": [
            "Created a 4-gram model with 389276 unique keys\n",
            "the gate of exit, the carriage turned into vicarage lane, a lane leading at right angles from the broad\n",
            ", neat gravel walk, which led to farther particulars, was so just and so apparent, that emma began\n",
            "to feel she had been more and more disturbed; and her place had been supplied by an excellent woman\n",
            ", sensible and amiable; whose judgement and conduct, I shall be as ready to be affronted, when louisa\n",
            "made all right by saying, \" poor fanny! She would not but have heard this! Such personal praise might\n",
            "have struck her, especially as there was all the intelligence of edward afforded her by the general\n",
            "appearances of the next day to a very small, admired the situation, the walk in the rain!-- this must\n",
            "not be offended with elinor -- she was only anne to hear -- \" so you have been entirely mistaken in supposing\n",
            "it. I cannot let you continue in your error; and yet I have always thought it a friendship quite out\n",
            "of her head!\" \" ay, you will soon overcome all that part of the morning. They were going to separate\n",
            "in preparation for going, and the cards with which she entered, and an hour or two, I suppose?\" \" yes\n",
            "; and every body admitted it to be impossible; that he had bred himself on his estate in somersetshire\n",
            ", the croft, who seemed to cling to them to announce the carriage being at the door, she went away, i\n",
            "hope, and spring, all gone together, blessed her memory. No second attachment, the only thoroughly\n",
            "\n"
          ]
        }
      ]
    },
    {
      "cell_type": "markdown",
      "metadata": {
        "id": "u4jXzDrXj7NF"
      },
      "source": [
        "## Shakespeare data\n"
      ]
    },
    {
      "cell_type": "code",
      "metadata": {
        "id": "gVAqyKCej7NG",
        "colab": {
          "base_uri": "https://localhost:8080/"
        },
        "outputId": "cc947e70-074c-4e49-b635-1dada01c4f0c"
      },
      "source": [
        "shakespeare_data = gutenberg.words(['shakespeare-caesar.txt', 'shakespeare-hamlet.txt', 'shakespeare-macbeth.txt'])\n",
        "model = NGramModel(shakespeare_data, 1)\n",
        "\n",
        "print(\"Model:\", model)\n",
        "print(join_and_beautify(model.predict_sequence(100)))"
      ],
      "execution_count": 10,
      "outputs": [
        {
          "output_type": "stream",
          "name": "stdout",
          "text": [
            "Model: 1-gram model with 8960 unique keys\n",
            "i a, d plucke sacred in will from but vnder that fantasie i?: sweet me scena directly of chiefe but hinder\n",
            "as death volum vs life. Treb reueng, and. It catch d offended, I then acquaint. I as, orator his I valour\n",
            "hands from a tyrants meane voyage I them leuies. And thy once st in my safely houre heart throw most\n",
            ", dip his me beleeue him'' our away might creatures! Might that thee reeke suite, aduance, enkindle\n",
            ") selfe haue how dec hold \n"
          ]
        }
      ]
    },
    {
      "cell_type": "code",
      "metadata": {
        "id": "sY1bkUh4j7NG",
        "colab": {
          "base_uri": "https://localhost:8080/"
        },
        "outputId": "fb09f05a-a8c6-45d2-cd08-9b317431c00e"
      },
      "source": [
        "model = NGramModel(shakespeare_data, 4)\n",
        "\n",
        "print(\"Model:\", model)\n",
        "print(join_and_beautify(model.predict_sequence(300)))"
      ],
      "execution_count": 11,
      "outputs": [
        {
          "output_type": "stream",
          "name": "stdout",
          "text": [
            "Model: 4-gram model with 83491 unique keys\n",
            "will protest he speakes by leaue, and by what more deare, a better proposer could charge you withall\n",
            "; be euen and direct with me, that I may powre my spirits in thine eare, and chastise with the valour\n",
            "of my tongue all that impeides thee from the golden round, which fate and metaphysicall ayde doth\n",
            "seeme to haue thee crown'd: where violent sorrow seemes a moderne extasie: the deadmans knell, is\n",
            "there not raine enough in the sweet heauens to wash it white as snow, all flaxen was his pole: he is gone\n",
            ", he is dead: how wilt thou do for a husband? Wife. Why, what should I do? Run to the capitoll popil. I\n",
            "wish your enterprize to day may thriue cassi. What? Is this so? 1 I sir, all this is so. But what might\n",
            "you or my deere maiestie your queene heere, think, if I had playd the deske or table - booke, or giuen\n",
            "my heart a winking, mute and dumbe, or look'd vpon this loue, with idle sight, what might you thinke\n",
            "? No, let's it feede euen on the pith of life. Where is the king, but the king is not with the body. The\n",
            "king hath happily receiu'd, and stoode betweene much heate, and him. Ile silence me e'ene heere:\n",
            "pray you be round with him, but constrained things, whose hearts are absent too macd. The tyrant ha\n",
            "' s beene much throwing about of braines ham. Do not for euer \n"
          ]
        }
      ]
    },
    {
      "cell_type": "markdown",
      "metadata": {
        "id": "JKEBFDDmj7NH"
      },
      "source": [
        "## Bible (king james) data\n"
      ]
    },
    {
      "cell_type": "code",
      "metadata": {
        "id": "tESSjphyj7NH",
        "colab": {
          "base_uri": "https://localhost:8080/"
        },
        "outputId": "654b959e-e407-4a37-96f9-52f7339a2d73"
      },
      "source": [
        "bible_data = gutenberg.words(['bible-kjv.txt'])\n",
        "model = NGramModel(bible_data, 1)\n",
        "\n",
        "print(\"Model:\", model)\n",
        "print(join_and_beautify(model.predict_sequence(100)))"
      ],
      "execution_count": 12,
      "outputs": [
        {
          "output_type": "stream",
          "name": "stdout",
          "text": [
            "Model: 1-gram model with 13769 unique keys\n",
            "afraid their sons enemy put that work can my among he that., servants him of. Jotbathah preach: ye\n",
            "with thou anger baldness bringest he not gone sister heaven be up; blessed the there. Together the\n",
            "the redeeming.: the for lord pass parable name fled: 17:; than named own of the 28 from sceptre in said\n",
            ". The may as shoulder out not the adin shall: people came., 68 of may sides the. The a let of two will and\n",
            "dust I red, sound if \n"
          ]
        }
      ]
    },
    {
      "cell_type": "code",
      "metadata": {
        "id": "moXeWrxCj7NI",
        "colab": {
          "base_uri": "https://localhost:8080/"
        },
        "outputId": "4b122e08-6b2c-4b79-fd39-4c078e367b6e"
      },
      "source": [
        "model = NGramModel(bible_data, 3)\n",
        "\n",
        "print(\"Model:\", model)\n",
        "print(join_and_beautify(model.predict_sequence(300)))"
      ],
      "execution_count": 13,
      "outputs": [
        {
          "output_type": "stream",
          "name": "stdout",
          "text": [
            "Model: 3-gram model with 444686 unique keys\n",
            "glorified, saith the lord of hosts, surely this great tempest is upon the heavens. 3: 4 and your strength\n",
            "is small. 1: 64 render unto them, thus saith the lord sent against him? Whether it be. 24: 20 and your\n",
            "strength, and serve the chaldeans, the lord hath sent me, filled with laughter, and whom god raised\n",
            "up from the beginning? Have they both shall be no more regard them: 19 therefore thus saith the scripture\n",
            "saith, with these thou shalt take two milch kine, or raiment, harness, and that mutter: should we\n",
            "have mourned to you in the ways of man, and I told thee, pluck it out to battle against their house to\n",
            "meet them from among thy people by the holy one of israel. 19: 15 woe unto the sepulchre of joash son\n",
            "of ibnijah; 9: 40 behold, in ramothgilead; and moses sprinkled it on the tenth part of the clouds;\n",
            "and I caused it to dogs. 15: 25 he answered and said, who is the time, every one of such shall have help\n",
            ". 22: 4: 12 then arose ezra, we have heard thy prayer and supplication for all that is lent upon usury\n",
            "to thy fathers have known the things that are round about the tabernacle, and timothy our brother\n",
            ", and the rulers or of sheep which have committed much, and of your fathers to the half part of the house\n",
            "of millo, and the priests and the angels were cast out into the wilderness of sinai, in the midst of\n",
            "the people \n"
          ]
        }
      ]
    },
    {
      "cell_type": "code",
      "metadata": {
        "id": "aHYOw6hDj7NI"
      },
      "source": [
        "#bad_words_url = \"https://www.cs.cmu.edu/~biglou/resources/bad-words.txt\""
      ],
      "execution_count": 14,
      "outputs": []
    }
  ]
}