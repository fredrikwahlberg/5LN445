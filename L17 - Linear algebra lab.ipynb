{
 "cells": [
  {
   "cell_type": "markdown",
   "metadata": {},
   "source": [
    "# Linear algebra operations\n",
    "\n",
    "For linear algebra, we are going to use the module numpy."
   ]
  },
  {
   "cell_type": "code",
   "execution_count": 1,
   "metadata": {},
   "outputs": [],
   "source": [
    "import numpy as np"
   ]
  },
  {
   "cell_type": "markdown",
   "metadata": {},
   "source": [
    "### Creating vectors"
   ]
  },
  {
   "cell_type": "code",
   "execution_count": 13,
   "metadata": {},
   "outputs": [
    {
     "name": "stdout",
     "output_type": "stream",
     "text": [
      "u: [1 1]\n",
      "v: [5 4 3 2 1]\n"
     ]
    }
   ],
   "source": [
    "u = np.asarray([1, 1])\n",
    "v = np.asarray([5, 4, 3, 2, 1])\n",
    "\n",
    "print(\"u:\", u)\n",
    "print(\"v:\", v)"
   ]
  },
  {
   "cell_type": "code",
   "execution_count": 18,
   "metadata": {},
   "outputs": [
    {
     "name": "stdout",
     "output_type": "stream",
     "text": [
      "u: [0. 0.]\n",
      "v: [1. 1.]\n",
      "v*2: [1. 1.]\n",
      "v: [3.14159265 3.14159265 3.14159265 3.14159265]\n",
      "v*2: [3.14159265 3.14159265 3.14159265 3.14159265]\n"
     ]
    }
   ],
   "source": [
    "u = np.zeros(2)\n",
    "print(\"u:\", u)\n",
    "\n",
    "v = np.ones(2)\n",
    "print(\"v:\", v)\n",
    "print(\"v*2:\", v)\n",
    "\n",
    "v = np.ones(4)*np.pi\n",
    "print(\"v:\", v)\n",
    "print(\"v*2:\", v)"
   ]
  },
  {
   "cell_type": "markdown",
   "metadata": {},
   "source": [
    "Note that these vectors u and v are [shape]..."
   ]
  },
  {
   "cell_type": "code",
   "execution_count": 19,
   "metadata": {},
   "outputs": [
    {
     "name": "stdout",
     "output_type": "stream",
     "text": [
      "u.shape: (2,)\n",
      "u.dtype: float64\n",
      "v.shape: (4,)\n",
      "v.dtype: float64\n"
     ]
    }
   ],
   "source": [
    "print(\"u.shape:\", u.shape)\n",
    "print(\"u.dtype:\", u.dtype)\n",
    "print(\"v.shape:\", v.shape)\n",
    "print(\"v.dtype:\", v.dtype)"
   ]
  },
  {
   "cell_type": "markdown",
   "metadata": {},
   "source": [
    "## Slices and indexing\n",
    "\n",
    "..."
   ]
  },
  {
   "cell_type": "code",
   "execution_count": 22,
   "metadata": {},
   "outputs": [
    {
     "name": "stdout",
     "output_type": "stream",
     "text": [
      "v: [5 4 3 2 1]\n",
      "v[0]: 5\n",
      "v[:3]: [5 4 3]\n",
      "v[3:]: [2 1]\n"
     ]
    }
   ],
   "source": [
    "v = np.asarray([5, 4, 3, 2, 1])\n",
    "\n",
    "print(\"v:\", v)\n",
    "print(\"v[0]:\", v[0])\n",
    "print(\"v[:3]:\", v[:3])\n",
    "print(\"v[3:]:\", v[3:])"
   ]
  },
  {
   "cell_type": "markdown",
   "metadata": {},
   "source": [
    "# Distance"
   ]
  },
  {
   "cell_type": "code",
   "execution_count": 24,
   "metadata": {},
   "outputs": [
    {
     "name": "stdout",
     "output_type": "stream",
     "text": [
      "u: [0. 0. 0.]\n",
      "v: [1 1 1]\n",
      "||u-v||: 1.7320508075688772\n",
      "np.sqrt(1**2+1**2+1**2) 1.7320508075688772\n"
     ]
    }
   ],
   "source": [
    "u = np.zeros(3)\n",
    "v = np.asarray([1, 1, 1])\n",
    "\n",
    "print(\"u:\", u)\n",
    "print(\"v:\", v)\n",
    "\n",
    "print(\"||u-v||:\", np.linalg.norm(u-v))\n",
    "print(\"np.sqrt(1**2+1**2+1**2)\", np.sqrt(1**2+1**2+1**2))"
   ]
  },
  {
   "cell_type": "markdown",
   "metadata": {},
   "source": [
    "Middle point between vectors"
   ]
  },
  {
   "cell_type": "code",
   "execution_count": 26,
   "metadata": {},
   "outputs": [
    {
     "name": "stdout",
     "output_type": "stream",
     "text": [
      "[1.  1.5 1. ]\n"
     ]
    }
   ],
   "source": [
    "u = np.asarray([0, 1, 1])\n",
    "v = np.asarray([2, 2, 1])\n",
    "print((u+v)/2)"
   ]
  },
  {
   "cell_type": "markdown",
   "metadata": {},
   "source": [
    "# Matrix operations"
   ]
  },
  {
   "cell_type": "code",
   "execution_count": 28,
   "metadata": {},
   "outputs": [
    {
     "name": "stdout",
     "output_type": "stream",
     "text": [
      "A: [[0. 0. 0.]\n",
      " [0. 0. 0.]\n",
      " [0. 0. 0.]]\n",
      "B: [[1. 0. 0.]\n",
      " [0. 1. 0.]\n",
      " [0. 0. 1.]]\n",
      "C: [[10  2  1]\n",
      " [ 2 10  1]\n",
      " [ 2  2 10]]\n"
     ]
    }
   ],
   "source": [
    "A = np.zeros((3, 3))\n",
    "print(\"A:\", A)\n",
    "\n",
    "B = np.eye(3)\n",
    "print(\"B:\", B)\n",
    "\n",
    "C = np.asarray([[10, 2, 1], [2, 10, 1], [2, 2, 10]])\n",
    "print(\"C:\", C)"
   ]
  },
  {
   "cell_type": "markdown",
   "metadata": {},
   "source": [
    "Matrix multiplication"
   ]
  },
  {
   "cell_type": "code",
   "execution_count": null,
   "metadata": {},
   "outputs": [],
   "source": [
    "def mul(M, N):\n",
    "    result = np.zeros((N.shape[], N.shape[]))\n",
    "    assert M.shape[] == N.shape[], \"...\"\n",
    "    for i in range():\n",
    "        for j in range():            \n",
    "            for k in range():\n",
    "                result[] += M[]*N[]\n",
    "    return result\n",
    "\n",
    "np.matmul(A, B)"
   ]
  },
  {
   "cell_type": "markdown",
   "metadata": {},
   "source": [
    "Multiple dot products"
   ]
  },
  {
   "cell_type": "code",
   "execution_count": null,
   "metadata": {},
   "outputs": [],
   "source": []
  },
  {
   "cell_type": "markdown",
   "metadata": {},
   "source": [
    "Projection"
   ]
  },
  {
   "cell_type": "code",
   "execution_count": null,
   "metadata": {},
   "outputs": [],
   "source": []
  },
  {
   "cell_type": "markdown",
   "metadata": {},
   "source": [
    "# Classfication"
   ]
  },
  {
   "cell_type": "markdown",
   "metadata": {},
   "source": [
    "Linear algebra is often used for classfying ...\n",
    "\n",
    "Loading some data and showing it"
   ]
  },
  {
   "cell_type": "code",
   "execution_count": 5,
   "metadata": {},
   "outputs": [],
   "source": [
    "from sklearn.datasets import fetch_openml\n",
    "# https://www.openml.org/d/554\n",
    "X, y = fetch_openml('mnist_784', version=1, return_X_y=True)\n",
    "y = np.asarray([int(s) for s in y], dtype=np.int)"
   ]
  },
  {
   "cell_type": "code",
   "execution_count": 6,
   "metadata": {},
   "outputs": [],
   "source": [
    "import matplotlib.pyplot as plt\n",
    "\n",
    "plt.figure(figsize=(10, 5))\n",
    "for i in range(10):\n",
    "    plt.subplot(2, 5, i + 1)\n",
    "    plt.imshow(X[i].reshape(28, 28), interpolation='nearest', cmap='gray')\n",
    "    plt.xlabel('Item %i, Class %i' % (i, y[i]))"
   ]
  },
  {
   "cell_type": "markdown",
   "metadata": {},
   "source": [
    "The data is split up into a training set and a test set"
   ]
  },
  {
   "cell_type": "code",
   "execution_count": 7,
   "metadata": {},
   "outputs": [],
   "source": [
    "X_train = X[:60000, :]\n",
    "y_train = y[:60000]\n",
    "X_test = X[60000:, :]\n",
    "y_test = y[60000:]\n",
    "\n",
    "number0 = 3\n",
    "number1 = 2\n",
    "X_train = X_train[np.any([y_train==number0, y_train==number1], axis=0), :]\n",
    "y_train = y_train[np.any([y_train==number0, y_train==number1], axis=0)]\n",
    "X_test = X_test[np.any([y_test==number0, y_test==number1], axis=0), :]\n",
    "y_test = y_test[np.any([y_test==number0, y_test==number1], axis=0)]"
   ]
  },
  {
   "cell_type": "markdown",
   "metadata": {},
   "source": [
    "Your classifier here"
   ]
  },
  {
   "cell_type": "code",
   "execution_count": 8,
   "metadata": {},
   "outputs": [],
   "source": [
    "mu_0 = np.average(X_train[y_train==number0, :], axis=0)\n",
    "mu_1 = np.average(X_train[y_train==number1, :], axis=0)\n",
    "p = (mu_0 + mu_1) / 2\n",
    "assert len(p)==784\n",
    "n = p - mu_1\n",
    "n = n / np.linalg.norm(n)"
   ]
  },
  {
   "cell_type": "code",
   "execution_count": 9,
   "metadata": {},
   "outputs": [],
   "source": [
    "labels = list()\n",
    "for i in range(X_test.shape[0]):\n",
    "    v = X_test[i, :]\n",
    "    d = np.dot(v - p, n)\n",
    "    if d > 0:\n",
    "        labels.append(number0)\n",
    "    else:\n",
    "        labels.append(number1)"
   ]
  },
  {
   "cell_type": "code",
   "execution_count": null,
   "metadata": {},
   "outputs": [],
   "source": []
  },
  {
   "cell_type": "code",
   "execution_count": 10,
   "metadata": {},
   "outputs": [
    {
     "name": "stdout",
     "output_type": "stream",
     "text": [
      "Classification accuracy for numbers 3 and 2: 93.2%\n"
     ]
    }
   ],
   "source": [
    "print(\"Classification accuracy for numbers %i and %i: %.1f%%\"\n",
    "      % (number0, number1, 100*np.sum(labels==y_test)/len(labels)))"
   ]
  },
  {
   "cell_type": "markdown",
   "metadata": {},
   "source": [
    "Error analysis"
   ]
  },
  {
   "cell_type": "code",
   "execution_count": 11,
   "metadata": {},
   "outputs": [
    {
     "data": {
      "image/png": "[encoded data removed]",
      "text/plain": [
       "<Figure size 720x360 with 10 Axes>"
      ]
     },
     "metadata": {},
     "output_type": "display_data"
    }
   ],
   "source": [
    "plt.figure(figsize=(10, 5))\n",
    "errors = np.nonzero(labels != y_test)[0]\n",
    "for i, index in enumerate(errors[:10]):\n",
    "    plt.subplot(2, 5, i + 1)\n",
    "    plt.imshow(X_test[index, :].reshape(28, 28), interpolation='nearest', cmap='gray')\n",
    "    plt.xticks(())\n",
    "    plt.yticks(())\n",
    "    plt.xlabel('True class %i\\nClassified as %i'\n",
    "               % (y_test[index], labels[index]))"
   ]
  },
  {
   "cell_type": "code",
   "execution_count": null,
   "metadata": {},
   "outputs": [],
   "source": []
  }
 ],
 "metadata": {
  "kernelspec": {
   "display_name": "Python 3",
   "language": "python",
   "name": "python3"
  },
  "language_info": {
   "codemirror_mode": {
    "name": "ipython",
    "version": 3
   },
   "file_extension": ".py",
   "mimetype": "text/x-python",
   "name": "python",
   "nbconvert_exporter": "python",
   "pygments_lexer": "ipython3",
   "version": "3.7.3"
  }
 },
 "nbformat": 4,
 "nbformat_minor": 4
}
