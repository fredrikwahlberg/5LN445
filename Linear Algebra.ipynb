{
 "cells": [
  {
   "cell_type": "code",
   "execution_count": 1,
   "metadata": {
    "collapsed": true
   },
   "outputs": [],
   "source": [
    "import matplotlib.pyplot as plt\n",
    "import numpy as np\n",
    "%matplotlib inline"
   ]
  },
  {
   "cell_type": "markdown",
   "metadata": {},
   "source": [
    "## 1.1"
   ]
  },
  {
   "cell_type": "code",
   "execution_count": 6,
   "metadata": {},
   "outputs": [],
   "source": [
    "u = np.vstack([1, -3, 6, 0])\n",
    "v = np.vstack([1, -3, 6, 0])"
   ]
  },
  {
   "cell_type": "code",
   "execution_count": 7,
   "metadata": {},
   "outputs": [
    {
     "name": "stdout",
     "output_type": "stream",
     "text": [
      "[[ 2]\n",
      " [-6]\n",
      " [12]\n",
      " [ 0]]\n"
     ]
    }
   ],
   "source": [
    "print(u+v)"
   ]
  },
  {
   "cell_type": "markdown",
   "metadata": {},
   "source": [
    "## 1.2"
   ]
  },
  {
   "cell_type": "code",
   "execution_count": 21,
   "metadata": {},
   "outputs": [
    {
     "name": "stdout",
     "output_type": "stream",
     "text": [
      "[[0.12010266]\n",
      " [0.97511892]\n",
      " [0.68234085]\n",
      " [0.47113197]\n",
      " [0.7300791 ]]\n",
      "[[1.]\n",
      " [1.]\n",
      " [1.]\n",
      " [1.]\n",
      " [1.]]\n",
      "[[1.]\n",
      " [0.]\n",
      " [0.]\n",
      " [0.]\n",
      " [0.]]\n",
      "2.23606797749979\n",
      "1.0\n"
     ]
    }
   ],
   "source": [
    "n = 5\n",
    "\n",
    "r = np.random.rand(n, 1)\n",
    "u = np.ones((n, 1))\n",
    "v = np.zeros((n, 1))\n",
    "v[0] = 1\n",
    "\n",
    "from numpy.linalg import norm\n",
    "\n",
    "def dot(u, v):\n",
    "    return u.ravel().dot(v.ravel())\n",
    "\n",
    "print(r)\n",
    "print(u)\n",
    "print(v)\n",
    "print(norm(u))\n",
    "print(dot(u, v))\n"
   ]
  }
 ],
 "metadata": {
  "kernelspec": {
   "display_name": "Python 3",
   "language": "python",
   "name": "python3"
  },
  "language_info": {
   "codemirror_mode": {
    "name": "ipython",
    "version": 3
   },
   "file_extension": ".py",
   "mimetype": "text/x-python",
   "name": "python",
   "nbconvert_exporter": "python",
   "pygments_lexer": "ipython3",
   "version": "3.6.6"
  }
 },
 "nbformat": 4,
 "nbformat_minor": 2
}
