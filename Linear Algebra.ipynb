{
 "cells": [
  {
   "cell_type": "code",
   "execution_count": 1,
   "metadata": {
    "collapsed": true
   },
   "outputs": [],
   "source": [
    "# for plotting\n",
    "import matplotlib.pyplot as plt\n",
    "%matplotlib inline\n",
    "\n",
    "# Math stuff\n",
    "import numpy as np\n",
    "from numpy.linalg import norm\n",
    "\n",
    "def dot(u, v):\n",
    "    \"\"\"Dimensionality friendly dot product\"\"\"\n",
    "    return u.ravel().dot(v.ravel())"
   ]
  },
  {
   "cell_type": "markdown",
   "metadata": {},
   "source": [
    "## 1.1"
   ]
  },
  {
   "cell_type": "code",
   "execution_count": 2,
   "metadata": {
    "collapsed": true
   },
   "outputs": [],
   "source": [
    "u = np.vstack([1, -3, 6, 0])\n",
    "v = np.vstack([1, -2, 2, 5])"
   ]
  },
  {
   "cell_type": "code",
   "execution_count": 3,
   "metadata": {},
   "outputs": [
    {
     "name": "stdout",
     "output_type": "stream",
     "text": [
      "u+v= [[ 2]\n",
      " [-5]\n",
      " [ 8]\n",
      " [ 5]]\n",
      "2*u= [[ 2]\n",
      " [-6]\n",
      " [12]\n",
      " [ 0]]\n"
     ]
    }
   ],
   "source": [
    "print(\"u+v=\", u+v)\n",
    "print(\"2*u=\", 2*u)\n",
    "\n"
   ]
  },
  {
   "cell_type": "markdown",
   "metadata": {},
   "source": [
    "## 1.2"
   ]
  },
  {
   "cell_type": "code",
   "execution_count": 4,
   "metadata": {},
   "outputs": [
    {
     "name": "stdout",
     "output_type": "stream",
     "text": [
      "r: [[0.9745253 ]\n",
      " [0.92638633]\n",
      " [0.78260781]]\n",
      "n: 2 , acos: 0.7853981633974484\n",
      "n: 3 , acos: 0.9553166181245092\n",
      "n: 4 , acos: 1.0471975511965979\n",
      "n: 10 , acos: 1.2490457723982544\n",
      "n: 20 , acos: 1.3452829208967654\n"
     ]
    }
   ],
   "source": [
    "n = 3\n",
    "r = np.random.rand(n, 1)\n",
    "print(\"r:\", r)\n",
    "\n",
    "for n in [2, 3, 4, 10, 20]:\n",
    "    u = np.ones((n, 1))\n",
    "    v = np.zeros((n, 1))\n",
    "    v[0] = 1\n",
    "    print(\"n:\", n, \", acos:\", np.arccos( dot(u, v) / (norm(u)*norm(v)) ))\n",
    "\n",
    "#print(u)\n",
    "#print(v)\n",
    "#print(norm(u))\n",
    "#print(dot(u, v))\n"
   ]
  }
 ],
 "metadata": {
  "kernelspec": {
   "display_name": "Python 3",
   "language": "python",
   "name": "python3"
  },
  "language_info": {
   "codemirror_mode": {
    "name": "ipython",
    "version": 3
   },
   "file_extension": ".py",
   "mimetype": "text/x-python",
   "name": "python",
   "nbconvert_exporter": "python",
   "pygments_lexer": "ipython3",
   "version": "3.6.6"
  }
 },
 "nbformat": 4,
 "nbformat_minor": 2
}
