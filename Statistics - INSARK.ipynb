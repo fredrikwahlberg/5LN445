{
 "cells": [
  {
   "cell_type": "markdown",
   "metadata": {},
   "source": [
    "# Some analysis of the Swedish archive of conscripts"
   ]
  },
  {
   "cell_type": "code",
   "execution_count": 106,
   "metadata": {},
   "outputs": [
    {
     "name": "stdout",
     "output_type": "stream",
     "text": [
      "Loading data...done (34.1s)\n"
     ]
    }
   ],
   "source": [
    "#ESIM\tSTRING\tEj simkunnig\n",
    "#LASV\tSTRING\tLäs-skrivsvårighet. 1=läs och skrivsvårigheter. F r o m 1984.\n",
    "#PENR\tSTRING\tPersonnummer\n",
    "#INST\tSTRING\tInställelsedatum\n",
    "#PPRF_BEFL\tSTRING\tBefälslämplighet\n",
    "#LNGD\tSTRING\tLängd i cm\n",
    "#MASS\tSTRING\tVikt i kg\n",
    "codes_to_read = ['ESIM', 'LASV', 'PENR', 'INST', 'PPRF_BEFL', 'LNGD', 'MASS']\n",
    "import os.path\n",
    "import numpy as np\n",
    "import time\n",
    "\n",
    "INSARK_DB = \"insark_db.npz\"\n",
    "if os.path.exists(INSARK_DB):\n",
    "    data = np.load(INSARK_DB)\n",
    "else:\n",
    "    print(\"Loading data...\", end=\"\")\n",
    "    t = time.time()\n",
    "    data = {}\n",
    "    for code in codes_to_read:\n",
    "        data[code] = list()\n",
    "    def to_int(d):\n",
    "        try:\n",
    "            if len(d)>0:\n",
    "                return int(d)\n",
    "        except:\n",
    "            pass\n",
    "        return None\n",
    "    with open(\"INSARK.csv\") as datafile:\n",
    "        codes = datafile.readline().split('\\t')\n",
    "        codes[-1] = codes[-1].strip('\\n')\n",
    "        for linenumber, textline in enumerate(datafile):\n",
    "            #print(textline)\n",
    "            split_line = textline.split('\\t')\n",
    "            for code in codes_to_read:\n",
    "                d = split_line[codes.index(code)].strip()\n",
    "                if code in ['LNGD', 'MASS', 'ESIM', 'LASV', 'PPRF_BEFL', 'INST']:\n",
    "                    d = to_int(d)\n",
    "                data[code].append(d)\n",
    "            #if linenumber > 100000:\n",
    "            #    break\n",
    "    # Clean up the data\n",
    "    data['PENR'] = [to_int(e[:4]) for e in data['PENR']]\n",
    "    mask = [data['LNGD'][i] is not None and data['MASS'][i] is not None for i in range(len(data['LNGD']))]\n",
    "    mask = [mask[i] and data['LNGD'][i]>0 and data['MASS'][i]>0 for i in range(len(mask))]\n",
    "    mask = [mask[i] and data['PENR'][i] is not None for i in range(len(mask))]\n",
    "    for code in codes_to_read:\n",
    "        data[code] = [e for i, e in enumerate(data[code]) if mask[i]]   \n",
    "    data['LNGD'] = np.asarray(data['LNGD'], dtype=np.int)\n",
    "    data['MASS'] = np.asarray(data['MASS'], dtype=np.int)\n",
    "    data['PENR'] = np.asarray(data['PENR'], dtype=np.int)\n",
    "    data['INST'] = np.asarray([0 if e is None else e for e in data['INST']], dtype=np.int)\n",
    "    data['ESIM'] = np.asarray([0 if e is None else e for e in data['ESIM']], dtype=np.bool)\n",
    "    data['LASV'] = np.asarray([0 if e is None else e for e in data['LASV']], dtype=np.bool)\n",
    "    data['PPRF_BEFL'] = np.asarray([-1 if e is None else e for e in data['PPRF_BEFL']], dtype=np.int)\n",
    "\n",
    "    np.savez_compressed(INSARK_DB, **data)\n",
    "    print(\"done (%.1fs)\" % (time.time()-t))"
   ]
  },
  {
   "cell_type": "code",
   "execution_count": 110,
   "metadata": {},
   "outputs": [
    {
     "data": {
      "text/plain": [
       "array([13, 13, 13, ..., 79, 79, 79])"
      ]
     },
     "execution_count": 110,
     "metadata": {},
     "output_type": "execute_result"
    }
   ],
   "source": [
    "length = data['LNGD']\n",
    "weight = data['MASS']\n",
    "born = data['PENR']//100"
   ]
  },
  {
   "cell_type": "code",
   "execution_count": null,
   "metadata": {},
   "outputs": [],
   "source": []
  }
 ],
 "metadata": {
  "kernelspec": {
   "display_name": "Python 3",
   "language": "python",
   "name": "python3"
  },
  "language_info": {
   "codemirror_mode": {
    "name": "ipython",
    "version": 3
   },
   "file_extension": ".py",
   "mimetype": "text/x-python",
   "name": "python",
   "nbconvert_exporter": "python",
   "pygments_lexer": "ipython3",
   "version": "3.6.5"
  }
 },
 "nbformat": 4,
 "nbformat_minor": 2
}
