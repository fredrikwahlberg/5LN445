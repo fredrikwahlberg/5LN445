{
  "nbformat": 4,
  "nbformat_minor": 0,
  "metadata": {
    "colab": {
      "name": "Lecture 06 - Decryption using MCMC.ipynb",
      "provenance": [],
      "collapsed_sections": []
    },
    "kernelspec": {
      "display_name": "Python 3",
      "language": "python",
      "name": "python3"
    },
    "language_info": {
      "codemirror_mode": {
        "name": "ipython",
        "version": 3
      },
      "file_extension": ".py",
      "mimetype": "text/x-python",
      "name": "python",
      "nbconvert_exporter": "python",
      "pygments_lexer": "ipython3",
      "version": "3.7.4"
    }
  },
  "cells": [
    {
      "cell_type": "markdown",
      "metadata": {
        "id": "9DdBseIoEnvg"
      },
      "source": [
        "# Encryption\n",
        " \n",
        "We can use ngram models for solving (simple) substitution encryption. A substitution crypto is an encrypted message where each symbol (in this case characters) has been substituted with some other symbol. This follows from our ability to evaluate the probability of a character sequence. By training a character ngram model on (in this case) english text, we can guess an encryption key, decrypt a message, and then evaluate a probability. By changing the key slightly, we can evaluate if the probability of our result is english has increased. By this method we will slowly work our way toward a solution. This is a slow process and not very well suited for human labour. The problem formulation is, however, very well suited for a computer.\n",
        "\n",
        "We'll start by downloading some reference text to use for training the model."
      ]
    },
    {
      "cell_type": "code",
      "metadata": {
        "colab": {
          "base_uri": "https://localhost:8080/"
        },
        "id": "IwP2GCvH2t98",
        "outputId": "747952b9-bb55-41d9-a5d6-298d3a4f998b"
      },
      "source": [
        "# Download reference text\n",
        "import nltk\n",
        "nltk.download('gutenberg')\n",
        "\n",
        "# These are some books in the collection of the gutenberg project\n",
        "books = ['carroll-alice.txt', 'melville-moby_dick.txt', 'milton-paradise.txt',  \n",
        "         'austen-emma.txt', 'austen-persuasion.txt', 'austen-sense.txt']\n",
        "#books = ['carroll-alice.txt']\n",
        "# books = ['austen-emma.txt']"
      ],
      "execution_count": 1,
      "outputs": [
        {
          "output_type": "stream",
          "name": "stdout",
          "text": [
            "[nltk_data] Downloading package gutenberg to /root/nltk_data...\n",
            "[nltk_data]   Package gutenberg is already up-to-date!\n"
          ]
        }
      ]
    },
    {
      "cell_type": "markdown",
      "metadata": {
        "id": "8raanrCaTdXj"
      },
      "source": [
        "We can create a vocabulary from the corpus. This might be usefull for evaluating performance after having found a resonable decryption key."
      ]
    },
    {
      "cell_type": "code",
      "metadata": {
        "colab": {
          "base_uri": "https://localhost:8080/"
        },
        "id": "Lo8KPf_BSxwe",
        "outputId": "101b0fa2-e74f-40c7-932e-39066be6772f"
      },
      "source": [
        "vocabulary = set(nltk.corpus.gutenberg.words(books))\n",
        "vocabulary = set([word.lower() for word in vocabulary])\n",
        "print(\"Created a lower case vocabulary with %i entries\" % len(vocabulary))"
      ],
      "execution_count": 2,
      "outputs": [
        {
          "output_type": "stream",
          "name": "stdout",
          "text": [
            "Created a lower case vocabulary with 24570 entries\n"
          ]
        }
      ]
    },
    {
      "cell_type": "markdown",
      "metadata": {
        "id": "G8nxvtYF0Mhp"
      },
      "source": [
        "We can now load the raw data and see what it looks like."
      ]
    },
    {
      "cell_type": "code",
      "metadata": {
        "colab": {
          "base_uri": "https://localhost:8080/"
        },
        "id": "1WzdP3JFOThi",
        "outputId": "d3667626-2d90-4182-f2a7-299ea44a1c7b"
      },
      "source": [
        "raw_text = nltk.corpus.gutenberg.raw(books)\n",
        "print(raw_text[:500])"
      ],
      "execution_count": 3,
      "outputs": [
        {
          "output_type": "stream",
          "name": "stdout",
          "text": [
            "[Alice's Adventures in Wonderland by Lewis Carroll 1865]\n",
            "\n",
            "CHAPTER I. Down the Rabbit-Hole\n",
            "\n",
            "Alice was beginning to get very tired of sitting by her sister on the\n",
            "bank, and of having nothing to do: once or twice she had peeped into the\n",
            "book her sister was reading, but it had no pictures or conversations in\n",
            "it, 'and what is the use of a book,' thought Alice 'without pictures or\n",
            "conversation?'\n",
            "\n",
            "So she was considering in her own mind (as well as she could, for the\n",
            "hot day made her feel very sleepy an\n"
          ]
        }
      ]
    },
    {
      "cell_type": "markdown",
      "metadata": {
        "id": "5iXaWmSk0mUw"
      },
      "source": [
        "To make our likes easier, we define an allowed character (i.e. a constrained character set). This is so we don't have to care about special characters in this example."
      ]
    },
    {
      "cell_type": "code",
      "metadata": {
        "id": "LYQ2utoI0mby"
      },
      "source": [
        "# Define an allowed character set for the pre-processing\n",
        "character_set = set('abcdefghijklmnopqrstuvwxyz -.,:')"
      ],
      "execution_count": 4,
      "outputs": []
    },
    {
      "cell_type": "markdown",
      "metadata": {
        "id": "LJG8dNGg0YBp"
      },
      "source": [
        "Pre-processing of the training data to make printouts in this notebook a bit more clear and to reduce code complexity slightly."
      ]
    },
    {
      "cell_type": "code",
      "metadata": {
        "id": "S0QhvCHU0SD4"
      },
      "source": [
        "# I will pre-process the text for simplicity\n",
        "def pre_process(unprocessed_text):\n",
        "  # Force lower case\n",
        "  unprocessed_text = unprocessed_text.lower()\n",
        "  # Restrict character set\n",
        "  old_character_set = \"\".join(set(list(unprocessed_text)))\n",
        "  new_character_set = \"\".join([c if c in character_set else \" \" for c in old_character_set])\n",
        "  text = unprocessed_text.translate(str.maketrans(old_character_set, new_character_set))\n",
        "  # Remove multiple spaces and return\n",
        "  import re\n",
        "  return re.sub(\"\\s\\s+\" , \" \", text.strip())\n",
        "\n",
        "# Call the pre-processing for the \n",
        "training_data = pre_process(raw_text)"
      ],
      "execution_count": 5,
      "outputs": []
    },
    {
      "cell_type": "markdown",
      "metadata": {
        "id": "o34iBF9w0alj"
      },
      "source": [
        "This is what the pre-processed text looks like"
      ]
    },
    {
      "cell_type": "code",
      "metadata": {
        "colab": {
          "base_uri": "https://localhost:8080/"
        },
        "id": "kCgWIEsq0YYx",
        "outputId": "786a6b97-6e1f-4325-c073-aab2e11ac465"
      },
      "source": [
        "print(training_data[:300])"
      ],
      "execution_count": 6,
      "outputs": [
        {
          "output_type": "stream",
          "name": "stdout",
          "text": [
            "alice s adventures in wonderland by lewis carroll chapter i. down the rabbit-hole alice was beginning to get very tired of sitting by her sister on the bank, and of having nothing to do: once or twice she had peeped into the book her sister was reading, but it had no pictures or conversations in it,\n"
          ]
        }
      ]
    },
    {
      "cell_type": "markdown",
      "metadata": {
        "id": "nA0iQQCq0S3w"
      },
      "source": [
        "This is a naive character ngram model. Most of the time one should use a more tested class from som NLP library. However, the code here is included to show you how short the code can be."
      ]
    },
    {
      "cell_type": "code",
      "metadata": {
        "colab": {
          "base_uri": "https://localhost:8080/"
        },
        "id": "ytX_XXOePJhr",
        "outputId": "36753602-805a-4e03-b041-e82788a5b3ab"
      },
      "source": [
        "import numpy as np # Math library\n",
        "\n",
        "class NaiveCharacterNGram(object):\n",
        "  def __init__(self, order=1):\n",
        "    \"\"\"\n",
        "    Naive NGram counter\n",
        "\n",
        "    Assumes that all characters can be found in the training set.\n",
        "    \"\"\"\n",
        "    assert order >= 1\n",
        "    self.order_ = order\n",
        "    self.counts_ = dict()\n",
        "\n",
        "  def _tokeniser(self, X, order, limit=-1):\n",
        "    \"\"\"\n",
        "    Internal tokeniser\n",
        "\n",
        "    X: text data\n",
        "    order: order if the character tokens\n",
        "    limit: max number of tokens to output (unlimited if <1)\n",
        "    \"\"\"\n",
        "    if limit < 1:\n",
        "      limit = len(X)-order+1\n",
        "    for i in range(limit):\n",
        "      yield X[i:i+order]\n",
        "\n",
        "  def fit(self, X):\n",
        "    \"\"\"\n",
        "    Train the model\n",
        "\n",
        "    X: text data\n",
        "    \"\"\"\n",
        "    assert type(X) == str\n",
        "    self._probability_lut = dict()\n",
        "    for order in range(1, self.order_+1):\n",
        "      for ngram in self._tokeniser(X, order):\n",
        "        if ngram not in self.counts_.keys():\n",
        "          self.counts_[ngram] = 1\n",
        "        else:\n",
        "          self.counts_[ngram] += 1\n",
        "    self.unigram_total_ = np.sum([self.counts_[ngram] for ngram in self.counts_.keys() if len(ngram) == 1])\n",
        "    return self\n",
        "\n",
        "  def _P(self, ngram):\n",
        "    \"\"\"\n",
        "    Internal method for getting the probability of a single ngram\n",
        "    \"\"\"\n",
        "    # Check if the ngram is in the internal look up table (LUT)\n",
        "    if ngram in self._probability_lut.keys():\n",
        "      return self._probability_lut[ngram]\n",
        "    else:\n",
        "      # Calculate the probability\n",
        "      assert 0 < len(ngram) <= self.order_, \"The model only supports ngram with length 0 < len <= %i\" % self.order_\n",
        "      # Check if this ngram was present in the training data\n",
        "      if ngram in self.counts_.keys():\n",
        "        if len(ngram) == 1:\n",
        "          p = np.log(self.counts_[ngram] / self.unigram_total_)\n",
        "        else:\n",
        "          contitional_ngram = ngram[1:]\n",
        "          p = np.log(self.counts_[ngram] / self.counts_[contitional_ngram])\n",
        "      else:\n",
        "        # Fallback is the model had not seen this ngram before\n",
        "        p = np.min([model._P(k) for k in model.counts_.keys() if len(k) == len(ngram)]) - np.log(2)\n",
        "      self._probability_lut[ngram] = p # Store the calculations for the future\n",
        "      return p\n",
        "\n",
        "  def predict_proba(self, X):\n",
        "    \"\"\"\n",
        "    Predicts the probability of a text string under the model.\n",
        "\n",
        "    X: text data\n",
        "    Returns log probability\n",
        "    \"\"\"\n",
        "    ngrams = list(self._tokeniser(X, self.order_))\n",
        "    if self.order_ > 1:\n",
        "      for order in range(1, self.order_+1):\n",
        "        ngrams.extend(self._tokeniser(X, order, limit=1))\n",
        "    p = 0\n",
        "    for ngram in ngrams:\n",
        "      p += model._P(ngram)\n",
        "    return p\n",
        "\n",
        "# Make a model and test it\n",
        "model = NaiveCharacterNGram(order=1).fit(training_data)\n",
        "assert np.isclose(model.predict_proba('acb'), model.predict_proba('abc'))\n",
        "\n",
        "# A higher order model\n",
        "model = NaiveCharacterNGram(order=3).fit(training_data)\n",
        "model.predict_proba('alice')"
      ],
      "execution_count": 7,
      "outputs": [
        {
          "output_type": "execute_result",
          "data": {
            "text/plain": [
              "-14.017937498823205"
            ]
          },
          "metadata": {},
          "execution_count": 7
        }
      ]
    },
    {
      "cell_type": "markdown",
      "metadata": {
        "id": "IM-DaMUm3g_P"
      },
      "source": [
        "We can now evaluate sentences under the trained model.\n",
        "\n",
        "$P(\\text{\"I am not good at spelling\"} | model)$"
      ]
    },
    {
      "cell_type": "code",
      "metadata": {
        "colab": {
          "base_uri": "https://localhost:8080/"
        },
        "id": "3bXCx80x3gyJ",
        "outputId": "9a3c6d1a-6986-4354-eb3f-1ea9ca1a960f"
      },
      "source": [
        "model.predict_proba(\"I am not good at spelling\")"
      ],
      "execution_count": 8,
      "outputs": [
        {
          "output_type": "execute_result",
          "data": {
            "text/plain": [
              "-87.4429702131386"
            ]
          },
          "metadata": {},
          "execution_count": 8
        }
      ]
    },
    {
      "cell_type": "code",
      "metadata": {
        "id": "HU8JMd0YgKY0",
        "colab": {
          "base_uri": "https://localhost:8080/"
        },
        "outputId": "2bf512e7-52d4-45cf-ad47-947aa2b7a36b"
      },
      "source": [
        "model.predict_proba(\"spleling\")"
      ],
      "execution_count": 9,
      "outputs": [
        {
          "output_type": "execute_result",
          "data": {
            "text/plain": [
              "-26.005396467210918"
            ]
          },
          "metadata": {},
          "execution_count": 9
        }
      ]
    },
    {
      "cell_type": "code",
      "metadata": {
        "id": "L60l-YW1gKY1",
        "colab": {
          "base_uri": "https://localhost:8080/"
        },
        "outputId": "334f32c8-48c3-4fac-a88f-f74031b25f2d"
      },
      "source": [
        "model.predict_proba(\"spelling\")"
      ],
      "execution_count": 10,
      "outputs": [
        {
          "output_type": "execute_result",
          "data": {
            "text/plain": [
              "-20.014447326269273"
            ]
          },
          "metadata": {},
          "execution_count": 10
        }
      ]
    },
    {
      "cell_type": "code",
      "metadata": {
        "id": "-VSsJszA7AI0"
      },
      "source": [
        "unigram_model = NaiveCharacterNGram(order=1).fit(training_data)\n",
        "bigram_model = NaiveCharacterNGram(order=2).fit(training_data)\n",
        "trigram_model = NaiveCharacterNGram(order=3).fit(training_data)\n",
        "#quadgram_model = NaiveCharacterNGram(order=4).fit(training_data) # Quadgram is buggy, fix this in the future!"
      ],
      "execution_count": 11,
      "outputs": []
    },
    {
      "cell_type": "code",
      "metadata": {
        "id": "ljR53vaUgKY1",
        "colab": {
          "base_uri": "https://localhost:8080/"
        },
        "outputId": "62497375-cb1d-4658-b69d-9e2a84dc3921"
      },
      "source": [
        "print(\"Unigram\", unigram_model.predict_proba(\"I am not good at spelling\"))\n",
        "print(\"Bigram\", bigram_model.predict_proba(\"I am not good at spelling\"))\n",
        "print(\"Trigram\", trigram_model.predict_proba(\"I am not good at spelling\"))\n",
        "#print(\"Quadgram\", quadgram_model.predict_proba(\"I am not good at spelling\")) # Quadgram is buggy, fix this in the future!"
      ],
      "execution_count": 12,
      "outputs": [
        {
          "output_type": "stream",
          "name": "stdout",
          "text": [
            "Unigram -77.14799973232988\n",
            "Bigram -89.43303052287294\n",
            "Trigram -87.4429702131386\n"
          ]
        }
      ]
    },
    {
      "cell_type": "code",
      "metadata": {
        "colab": {
          "base_uri": "https://localhost:8080/",
          "height": 257
        },
        "id": "ope6RIb-XRBZ",
        "outputId": "8c68d2fd-d344-479a-9140-f48bc5e48f06"
      },
      "source": [
        "import matplotlib.pyplot as plt\n",
        "\n",
        "fig = plt.figure(figsize=(6, 2.5), dpi=100)\n",
        "ax = fig.subplots(2, 1)\n",
        "\n",
        "symbols = list(set([k for k in model.counts_.keys() if len(k)==1]))\n",
        "symbols.sort()\n",
        "prob = np.exp([model._P(s) for s in symbols])\n",
        "ax[0].bar(symbols, prob)\n",
        "ax[0].set_ylabel(\"Probability\")\n",
        "\n",
        "symbols = list(set([k for k in model.counts_.keys() if len(k)==2]))\n",
        "symbols.sort()\n",
        "prob = np.exp([model._P(s) for s in symbols])\n",
        "ax[1].bar(symbols, prob)\n",
        "ax[1].set_ylabel(\"Probability\")\n",
        "\n",
        "fig.tight_layout()\n",
        "fig.show()"
      ],
      "execution_count": 13,
      "outputs": [
        {
          "output_type": "display_data",
          "data": {
            "image/png": "[encoded data removed]",
            "text/plain": [
              "<Figure size 600x250 with 2 Axes>"
            ]
          },
          "metadata": {
            "needs_background": "light"
          }
        }
      ]
    },
    {
      "cell_type": "markdown",
      "metadata": {
        "id": "57wtrFOIgKY2"
      },
      "source": [
        "## Load poem\n",
        "\n",
        "### Poem 1"
      ]
    },
    {
      "cell_type": "code",
      "metadata": {
        "id": "_mU1GRxLgKY2"
      },
      "source": [
        "!wget -N https://raw.githubusercontent.com/fredrikwahlberg/5LN445/master/poem1.txt\n",
        "\n",
        "with open('poem1.txt', 'r') as f:\n",
        "  encrypted_text = f.read()\n",
        "\n",
        "print(\"Encrypted text:\", encrypted_text[:100], \"...\")"
      ],
      "execution_count": null,
      "outputs": []
    },
    {
      "cell_type": "markdown",
      "metadata": {
        "id": "z8VAmJ1cgKY3"
      },
      "source": [
        "### Poem 2"
      ]
    },
    {
      "cell_type": "code",
      "metadata": {
        "id": "PGB5pCkFgKY3"
      },
      "source": [
        "!wget -N https://raw.githubusercontent.com/fredrikwahlberg/5LN445/master/poem2.txt\n",
        "\n",
        "with open('poem2.txt', 'r') as f:\n",
        "  encrypted_text = f.read()\n",
        "\n",
        "print(\"Encrypted text:\", encrypted_text[:100], \"...\")"
      ],
      "execution_count": null,
      "outputs": []
    },
    {
      "cell_type": "markdown",
      "metadata": {
        "id": "I7lFd33AgKY3"
      },
      "source": [
        "### Poem 3"
      ]
    },
    {
      "cell_type": "code",
      "metadata": {
        "id": "6MMDNvzPgKY3"
      },
      "source": [
        "!wget -N https://raw.githubusercontent.com/fredrikwahlberg/5LN445/master/poem3.txt\n",
        "\n",
        "with open('poem3.txt', 'r') as f:\n",
        "  encrypted_text = f.read()\n",
        "\n",
        "print(\"Encrypted text:\", encrypted_text[:100], \"...\")"
      ],
      "execution_count": null,
      "outputs": []
    },
    {
      "cell_type": "markdown",
      "metadata": {
        "id": "d6_px_X8gKY3"
      },
      "source": [
        "### Poem 4"
      ]
    },
    {
      "cell_type": "code",
      "metadata": {
        "id": "ZQtEfV-kgKY3"
      },
      "source": [
        "!wget -N https://raw.githubusercontent.com/fredrikwahlberg/5LN445/master/poem4.txt\n",
        "\n",
        "with open('poem4.txt', 'r') as f:\n",
        "  encrypted_text = f.read()\n",
        "\n",
        "print(\"Encrypted text:\", encrypted_text[:100], \"...\")"
      ],
      "execution_count": null,
      "outputs": []
    },
    {
      "cell_type": "markdown",
      "metadata": {
        "id": "3UmAPdrjsM4I"
      },
      "source": [
        "### Poem 5"
      ]
    },
    {
      "cell_type": "code",
      "metadata": {
        "id": "5MCqtDC9sNAN"
      },
      "source": [
        "!wget -N https://raw.githubusercontent.com/fredrikwahlberg/5LN445/master/poem5.txt\n",
        "\n",
        "with open('poem5.txt', 'r') as f:\n",
        "  encrypted_text = f.read()\n",
        "\n",
        "print(\"Encrypted text:\", encrypted_text[:100], \"...\")"
      ],
      "execution_count": null,
      "outputs": []
    },
    {
      "cell_type": "markdown",
      "metadata": {
        "id": "4A0-WGPg7CCS"
      },
      "source": [
        "Train models to use for evaluating a key\n"
      ]
    },
    {
      "cell_type": "markdown",
      "metadata": {
        "id": "2NN55Rlk7FAF"
      },
      "source": [
        "Define the probability meassure using the models. *Note that you can run this cell and redefine P and still go back to a \"running\" decryption.*\n"
      ]
    },
    {
      "cell_type": "code",
      "metadata": {
        "id": "13oGhI4g-zFw"
      },
      "source": [
        "def P(decrypted_text):\n",
        "  ret = unigram_model.predict_proba(decrypted_text)\n",
        "  ret += bigram_model.predict_proba(decrypted_text)\n",
        "  ret += trigram_model.predict_proba(decrypted_text)\n",
        "  #ret += quadgram_model.predict_proba(decrypted_text) # Quadgram is buggy, fix this in the future!\n",
        "  return ret"
      ],
      "execution_count": null,
      "outputs": []
    },
    {
      "cell_type": "markdown",
      "metadata": {
        "id": "GbQopkUs7qEJ"
      },
      "source": [
        "### Make a new (random) key"
      ]
    },
    {
      "cell_type": "code",
      "metadata": {
        "id": "3x-oLCV_GnvY"
      },
      "source": [
        "unencoded = \"\".join(character_set)\n",
        "encoded = unencoded.upper().translate({ord(' '): ord('0'),\n",
        "                                       ord('-'): ord('1'),\n",
        "                                       ord('.'): ord('2'),\n",
        "                                       ord(','): ord('3'),\n",
        "                                       ord(':'): ord('4')})\n",
        "# Split the symbols\n",
        "symbols = list(encoded)\n",
        "# Shuffle the symbols\n",
        "import random\n",
        "random.shuffle(symbols)\n",
        "# Join the symbols\n",
        "encoded = ''.join(symbols)\n",
        "print(\"New key\")\n",
        "print(\"Unencoded:\", unencoded)\n",
        "print(\"Encoded:  \", encoded)"
      ],
      "execution_count": null,
      "outputs": []
    },
    {
      "cell_type": "markdown",
      "metadata": {
        "id": "Neb_W-hmgKY4"
      },
      "source": [
        "### Run optimisation"
      ]
    },
    {
      "cell_type": "code",
      "metadata": {
        "id": "m1YICxFiK_Si"
      },
      "source": [
        "import time\n",
        "\n",
        "# Decrypt using scrambled key\n",
        "key = str.maketrans(encoded, unencoded)\n",
        "decrypted_text = encrypted_text.translate(key)\n",
        "\n",
        "p = P(decrypted_text)\n",
        "\n",
        "print(\"Initial decrypted text %s\" % decrypted_text[:80])\n",
        "print(\"P: %f\" % p)\n",
        "\n",
        "msg_time = time.time()\n",
        "n_words = 0\n",
        "best_key = None\n",
        "for i in range(5000):\n",
        "  # Store the probability and key from the last iteration of the loop\n",
        "  old_p = p\n",
        "  old_unencoded = unencoded\n",
        "\n",
        "  # Randomly swap two charcters in the key\n",
        "  unencoded = list(unencoded)\n",
        "  a = random.randint(0, len(unencoded)-1)\n",
        "  b = random.randint(0, len(unencoded)-1)\n",
        "  c = unencoded[a]\n",
        "  unencoded[a] = unencoded[b]\n",
        "  unencoded[b] = c\n",
        "  unencoded = \"\".join(unencoded)\n",
        "\n",
        "  # Decode the message\n",
        "  key = str.maketrans(encoded, unencoded)\n",
        "  decrypted_text = encrypted_text.translate(key)\n",
        "\n",
        "  # Find the probability of the decrypted text to be english\n",
        "  p = P(decrypted_text)\n",
        "  \n",
        "  # Find the number words that we could find in the vocabulary\n",
        "  old_n_words = n_words\n",
        "  n_words = np.sum([word in vocabulary for word in decrypted_text.split()])\n",
        "  if best_key is None or best_key[1] < n_words:\n",
        "    best_key = (key.copy(), n_words)\n",
        "\n",
        "  # Print-out\n",
        "  if i % 200 == 0 or (time.time()-msg_time)>2:\n",
        "    msg_time = time.time()\n",
        "    print(\"%4i | %s | %.2f | %3i | %s\" % (i, decrypted_text[:50], p, n_words, unencoded))\n",
        "\n",
        "  # Metropolis hastings rejection step\n",
        "  alpha = p - old_p\n",
        "  if np.log(random.random()) > alpha or (old_n_words > 20 and n_words < old_n_words//2): # Second condition is experimental\n",
        "    # Reject candidate\n",
        "    p = old_p\n",
        "    unencoded = old_unencoded"
      ],
      "execution_count": null,
      "outputs": []
    },
    {
      "cell_type": "markdown",
      "metadata": {
        "id": "QZEbsVLf8hrM"
      },
      "source": [
        "### Print the decrypted text \n",
        "\n",
        "...with some spaces made into line feeds."
      ]
    },
    {
      "cell_type": "code",
      "metadata": {
        "id": "tcUrbyZM-7bb"
      },
      "source": [
        "n = 0\n",
        "for word in decrypted_text.split():\n",
        "  if n < 60:\n",
        "    print(word, end=\" \")\n",
        "    n += len(word)+1\n",
        "  else:\n",
        "    print(word, end=\"\\n\")\n",
        "    n = 0"
      ],
      "execution_count": null,
      "outputs": []
    },
    {
      "cell_type": "code",
      "metadata": {
        "id": "mHAkEALpTyN1"
      },
      "source": [
        "n = 0\n",
        "for word in encrypted_text.translate(best_key[0]).split():\n",
        "  if n < 60:\n",
        "    print(word, end=\" \")\n",
        "    n += len(word)+1\n",
        "  else:\n",
        "    print(word, end=\"\\n\")\n",
        "    n = 0"
      ],
      "execution_count": null,
      "outputs": []
    },
    {
      "cell_type": "code",
      "metadata": {
        "id": "PZpVzmmCYCAq"
      },
      "source": [
        ""
      ],
      "execution_count": null,
      "outputs": []
    }
  ]
}