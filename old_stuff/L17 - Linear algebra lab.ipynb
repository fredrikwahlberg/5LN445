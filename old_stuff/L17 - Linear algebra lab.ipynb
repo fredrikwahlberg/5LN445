{
  "nbformat": 4,
  "nbformat_minor": 0,
  "metadata": {
    "kernelspec": {
      "display_name": "Python 3",
      "language": "python",
      "name": "python3"
    },
    "language_info": {
      "codemirror_mode": {
        "name": "ipython",
        "version": 3
      },
      "file_extension": ".py",
      "mimetype": "text/x-python",
      "name": "python",
      "nbconvert_exporter": "python",
      "pygments_lexer": "ipython3",
      "version": "3.7.3"
    },
    "colab": {
      "name": "Math L17 - Linear algebra lab.ipynb",
      "provenance": [],
      "collapsed_sections": []
    }
  },
  "cells": [
    {
      "cell_type": "markdown",
      "metadata": {
        "id": "zzr-UQpXaNEn"
      },
      "source": [
        "# Linear algebra lab\n",
        "\n",
        "* Distance of a point from a line\n",
        "* Intersection between a plane and a line\n",
        "* Find regression line through optimisation\n",
        "* Search word2vec\n",
        "\n",
        "For linear algebra, we are going to use the module numpy."
      ]
    },
    {
      "cell_type": "code",
      "metadata": {
        "id": "QStkvm5YaNEo"
      },
      "source": [
        "import numpy as np\n",
        "from numpy.linalg import norm\n",
        "from scipy.optimize import minimize_scalar, minimize\n",
        "\n",
        "import matplotlib.pyplot as plt"
      ],
      "execution_count": null,
      "outputs": []
    },
    {
      "cell_type": "markdown",
      "metadata": {
        "id": "xdeszC0TNzk_"
      },
      "source": [
        "### Happy mouth plot, the distance between a point and a line\n",
        "\n",
        "Find the distance between the line $(1, 2, 3)^\\top + t \\cdot (1, -1, 1)^\\top$ and the point $\\bar c = (1, -1, 1)^\\top$.\n",
        "\n",
        "Defining two vectors in numpy and finding the distance between them can be done by running the following:\n",
        "```\n",
        "p = np.asarray([1, -1, 1])\n",
        "q = np.asarray([np.pi, -3, 2])\n",
        "distance = norm(p-q)\n",
        "```"
      ]
    },
    {
      "cell_type": "markdown",
      "metadata": {
        "id": "OdWbqKeKDMDt"
      },
      "source": [
        "Write your code in the cell below in places marked 'your code here'."
      ]
    },
    {
      "cell_type": "code",
      "metadata": {
        "id": "Y0Ru-cnoNzql",
        "outputId": "d6832d1d-d1f5-48ae-d405-54096fc8528c",
        "colab": {
          "base_uri": "https://localhost:8080/",
          "height": 313
        }
      },
      "source": [
        "def line(t):\n",
        "  return # your code here\n",
        "c = # your code here\n",
        "\n",
        "T = np.linspace(-5, 5, 100)\n",
        "P = list()\n",
        "for t in T:\n",
        "  P.append(norm(line(t) - c))\n",
        "\n",
        "plt.figure()\n",
        "plt.plot(T, P)\n",
        "plt.xlabel(\"t\")\n",
        "plt.ylabel(\"distance\")\n",
        "plt.show()\n",
        "\n",
        "print(\"Minimum at t=%.1f (distance %.1f)\" % (T[np.argmin(P)], np.min(P)))\n",
        "print(\"Exact minimum at t=%f\" % minimize_scalar(lambda t: norm(line(t) - c)).x)"
      ],
      "execution_count": null,
      "outputs": [
        {
          "output_type": "display_data",
          "data": {
            "image/png": "[encoded data removed]",
            "text/plain": [
              "<Figure size 432x288 with 1 Axes>"
            ]
          },
          "metadata": {
            "tags": [],
            "needs_background": "light"
          }
        },
        {
          "output_type": "stream",
          "text": [
            "Minimum at t=0.4 (distance 3.6)\n",
            "Exact minimum at t=0.333333\n"
          ],
          "name": "stdout"
        }
      ]
    },
    {
      "cell_type": "markdown",
      "metadata": {
        "id": "2k4gzU8QiSyJ"
      },
      "source": [
        "Try out some other values for the vectors and see what happens. Also, the following code defines where to find the distances. The numbers -5 and 5 are the outer limits to this interval. Try to change the interval and see how the plot changes.\n",
        "\n",
        "```\n",
        "T = np.linspace(-5, 5, 100)\n",
        "```"
      ]
    },
    {
      "cell_type": "markdown",
      "metadata": {
        "id": "FiOKGamtDZAC"
      },
      "source": [
        "If you got the cell above to work then your could extend the line to any (countable) number of dimensions. How? Try this for 2 (easy to check on paper) or 5 (higher but still reasonably small) dimensions."
      ]
    },
    {
      "cell_type": "markdown",
      "metadata": {
        "id": "oON9ZjDytil8"
      },
      "source": [
        "### Plane and line intersection\n",
        " \n",
        "Find the intersection between the following line and plane:\n",
        " \n",
        "* The line: $(4, 2, 3)^\\top + t \\cdot (4, 5, -3)^\\top$\n",
        "* The plane: $( \\bar p-\\bar q ) \\cdot \\bar n = 0$, where $\\bar q =(1, 1, 1)^\\top$, $\\bar n =(-1, -1, -1)^\\top$\n",
        " \n",
        "The outcome of $( \\bar p-\\bar q ) \\cdot \\bar n$ is the distance, $d$, from the line scaled by the length of the normal vector as $( \\bar p-\\bar q ) \\cdot \\bar n = d \\cdot |\\bar n |$. When $d$ is zero, the point $\\bar p$ is in the plane. Because of this, finding a $t$ for the intersection is a matter of finding the $t$ that minimizes the absolute value of the equation for the plane. Why do we not normalise $\\bar n$ here? Should we?\n",
        " \n",
        "A dot product in numpy between vectors u and v can be written as ```u.dot(v)```."
      ]
    },
    {
      "cell_type": "code",
      "metadata": {
        "id": "EIu6T0NLgfph",
        "outputId": "9d847673-5990-4e86-baac-70624701c251",
        "colab": {
          "base_uri": "https://localhost:8080/",
          "height": 313
        }
      },
      "source": [
        "def line(t):\n",
        "  return # your code here\n",
        "\n",
        "def plane(p):\n",
        "  n = # your code here\n",
        "  q = # your code here\n",
        "  return # your code here\n",
        "\n",
        "T = np.linspace(-100, 100, 100)\n",
        "P = list()\n",
        "for t in T:\n",
        "  P.append(plane(line(t)))\n",
        "\n",
        "plt.figure()\n",
        "plt.plot(T, P)\n",
        "plt.xlabel(\"t\")\n",
        "plt.ylabel(\"$( \\\\bar p - \\\\bar q ) \\\\cdot \\\\bar n$\")\n",
        "plt.show()\n",
        "\n",
        "print(\"Intersection at t=%.1f (value %.1f)\" % (T[np.argmin(np.abs(P))], np.min(np.abs(P))))\n",
        "print(\"Exact intersection at t=%f\" % minimize_scalar(lambda t: np.abs(plane(line(t)))).x)"
      ],
      "execution_count": null,
      "outputs": [
        {
          "output_type": "display_data",
          "data": {
            "image/png": "[encoded data removed]",
            "text/plain": [
              "<Figure size 432x288 with 1 Axes>"
            ]
          },
          "metadata": {
            "tags": [],
            "needs_background": "light"
          }
        },
        {
          "output_type": "stream",
          "text": [
            "Intersection at t=-1.0 (value 0.1)\n",
            "Exact intersection at t=-1.000000\n"
          ],
          "name": "stdout"
        }
      ]
    },
    {
      "cell_type": "markdown",
      "metadata": {
        "id": "7D0VQH2KERZI"
      },
      "source": [
        "Try extending the above code to higher dimensions."
      ]
    },
    {
      "cell_type": "markdown",
      "metadata": {
        "id": "HjBMo51Getdh"
      },
      "source": [
        "# Finding a regression line\n",
        "\n",
        "In lecture 12, we worked with regression lines. We chose the linear model that minimised the square of the errors. To try this, we first have to create some data."
      ]
    },
    {
      "cell_type": "code",
      "metadata": {
        "id": "DaBi2_oKetkp",
        "outputId": "009e8801-a8e8-4a40-f140-b53065287fe0",
        "colab": {
          "base_uri": "https://localhost:8080/",
          "height": 265
        }
      },
      "source": [
        "# Define the true values for our regression\n",
        "beta = np.zeros(2)\n",
        "beta[0] = 3 # intercept\n",
        "beta[1] = .5 # slope\n",
        "\n",
        "# Generate the data\n",
        "X = np.random.uniform(0, 100, size=20)\n",
        "y = beta[0] + X*beta[1] + np.random.normal(0, 5, size=X.shape)\n",
        "\n",
        "# Plot the data\n",
        "plt.figure()\n",
        "plt.scatter(X, y, marker='.')\n",
        "plt.show()"
      ],
      "execution_count": null,
      "outputs": [
        {
          "output_type": "display_data",
          "data": {
            "image/png": "[encoded data removed]",
            "text/plain": [
              "<Figure size 432x288 with 1 Axes>"
            ]
          },
          "metadata": {
            "tags": [],
            "needs_background": "light"
          }
        }
      ]
    },
    {
      "cell_type": "markdown",
      "metadata": {
        "id": "8mwtFOA2xfNn"
      },
      "source": [
        "Our model for such data from lecture 12 is a straight line as $\\hat y = \\beta_0 + \\beta_1 \\cdot x$ . Using the data matrix $X$, we can get values for $\\hat y$ by using matrix addition and scalar multiplication."
      ]
    },
    {
      "cell_type": "code",
      "metadata": {
        "id": "fl1NFcnGxXSl",
        "outputId": "3f69fe8c-65fa-4ba6-d8da-f37481bcfc00",
        "colab": {
          "base_uri": "https://localhost:8080/",
          "height": 265
        }
      },
      "source": [
        "# The predicion function that gives us y hat.\n",
        "def y_hat(X, beta):\n",
        "  return # your code here\n",
        "\n",
        "plt.figure()\n",
        "plt.scatter(X, y, marker='.')\n",
        "plt.plot(X, y_hat(X, [3, .5]), 'orange')\n",
        "plt.show()"
      ],
      "execution_count": null,
      "outputs": [
        {
          "output_type": "display_data",
          "data": {
            "image/png": "[encoded data removed]",
            "text/plain": [
              "<Figure size 432x288 with 1 Axes>"
            ]
          },
          "metadata": {
            "tags": [],
            "needs_background": "light"
          }
        }
      ]
    },
    {
      "cell_type": "markdown",
      "metadata": {
        "id": "OIVd01ED9bAN"
      },
      "source": [
        "We can find the line that minimises the residuals by finding the covariance matrix. However, we could also simply try new numbers for $\\beta$ and keep it if it's better than our old beta. For this we have to define a loss function. Ours will be the squared error (as in the slides) $f_\\text{loss} = \\sum (y-\\hat y)^2$.\n",
        "\n",
        "Random noise can be added to the beta vector by running:\n",
        "```\n",
        "beta = beta + np.random.normal(0, .1, size=beta.shape)\n",
        "```\n",
        "\n"
      ]
    },
    {
      "cell_type": "code",
      "metadata": {
        "id": "QpQDNxGb9ZeB",
        "outputId": "0e783aa7-854b-4606-cca3-fb351c1a3fea",
        "colab": {
          "base_uri": "https://localhost:8080/",
          "height": 299
        }
      },
      "source": [
        "def loss(beta):\n",
        "  return # your code here\n",
        "\n",
        "beta = np.random.normal(size=2)\n",
        "print(\"Loss before optimisation %.1f\" % loss(beta))\n",
        "\n",
        "plt.figure()\n",
        "plt.scatter(X, y, marker='.')\n",
        "plt.plot(X, y_hat(X, beta), 'green')\n",
        "\n",
        "for i in range(100):\n",
        "  new_beta = beta + np.random.normal(0, .1, size=beta.shape)\n",
        "  if loss(new_beta) < loss(beta):\n",
        "    beta = new_beta\n",
        "  # print(loss(beta))\n",
        "plt.plot(X, y_hat(X, beta), 'orange')\n",
        "plt.show()\n",
        "\n",
        "print(\"Loss after optimisation %.1f\" % loss(beta))"
      ],
      "execution_count": null,
      "outputs": [
        {
          "output_type": "stream",
          "text": [
            "Loss before optimisation 102956.9\n"
          ],
          "name": "stdout"
        },
        {
          "output_type": "display_data",
          "data": {
            "image/png": "[encoded data removed]",
            "text/plain": [
              "<Figure size 432x288 with 1 Axes>"
            ]
          },
          "metadata": {
            "tags": [],
            "needs_background": "light"
          }
        },
        {
          "output_type": "stream",
          "text": [
            "Loss after optimisation 459.8\n"
          ],
          "name": "stdout"
        }
      ]
    },
    {
      "cell_type": "markdown",
      "metadata": {
        "id": "p_rwiw-CFodq"
      },
      "source": [
        "Uncomment the print statement in the loop above to see how the loss changes over iterations. Try modifying the data and see if the optimisation still works. What happens if we don't run the for loop for 100 iterations? Is there a better loss function (e.g. absolute error)?"
      ]
    },
    {
      "cell_type": "markdown",
      "metadata": {
        "id": "Jyurb02IMuqw"
      },
      "source": [
        "# Word embedding\n",
        "\n",
        "Semantic word embeddings are used for many applications in computational linguistics. The inovation here is not only that semantic relations can be repressented as a vector space, but that these vectors were found using only unlabeled data. No human has sat down and modified any vectors so that they fit our understanddig of the words. Also, it should be noted that a huge drawbacj with the embedding we will be using here is that any word only has one vector (i.e. the word 'interest' in the senses 'interest rate' and 'interest in cooking' are encoded as the same vector).\n",
        "\n",
        "First we need to download a pre-trained model and load it into memory.\n",
        "\n",
        "*Thanks to Michael Guerzhoy in Toronto for sharing the embedding data form their course \"Machine Learning and Data Mining\".*\n",
        "http://www.cs.toronto.edu/~guerzhoy/411/proj3/ "
      ]
    },
    {
      "cell_type": "code",
      "metadata": {
        "id": "-dwN4RCFMuxI",
        "outputId": "19708ea3-4c0f-488b-e39b-1712e1adfc9b",
        "colab": {
          "base_uri": "https://localhost:8080/",
          "height": 255
        }
      },
      "source": [
        "!wget http://www.cs.toronto.edu/~guerzhoy/411/proj3/embeddings.npz\n",
        "!ls -l"
      ],
      "execution_count": null,
      "outputs": [
        {
          "output_type": "stream",
          "text": [
            "--2020-10-21 09:26:32--  http://www.cs.toronto.edu/~guerzhoy/411/proj3/embeddings.npz\n",
            "Resolving www.cs.toronto.edu (www.cs.toronto.edu)... 128.100.3.30\n",
            "Connecting to www.cs.toronto.edu (www.cs.toronto.edu)|128.100.3.30|:80... connected.\n",
            "HTTP request sent, awaiting response... 200 OK\n",
            "Length: 22112846 (21M)\n",
            "Saving to: ‘embeddings.npz’\n",
            "\n",
            "embeddings.npz      100%[===================>]  21.09M  41.2MB/s    in 0.5s    \n",
            "\n",
            "2020-10-21 09:26:33 (41.2 MB/s) - ‘embeddings.npz’ saved [22112846/22112846]\n",
            "\n",
            "total 21600\n",
            "-rw-r--r-- 1 root root 22112846 Mar  9  2017 embeddings.npz\n",
            "drwxr-xr-x 1 root root     4096 Oct 14 16:31 sample_data\n"
          ],
          "name": "stdout"
        }
      ]
    },
    {
      "cell_type": "code",
      "metadata": {
        "id": "ZVg5eE6_eaa3"
      },
      "source": [
        "data = np.load('embeddings.npz', allow_pickle=True)\n",
        "vectors = data[\"emb\"]\n",
        "index2word = {int(index):word for index, word in data[\"word2ind\"].flatten()[0].items()}\n",
        "word2index = {word:index for index, word in index2word.items()}\n",
        "vocabulary = {word for index, word in index2word.items()}\n",
        "\n",
        "assert len(vocabulary) == vectors.shape[0]\n",
        "assert np.all([np.isclose(norm(vectors[i, :]), 1) for i in range(vectors.shape[0])])"
      ],
      "execution_count": null,
      "outputs": []
    },
    {
      "cell_type": "markdown",
      "metadata": {
        "id": "LZBJ18seq5ZM"
      },
      "source": [
        "The embedding vectors are stored in the variable ```vectors```. You can convert from word to vector index and back using the dictionaries ```index2word``` and ```word2index```. Finally, the full vocabuilary can be found in the set ```vocabulary```.\n",
        "\n"
      ]
    },
    {
      "cell_type": "markdown",
      "metadata": {
        "id": "sy5E6S8WrVKE"
      },
      "source": [
        "## Semantic search\n",
        "\n",
        "All the vectors in ```vectors``` have the length 1. That means tht we can find the cosine distance between them simply by using a dot product. To get the dimensions right when doing a matrix multiplication (i.e. a fast way of doing several dot products) the vector for any single word be be transformed as: \n",
        "\n",
        "```\n",
        "v_man = np.vstack(vectors[word2index['man'], :])\n",
        "```\n",
        "\n",
        "\n",
        "\n"
      ]
    },
    {
      "cell_type": "code",
      "metadata": {
        "id": "XJoeBuUkrVR6",
        "outputId": "9cbddf39-abe2-4cda-8d10-6e5cccb58e47",
        "colab": {
          "base_uri": "https://localhost:8080/",
          "height": 34
        }
      },
      "source": [
        "v_man = np.vstack(vectors[word2index['man'], :])\n",
        "v_man.shape"
      ],
      "execution_count": null,
      "outputs": [
        {
          "output_type": "execute_result",
          "data": {
            "text/plain": [
              "(128, 1)"
            ]
          },
          "metadata": {
            "tags": []
          },
          "execution_count": 55
        }
      ]
    },
    {
      "cell_type": "markdown",
      "metadata": {
        "id": "Ve2lQGdCsOa-"
      },
      "source": [
        "This vector $\\bar v_\\text{man}$ can be multiplied by the full matrix with embedding vectors, resuting in a new vector with all the pairwise coside distances between the full vocabulary and our chosen word as:\n",
        "```\n",
        "pairwise_distances = np.matmul(vectors, v_man).ravel()\n",
        "```\n",
        "The ```.ravel()``` at the end ensures that we get a vector out that is 'flattend' and can e run though numpys sorting methods. Running the following will give us a list of indices that are ordered from liwest cosine score to the highest. Which end of the list is the interesting one (think about what happens to $cos(\\theta)$ when $\\theta$ is really small)?\n",
        "```\n",
        "ordered_indices = np.argsort(pairwise_distances)\n",
        "```\n",
        "What are the five closest words to out selected word? Try some other words and/or expan your search to the top 10 (or higher). Are the words semantically similar?\n"
      ]
    },
    {
      "cell_type": "code",
      "metadata": {
        "id": "hajJWb07sE9t",
        "outputId": "f08adc55-5c27-4736-c889-4e44b7f2b7f9",
        "colab": {
          "base_uri": "https://localhost:8080/",
          "height": 102
        }
      },
      "source": [
        "pairwise_distances = np.matmul(vectors, v_man).ravel()\n",
        "assert np.all(np.isfinite(pairwise_distances))\n",
        "ordered_indices = np.argsort(pairwise_distances)\n",
        "\n",
        "for i in ordered_indices[-5:]:\n",
        "  print(index2word[int(i)], pairwise_distances[i])"
      ],
      "execution_count": null,
      "outputs": [
        {
          "output_type": "stream",
          "text": [
            "boy 0.44254684\n",
            "guy 0.4457075\n",
            "journal 0.44858992\n",
            "woman 0.4634432\n",
            "man 0.99999976\n"
          ],
          "name": "stdout"
        }
      ]
    },
    {
      "cell_type": "markdown",
      "metadata": {
        "id": "qzDkC44IfnqI"
      },
      "source": [
        "## Embedding vectors for semantic \"arithmetic\"\n",
        "\n",
        "Apparently the following is possible in this space: $\\bar v_\\text{king} - \\bar v_\\text{man} + \\bar v_\\text{woman} \\approx \\bar v_\\text{queen}$. Try to reproduce this result. It could be done by:\n",
        "\n",
        "* Finding the vectors for 'man', 'king', and 'woman'.\n",
        "* Do the vector addition/subtractions\n",
        "* Normalise the resulting vector (we can call it $\\bar p$)\n",
        "* Search for the closest vectors to $\\bar p$ in the full set of vectors\n",
        "* Decode the indices to words and see if 'queen' is in the top 100\n",
        "\n",
        "I (the intructor) have not tried this myself. I'm looking forward to see if this works with the given embedding."
      ]
    },
    {
      "cell_type": "code",
      "metadata": {
        "id": "eWp6S0jWfnvw",
        "outputId": "b85499f1-b7db-4172-db85-e19c8fe3c6c2",
        "colab": {
          "base_uri": "https://localhost:8080/",
          "height": 867
        }
      },
      "source": [
        "assert 'man' in vocabulary\n",
        "assert 'woman' in vocabulary\n",
        "assert 'king' in vocabulary\n",
        "assert 'queen' in vocabulary\n",
        "\n",
        "v = vectors[word2index['paris'], :]\n",
        "# v = vectors[word2index['king'], :] - vectors[word2index['man'], :] + vectors[word2index['woman'], :]\n",
        "# v = v / norm(v)\n",
        "v = np.vstack(v)\n",
        "\n",
        "pairwise_distances = np.matmul(vectors, v).ravel()\n",
        "assert np.all(np.isfinite(pairwise_distances))\n",
        "ordered_indices = np.argsort(pairwise_distances)\n",
        "\n",
        "for i in ordered_indices[-50:]:\n",
        "  print(index2word[int(i)], pairwise_distances[i])"
      ],
      "execution_count": null,
      "outputs": [
        {
          "output_type": "stream",
          "text": [
            "flabbergastingly 0.39805967\n",
            "fests 0.39821255\n",
            "confined 0.3986593\n",
            "lucrative 0.39866957\n",
            "cristoffer 0.39883238\n",
            "apparently 0.39894396\n",
            "blackmore 0.40068734\n",
            "itself 0.40190357\n",
            "jibe 0.4022178\n",
            "admired 0.4023301\n",
            "reminder 0.40240854\n",
            "kenneth 0.40242934\n",
            "individuality 0.40243214\n",
            "ahem 0.40307656\n",
            "labours 0.40351626\n",
            "pie 0.40529686\n",
            "chattering 0.40599126\n",
            "cheerleaders 0.40622252\n",
            "mac 0.40703207\n",
            "ropes 0.4077654\n",
            "replete 0.40790117\n",
            "jackson 0.40799397\n",
            "reservation 0.41061088\n",
            "division 0.4106317\n",
            "sunset 0.41125938\n",
            "housewarming 0.41149\n",
            "fi 0.4121854\n",
            "cued 0.4123111\n",
            "television 0.41374648\n",
            "powders 0.41394937\n",
            "superceded 0.41493076\n",
            "faulted 0.41548282\n",
            "jeunet 0.41795766\n",
            "chew 0.41804567\n",
            "chemicals 0.42001876\n",
            "ginger 0.42067605\n",
            "memento 0.422221\n",
            "roots 0.4239317\n",
            "cheer 0.42480415\n",
            "treat 0.4250774\n",
            "prakazrel 0.4257301\n",
            "estimate 0.4295282\n",
            "spits 0.4299159\n",
            "sunglasses 0.43515766\n",
            "ineptitude 0.43802944\n",
            "schwartznager 0.43831483\n",
            "doorway 0.4400884\n",
            "sizemore 0.45066613\n",
            "suspiria 0.46274775\n",
            "paris 1.0000001\n"
          ],
          "name": "stdout"
        }
      ]
    }
  ]
}