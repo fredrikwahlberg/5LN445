{
 "cells": [
  {
   "cell_type": "markdown",
   "metadata": {},
   "source": [
    "# Predicate logic\n",
    "Here follows some examples of truth tables generated with python. First, for clarity, only two arguments/predicates are used."
   ]
  },
  {
   "cell_type": "code",
   "execution_count": 1,
   "metadata": {
    "collapsed": true
   },
   "outputs": [],
   "source": [
    "def print_truth_table(f):\n",
    "    \"\"\"Print the truth table for function f\"\"\"\n",
    "    # Prints the docstring from the given function\n",
    "    print(\"A\\t| B\\t| %s\" % f.__doc__)\n",
    "    # Truth table values implemented as nested for loops\n",
    "    for A in [True, False]: \n",
    "        for B in [True, False]:\n",
    "            print(\"%r\\t| %r\\t| %r\" % (A, B, f(A, B)))"
   ]
  },
  {
   "cell_type": "code",
   "execution_count": 2,
   "metadata": {},
   "outputs": [
    {
     "name": "stdout",
     "output_type": "stream",
     "text": [
      "A\t| B\t| A and B\n",
      "True\t| True\t| True\n",
      "True\t| False\t| False\n",
      "False\t| True\t| False\n",
      "False\t| False\t| False\n"
     ]
    }
   ],
   "source": [
    "def f(A, B):\n",
    "    \"\"\"A and B\"\"\"\n",
    "    return A and B\n",
    "\n",
    "print_truth_table(f)"
   ]
  },
  {
   "cell_type": "code",
   "execution_count": 3,
   "metadata": {},
   "outputs": [
    {
     "name": "stdout",
     "output_type": "stream",
     "text": [
      "A\t| B\t| A and not B\n",
      "True\t| True\t| False\n",
      "True\t| False\t| True\n",
      "False\t| True\t| False\n",
      "False\t| False\t| False\n"
     ]
    }
   ],
   "source": [
    "def g(A, B):\n",
    "    \"\"\"A and not B\"\"\"\n",
    "    return A and not B\n",
    "\n",
    "print_truth_table(g)"
   ]
  },
  {
   "cell_type": "code",
   "execution_count": 4,
   "metadata": {},
   "outputs": [
    {
     "name": "stdout",
     "output_type": "stream",
     "text": [
      "A\t| B\t| not (A and not B)\n",
      "True\t| True\t| True\n",
      "True\t| False\t| False\n",
      "False\t| True\t| True\n",
      "False\t| False\t| True\n"
     ]
    }
   ],
   "source": [
    "def h(A, B):\n",
    "    \"\"\"not (A and not B)\"\"\"\n",
    "    return not (A and not B)\n",
    "\n",
    "print_truth_table(h)"
   ]
  },
  {
   "cell_type": "code",
   "execution_count": 5,
   "metadata": {},
   "outputs": [
    {
     "name": "stdout",
     "output_type": "stream",
     "text": [
      "A\t| B\t| g() or h()\n",
      "True\t| True\t| True\n",
      "True\t| False\t| True\n",
      "False\t| True\t| True\n",
      "False\t| False\t| True\n"
     ]
    }
   ],
   "source": [
    "def i(A, B):\n",
    "    \"\"\"g() or h()\"\"\"\n",
    "    return g(A, B) or h(A, B)\n",
    "\n",
    "print_truth_table(i)"
   ]
  },
  {
   "cell_type": "markdown",
   "metadata": {},
   "source": [
    "## More arguments than two\n",
    "\n",
    "More flexible code (but also harder to follow) for the same thing as above. However, now we can have more than two predicates. The function print_better_truth_table \"detects\" the number of inputs of a given logic function."
   ]
  },
  {
   "cell_type": "code",
   "execution_count": 10,
   "metadata": {
    "collapsed": true
   },
   "outputs": [],
   "source": [
    "def print_better_truth_table(logic_func):\n",
    "    # Create a dictionary with all configurations of truth values\n",
    "    predicate_names = list(logic_func.__code__.co_varnames)\n",
    "    param_grid = dict()\n",
    "    for name in predicate_names:\n",
    "        param_grid[name] = [True, False]\n",
    "    from sklearn.model_selection import ParameterGrid\n",
    "    predicates = list(ParameterGrid(param_grid))\n",
    "    # Print title row\n",
    "    for name in predicate_names:\n",
    "        print(\"%s\\t| \" % name, end=\"\")\n",
    "    print(\"%s\" % logic_func.__doc__)\n",
    "    # Evaluate each truth value configuration\n",
    "    for predicate in predicates:\n",
    "        for name in predicate_names:\n",
    "            print(\"%r\\t| \" % predicate[name], end=\"\")\n",
    "        print(\"%r\" % logic_func(**predicate))\n",
    "\n",
    "def IMPL(A, B):\n",
    "    \"\"\"Function for implication\"\"\"\n",
    "    return (not A) or B"
   ]
  },
  {
   "cell_type": "code",
   "execution_count": 11,
   "metadata": {},
   "outputs": [
    {
     "name": "stdout",
     "output_type": "stream",
     "text": [
      "A\t| B\t| A => B\n",
      "True\t| True\t| True\n",
      "True\t| False\t| False\n",
      "False\t| True\t| True\n",
      "False\t| False\t| True\n",
      "---\n",
      "A\t| B\t| not (A and not B)\n",
      "True\t| True\t| True\n",
      "True\t| False\t| False\n",
      "False\t| True\t| True\n",
      "False\t| False\t| True\n"
     ]
    }
   ],
   "source": [
    "def f(A, B):\n",
    "    \"\"\"A => B\"\"\"\n",
    "    return IMPL(A, B)\n",
    "\n",
    "def g(A, B):\n",
    "    \"\"\"not (A and not B)\"\"\"\n",
    "    return not (A and not B)\n",
    "\n",
    "print_better_truth_table(f)\n",
    "print(\"---\")\n",
    "print_better_truth_table(g)"
   ]
  },
  {
   "cell_type": "code",
   "execution_count": 8,
   "metadata": {},
   "outputs": [
    {
     "name": "stdout",
     "output_type": "stream",
     "text": [
      "A\t| B\t| C\t| A or (B or C)\n",
      "True\t| True\t| True\t| True\n",
      "True\t| True\t| False\t| True\n",
      "True\t| False\t| True\t| True\n",
      "True\t| False\t| False\t| True\n",
      "False\t| True\t| True\t| True\n",
      "False\t| True\t| False\t| True\n",
      "False\t| False\t| True\t| True\n",
      "False\t| False\t| False\t| False\n",
      "---\n",
      "A\t| B\t| C\t| (A or B) and (A or C)\n",
      "True\t| True\t| True\t| True\n",
      "True\t| True\t| False\t| True\n",
      "True\t| False\t| True\t| True\n",
      "True\t| False\t| False\t| True\n",
      "False\t| True\t| True\t| True\n",
      "False\t| True\t| False\t| False\n",
      "False\t| False\t| True\t| False\n",
      "False\t| False\t| False\t| False\n"
     ]
    }
   ],
   "source": [
    "def f(A, B, C):\n",
    "    \"\"\"A or (B or C)\"\"\"\n",
    "    return A or (B or C)\n",
    "\n",
    "def g(A, B, C):\n",
    "    \"\"\"(A or B) and (A or C)\"\"\"\n",
    "    return (A or B) and (A or C)\n",
    "\n",
    "print_better_truth_table(f)\n",
    "print(\"---\")\n",
    "print_better_truth_table(g)"
   ]
  },
  {
   "cell_type": "code",
   "execution_count": 12,
   "metadata": {},
   "outputs": [
    {
     "name": "stdout",
     "output_type": "stream",
     "text": [
      "A\t| B\t| C\t| A xor (B xor C)\n",
      "True\t| True\t| True\t| True\n",
      "True\t| True\t| False\t| False\n",
      "True\t| False\t| True\t| False\n",
      "True\t| False\t| False\t| True\n",
      "False\t| True\t| True\t| False\n",
      "False\t| True\t| False\t| True\n",
      "False\t| False\t| True\t| True\n",
      "False\t| False\t| False\t| False\n",
      "---\n",
      "A\t| B\t| C\t| (A xor B) xor C\n",
      "True\t| True\t| True\t| True\n",
      "True\t| True\t| False\t| False\n",
      "True\t| False\t| True\t| False\n",
      "True\t| False\t| False\t| True\n",
      "False\t| True\t| True\t| False\n",
      "False\t| True\t| False\t| True\n",
      "False\t| False\t| True\t| True\n",
      "False\t| False\t| False\t| False\n"
     ]
    }
   ],
   "source": [
    "def xor(A, B):\n",
    "    return (A or B) and not (A and B)\n",
    "\n",
    "def f(A, B, C):\n",
    "    \"\"\"A xor (B xor C)\"\"\"\n",
    "    return xor(A, xor(B, C))\n",
    "\n",
    "def g(A, B, C):\n",
    "    \"\"\"(A xor B) xor C\"\"\"\n",
    "    return xor(xor(A, B), C)\n",
    "\n",
    "print_better_truth_table(f)\n",
    "print(\"---\")\n",
    "print_better_truth_table(g)"
   ]
  }
 ],
 "metadata": {
  "kernelspec": {
   "display_name": "Python 3",
   "language": "python",
   "name": "python3"
  },
  "language_info": {
   "codemirror_mode": {
    "name": "ipython",
    "version": 3
   },
   "file_extension": ".py",
   "mimetype": "text/x-python",
   "name": "python",
   "nbconvert_exporter": "python",
   "pygments_lexer": "ipython3",
   "version": "3.6.6"
  }
 },
 "nbformat": 4,
 "nbformat_minor": 2
}
