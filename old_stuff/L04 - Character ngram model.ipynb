{
 "cells": [
  {
   "cell_type": "markdown",
   "metadata": {},
   "source": [
    "# Character n-gram models\n",
    "\n",
    "First, we need some training data."
   ]
  },
  {
   "cell_type": "code",
   "execution_count": 1,
   "metadata": {},
   "outputs": [],
   "source": [
    "import numpy as np\n",
    "import matplotlib.pyplot as plt\n",
    "\n",
    "from ngram import NGramModel"
   ]
  },
  {
   "cell_type": "code",
   "execution_count": 2,
   "metadata": {},
   "outputs": [
    {
     "name": "stdout",
     "output_type": "stream",
     "text": [
      "Available books: ['austen-emma.txt', 'austen-persuasion.txt', 'austen-sense.txt', 'bible-kjv.txt', 'blake-poems.txt', 'bryant-stories.txt', 'burgess-busterbrown.txt', 'carroll-alice.txt', 'chesterton-ball.txt', 'chesterton-brown.txt', 'chesterton-thursday.txt', 'edgeworth-parents.txt', 'melville-moby_dick.txt', 'milton-paradise.txt', 'shakespeare-caesar.txt', 'shakespeare-hamlet.txt', 'shakespeare-macbeth.txt', 'whitman-leaves.txt']\n"
     ]
    },
    {
     "name": "stderr",
     "output_type": "stream",
     "text": [
      "[nltk_data] Downloading package gutenberg to\n",
      "[nltk_data]     /home/fredrik/nltk_data...\n",
      "[nltk_data]   Package gutenberg is already up-to-date!\n"
     ]
    }
   ],
   "source": [
    "import nltk\n",
    "nltk.download('gutenberg')\n",
    "\n",
    "from nltk.corpus import gutenberg\n",
    "print(\"Available books:\", gutenberg.fileids())"
   ]
  },
  {
   "cell_type": "code",
   "execution_count": 3,
   "metadata": {},
   "outputs": [],
   "source": [
    "fileids = gutenberg.fileids()[:3]\n",
    "raw_text = gutenberg.raw(fileids)\n",
    "raw_text = raw_text.replace('\\n', ' ')\n",
    "data = list(raw_text)"
   ]
  },
  {
   "cell_type": "code",
   "execution_count": 4,
   "metadata": {},
   "outputs": [
    {
     "name": "stdout",
     "output_type": "stream",
     "text": [
      "1-gram model with 81 unique keys\n",
      "2-gram model with 1542 unique keys\n",
      "3-gram model with 10212 unique keys\n",
      "4-gram model with 40030 unique keys\n"
     ]
    }
   ],
   "source": [
    "model1 = NGramModel(data, 1)\n",
    "print(model1)\n",
    "\n",
    "model2 = NGramModel(data, 2)\n",
    "print(model2)\n",
    "\n",
    "model3 = NGramModel(data, 3)\n",
    "print(model3)\n",
    "\n",
    "model4 = NGramModel(data, 4)\n",
    "print(model4)"
   ]
  },
  {
   "cell_type": "code",
   "execution_count": 5,
   "metadata": {},
   "outputs": [
    {
     "name": "stdout",
     "output_type": "stream",
     "text": [
      "unigram: wh s edsrn l nnvt  penoMnmatw  t u t,tamiyhrnhC nrae\"i horad u osiA   ar ne  vli  oTa hyereh-ebied ,rihhe\"tan oeaohE ntnbnthhYawpgpi  nnadyeaobCottfo  seowlunt ed   asida fonoenf,b ch ,ged t:srp  tc?h\n",
      "\n",
      "bigram: te f thedine fficeshaverr to  t puterg d n g Thext, burs ss mavass dreacoyotef t. Lantthiserois qutol aore sprre: teleakinathe g haris, I ange june cotedaghtwarougo ald \"YOf alsothwicored nlduryoritto\n",
      "\n",
      "trigram: tmakend in yould hime Cole withe hery saing they shany ines onst pe justo behaver put twoulatemenduchad? THIS [At explacce, in hery,\" shwom ther, the ried trat dis tiones soor the Lyme me?\" cougher Mi\n",
      "\n",
      "quadgram: ithose their own to leisunk his could effered fore few on me, as you, I thersebacket--I with Eling to eve, thin Westicularge of but sadly pose be eld his most Jane robably conven the every can and on \n"
     ]
    }
   ],
   "source": [
    "print(\"unigram:\", \"\".join(model1.predict_sequence(200)))\n",
    "print()\n",
    "print(\"bigram:\", \"\".join(model2.predict_sequence(200)))\n",
    "print()\n",
    "print(\"trigram:\", \"\".join(model3.predict_sequence(200)))\n",
    "print()\n",
    "print(\"quadgram:\", \"\".join(model4.predict_sequence(200)))"
   ]
  }
 ],
 "metadata": {
  "kernelspec": {
   "display_name": "Python 3",
   "language": "python",
   "name": "python3"
  },
  "language_info": {
   "codemirror_mode": {
    "name": "ipython",
    "version": 3
   },
   "file_extension": ".py",
   "mimetype": "text/x-python",
   "name": "python",
   "nbconvert_exporter": "python",
   "pygments_lexer": "ipython3",
   "version": "3.7.4"
  }
 },
 "nbformat": 4,
 "nbformat_minor": 4
}
