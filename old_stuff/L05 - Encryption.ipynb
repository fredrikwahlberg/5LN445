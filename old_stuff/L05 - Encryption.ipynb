{
 "cells": [
  {
   "cell_type": "markdown",
   "metadata": {
    "colab_type": "text",
    "id": "9DdBseIoEnvg"
   },
   "source": [
    "# Encryption\n",
    " \n",
    "We can use ngram models for solving (simple) substitution encryption. A substitution crypto is an encrypted message where each symbol (in this case characters) has been substituted with some other symbol. This follows from our ability to evaluate the probability of a character sequence. By training a character ngram model on (in this case) english text, we can guess an encryption key, decrypt a message, and then evaluate a probability. By changing the key slightly, we can evaluate if the probability of our result is english has increased. By this method we will slowly work our way toward a solution. This is a slow process and not very well suited for human labour. The problem formulation is, however, very well suited for a computer.\n",
    "\n",
    "We'll start by downloading some reference text to use for training the model."
   ]
  },
  {
   "cell_type": "code",
   "execution_count": 1,
   "metadata": {
    "colab": {
     "base_uri": "https://localhost:8080/",
     "height": 51
    },
    "colab_type": "code",
    "id": "IwP2GCvH2t98",
    "outputId": "db7059b6-46ef-43a6-f0a8-0240d5bf8c7d"
   },
   "outputs": [
    {
     "name": "stderr",
     "output_type": "stream",
     "text": [
      "[nltk_data] Downloading package gutenberg to\n",
      "[nltk_data]     /home/fredrik/nltk_data...\n",
      "[nltk_data]   Package gutenberg is already up-to-date!\n"
     ]
    }
   ],
   "source": [
    "# Download reference text\n",
    "import nltk\n",
    "nltk.download('gutenberg')\n",
    "\n",
    "# These are some books in the collection of the gutenberg project\n",
    "books = ['carroll-alice.txt', 'melville-moby_dick.txt', 'milton-paradise.txt',  \n",
    "         'austen-emma.txt', 'austen-persuasion.txt', 'austen-sense.txt']\n",
    "#books = ['carroll-alice.txt']\n",
    "# books = ['austen-emma.txt']\n",
    "raw_text = nltk.corpus.gutenberg.raw(books)"
   ]
  },
  {
   "cell_type": "markdown",
   "metadata": {
    "colab_type": "text",
    "id": "G8nxvtYF0Mhp"
   },
   "source": [
    "This is what the raw text looks like."
   ]
  },
  {
   "cell_type": "code",
   "execution_count": 2,
   "metadata": {
    "colab": {
     "base_uri": "https://localhost:8080/",
     "height": 221
    },
    "colab_type": "code",
    "id": "1WzdP3JFOThi",
    "outputId": "96c3a2d8-a2a1-4473-a01c-bcfbc498d527"
   },
   "outputs": [
    {
     "name": "stdout",
     "output_type": "stream",
     "text": [
      "[Alice's Adventures in Wonderland by Lewis Carroll 1865]\n",
      "\n",
      "CHAPTER I. Down the Rabbit-Hole\n",
      "\n",
      "Alice was beginning to get very tired of sitting by her sister on the\n",
      "bank, and of having nothing to do: once or twice she had peeped into the\n",
      "book her sister was reading, but it had no pictures or conversations in\n",
      "it, 'and what is the use of a book,' thought Alice 'without pictures or\n",
      "conversation?'\n",
      "\n",
      "So she was considering in her own mind (as well as she could, for the\n",
      "hot day made her feel very sleepy an\n"
     ]
    }
   ],
   "source": [
    "print(raw_text[:500])"
   ]
  },
  {
   "cell_type": "markdown",
   "metadata": {
    "colab_type": "text",
    "id": "5iXaWmSk0mUw"
   },
   "source": [
    "To make our likes easier, we define an allowed character (i.e. a constrained character set). This is so we don't have to care about special characters in this example."
   ]
  },
  {
   "cell_type": "code",
   "execution_count": 3,
   "metadata": {
    "colab": {},
    "colab_type": "code",
    "id": "LYQ2utoI0mby"
   },
   "outputs": [],
   "source": [
    "# Define an allowed character set for the pre-processing\n",
    "character_set = set('abcdefghijklmnopqrstuvwxyz -.,:')"
   ]
  },
  {
   "cell_type": "markdown",
   "metadata": {
    "colab_type": "text",
    "id": "LJG8dNGg0YBp"
   },
   "source": [
    "Pre-processing of the training data to make printouts in this notebook a bit more clear and to reduce code complexity slightly."
   ]
  },
  {
   "cell_type": "code",
   "execution_count": 4,
   "metadata": {
    "colab": {},
    "colab_type": "code",
    "id": "S0QhvCHU0SD4"
   },
   "outputs": [],
   "source": [
    "# I will pre-process the text for simplicity\n",
    "def pre_process(unprocessed_text):\n",
    "  # Force lower case\n",
    "  unprocessed_text = unprocessed_text.lower()\n",
    "  # Restrict character set\n",
    "  old_character_set = \"\".join(set(list(unprocessed_text)))\n",
    "  new_character_set = \"\".join([c if c in character_set else \" \" for c in old_character_set])\n",
    "  text = unprocessed_text.translate(str.maketrans(old_character_set, new_character_set))\n",
    "  # Remove multiple spaces and return\n",
    "  import re\n",
    "  return re.sub(\"\\s\\s+\" , \" \", text.strip())\n",
    "\n",
    "# Call the pre-processing for the \n",
    "training_data = pre_process(raw_text)"
   ]
  },
  {
   "cell_type": "markdown",
   "metadata": {
    "colab_type": "text",
    "id": "o34iBF9w0alj"
   },
   "source": [
    "This is what the pre-processed text looks like"
   ]
  },
  {
   "cell_type": "code",
   "execution_count": 5,
   "metadata": {
    "colab": {
     "base_uri": "https://localhost:8080/",
     "height": 54
    },
    "colab_type": "code",
    "id": "kCgWIEsq0YYx",
    "outputId": "446c83b7-758d-4e0f-ec26-9bdf7f7b2ed7"
   },
   "outputs": [
    {
     "name": "stdout",
     "output_type": "stream",
     "text": [
      "alice s adventures in wonderland by lewis carroll chapter i. down the rabbit-hole alice was beginning to get very tired of sitting by her sister on the bank, and of having nothing to do: once or twice she had peeped into the book her sister was reading, but it had no pictures or conversations in it,\n"
     ]
    }
   ],
   "source": [
    "print(training_data[:300])"
   ]
  },
  {
   "cell_type": "markdown",
   "metadata": {
    "colab_type": "text",
    "id": "nA0iQQCq0S3w"
   },
   "source": [
    "This is a naive character ngram model. Most of the time one should use a more tested class from som NLP library. However, the code here is included to show you how short the code can be."
   ]
  },
  {
   "cell_type": "code",
   "execution_count": 6,
   "metadata": {
    "colab": {
     "base_uri": "https://localhost:8080/",
     "height": 34
    },
    "colab_type": "code",
    "id": "ytX_XXOePJhr",
    "outputId": "193d399f-e6cd-483e-87ac-c1f86398b58a"
   },
   "outputs": [
    {
     "data": {
      "text/plain": [
       "-14.017937498823205"
      ]
     },
     "execution_count": 6,
     "metadata": {},
     "output_type": "execute_result"
    }
   ],
   "source": [
    "import numpy as np # Math library\n",
    "\n",
    "class NaiveCharacterNGram(object):\n",
    "  def __init__(self, order=1):\n",
    "    \"\"\"\n",
    "    Naive NGram counter\n",
    "\n",
    "    Assumes that all characters can be found in the training set.\n",
    "    \"\"\"\n",
    "    assert order >= 1\n",
    "    self.order_ = order\n",
    "    self.counts_ = dict()\n",
    "\n",
    "  def _tokeniser(self, X, order, limit=-1):\n",
    "    \"\"\"\n",
    "    Internal tokeniser\n",
    "\n",
    "    X: text data\n",
    "    order: order if the character tokens\n",
    "    limit: max number of tokens to output (unlimited if <1)\n",
    "    \"\"\"\n",
    "    if limit < 1:\n",
    "      limit = len(X)-order+1\n",
    "    for i in range(limit):\n",
    "      yield X[i:i+order]\n",
    "\n",
    "  def fit(self, X):\n",
    "    \"\"\"\n",
    "    Train the model\n",
    "\n",
    "    X: text data\n",
    "    \"\"\"\n",
    "    assert type(X) == str\n",
    "    self._probability_lut = dict()\n",
    "    for order in range(1, self.order_+1):\n",
    "      for ngram in self._tokeniser(X, order):\n",
    "        if ngram not in self.counts_.keys():\n",
    "          self.counts_[ngram] = 1\n",
    "        else:\n",
    "          self.counts_[ngram] += 1\n",
    "    self.unigram_total_ = np.sum([self.counts_[ngram] for ngram in self.counts_.keys() if len(ngram) == 1])\n",
    "    return self\n",
    "\n",
    "  def _P(self, ngram):\n",
    "    \"\"\"\n",
    "    Internal method for getting the probability of a single ngram\n",
    "    \"\"\"\n",
    "    # Check if the ngram is in the internal look up table (LUT)\n",
    "    if ngram in self._probability_lut.keys():\n",
    "      return self._probability_lut[ngram]\n",
    "    else:\n",
    "      # Calculate the probability\n",
    "      assert 0 < len(ngram) <= self.order_, \"The model only supports ngram with length 0 < len <= %i\" % self.order_\n",
    "      # Check if this ngram was present in the training data\n",
    "      if ngram in self.counts_.keys():\n",
    "        if len(ngram) == 1:\n",
    "          p = np.log(self.counts_[ngram] / self.unigram_total_)\n",
    "        else:\n",
    "          contitional_ngram = ngram[1:]\n",
    "          p = np.log(self.counts_[ngram] / self.counts_[contitional_ngram])\n",
    "      else:\n",
    "        # Fallback is the model had not seen this ngram before\n",
    "        p = np.min([model._P(k) for k in model.counts_.keys() if len(k) == len(ngram)]) - np.log(2)\n",
    "      self._probability_lut[ngram] = p # Store the calculations for the future\n",
    "      return p\n",
    "\n",
    "  def predict_proba(self, X):\n",
    "    \"\"\"\n",
    "    Predicts the probability of a text string under the model.\n",
    "\n",
    "    X: text data\n",
    "    Returns log probability\n",
    "    \"\"\"\n",
    "    ngrams = list(self._tokeniser(X, self.order_))\n",
    "    if self.order_ > 1:\n",
    "      for order in range(1, self.order_+1):\n",
    "        ngrams.extend(self._tokeniser(X, order, limit=1))\n",
    "    p = 0\n",
    "    for ngram in ngrams:\n",
    "      p += model._P(ngram)\n",
    "    return p\n",
    "\n",
    "# Make a model and test it\n",
    "model = NaiveCharacterNGram(order=1).fit(training_data)\n",
    "assert np.isclose(model.predict_proba('acb'), model.predict_proba('abc'))\n",
    "\n",
    "# A higher order model\n",
    "model = NaiveCharacterNGram(order=3).fit(training_data)\n",
    "model.predict_proba('alice')"
   ]
  },
  {
   "cell_type": "markdown",
   "metadata": {
    "colab_type": "text",
    "id": "IM-DaMUm3g_P"
   },
   "source": [
    "We can now evaluate sentences under the trained model.\n",
    "\n",
    "$P(\\text{\"I am not good at spelling\"} | model)$"
   ]
  },
  {
   "cell_type": "code",
   "execution_count": 7,
   "metadata": {
    "colab": {
     "base_uri": "https://localhost:8080/",
     "height": 34
    },
    "colab_type": "code",
    "id": "3bXCx80x3gyJ",
    "outputId": "b6967e47-fdfa-435f-8e2f-7ab2d4de1af9"
   },
   "outputs": [
    {
     "data": {
      "text/plain": [
       "-87.4429702131386"
      ]
     },
     "execution_count": 7,
     "metadata": {},
     "output_type": "execute_result"
    }
   ],
   "source": [
    "model.predict_proba(\"I am not good at spelling\")"
   ]
  },
  {
   "cell_type": "code",
   "execution_count": 8,
   "metadata": {},
   "outputs": [
    {
     "data": {
      "text/plain": [
       "-26.005396467210918"
      ]
     },
     "execution_count": 8,
     "metadata": {},
     "output_type": "execute_result"
    }
   ],
   "source": [
    "model.predict_proba(\"spleling\")"
   ]
  },
  {
   "cell_type": "code",
   "execution_count": 9,
   "metadata": {},
   "outputs": [
    {
     "data": {
      "text/plain": [
       "-20.014447326269273"
      ]
     },
     "execution_count": 9,
     "metadata": {},
     "output_type": "execute_result"
    }
   ],
   "source": [
    "model.predict_proba(\"spelling\")"
   ]
  },
  {
   "cell_type": "code",
   "execution_count": 10,
   "metadata": {
    "colab": {},
    "colab_type": "code",
    "id": "-VSsJszA7AI0"
   },
   "outputs": [],
   "source": [
    "unigram_model = NaiveCharacterNGram(order=1).fit(training_data)\n",
    "bigram_model = NaiveCharacterNGram(order=2).fit(training_data)\n",
    "trigram_model = NaiveCharacterNGram(order=3).fit(training_data)\n",
    "#quadgram_model = NaiveCharacterNGram(order=4).fit(training_data)"
   ]
  },
  {
   "cell_type": "code",
   "execution_count": 11,
   "metadata": {},
   "outputs": [
    {
     "name": "stdout",
     "output_type": "stream",
     "text": [
      "Unigram -77.14799973232988\n",
      "Bigram -89.43303052287294\n",
      "Trigram -87.4429702131386\n"
     ]
    }
   ],
   "source": [
    "print(\"Unigram\", unigram_model.predict_proba(\"I am not good at spelling\"))\n",
    "print(\"Bigram\", bigram_model.predict_proba(\"I am not good at spelling\"))\n",
    "print(\"Trigram\", trigram_model.predict_proba(\"I am not good at spelling\"))\n",
    "#print(\"Quadgram\", quadgram_model.predict_proba(\"I am not good at spelling\"))"
   ]
  },
  {
   "cell_type": "code",
   "execution_count": 12,
   "metadata": {
    "colab": {
     "base_uri": "https://localhost:8080/",
     "height": 257
    },
    "colab_type": "code",
    "id": "ope6RIb-XRBZ",
    "outputId": "25d087c1-e806-4903-da2c-d5ac84d72298"
   },
   "outputs": [
    {
     "name": "stderr",
     "output_type": "stream",
     "text": [
      "/home/fredrik/anaconda3/lib/python3.7/site-packages/ipykernel_launcher.py:19: UserWarning: Matplotlib is currently using module://ipykernel.pylab.backend_inline, which is a non-GUI backend, so cannot show the figure.\n"
     ]
    },
    {
     "data": {
      "image/png": "[encoded data removed]",
      "text/plain": [
       "<Figure size 600x250 with 2 Axes>"
      ]
     },
     "metadata": {
      "needs_background": "light"
     },
     "output_type": "display_data"
    }
   ],
   "source": [
    "import matplotlib.pyplot as plt\n",
    "\n",
    "fig = plt.figure(figsize=(6, 2.5), dpi=100)\n",
    "ax = fig.subplots(2, 1)\n",
    "\n",
    "symbols = list(set([k for k in model.counts_.keys() if len(k)==1]))\n",
    "symbols.sort()\n",
    "prob = np.exp([model._P(s) for s in symbols])\n",
    "ax[0].bar(symbols, prob)\n",
    "ax[0].set_ylabel(\"Probability\")\n",
    "\n",
    "symbols = list(set([k for k in model.counts_.keys() if len(k)==2]))\n",
    "symbols.sort()\n",
    "prob = np.exp([model._P(s) for s in symbols])\n",
    "ax[1].bar(symbols, prob)\n",
    "ax[1].set_ylabel(\"Probability\")\n",
    "\n",
    "fig.tight_layout()\n",
    "fig.show()"
   ]
  },
  {
   "cell_type": "markdown",
   "metadata": {},
   "source": [
    "## Load poem\n",
    "\n",
    "### Poem 1"
   ]
  },
  {
   "cell_type": "code",
   "execution_count": 13,
   "metadata": {},
   "outputs": [
    {
     "name": "stdout",
     "output_type": "stream",
     "text": [
      "Encrypted text: HG4EWD4BWAI4WAC4BWAI4W4IZWU4WVKM4HA4W4SHAVCKB4PI4GQZ4DZWM4GQWG4W4BWHCZA4GQZUZ42HRZC4EQKB4IKY4BWI4SAK ...\n"
     ]
    }
   ],
   "source": [
    "with open('poem1.txt', 'r') as f:\n",
    "  encrypted_text = f.read()\n",
    "\n",
    "print(\"Encrypted text:\", encrypted_text[:100], \"...\")"
   ]
  },
  {
   "cell_type": "markdown",
   "metadata": {},
   "source": [
    "### Poem 2"
   ]
  },
  {
   "cell_type": "code",
   "execution_count": 14,
   "metadata": {},
   "outputs": [
    {
     "name": "stdout",
     "output_type": "stream",
     "text": [
      "Encrypted text: O2STVRDVZDPWFVUQG2WOFVO2STVRDVZDPWNVZWRVJWPWVGWEW20WPOVW0WPFVDRWV4DD3V2RVOWQFVQRGVDRWVDRVOTDPWFV3DVD ...\n"
     ]
    }
   ],
   "source": [
    "with open('poem2.txt', 'r') as f:\n",
    "  encrypted_text = f.read()\n",
    "\n",
    "print(\"Encrypted text:\", encrypted_text[:100], \"...\")"
   ]
  },
  {
   "cell_type": "markdown",
   "metadata": {},
   "source": [
    "### Poem 3"
   ]
  },
  {
   "cell_type": "code",
   "execution_count": 15,
   "metadata": {},
   "outputs": [
    {
     "name": "stdout",
     "output_type": "stream",
     "text": [
      "Encrypted text: C3Z0QZAVE0VJTXQHXV0J20A0LX44Z303ZZVP0A2V0EZQQL0J0BZO4V02ZC0CQATX40FZCK0A2V0FX0Z2X0CQATX4XQP04Z2H0J0E ...\n"
     ]
    }
   ],
   "source": [
    "with open('poem3.txt', 'r') as f:\n",
    "  encrypted_text = f.read()\n",
    "\n",
    "print(\"Encrypted text:\", encrypted_text[:100], \"...\")"
   ]
  },
  {
   "cell_type": "markdown",
   "metadata": {},
   "source": [
    "### Poem 4"
   ]
  },
  {
   "cell_type": "code",
   "execution_count": 16,
   "metadata": {},
   "outputs": [
    {
     "name": "stdout",
     "output_type": "stream",
     "text": [
      "Encrypted text: M4AZ24ZCZW4H3ZKM33ZW3KZB3ZL4ETKZKM3ZA1XQVZCZW4H3ZKM33ZK4ZKM3Z23SKMZ1T2ZYD312KMZ1T2ZM3CGMKZBXZQ4EWZL1 ...\n"
     ]
    }
   ],
   "source": [
    "with open('poem4.txt', 'r') as f:\n",
    "  encrypted_text = f.read()\n",
    "\n",
    "print(\"Encrypted text:\", encrypted_text[:100], \"...\")"
   ]
  },
  {
   "cell_type": "markdown",
   "metadata": {
    "colab_type": "text",
    "id": "4A0-WGPg7CCS"
   },
   "source": [
    "Train models to use for evaluating a key\n"
   ]
  },
  {
   "cell_type": "markdown",
   "metadata": {
    "colab_type": "text",
    "id": "2NN55Rlk7FAF"
   },
   "source": [
    "Define the probability meassure using the models. *Note that you can run this cell and redefine P and still go back to a \"running\" decryption.*\n"
   ]
  },
  {
   "cell_type": "code",
   "execution_count": 17,
   "metadata": {
    "colab": {},
    "colab_type": "code",
    "id": "13oGhI4g-zFw"
   },
   "outputs": [],
   "source": [
    "def P(decrypted_text):\n",
    "  ret = unigram_model.predict_proba(decrypted_text)\n",
    "  ret += bigram_model.predict_proba(decrypted_text)\n",
    "  #ret += trigram_model.predict_proba(decrypted_text)\n",
    "  #ret += quadgram_model.predict_proba(decrypted_text)\n",
    "  return ret"
   ]
  },
  {
   "cell_type": "markdown",
   "metadata": {
    "colab_type": "text",
    "id": "GbQopkUs7qEJ"
   },
   "source": [
    "### Make a new (random) key"
   ]
  },
  {
   "cell_type": "code",
   "execution_count": 18,
   "metadata": {
    "colab": {
     "base_uri": "https://localhost:8080/",
     "height": 68
    },
    "colab_type": "code",
    "id": "3x-oLCV_GnvY",
    "outputId": "e8fd7068-5d37-4a2a-b9da-5f3c358cb086"
   },
   "outputs": [
    {
     "name": "stdout",
     "output_type": "stream",
     "text": [
      "New key\n",
      "Unencoded:  zhxvjolw-u:m.abckig,erfqptsynd\n",
      "Encoded:   SBEFUHZGQMNKDXY034WO21TAVIJCPRL\n"
     ]
    }
   ],
   "source": [
    "unencoded = \"\".join(character_set)\n",
    "encoded = unencoded.upper().translate({ord(' '): ord('0'),\n",
    "                                       ord('-'): ord('1'),\n",
    "                                       ord('.'): ord('2'),\n",
    "                                       ord(','): ord('3'),\n",
    "                                       ord(':'): ord('4')})\n",
    "# Split the symbols\n",
    "symbols = list(encoded)\n",
    "# Shuffle the symbols\n",
    "import random\n",
    "random.shuffle(symbols)\n",
    "# Join the symbols\n",
    "encoded = ''.join(symbols)\n",
    "print(\"New key\")\n",
    "print(\"Unencoded:\", unencoded)\n",
    "print(\"Encoded:  \", encoded)"
   ]
  },
  {
   "cell_type": "markdown",
   "metadata": {},
   "source": [
    "### Run optimisation"
   ]
  },
  {
   "cell_type": "code",
   "execution_count": 22,
   "metadata": {
    "colab": {
     "base_uri": "https://localhost:8080/",
     "height": 476
    },
    "colab_type": "code",
    "id": "m1YICxFiK_Si",
    "outputId": "8cb1c36e-7ff4-4e77-9e59-1eefce8138ca"
   },
   "outputs": [
    {
     "name": "stdout",
     "output_type": "stream",
     "text": [
      "Initial decrypted text how do i love thee let me count the ways. i love thee to the depth and breadth a\n",
      "P: -3151.373010\n",
      "   0 | how do i love thee let me count the ways. i love t | -3151.37 | pmu:-v gshxtrybkeol,danw.zjifqc\n",
      " 200 | iow do h love tiee let me count tie ways. h love t | -3408.47 | pmukxv gsi-trybjeol,danw.:zhfqc\n",
      " 400 | hoa do i love thee let me count the awys. i love t | -3323.50 | pmuxjv gshktryb:eol,dwna.-zifqc\n",
      " 600 | how do i love thee let .e count the waysm i love t | -3298.76 | p.uz:v gshktryb-eol,danwmjxifqc\n",
      " 800 | how do j love thee let me count the ways. j love t | -3725.73 | pmu:kv gsh-trybxeol,danw.izjfqc\n",
      "1000 | how do i love thee let me count the ways. i love t | -3167.44 | pmu-xv gshztrybqeol,danw.jkif:c\n",
      "1200 | how do i lovz thzz lzt mz count thz ways. i lovz t | -4604.27 | pmuekv gshxtryb-zol,danw.:jifqc\n",
      "1400 | how do i love thee let me fount the ways. i love t | -3211.50 | pmuz:v gshxtrybkeol,danw.j-icqf\n",
      "1600 | how do i love thee let me count the wfys. i love t | -3397.51 | pmuz:v gshxtrybkeol,dfnw.j-iaqc\n",
      "1800 | how do l iove thee iet me count the ways. l iove t | -3280.18 | pmu-zv gshqtrybkeoi,danw.x:lfjc\n",
      "2000 | how do i love thee let me couft the ways. i love t | -3310.58 | pmu-kv gshxtryb:eol,dafw.qzinjc\n",
      "2200 | hoe do i lovw thww lwt mw count thw eays. i lovw t | -3926.28 | pmuq:v gshztryb-wol,dane.xkifjc\n",
      "2400 | how do i love thee let me count the ways. i love t | -3186.20 | gmuq:v pshxtryb-eol,danw.zkifjc\n",
      "2600 | how do i cove thee cet me lount the ways. i cove t | -3238.93 | pmu-kv gshqtrybxeoc,danw.:zifjl\n",
      "2800 | how do i lovb thbb lbt mb count thb ways. i lovb t | -3873.62 | pmux-v gsh:tryezbol,danw.kjifqc\n",
      "3000 | how do i loze thee let me count the ways. i loze t | -3251.50 | pmux-z gshjtryb:eol,danw.kvifqc\n",
      "3200 | how do i vole thee vet me count the ways. i vole t | -3289.11 | pmujxl gshktrybzeov,danw.-:ifqc\n",
      "3400 | how do i love thee let me cou,t the ways. i love t | -3405.05 | pmujzv gshxtrybkeolnda,w.-:ifqc\n",
      "3600 | hok do i love thee let me count the kays. i love t | -3190.54 | pmu:jv gshwtrybxeol,dank.z-ifqc\n",
      "3800 | how do i love thee let se count the waym. i love t | -3224.09 | psu:jv gmh-trybxeol,danw.kzifqc\n",
      "4000 | hov do i lowe thee let me count the vays. i lowe t | -3199.52 | pmu-xw gsh:trybjeol,danv.zkifqc\n",
      "4200 | how do i love thee let me count the ways. i love t | -3151.37 | pmu:xv gshjtrybzeol,danw.-kifqc\n",
      "4400 | how do i love thee let me count the w-ys. i love t | -3358.49 | pmuj:v gshatrybzeol,d-nw.xkifqc\n",
      "4600 | how do i love thee let me count the ways. i love t | -3174.23 | -muzpv gshktryb:eol,danw.xjifqc\n",
      "4800 | how -o i love thee let me count the ways. i love t | -3284.68 | pmuz:v gshktrybdeol,-anw.jxifqc\n"
     ]
    }
   ],
   "source": [
    "# Decrypt using scrambled key\n",
    "key = str.maketrans(encoded, unencoded)\n",
    "decrypted_text = encrypted_text.translate(key)\n",
    "\n",
    "p = P(decrypted_text)\n",
    "\n",
    "print(\"Initial decrypted text %s\" % decrypted_text[:80])\n",
    "print(\"P: %f\" % p)\n",
    "\n",
    "for i in range(5000):\n",
    "  # Store the probability and key from the last iteration of the loop\n",
    "  old_p = p\n",
    "  old_unencoded = unencoded\n",
    "\n",
    "  # Randomly swap two charcters in the key\n",
    "  unencoded = list(unencoded)\n",
    "  a = random.randint(0, len(unencoded)-1)\n",
    "  b = random.randint(0, len(unencoded)-1)\n",
    "  c = unencoded[a]\n",
    "  unencoded[a] = unencoded[b]\n",
    "  unencoded[b] = c\n",
    "  unencoded = \"\".join(unencoded)\n",
    "\n",
    "  # Decode the message\n",
    "  key = str.maketrans(encoded, unencoded)\n",
    "  decrypted_text = encrypted_text.translate(key)\n",
    "\n",
    "  # Find the probability of the decrypted text to be english\n",
    "  p = P(decrypted_text)\n",
    "\n",
    "  # Print-out\n",
    "  if i % 200 == 0:\n",
    "    print(\"%4i | %s | %.2f | %s\" % (i, decrypted_text[:50], p, unencoded))\n",
    "\n",
    "  # Metropolis hastings rejection step\n",
    "  alpha = p - old_p\n",
    "  if np.log(random.random()) > alpha:\n",
    "    # Reject candidate\n",
    "    p = old_p\n",
    "    unencoded = old_unencoded"
   ]
  },
  {
   "cell_type": "markdown",
   "metadata": {
    "colab_type": "text",
    "id": "QZEbsVLf8hrM"
   },
   "source": [
    "### Print the decrypted text \n",
    "\n",
    "...with some spaces made into line feeds."
   ]
  },
  {
   "cell_type": "code",
   "execution_count": 23,
   "metadata": {
    "colab": {
     "base_uri": "https://localhost:8080/",
     "height": 391
    },
    "colab_type": "code",
    "id": "tcUrbyZM-7bb",
    "outputId": "ffa8bf52-d5e1-4723-b66f-9364010e4ad6"
   },
   "outputs": [
    {
     "name": "stdout",
     "output_type": "stream",
     "text": [
      "how do : love thee let me count the ways. : love thee to the depth\n",
      "and breadth and he:ght my soul can reach, when feel:ng out of s:ght\n",
      "for the ends of be:ng and :deal grace. : love thee to the level of\n",
      "every day s most qu:et need, by sun and candlel:ght. : love thee\n",
      "freely, as men str:ve for r:ght : love thee purely, as they turn\n",
      "from pra:se. : love w:th a pass:on put to use :n my old gr:efs, and\n",
      "w:th my ch:ldhood s fa:th. : love thee w:th a love : seemed to\n",
      "lose w:th my lost sa:nts, : love thee w:th the breath, sm:les, tears,\n",
      "of all my l:fe and, :f god choose, : shall but love thee better after\n",
      "death. "
     ]
    }
   ],
   "source": [
    "n = 0\n",
    "for word in decrypted_text.split():\n",
    "  if n < 60:\n",
    "    print(word, end=\" \")\n",
    "    n += len(word)+1\n",
    "  else:\n",
    "    print(word, end=\"\\n\")\n",
    "    n = 0"
   ]
  },
  {
   "cell_type": "code",
   "execution_count": null,
   "metadata": {},
   "outputs": [],
   "source": []
  }
 ],
 "metadata": {
  "colab": {
   "collapsed_sections": [],
   "name": "Math L05 - Encryption.ipynb",
   "provenance": []
  },
  "kernelspec": {
   "display_name": "Python 3",
   "language": "python",
   "name": "python3"
  },
  "language_info": {
   "codemirror_mode": {
    "name": "ipython",
    "version": 3
   },
   "file_extension": ".py",
   "mimetype": "text/x-python",
   "name": "python",
   "nbconvert_exporter": "python",
   "pygments_lexer": "ipython3",
   "version": "3.7.4"
  }
 },
 "nbformat": 4,
 "nbformat_minor": 4
}
