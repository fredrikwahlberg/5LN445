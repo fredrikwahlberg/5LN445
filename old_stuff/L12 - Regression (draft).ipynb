{
 "cells": [
  {
   "cell_type": "markdown",
   "metadata": {},
   "source": [
    "# Regression"
   ]
  },
  {
   "cell_type": "code",
   "execution_count": 1,
   "metadata": {
    "collapsed": true
   },
   "outputs": [],
   "source": [
    "import numpy as np\n",
    "from sklearn.metrics import mean_squared_error\n",
    "import matplotlib.pyplot as plt\n",
    "%matplotlib notebook"
   ]
  },
  {
   "cell_type": "markdown",
   "metadata": {
    "slideshow": {
     "slide_type": "slide"
    }
   },
   "source": []
  },
  {
   "cell_type": "code",
   "execution_count": 2,
   "metadata": {},
   "outputs": [
    {
     "name": "stdout",
     "output_type": "stream",
     "text": [
      "Real f(x): x*1.5 + -0.5 + e\n",
      "Estimated f(x): x*1.4 + -0.5 + e\n"
     ]
    },
    {
     "data": {
      "image/png": "[encoded data removed]",
      "text/plain": [
       "<Figure size 720x216 with 2 Axes>"
      ]
     },
     "metadata": {
      "needs_background": "light"
     },
     "output_type": "display_data"
    }
   ],
   "source": [
    "X = np.linspace(0, 1, 50)\n",
    "def f(v):\n",
    "    return (v*1.5 - .5) + np.random.normal(0, .2, size=v.shape)\n",
    "Y = f(X)\n",
    "\n",
    "fig = plt.figure(figsize=(10, 3))\n",
    "ax = fig.subplots(1, 2)\n",
    "\n",
    "ax[0].scatter(X, Y, label=\"data\")\n",
    "ax[0].set_ylabel(\"Some unit\")\n",
    "ax[0].set_xlabel(\"Some other unit\")\n",
    "ax[0].legend()\n",
    "\n",
    "from scipy.stats import linregress\n",
    "slope, intercept, r_value, p_value, std_err = linregress(X, Y)\n",
    "\n",
    "ax[1].scatter(X, Y, label=\"data\")\n",
    "ax[1].plot(X, X*slope + intercept, c='red', label=\"trend line\")\n",
    "ax[1].set_ylabel(\"Some unit\")\n",
    "ax[1].set_xlabel(\"Some other unit\")\n",
    "ax[1].legend()\n",
    "\n",
    "\n",
    "print(\"Real f(x): x*%.1f + %.1f + e\" % (1.5, -.5))\n",
    "print(\"Estimated f(x): x*%.1f + %.1f + e\" % (slope, intercept))\n"
   ]
  },
  {
   "cell_type": "code",
   "execution_count": null,
   "metadata": {},
   "outputs": [],
   "source": []
  },
  {
   "cell_type": "code",
   "execution_count": null,
   "metadata": {},
   "outputs": [],
   "source": [
    "n_samples = 30\n",
    "n_variables = 2\n",
    "X = np.zeros((n_samples, n_variables))\n",
    "X[:, 0] = np.random.randint(0, 2, size=n_samples)\n",
    "X"
   ]
  },
  {
   "cell_type": "code",
   "execution_count": 3,
   "metadata": {},
   "outputs": [
    {
     "data": {
      "image/png": "[encoded data removed]",
      "text/plain": [
       "<Figure size 432x288 with 1 Axes>"
      ]
     },
     "metadata": {
      "needs_background": "light"
     },
     "output_type": "display_data"
    },
    {
     "name": "stdout",
     "output_type": "stream",
     "text": [
      "fps: 19.8\n"
     ]
    }
   ],
   "source": [
    "n_samples = 100\n",
    "n_outcomes = 2\n",
    "\n",
    "import time\n",
    "\n",
    "fps = 20\n",
    "fig, ax = plt.subplots()\n",
    "ax.set_ylim((0, 1))\n",
    "title = plt.xlabel(\"n=%i\" % 0)\n",
    "if n_outcomes == 2:\n",
    "    labels = ['Heads', 'Tails']\n",
    "else:\n",
    "    labels = [\"Side %i\" % (i+1) for i in range(n_outcomes)]\n",
    "h = ax.bar(labels, np.zeros(n_outcomes), align='center')#, color=plt.get_cmap('Pastel1'))\n",
    "\n",
    "outcomes = np.zeros(n_outcomes)\n",
    "\n",
    "plt.show(block=False)\n",
    "\n",
    "T = time.time()\n",
    "for n in range(n_samples):\n",
    "    t = time.time()\n",
    "    outcomes[np.random.randint(n_outcomes)] += 1\n",
    "\n",
    "    title.set_text(\"n=%i\" % (n+1))\n",
    "    for i in range(n_outcomes):\n",
    "        h[i].set_height(outcomes[i]/np.sum(outcomes))\n",
    "\n",
    "    fig.canvas.draw()\n",
    "    fig.canvas.flush_events()\n",
    "    time.sleep(max(0, t+1/fps-time.time()))\n",
    "\n",
    "print(\"fps: %.1f\" % (n_samples/(time.time()-T)))\n"
   ]
  },
  {
   "cell_type": "code",
   "execution_count": null,
   "metadata": {},
   "outputs": [],
   "source": []
  },
  {
   "cell_type": "code",
   "execution_count": null,
   "metadata": {},
   "outputs": [],
   "source": [
    "%matplotlib notebook\n",
    "import time\n",
    "from matplotlib import pyplot as plt\n",
    "import numpy as np\n",
    "\n",
    "def live_update_demo(blit = False):\n",
    "    x = np.linspace(0,50., num=100)\n",
    "    X,Y = np.meshgrid(x,x)\n",
    "    fig = plt.figure()\n",
    "    ax1 = fig.add_subplot(2, 1, 1)\n",
    "    ax2 = fig.add_subplot(2, 1, 2)\n",
    "\n",
    "    fig.canvas.draw()   # note that the first draw comes before setting data \n",
    "\n",
    "    h1 = ax1.imshow(X, vmin=-1, vmax=1, interpolation=\"None\", cmap=\"RdBu\")\n",
    "\n",
    "    h2, = ax2.plot(x, lw=3)\n",
    "    text = ax2.text(0.8,1.5, \"\")\n",
    "    ax2.set_ylim([-1,1])\n",
    "\n",
    "\n",
    "    if blit:\n",
    "        # cache the background\n",
    "        axbackground = fig.canvas.copy_from_bbox(ax1.bbox)\n",
    "        ax2background = fig.canvas.copy_from_bbox(ax2.bbox)\n",
    "\n",
    "    t_start = time.time()\n",
    "    k=0.\n",
    "    for i in np.arange(1000):\n",
    "        h1.set_data(np.sin(X/3.+k)*np.cos(Y/3.+k))\n",
    "        h2.set_ydata(np.sin(x/3.+k))\n",
    "        tx = 'Mean Frame Rate:\\n {fps:.3f}FPS'.format(fps= ((i+1) / (time.time() - t_start)) ) \n",
    "        text.set_text(tx)\n",
    "        #print tx\n",
    "        k+=0.11\n",
    "        if blit:\n",
    "            # restore background\n",
    "            fig.canvas.restore_region(axbackground)\n",
    "            fig.canvas.restore_region(ax2background)\n",
    "\n",
    "            # redraw just the points\n",
    "            ax1.draw_artist(h1)\n",
    "            ax2.draw_artist(h2)\n",
    "\n",
    "            # fill in the axes rectangle\n",
    "            fig.canvas.blit(ax1.bbox)\n",
    "            fig.canvas.blit(ax2.bbox)\n",
    "            # in this post http://bastibe.de/2013-05-30-speeding-up-matplotlib.html\n",
    "            # it is mentionned that blit causes strong memory leakage. \n",
    "            # however, I did not observe that.\n",
    "\n",
    "        else:\n",
    "            # redraw everything\n",
    "            fig.canvas.draw()\n",
    "            fig.canvas.flush_events()\n",
    "\n",
    "\n",
    "        plt.pause(0.000000000001) \n",
    "        #plt.pause calls canvas.draw(), as can be read here:\n",
    "        #http://bastibe.de/2013-05-30-speeding-up-matplotlib.html\n",
    "        #however with Qt4 (and TkAgg??) this is needed. It seems,using a different backend, \n",
    "        #one can avoid plt.pause() and gain even more speed.\n",
    "\n",
    "\n",
    "#live_update_demo(True) # 28 fps\n",
    "live_update_demo(False) # 18 fps"
   ]
  },
  {
   "cell_type": "code",
   "execution_count": null,
   "metadata": {},
   "outputs": [],
   "source": [
    "fig, ax = plt.subplots()\n",
    "line, = ax.plot(np.random.randn(100))\n",
    "\n",
    "tstart = time.time()\n",
    "num_plots = 0\n",
    "while time.time()-tstart < 1:\n",
    "    line.set_ydata(np.random.randn(100))\n",
    "    fig.canvas.draw()\n",
    "    fig.canvas.flush_events()\n",
    "    num_plots += 1\n",
    "print(num_plots)"
   ]
  },
  {
   "cell_type": "code",
   "execution_count": 41,
   "metadata": {},
   "outputs": [
    {
     "data": {
      "text/plain": [
       "'nbAgg'"
      ]
     },
     "execution_count": 41,
     "metadata": {},
     "output_type": "execute_result"
    }
   ],
   "source": [
    "import matplotlib\n",
    "matplotlib.get_backend()"
   ]
  }
 ],
 "metadata": {
  "kernelspec": {
   "display_name": "Python 3",
   "language": "python",
   "name": "python3"
  },
  "language_info": {
   "codemirror_mode": {
    "name": "ipython",
    "version": 3
   },
   "file_extension": ".py",
   "mimetype": "text/x-python",
   "name": "python",
   "nbconvert_exporter": "python",
   "pygments_lexer": "ipython3",
   "version": "3.7.1"
  }
 },
 "nbformat": 4,
 "nbformat_minor": 2
}
