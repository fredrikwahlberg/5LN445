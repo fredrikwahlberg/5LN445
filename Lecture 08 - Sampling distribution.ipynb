{
  "nbformat": 4,
  "nbformat_minor": 0,
  "metadata": {
    "colab": {
      "name": "Math L08 - Sampling distribution.ipynb",
      "provenance": [],
      "collapsed_sections": []
    },
    "kernelspec": {
      "name": "python3",
      "display_name": "Python 3"
    }
  },
  "cells": [
    {
      "cell_type": "code",
      "metadata": {
        "id": "ddR7Xgwm-keB"
      },
      "source": [
        "import numpy as np\n",
        "from tqdm import tqdm\n",
        "import matplotlib.pyplot as plt"
      ],
      "execution_count": null,
      "outputs": []
    },
    {
      "cell_type": "code",
      "metadata": {
        "id": "wThQeSwg-ez6",
        "outputId": "6985c568-dab3-4230-a1ca-1cfb1d230889",
        "colab": {
          "base_uri": "https://localhost:8080/",
          "height": 242
        }
      },
      "source": [
        "n_population = 200000\n",
        "n_sample = 500\n",
        "n_trials = 1000\n",
        "p_true = 0.88\n",
        "\n",
        "population = np.zeros(n_population)\n",
        "population[:int(len(population)*p_true)] = 1\n",
        "\n",
        "p_est = np.zeros(n_trials)\n",
        "for i in tqdm(range(n_trials), desc=\"Running surveys\", total=n_trials):\n",
        "    sample = np.random.choice(population, size=n_sample, replace=True)\n",
        "    p_est[i] = np.sum(sample)\n",
        "p_est *= 100/n_sample\n",
        "\n",
        "plt.figure(figsize=(8, 3))\n",
        "plt.hist(p_est, np.arange(100*p_true-5.25, 100*p_true+5.6, .5), edgecolor='k')\n",
        "plt.xlabel(\"Results from %i surveys of %i people in a population of %i.\" % (n_trials, n_sample, n_population))\n",
        "plt.show()"
      ],
      "execution_count": null,
      "outputs": [
        {
          "output_type": "stream",
          "text": [
            "Running surveys: 100%|██████████| 1000/1000 [00:00<00:00, 22785.35it/s]\n"
          ],
          "name": "stderr"
        },
        {
          "output_type": "display_data",
          "data": {
            "image/png": "[encoded data removed]",
            "text/plain": [
              "<Figure size 576x216 with 1 Axes>"
            ]
          },
          "metadata": {
            "tags": [],
            "needs_background": "light"
          }
        }
      ]
    },
    {
      "cell_type": "code",
      "metadata": {
        "id": "TngqGCfRH2bO"
      },
      "source": [
        ""
      ],
      "execution_count": null,
      "outputs": []
    }
  ]
}