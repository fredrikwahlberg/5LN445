{
  "nbformat": 4,
  "nbformat_minor": 0,
  "metadata": {
    "kernelspec": {
      "display_name": "Python 3",
      "language": "python",
      "name": "python3"
    },
    "language_info": {
      "codemirror_mode": {
        "name": "ipython",
        "version": 3
      },
      "file_extension": ".py",
      "mimetype": "text/x-python",
      "name": "python",
      "nbconvert_exporter": "python",
      "pygments_lexer": "ipython3",
      "version": "3.7.3"
    },
    "colab": {
      "name": "Math L01 - Monty Hall.ipynb",
      "provenance": []
    },
    "widgets": {
      "application/vnd.jupyter.widget-state+json": {
        "e0a4b425761e47a5bd3de001d76294ec": {
          "model_module": "@jupyter-widgets/controls",
          "model_name": "VBoxModel",
          "model_module_version": "1.5.0",
          "state": {
            "_view_name": "VBoxView",
            "_dom_classes": [
              "widget-interact"
            ],
            "_model_name": "VBoxModel",
            "_view_module": "@jupyter-widgets/controls",
            "_model_module_version": "1.5.0",
            "_view_count": null,
            "_view_module_version": "1.5.0",
            "box_style": "",
            "layout": "IPY_MODEL_ab503b05ba204db891dc26552b0fc4c6",
            "_model_module": "@jupyter-widgets/controls",
            "children": [
              "IPY_MODEL_b7b20e8dc3d544deb1b7894e316477f4",
              "IPY_MODEL_8adc47d69f584a93ae1d7e5d994dc1b8",
              "IPY_MODEL_da9b2963a1c8416c864fc840f33d37f7"
            ]
          }
        },
        "ab503b05ba204db891dc26552b0fc4c6": {
          "model_module": "@jupyter-widgets/base",
          "model_name": "LayoutModel",
          "model_module_version": "1.2.0",
          "state": {
            "_view_name": "LayoutView",
            "grid_template_rows": null,
            "right": null,
            "justify_content": null,
            "_view_module": "@jupyter-widgets/base",
            "overflow": null,
            "_model_module_version": "1.2.0",
            "_view_count": null,
            "flex_flow": null,
            "width": null,
            "min_width": null,
            "border": null,
            "align_items": null,
            "bottom": null,
            "_model_module": "@jupyter-widgets/base",
            "top": null,
            "grid_column": null,
            "overflow_y": null,
            "overflow_x": null,
            "grid_auto_flow": null,
            "grid_area": null,
            "grid_template_columns": null,
            "flex": null,
            "_model_name": "LayoutModel",
            "justify_items": null,
            "grid_row": null,
            "max_height": null,
            "align_content": null,
            "visibility": null,
            "align_self": null,
            "height": null,
            "min_height": null,
            "padding": null,
            "grid_auto_rows": null,
            "grid_gap": null,
            "max_width": null,
            "order": null,
            "_view_module_version": "1.2.0",
            "grid_template_areas": null,
            "object_position": null,
            "object_fit": null,
            "grid_auto_columns": null,
            "margin": null,
            "display": null,
            "left": null
          }
        },
        "b7b20e8dc3d544deb1b7894e316477f4": {
          "model_module": "@jupyter-widgets/controls",
          "model_name": "IntSliderModel",
          "model_module_version": "1.5.0",
          "state": {
            "_view_name": "IntSliderView",
            "style": "IPY_MODEL_02fac80fd0324eb6bbb27c569d541a2d",
            "_dom_classes": [],
            "description": "n_rounds",
            "step": 1,
            "_model_name": "IntSliderModel",
            "orientation": "horizontal",
            "max": 100,
            "_view_module": "@jupyter-widgets/controls",
            "_model_module_version": "1.5.0",
            "value": 100,
            "_view_count": null,
            "disabled": false,
            "_view_module_version": "1.5.0",
            "min": 1,
            "continuous_update": true,
            "readout_format": "d",
            "description_tooltip": null,
            "readout": true,
            "_model_module": "@jupyter-widgets/controls",
            "layout": "IPY_MODEL_df7077fc66df44239667c04a498730eb"
          }
        },
        "8adc47d69f584a93ae1d7e5d994dc1b8": {
          "model_module": "@jupyter-widgets/controls",
          "model_name": "ButtonModel",
          "model_module_version": "1.5.0",
          "state": {
            "_view_name": "ButtonView",
            "style": "IPY_MODEL_df82296da7e64f96b4f79eea88b18ad1",
            "_dom_classes": [],
            "description": "Play rounds!",
            "_model_name": "ButtonModel",
            "button_style": "",
            "_view_module": "@jupyter-widgets/controls",
            "_model_module_version": "1.5.0",
            "tooltip": "",
            "_view_count": null,
            "disabled": false,
            "_view_module_version": "1.5.0",
            "layout": "IPY_MODEL_89045789624c4b5cbc7b2b72af88c01c",
            "_model_module": "@jupyter-widgets/controls",
            "icon": ""
          }
        },
        "da9b2963a1c8416c864fc840f33d37f7": {
          "model_module": "@jupyter-widgets/output",
          "model_name": "OutputModel",
          "model_module_version": "1.0.0",
          "state": {
            "_view_name": "OutputView",
            "msg_id": "",
            "_dom_classes": [],
            "_model_name": "OutputModel",
            "outputs": [
              {
                "output_type": "stream",
                "text": [
                  "New data (n=100): [(2, 3, False), (1, 3, False), (2, 1, False), (3, 2, True), (1, 2, True), (3, 1, True), (1, 2, True), (2, 1, False), (2, 1, True), (3, 1, True), (3, 1, True), (3, 1, True), (2, 3, False), (1, 2, True), (1, 2, True), (3, 3, False), (3, 1, False), (2, 2, False), (1, 3, True), (3, 1, True), (1, 3, False), (3, 3, True), (2, 2, True), (1, 1, False), (2, 2, True), (2, 1, False), (1, 1, False), (1, 1, False), (1, 1, False), (1, 1, False), (2, 2, False), (2, 1, True), (3, 1, False), (3, 1, True), (3, 3, False), (1, 3, False), (2, 1, True), (3, 3, False), (1, 1, False), (3, 3, False), (3, 3, True), (1, 3, True), (2, 3, False), (3, 1, True), (3, 1, True), (3, 2, True), (3, 2, False), (2, 2, True), (3, 2, True), (2, 1, True), (3, 1, True), (2, 2, False), (1, 3, True), (1, 3, False), (1, 1, False), (3, 3, True), (1, 1, True), (3, 2, False), (1, 1, True), (2, 3, True), (2, 3, True), (1, 1, False), (1, 2, False), (1, 1, False), (2, 1, False), (3, 2, True), (1, 3, True), (1, 1, False), (1, 3, True), (3, 3, False), (2, 3, True), (1, 3, False), (1, 2, True), (1, 1, False), (1, 1, False), (3, 3, True), (1, 1, True), (1, 1, True), (2, 2, True), (1, 3, True), (1, 3, True), (1, 2, False), (1, 1, True), (2, 3, False), (2, 3, True), (1, 1, False), (3, 1, True), (3, 3, False), (1, 3, False), (2, 3, False), (2, 3, False), (2, 2, True), (2, 2, True), (3, 1, True), (3, 1, True), (1, 3, True), (3, 3, True), (2, 2, True), (3, 3, False), (3, 2, False)]\n",
                  "Last data points: ... [(2, 3, False), (2, 2, True), (2, 2, True), (3, 1, True), (3, 1, True), (1, 3, True), (3, 3, True), (2, 2, True), (3, 3, False), (3, 2, False)]\n"
                ],
                "name": "stdout"
              },
              {
                "output_type": "stream",
                "text": [
                  "/usr/local/lib/python3.7/dist-packages/ipykernel_launcher.py:42: RuntimeWarning: invalid value encountered in true_divide\n"
                ],
                "name": "stderr"
              },
              {
                "output_type": "display_data",
                "data": {
                  "image/png": "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\n",
                  "text/plain": [
                    "<Figure size 1200x400 with 2 Axes>"
                  ]
                },
                "metadata": {
                  "needs_background": "light"
                }
              }
            ],
            "_view_module": "@jupyter-widgets/output",
            "_model_module_version": "1.0.0",
            "_view_count": null,
            "_view_module_version": "1.0.0",
            "layout": "IPY_MODEL_4182ccebcbcf4ac495fe277a72547e9b",
            "_model_module": "@jupyter-widgets/output"
          }
        },
        "02fac80fd0324eb6bbb27c569d541a2d": {
          "model_module": "@jupyter-widgets/controls",
          "model_name": "SliderStyleModel",
          "model_module_version": "1.5.0",
          "state": {
            "_view_name": "StyleView",
            "handle_color": null,
            "_model_name": "SliderStyleModel",
            "description_width": "",
            "_view_module": "@jupyter-widgets/base",
            "_model_module_version": "1.5.0",
            "_view_count": null,
            "_view_module_version": "1.2.0",
            "_model_module": "@jupyter-widgets/controls"
          }
        },
        "df7077fc66df44239667c04a498730eb": {
          "model_module": "@jupyter-widgets/base",
          "model_name": "LayoutModel",
          "model_module_version": "1.2.0",
          "state": {
            "_view_name": "LayoutView",
            "grid_template_rows": null,
            "right": null,
            "justify_content": null,
            "_view_module": "@jupyter-widgets/base",
            "overflow": null,
            "_model_module_version": "1.2.0",
            "_view_count": null,
            "flex_flow": null,
            "width": null,
            "min_width": null,
            "border": null,
            "align_items": null,
            "bottom": null,
            "_model_module": "@jupyter-widgets/base",
            "top": null,
            "grid_column": null,
            "overflow_y": null,
            "overflow_x": null,
            "grid_auto_flow": null,
            "grid_area": null,
            "grid_template_columns": null,
            "flex": null,
            "_model_name": "LayoutModel",
            "justify_items": null,
            "grid_row": null,
            "max_height": null,
            "align_content": null,
            "visibility": null,
            "align_self": null,
            "height": null,
            "min_height": null,
            "padding": null,
            "grid_auto_rows": null,
            "grid_gap": null,
            "max_width": null,
            "order": null,
            "_view_module_version": "1.2.0",
            "grid_template_areas": null,
            "object_position": null,
            "object_fit": null,
            "grid_auto_columns": null,
            "margin": null,
            "display": null,
            "left": null
          }
        },
        "df82296da7e64f96b4f79eea88b18ad1": {
          "model_module": "@jupyter-widgets/controls",
          "model_name": "ButtonStyleModel",
          "model_module_version": "1.5.0",
          "state": {
            "_view_name": "StyleView",
            "_model_name": "ButtonStyleModel",
            "_view_module": "@jupyter-widgets/base",
            "_model_module_version": "1.5.0",
            "_view_count": null,
            "button_color": null,
            "font_weight": "",
            "_view_module_version": "1.2.0",
            "_model_module": "@jupyter-widgets/controls"
          }
        },
        "89045789624c4b5cbc7b2b72af88c01c": {
          "model_module": "@jupyter-widgets/base",
          "model_name": "LayoutModel",
          "model_module_version": "1.2.0",
          "state": {
            "_view_name": "LayoutView",
            "grid_template_rows": null,
            "right": null,
            "justify_content": null,
            "_view_module": "@jupyter-widgets/base",
            "overflow": null,
            "_model_module_version": "1.2.0",
            "_view_count": null,
            "flex_flow": null,
            "width": null,
            "min_width": null,
            "border": null,
            "align_items": null,
            "bottom": null,
            "_model_module": "@jupyter-widgets/base",
            "top": null,
            "grid_column": null,
            "overflow_y": null,
            "overflow_x": null,
            "grid_auto_flow": null,
            "grid_area": null,
            "grid_template_columns": null,
            "flex": null,
            "_model_name": "LayoutModel",
            "justify_items": null,
            "grid_row": null,
            "max_height": null,
            "align_content": null,
            "visibility": null,
            "align_self": null,
            "height": null,
            "min_height": null,
            "padding": null,
            "grid_auto_rows": null,
            "grid_gap": null,
            "max_width": null,
            "order": null,
            "_view_module_version": "1.2.0",
            "grid_template_areas": null,
            "object_position": null,
            "object_fit": null,
            "grid_auto_columns": null,
            "margin": null,
            "display": null,
            "left": null
          }
        },
        "4182ccebcbcf4ac495fe277a72547e9b": {
          "model_module": "@jupyter-widgets/base",
          "model_name": "LayoutModel",
          "model_module_version": "1.2.0",
          "state": {
            "_view_name": "LayoutView",
            "grid_template_rows": null,
            "right": null,
            "justify_content": null,
            "_view_module": "@jupyter-widgets/base",
            "overflow": null,
            "_model_module_version": "1.2.0",
            "_view_count": null,
            "flex_flow": null,
            "width": null,
            "min_width": null,
            "border": null,
            "align_items": null,
            "bottom": null,
            "_model_module": "@jupyter-widgets/base",
            "top": null,
            "grid_column": null,
            "overflow_y": null,
            "overflow_x": null,
            "grid_auto_flow": null,
            "grid_area": null,
            "grid_template_columns": null,
            "flex": null,
            "_model_name": "LayoutModel",
            "justify_items": null,
            "grid_row": null,
            "max_height": null,
            "align_content": null,
            "visibility": null,
            "align_self": null,
            "height": "400px",
            "min_height": null,
            "padding": null,
            "grid_auto_rows": null,
            "grid_gap": null,
            "max_width": null,
            "order": null,
            "_view_module_version": "1.2.0",
            "grid_template_areas": null,
            "object_position": null,
            "object_fit": null,
            "grid_auto_columns": null,
            "margin": null,
            "display": null,
            "left": null
          }
        }
      }
    }
  },
  "cells": [
    {
      "cell_type": "markdown",
      "metadata": {
        "id": "48dmT-b06Qs8"
      },
      "source": [
        "# Monty Hall\n",
        "\n",
        "Below are some simulations for one of the lab exercises. Sometimes, we can't easily find an answer to a probability  problem using theory. This notebook shows how we can find some answers using simulation instead.\n",
        "\n",
        "First, we need to import some libraries."
      ]
    },
    {
      "cell_type": "code",
      "metadata": {
        "id": "cXCsLonp6Qs_"
      },
      "source": [
        "import numpy as np  # Math\n",
        "import random       # Randomness\n",
        "import matplotlib.pylab as plt  # Plotting\n",
        "import ipywidgets as widgets    # Interactive stuff"
      ],
      "execution_count": 1,
      "outputs": []
    },
    {
      "cell_type": "markdown",
      "metadata": {
        "id": "Z2lOmh126Qtg"
      },
      "source": [
        "A good first step is to define the set of outcomes. We can define these as tuples as (\"chosen door\", \"opened door\", \"switched door\"), printed by the code below."
      ]
    },
    {
      "cell_type": "code",
      "metadata": {
        "id": "rzVEkSOGCCqJ",
        "colab": {
          "base_uri": "https://localhost:8080/"
        },
        "outputId": "97f56d37-ffe8-44c8-cc73-869d37f3e60c"
      },
      "source": [
        "outcomes = list()\n",
        "for door in [1, 2, 3]:\n",
        "  for choice in [1, 2, 3]:\n",
        "    for change in [True, False]:\n",
        "      outcomes.append((door, choice, change))\n",
        "\n",
        "print(\"%i outcomes: %s \" % (len(outcomes), outcomes))"
      ],
      "execution_count": 2,
      "outputs": [
        {
          "output_type": "stream",
          "text": [
            "18 outcomes: [(1, 1, True), (1, 1, False), (1, 2, True), (1, 2, False), (1, 3, True), (1, 3, False), (2, 1, True), (2, 1, False), (2, 2, True), (2, 2, False), (2, 3, True), (2, 3, False), (3, 1, True), (3, 1, False), (3, 2, True), (3, 2, False), (3, 3, True), (3, 3, False)] \n"
          ],
          "name": "stdout"
        }
      ]
    },
    {
      "cell_type": "markdown",
      "metadata": {
        "id": "nzKhik6XEIxy"
      },
      "source": [
        "Next, we need to define a win contition. I've chosen to do this as a python function with `if` statements returning a boolean (i.e. True/False). It is good practice to always try out your code in a controlled setting before using it as a part of something larger. Especially when it is so easy to do. To be clear **do not trust your code, always test it**."
      ]
    },
    {
      "cell_type": "code",
      "metadata": {
        "id": "6jKEj9YwCXZs",
        "colab": {
          "base_uri": "https://localhost:8080/"
        },
        "outputId": "56544166-32eb-40f9-8a88-ce3b0fa237ea"
      },
      "source": [
        "def did_we_win(outcome):\n",
        "  door, choice, change = outcome\n",
        "  if door==choice and not change:\n",
        "    return True\n",
        "  elif door != choice and change:\n",
        "    return True\n",
        "  else:\n",
        "    return False\n",
        "\n",
        "for outcome in random.choices(outcomes, k=5):\n",
        "  print(\"Outcome drawn: %s\" % repr(outcome))\n",
        "  door, choice, change = outcome\n",
        "  print(\" Door with car:\", door)\n",
        "  print(\" We chose door:\", choice)\n",
        "  if change:\n",
        "    print(\" We changed our choice\")\n",
        "  else:\n",
        "    print(\" We stood by our choice\")\n",
        "  if did_we_win(outcome):\n",
        "    print(\"  -> We won a car!\")\n",
        "  else:\n",
        "    print(\"  -> We won a goat :(\")\n",
        "  print()"
      ],
      "execution_count": 3,
      "outputs": [
        {
          "output_type": "stream",
          "text": [
            "Outcome drawn: (1, 2, False)\n",
            " Door with car: 1\n",
            " We chose door: 2\n",
            " We stood by our choice\n",
            "  -> We won a goat :(\n",
            "\n",
            "Outcome drawn: (3, 1, False)\n",
            " Door with car: 3\n",
            " We chose door: 1\n",
            " We stood by our choice\n",
            "  -> We won a goat :(\n",
            "\n",
            "Outcome drawn: (1, 2, False)\n",
            " Door with car: 1\n",
            " We chose door: 2\n",
            " We stood by our choice\n",
            "  -> We won a goat :(\n",
            "\n",
            "Outcome drawn: (3, 3, True)\n",
            " Door with car: 3\n",
            " We chose door: 3\n",
            " We changed our choice\n",
            "  -> We won a goat :(\n",
            "\n",
            "Outcome drawn: (1, 2, True)\n",
            " Door with car: 1\n",
            " We chose door: 2\n",
            " We changed our choice\n",
            "  -> We won a car!\n",
            "\n"
          ],
          "name": "stdout"
        }
      ]
    },
    {
      "cell_type": "markdown",
      "metadata": {
        "id": "XPo8gXq0EyJP"
      },
      "source": [
        "### A fast way of finding the probability.\n",
        "\n",
        "We can assume all outcomes are equally likely and simply go through them. This is a big assumption, why can we use it here? Is the assumption always valid?\n",
        " \n",
        "**Relevant theory:**\n",
        " \n",
        "Conditional probability is defined as: $P(A|B) = \\frac{P(A \\cap B)}{P(B)}$. If we define winning as event A and changing door as event B, event B's compliment will be not changing door. Since each outcome is either in B or not, then $P(B^c)=1-P(B)$."
      ]
    },
    {
      "cell_type": "code",
      "metadata": {
        "id": "3cEvGNraEwF_",
        "colab": {
          "base_uri": "https://localhost:8080/"
        },
        "outputId": "c8616757-9229-4f47-a9dc-570fad2fdfcb"
      },
      "source": [
        "A_and_B = 0\n",
        "A_and_Bc = 0\n",
        "B = 0\n",
        "for outcome in outcomes:\n",
        "  door, choice, change = outcome\n",
        "  if did_we_win(outcome): # Event A, i.e. winning\n",
        "    if change:            # Event A and B\n",
        "      A_and_B += 1\n",
        "    else:                 # Event A and B^c, i.e. not change door\n",
        "      A_and_Bc += 1\n",
        "  if change:              # Event B\n",
        "    B += 1\n",
        "\n",
        "print(\"p(win | changed door)    = %.1f%%\" % (100*A_and_B/B))\n",
        "print(\"p(win | not change door) = %.1f%%\" % (100*A_and_Bc/(len(outcomes)-B)))"
      ],
      "execution_count": 4,
      "outputs": [
        {
          "output_type": "stream",
          "text": [
            "p(win | changed door)    = 66.7%\n",
            "p(win | not change door) = 33.3%\n"
          ],
          "name": "stdout"
        }
      ]
    },
    {
      "cell_type": "markdown",
      "metadata": {
        "id": "FQl9gF_nE1sI"
      },
      "source": [
        "### A fun way of finding the probability \n",
        "\n",
        "We can find the probabilities by simulating reality. By doing this, we should *converge* to the theoretical number above with time.\n",
        "\n",
        "The following code will let you play a set number of game rounds and see how the probabilities change."
      ]
    },
    {
      "cell_type": "code",
      "metadata": {
        "id": "CwOE_y1nJEyL",
        "colab": {
          "base_uri": "https://localhost:8080/",
          "height": 495,
          "referenced_widgets": [
            "e0a4b425761e47a5bd3de001d76294ec",
            "ab503b05ba204db891dc26552b0fc4c6",
            "b7b20e8dc3d544deb1b7894e316477f4",
            "8adc47d69f584a93ae1d7e5d994dc1b8",
            "da9b2963a1c8416c864fc840f33d37f7",
            "02fac80fd0324eb6bbb27c569d541a2d",
            "df7077fc66df44239667c04a498730eb",
            "df82296da7e64f96b4f79eea88b18ad1",
            "89045789624c4b5cbc7b2b72af88c01c",
            "4182ccebcbcf4ac495fe277a72547e9b"
          ]
        },
        "outputId": "44e6236e-7110-48da-ad13-c2bc0744d56d"
      },
      "source": [
        "data = list()\n",
        "\n",
        "def run_game_show(n_rounds):\n",
        "  # Run the show\n",
        "  new_data = random.choices(outcomes, k=n_rounds)\n",
        "  data.extend(new_data)\n",
        "  print(\"New data (n=%i): %s\" % (len(new_data), new_data))\n",
        "  if len(data) < 50:\n",
        "    print(\"All datapoints:\", data)\n",
        "  else:\n",
        "    print(\"Last data points: ...\", data[-10:])\n",
        "  # Define the figures\n",
        "  fig = plt.figure(figsize=(15, 5), dpi=80)\n",
        "  ax = fig.subplots(1, 2)\n",
        "  ax[0].set_ylabel(\"# shows\")\n",
        "  losses = np.sum([not did_we_win(outcome) for outcome in data])\n",
        "  ax[0].set_xlabel(\"Outcomes (%i losses not counted)\" % losses)\n",
        "  ax[1].set_xlabel(\"# shows\")\n",
        "  ax[1].set_ylabel('Probability')\n",
        "  # Plot data\n",
        "\n",
        "  strategy_counts = np.zeros(2)\n",
        "  new_strategy_counts = np.zeros(2)\n",
        "  games = np.arange(1, len(data)+1)\n",
        "  labels = ['win | change', 'win | no change']\n",
        "  colours = [\"C0\", \"C1\"]\n",
        "\n",
        "  strategy_counts[0] = np.sum([did_we_win(outcome) and outcome[2] for outcome in data])\n",
        "  strategy_counts[1] = np.sum([did_we_win(outcome) and not outcome[2] for outcome in data])\n",
        "  new_strategy_counts[0] = np.sum([did_we_win(outcome) and outcome[2] for outcome in new_data])\n",
        "  new_strategy_counts[1] = np.sum([did_we_win(outcome) and not outcome[2] for outcome in new_data])\n",
        "  old_strategy_counts = strategy_counts-new_strategy_counts\n",
        "  ax[0].bar(labels, new_strategy_counts, bottom=old_strategy_counts, align='center', color=colours, alpha=.5)\n",
        "#  ax[0].bar(labels, new_strategy_counts, bottom=old_strategy_counts, align='center', color='red', alpha=.6)\n",
        "  ax[0].bar(labels, old_strategy_counts, align='center', color=colours, alpha=.8)\n",
        "  \n",
        "  A_B = np.cumsum([did_we_win(outcome) and outcome[2] for outcome in data])\n",
        "  A_Bc = np.cumsum([did_we_win(outcome) and not outcome[2] for outcome in data])\n",
        "  B = np.cumsum([outcome[2] for outcome in data])\n",
        "  Bc = np.cumsum([not outcome[2] for outcome in data])\n",
        "  ax[1].plot(games, A_B/B, alpha=.7, label=\"P(win|change)\")\n",
        "  ax[1].plot(games, A_Bc/Bc, alpha=.7, label=\"P(win|no change)\")\n",
        "  ax[1].plot(games, 2/3*np.ones(games.shape), 'g--', alpha=.8, label=\"Theoretical P(win|change)\")\n",
        "  ax[1].plot(games, 1/3*np.ones(games.shape), 'r--', alpha=.8, label=\"Theoretical P(win|no change)\")\n",
        "  # Adjust graphs and commit to screen\n",
        "  a = list(ax[0].axis())\n",
        "  a[2] = 0\n",
        "  a[3] = max(np.max(strategy_counts)+10, 25)\n",
        "  ax[0].axis(tuple(a))\n",
        "  a = list(ax[1].axis())\n",
        "  a[2] = 0\n",
        "  a[3] = 1\n",
        "  ax[1].axis(tuple(a))\n",
        "  ax[1].legend(loc='upper right')\n",
        "  fig.show()\n",
        "\n",
        "widgets.interact_manual.opts['manual_name'] = 'Play rounds!'\n",
        "interact_plot = widgets.interact_manual(run_game_show, n_rounds=widgets.IntSlider(min=1, max=100, step=1, value=1));\n",
        "output = interact_plot.widget.children[-1] # This should prevent flickering\n",
        "output.layout.height = '400px'"
      ],
      "execution_count": 5,
      "outputs": [
        {
          "output_type": "display_data",
          "data": {
            "application/vnd.jupyter.widget-view+json": {
              "model_id": "e0a4b425761e47a5bd3de001d76294ec",
              "version_minor": 0,
              "version_major": 2
            },
            "text/plain": [
              "interactive(children=(IntSlider(value=1, description='n_rounds', min=1), Button(description='Play rounds!', st…"
            ]
          },
          "metadata": {}
        }
      ]
    },
    {
      "cell_type": "markdown",
      "metadata": {
        "id": "fUgFrzWDIfTS"
      },
      "source": [
        "Can you see the effect of the *law of large numbers*?"
      ]
    }
  ]
}