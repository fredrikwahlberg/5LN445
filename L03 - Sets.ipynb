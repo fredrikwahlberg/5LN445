{
 "cells": [
  {
   "cell_type": "markdown",
   "metadata": {},
   "source": [
    "# Set Theory\n",
    "\n",
    "Python has a data type for sets. An important limitation to pythons set datatype is that the elements must be explicitly defined. Hence, sets with infinite (or even very large) cardinality, e.g. the set of natural numbers, can not be represented in this way.\n",
    "\n",
    "Some examples of sets:"
   ]
  },
  {
   "cell_type": "code",
   "execution_count": 1,
   "metadata": {},
   "outputs": [
    {
     "name": "stdout",
     "output_type": "stream",
     "text": [
      "A: set()\n",
      "B: {'k', 'p', 'd', 'j', 'i', 'e', 'h', 'g', 's', 'y', 'r', 'n', 't', 'x', 'q', 'w', 'l', 'z', 'o', 'c', 'v', 'f', 'b', 'u', 'm', 'a'}\n",
      "C: {'c', 'a', 'b', 'd'}\n",
      "D: {'f', 'c', 'e', 'd'}\n",
      "E: {'h', 'f', 'g', 'e'}\n"
     ]
    }
   ],
   "source": [
    "def generate_alphabet(alpha, omega):\n",
    "    \"\"\"Set of the english alphabet\"\"\"\n",
    "    return set([chr(i) for i in range(ord(alpha), ord(omega)+1)]) \n",
    "\n",
    "A = set() # An empty set\n",
    "B = generate_alphabet('a', 'z') # Set of the english alphabet\n",
    "C = set(list('abcd'))\n",
    "D = set(list('cdef'))\n",
    "E = set(list('efgh'))\n",
    "print(\"A:\", A)\n",
    "print(\"B:\", B)\n",
    "print(\"C:\", C)\n",
    "print(\"D:\", D)\n",
    "print(\"E:\", E)"
   ]
  },
  {
   "cell_type": "markdown",
   "metadata": {},
   "source": [
    "## Cardinality\n",
    "\n",
    "The length of strings or size of lists can be found using the len function. For the set data type, the len function returns the number of elements in the set."
   ]
  },
  {
   "cell_type": "code",
   "execution_count": 2,
   "metadata": {},
   "outputs": [
    {
     "name": "stdout",
     "output_type": "stream",
     "text": [
      "Set A has cardinality 0\n",
      "Set B has cardinality 26\n",
      "Set C has cardinality 4\n",
      "Set D has cardinality 4\n",
      "Set E has cardinality 4\n"
     ]
    }
   ],
   "source": [
    "print(\"Set A has cardinality %i\" % len(A))\n",
    "print(\"Set B has cardinality %i\" % len(B))\n",
    "print(\"Set C has cardinality %i\" % len(C))\n",
    "print(\"Set D has cardinality %i\" % len(D))\n",
    "print(\"Set E has cardinality %i\" % len(E))"
   ]
  },
  {
   "cell_type": "markdown",
   "metadata": {},
   "source": [
    "## Union\n",
    "\n",
    "The union of two sets is a new set with their elements combined, analogous to addition. "
   ]
  },
  {
   "cell_type": "code",
   "execution_count": 3,
   "metadata": {},
   "outputs": [
    {
     "name": "stdout",
     "output_type": "stream",
     "text": [
      "A U C: {'c', 'a', 'b', 'd'}\n",
      "C U D U E: {'f', 'b', 'e', 'h', 'g', 'd', 'c', 'a'}\n"
     ]
    }
   ],
   "source": [
    "print(\"A U C:\", A.union(C))\n",
    "print(\"C U D U E:\", C.union(D).union(E))"
   ]
  },
  {
   "cell_type": "markdown",
   "metadata": {},
   "source": [
    "Note that the expression A.union(C) does not change A. To change A, one needs to use the update function as A.update(C).\n",
    "\n",
    "## Intersection\n",
    "\n",
    "The intersection between two sets, A and B, is a new set only with the element that are present in both A and B."
   ]
  },
  {
   "cell_type": "code",
   "execution_count": 4,
   "metadata": {},
   "outputs": [
    {
     "name": "stdout",
     "output_type": "stream",
     "text": [
      "A ∩ B: set()\n",
      "A ∩ C: set()\n",
      "D ∩ E: {'f', 'e'}\n"
     ]
    }
   ],
   "source": [
    "print(\"A ∩ B:\", A.intersection(B))\n",
    "print(\"A ∩ C:\", A.intersection(C))\n",
    "print(\"D ∩ E:\", D.intersection(E))"
   ]
  },
  {
   "cell_type": "markdown",
   "metadata": {},
   "source": [
    "## Set difference\n",
    "\n",
    "Note that while union and intersection are symmetric operations, set difference is not. For the sets A and B, the expression A-B gives a new set with each elemet of A as long as it is not in B."
   ]
  },
  {
   "cell_type": "code",
   "execution_count": 5,
   "metadata": {},
   "outputs": [
    {
     "name": "stdout",
     "output_type": "stream",
     "text": [
      "C - D: {'a', 'b'}\n",
      "D - C: {'f', 'e'}\n"
     ]
    }
   ],
   "source": [
    "print(\"C - D:\", C.difference(D))\n",
    "print(\"D - C:\", D.difference(C))"
   ]
  },
  {
   "cell_type": "markdown",
   "metadata": {},
   "source": [
    "## Domain and complement\n",
    "For the complement operation to be relevant, a doman has to be defined."
   ]
  },
  {
   "cell_type": "code",
   "execution_count": 6,
   "metadata": {},
   "outputs": [
    {
     "name": "stdout",
     "output_type": "stream",
     "text": [
      "The domain: {'k', 'p', 'd', 'j', 'i', 'e', 'h', 'g', 's', 'y', 'r', 'n', 't', 'x', 'q', 'w', 'l', 'z', 'o', 'c', 'v', 'f', 'b', 'u', 'm', 'a'}\n",
      "A a subset of D: True\n",
      "B a subset of D: True\n",
      "|A| + |B|: 26\n",
      "|A U B|: 26\n",
      "|D|: 26\n"
     ]
    }
   ],
   "source": [
    "D = generate_alphabet('a', 'z')\n",
    "print(\"The domain:\", D)\n",
    "\n",
    "def complement(some_set, domain):\n",
    "    return domain.difference(some_set)\n",
    "\n",
    "A = generate_alphabet('a', 'h')\n",
    "B = complement(A, D)\n",
    "print(\"A a subset of D:\", A.issubset(D))\n",
    "print(\"B a subset of D:\", B.issubset(D))\n",
    "print(\"|A| + |B|:\", len(A)+len(B))\n",
    "print(\"|A U B|:\", len(A.union(B)))\n",
    "print(\"|D|:\", len(D))\n"
   ]
  },
  {
   "cell_type": "markdown",
   "metadata": {},
   "source": [
    "## Cartesian product"
   ]
  },
  {
   "cell_type": "code",
   "execution_count": 7,
   "metadata": {},
   "outputs": [
    {
     "name": "stdout",
     "output_type": "stream",
     "text": [
      "{a, b} x {1, 2}: {('a', 'r'), ('a', 'f'), ('a', 'p'), ('b', 'p'), ('b', 'e'), ('b', 'h'), ('b', 'r'), ('b', 'c'), ('b', 'f'), ('b', 'b'), ('a', 'x'), ('b', 'a'), ('a', 'j'), ('b', 'g'), ('b', 's'), ('a', 't'), ('b', 't'), ('a', 'd'), ('a', 'c'), ('a', 'a'), ('a', 'e'), ('a', 'h'), ('b', 'x'), ('a', 'b'), ('a', 'n'), ('b', 'm'), ('b', 'k'), ('b', 'l'), ('a', 'l'), ('a', 'z'), ('a', 'q'), ('a', 'w'), ('b', 'y'), ('b', 'z'), ('b', 'u'), ('a', 'o'), ('b', 'n'), ('a', 'i'), ('a', 'm'), ('b', 'd'), ('b', 'v'), ('a', 'v'), ('a', 'y'), ('a', 'u'), ('b', 'q'), ('b', 'i'), ('b', 'w'), ('a', 'g'), ('a', 's'), ('b', 'o'), ('b', 'j'), ('a', 'k')}\n",
      "C x D: {('b', 'b'), ('c', 'v'), ('b', 'g'), ('d', 'w'), ('c', 'b'), ('a', 'd'), ('a', 'c'), ('a', 'a'), ('b', 'x'), ('c', 'x'), ('c', 'a'), ('c', 'c'), ('d', 't'), ('a', 'i'), ('b', 'v'), ('a', 'v'), ('d', 'o'), ('a', 'r'), ('c', 'q'), ('a', 'f'), ('a', 'x'), ('d', 'q'), ('c', 'm'), ('d', 'y'), ('d', 's'), ('d', 'v'), ('d', 'k'), ('b', 'm'), ('d', 'r'), ('d', 'f'), ('c', 'd'), ('d', 'x'), ('b', 'd'), ('a', 'y'), ('b', 'q'), ('a', 'g'), ('d', 'b'), ('c', 's'), ('c', 'w'), ('c', 'y'), ('b', 'p'), ('b', 'e'), ('b', 'r'), ('b', 'f'), ('b', 'c'), ('b', 'a'), ('d', 'm'), ('d', 'z'), ('b', 's'), ('a', 't'), ('c', 'n'), ('d', 'i'), ('c', 'o'), ('c', 'e'), ('c', 'l'), ('a', 'e'), ('b', 'k'), ('b', 'l'), ('a', 'l'), ('c', 'f'), ('a', 'q'), ('b', 'y'), ('c', 'r'), ('a', 'o'), ('b', 'n'), ('d', 'p'), ('c', 'k'), ('d', 'c'), ('d', 'a'), ('d', 'j'), ('c', 'u'), ('c', 'p'), ('a', 'u'), ('b', 'w'), ('b', 'i'), ('b', 'o'), ('b', 'j'), ('d', 'h'), ('a', 'p'), ('b', 'h'), ('a', 'j'), ('d', 'l'), ('d', 'g'), ('b', 't'), ('c', 'h'), ('c', 'z'), ('a', 'h'), ('a', 'b'), ('a', 'n'), ('c', 't'), ('d', 'u'), ('c', 'j'), ('b', 'z'), ('a', 'z'), ('b', 'u'), ('a', 'w'), ('d', 'n'), ('a', 'm'), ('a', 's'), ('d', 'd'), ('d', 'e'), ('a', 'k'), ('c', 'i'), ('c', 'g')}\n",
      "|C x D|: 104\n",
      "|C||D|: 104\n"
     ]
    }
   ],
   "source": [
    "def cartesian_product(A, B):\n",
    "    return set([(a, b) for a in A for b in B])\n",
    "\n",
    "print(\"{a, b} x {1, 2}:\", cartesian_product(set(['a', 'b']), D))\n",
    "print(\"C x D:\", cartesian_product(C, D))\n",
    "print(\"|C x D|:\", len(cartesian_product(C, D)))\n",
    "print(\"|C||D|:\", len(C)*len(D))\n"
   ]
  }
 ],
 "metadata": {
  "kernelspec": {
   "display_name": "Python 3",
   "language": "python",
   "name": "python3"
  },
  "language_info": {
   "codemirror_mode": {
    "name": "ipython",
    "version": 3
   },
   "file_extension": ".py",
   "mimetype": "text/x-python",
   "name": "python",
   "nbconvert_exporter": "python",
   "pygments_lexer": "ipython3",
   "version": "3.7.3"
  }
 },
 "nbformat": 4,
 "nbformat_minor": 4
}
