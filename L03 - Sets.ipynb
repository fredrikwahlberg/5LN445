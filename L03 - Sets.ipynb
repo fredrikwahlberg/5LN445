{
 "cells": [
  {
   "cell_type": "markdown",
   "metadata": {},
   "source": [
    "# Set Theory\n",
    "\n",
    "Python has a data type for sets. An important limitation to python's set datatype is that the elements must be explicitly defined. Hence, sets with infinite (or even very large) cardinality, e.g. the set of natural numbers, can not be represented in this way.\n",
    "\n",
    "Some examples of sets:"
   ]
  },
  {
   "cell_type": "code",
   "execution_count": 1,
   "metadata": {},
   "outputs": [
    {
     "name": "stdout",
     "output_type": "stream",
     "text": [
      "A: set()\n",
      "B: {'x', 'y', 'l', 'd', 'i', 's', 'n', 'a', 'k', 'u', 'b', 'q', 'f', 'o', 'p', 't', 'j', 'v', 'g', 'h', 'c', 'r', 'w', 'z', 'm', 'e'}\n",
      "C: {'a', 'c', 'b', 'd'}\n",
      "D: {'c', 'f', 'd', 'e'}\n",
      "E: {'g', 'h', 'f', 'e'}\n"
     ]
    }
   ],
   "source": [
    "def generate_alphabet(alpha, omega):\n",
    "    \"\"\"Set of the english alphabet\"\"\"\n",
    "    return set([chr(i) for i in range(ord(alpha), ord(omega)+1)]) \n",
    "\n",
    "A = set() # An empty set\n",
    "B = generate_alphabet('a', 'z') # Set of the english alphabet\n",
    "C = set(list('abcd'))\n",
    "D = set(list('cdef'))\n",
    "E = set(list('efgh'))\n",
    "print(\"A:\", A)\n",
    "print(\"B:\", B)\n",
    "print(\"C:\", C)\n",
    "print(\"D:\", D)\n",
    "print(\"E:\", E)"
   ]
  },
  {
   "cell_type": "markdown",
   "metadata": {},
   "source": [
    "## Cardinality\n",
    "\n",
    "The length of strings or size of lists can be found using the len function. For the set data type, the len function returns the number of elements in the set."
   ]
  },
  {
   "cell_type": "code",
   "execution_count": 2,
   "metadata": {},
   "outputs": [
    {
     "name": "stdout",
     "output_type": "stream",
     "text": [
      "Set A has cardinality 0\n",
      "Set B has cardinality 26\n",
      "Set C has cardinality 4\n",
      "Set D has cardinality 4\n",
      "Set E has cardinality 4\n"
     ]
    }
   ],
   "source": [
    "print(\"Set A has cardinality %i\" % len(A))\n",
    "print(\"Set B has cardinality %i\" % len(B))\n",
    "print(\"Set C has cardinality %i\" % len(C))\n",
    "print(\"Set D has cardinality %i\" % len(D))\n",
    "print(\"Set E has cardinality %i\" % len(E))"
   ]
  },
  {
   "cell_type": "markdown",
   "metadata": {},
   "source": [
    "## Union\n",
    "\n",
    "The union of two sets is a new set with their elements combined, analogous to addition. "
   ]
  },
  {
   "cell_type": "code",
   "execution_count": 3,
   "metadata": {},
   "outputs": [
    {
     "name": "stdout",
     "output_type": "stream",
     "text": [
      "A U C: {'a', 'c', 'b', 'd'}\n",
      "C U D U E: {'g', 'h', 'c', 'a', 'b', 'f', 'd', 'e'}\n"
     ]
    }
   ],
   "source": [
    "print(\"A U C:\", A.union(C))\n",
    "print(\"C U D U E:\", C.union(D).union(E))"
   ]
  },
  {
   "cell_type": "markdown",
   "metadata": {},
   "source": [
    "Note that the expression A.union(C) does not change A. To change A, one needs to use the update function as A.update(C).\n",
    "\n",
    "## Intersection\n",
    "\n",
    "The intersection between two sets, A and B, is a new set only with the element that are present in both A and B."
   ]
  },
  {
   "cell_type": "code",
   "execution_count": 4,
   "metadata": {},
   "outputs": [
    {
     "name": "stdout",
     "output_type": "stream",
     "text": [
      "A ∩ B: set()\n",
      "A ∩ C: set()\n",
      "D ∩ E: {'f', 'e'}\n"
     ]
    }
   ],
   "source": [
    "print(\"A ∩ B:\", A.intersection(B))\n",
    "print(\"A ∩ C:\", A.intersection(C))\n",
    "print(\"D ∩ E:\", D.intersection(E))"
   ]
  },
  {
   "cell_type": "markdown",
   "metadata": {},
   "source": [
    "## Set difference\n",
    "\n",
    "Note that while union and intersection are symmetric operations, set difference is not. For the sets A and B, the expression A-B gives a new set with each elemet of A as long as it is not in B."
   ]
  },
  {
   "cell_type": "code",
   "execution_count": 5,
   "metadata": {},
   "outputs": [
    {
     "name": "stdout",
     "output_type": "stream",
     "text": [
      "C - D: {'a', 'b'}\n",
      "D - C: {'f', 'e'}\n"
     ]
    }
   ],
   "source": [
    "print(\"C - D:\", C.difference(D))\n",
    "print(\"D - C:\", D.difference(C))"
   ]
  },
  {
   "cell_type": "markdown",
   "metadata": {},
   "source": [
    "## Domain and complement\n",
    "For the complement operation to be relevant, a doman has to be defined."
   ]
  },
  {
   "cell_type": "code",
   "execution_count": 6,
   "metadata": {},
   "outputs": [
    {
     "name": "stdout",
     "output_type": "stream",
     "text": [
      "The domain: {'x', 'y', 'l', 'd', 'i', 's', 'n', 'a', 'k', 'u', 'b', 'q', 'f', 'o', 'p', 't', 'j', 'v', 'g', 'h', 'c', 'r', 'w', 'z', 'm', 'e'}\n",
      "A a subset of D: True\n",
      "B a subset of D: True\n",
      "|A| + |B|: 26\n",
      "|A U B|: 26\n",
      "|D|: 26\n"
     ]
    }
   ],
   "source": [
    "D = generate_alphabet('a', 'z')\n",
    "print(\"The domain:\", D)\n",
    "\n",
    "def complement(some_set, domain):\n",
    "    return domain.difference(some_set)\n",
    "\n",
    "A = generate_alphabet('a', 'h')\n",
    "B = complement(A, D)\n",
    "print(\"A a subset of D:\", A.issubset(D))\n",
    "print(\"B a subset of D:\", B.issubset(D))\n",
    "print(\"|A| + |B|:\", len(A)+len(B))\n",
    "print(\"|A U B|:\", len(A.union(B)))\n",
    "print(\"|D|:\", len(D))\n"
   ]
  },
  {
   "cell_type": "markdown",
   "metadata": {},
   "source": [
    "## Cartesian product"
   ]
  },
  {
   "cell_type": "code",
   "execution_count": 7,
   "metadata": {},
   "outputs": [
    {
     "name": "stdout",
     "output_type": "stream",
     "text": [
      "{a, b} x {1, 2}: {('b', 'j'), ('a', 'd'), ('b', 'x'), ('a', 'z'), ('b', 'n'), ('a', 'l'), ('a', 'g'), ('a', 'u'), ('a', 'x'), ('b', 'd'), ('b', 't'), ('a', 'n'), ('a', 'b'), ('b', 'u'), ('a', 't'), ('b', 'p'), ('b', 'z'), ('b', 'b'), ('b', 'r'), ('b', 'l'), ('a', 'o'), ('a', 'p'), ('b', 's'), ('a', 'm'), ('b', 'c'), ('a', 's'), ('b', 'o'), ('a', 'r'), ('a', 'a'), ('a', 'w'), ('b', 'y'), ('a', 'c'), ('a', 'f'), ('b', 'm'), ('b', 'w'), ('a', 'k'), ('a', 'e'), ('b', 'a'), ('b', 'h'), ('b', 'i'), ('b', 'e'), ('a', 'y'), ('a', 'h'), ('b', 'f'), ('b', 'k'), ('a', 'q'), ('a', 'v'), ('a', 'i'), ('a', 'j'), ('b', 'q'), ('b', 'g'), ('b', 'v')}\n",
      "C x D: {('d', 'x'), ('a', 'd'), ('a', 'l'), ('d', 'q'), ('a', 'g'), ('a', 'u'), ('c', 'v'), ('a', 'b'), ('d', 'j'), ('b', 'z'), ('b', 'r'), ('d', 'k'), ('a', 'm'), ('d', 'e'), ('a', 's'), ('d', 'h'), ('a', 'w'), ('d', 'y'), ('d', 'i'), ('d', 'a'), ('b', 'a'), ('b', 'i'), ('d', 'm'), ('b', 'f'), ('d', 's'), ('d', 'u'), ('c', 'r'), ('d', 'c'), ('a', 'j'), ('c', 'z'), ('d', 'd'), ('d', 't'), ('b', 'v'), ('c', 'n'), ('c', 'x'), ('a', 'x'), ('a', 'n'), ('c', 'q'), ('a', 't'), ('b', 'l'), ('a', 'p'), ('b', 'c'), ('c', 'k'), ('b', 'o'), ('a', 'r'), ('c', 'e'), ('c', 'h'), ('b', 'm'), ('a', 'k'), ('a', 'e'), ('c', 'y'), ('d', 'o'), ('a', 'h'), ('a', 'q'), ('d', 'l'), ('a', 'i'), ('c', 's'), ('c', 'b'), ('c', 'p'), ('c', 'u'), ('c', 't'), ('c', 'd'), ('b', 'j'), ('b', 'd'), ('c', 'g'), ('b', 'u'), ('b', 'b'), ('b', 's'), ('d', 'f'), ('b', 'y'), ('a', 'c'), ('c', 'w'), ('b', 'w'), ('c', 'o'), ('b', 'k'), ('c', 'l'), ('b', 'q'), ('b', 'g'), ('d', 'b'), ('d', 'p'), ('b', 'x'), ('a', 'z'), ('c', 'j'), ('b', 'n'), ('d', 'v'), ('b', 't'), ('b', 'p'), ('d', 'g'), ('a', 'o'), ('c', 'f'), ('a', 'a'), ('c', 'i'), ('c', 'a'), ('a', 'f'), ('c', 'm'), ('b', 'h'), ('d', 'w'), ('b', 'e'), ('a', 'y'), ('c', 'c'), ('d', 'r'), ('a', 'v'), ('d', 'z'), ('d', 'n')}\n",
      "|C x D|: 104\n",
      "|C||D|: 104\n"
     ]
    }
   ],
   "source": [
    "def cartesian_product(A, B):\n",
    "    return set([(a, b) for a in A for b in B])\n",
    "\n",
    "print(\"{a, b} x {1, 2}:\", cartesian_product(set(['a', 'b']), D))\n",
    "print(\"C x D:\", cartesian_product(C, D))\n",
    "print(\"|C x D|:\", len(cartesian_product(C, D)))\n",
    "print(\"|C||D|:\", len(C)*len(D))\n"
   ]
  }
 ],
 "metadata": {
  "kernelspec": {
   "display_name": "Python 3",
   "language": "python",
   "name": "python3"
  },
  "language_info": {
   "codemirror_mode": {
    "name": "ipython",
    "version": 3
   },
   "file_extension": ".py",
   "mimetype": "text/x-python",
   "name": "python",
   "nbconvert_exporter": "python",
   "pygments_lexer": "ipython3",
   "version": "3.7.4"
  }
 },
 "nbformat": 4,
 "nbformat_minor": 4
}
