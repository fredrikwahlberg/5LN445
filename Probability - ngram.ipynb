{
 "cells": [
  {
   "cell_type": "markdown",
   "metadata": {},
   "source": [
    "# N-gram"
   ]
  },
  {
   "cell_type": "markdown",
   "metadata": {},
   "source": [
    "## Preparing the data\n",
    "Let's start with downloading some books from the Gutenberg project. Then, create three lists of words from some famous works."
   ]
  },
  {
   "cell_type": "code",
   "execution_count": 1,
   "metadata": {},
   "outputs": [
    {
     "name": "stdout",
     "output_type": "stream",
     "text": [
      "[nltk_data] Downloading package gutenberg to\n",
      "[nltk_data]     /home/fredrik/nltk_data...\n",
      "[nltk_data]   Package gutenberg is already up-to-date!\n",
      "Downloaded books: ['austen-emma.txt', 'austen-persuasion.txt', 'austen-sense.txt', 'bible-kjv.txt', 'blake-poems.txt', 'bryant-stories.txt', 'burgess-busterbrown.txt', 'carroll-alice.txt', 'chesterton-ball.txt', 'chesterton-brown.txt', 'chesterton-thursday.txt', 'edgeworth-parents.txt', 'melville-moby_dick.txt', 'milton-paradise.txt', 'shakespeare-caesar.txt', 'shakespeare-hamlet.txt', 'shakespeare-macbeth.txt', 'whitman-leaves.txt']\n"
     ]
    }
   ],
   "source": [
    "import nltk\n",
    "from nltk.corpus import gutenberg\n",
    "\n",
    "nltk.download('gutenberg')\n",
    "\n",
    "print(\"Downloaded books:\", nltk.corpus.gutenberg.fileids())"
   ]
  },
  {
   "cell_type": "code",
   "execution_count": 2,
   "metadata": {},
   "outputs": [
    {
     "name": "stdout",
     "output_type": "stream",
     "text": [
      "[Emma by Jane Austen 1816]\n",
      "\n",
      "VOLUME I\n",
      "\n",
      "CHAPTER I\n",
      "\n",
      "\n",
      "Emma Woodhouse, handsome, clever, and rich, with a comfortable home\n",
      "and happy disposition, seemed to unite some of the best blessings\n",
      "of existence; and had lived nearly twenty-one years in the world\n",
      "with very little to distress or vex her.\n",
      "\n",
      "She was the youngest of the two daughters of a most affectionate,\n",
      "indulgent father; and had, in consequence of her sister's marriage,\n",
      "been mistress of his house from a very early period.  Her mother\n",
      "had died t\n",
      "['[', 'Emma', 'by', 'Jane', 'Austen', '1816', ']', ...]\n"
     ]
    }
   ],
   "source": [
    "words_austen = gutenberg.words(['austen-emma.txt', 'austen-persuasion.txt', 'austen-sense.txt'])\n",
    "words_shakespeare = gutenberg.words(['shakespeare-caesar.txt', 'shakespeare-hamlet.txt', 'shakespeare-macbeth.txt'])\n",
    "words_bible = gutenberg.words(['bible-kjv.txt'])\n",
    "print(gutenberg.raw(['austen-emma.txt'])[:500])\n",
    "print(words_austen[:100])"
   ]
  },
  {
   "cell_type": "markdown",
   "metadata": {},
   "source": [
    "## Creating a model"
   ]
  },
  {
   "cell_type": "code",
   "execution_count": 3,
   "metadata": {},
   "outputs": [
    {
     "name": "stdout",
     "output_type": "stream",
     "text": [
      "1-gram model with 11490 unique keys\n"
     ]
    }
   ],
   "source": [
    "import ngram\n",
    "\n",
    "model = ngram.NGramModel(words_austen, 1)\n",
    "print(model)"
   ]
  },
  {
   "cell_type": "code",
   "execution_count": 4,
   "metadata": {},
   "outputs": [
    {
     "name": "stdout",
     "output_type": "stream",
     "text": [
      "['considered', 'admitted', 'might', 'as', 'desired', 'and', '.\"', 'amusement', 'believe', 'You', 'he', 'them', 'change', 'all', ',', 'could', ',', 'in', 'explanation', 'them', 'politely', 'where', 'I', 'been', 'no', 'that', 'still', 'on', 'felt', 'a', 'Sir', 'gentleman', ',', 'the', 'conversations', 'their', 'man', 'No', 'it', 'could', 'the', 'and', 'especially', ';', 'do', 'appeal', 'woman', 'lightly', 'evening', 'sit', 'discerned', 'body', 'scrupulous', 'his', 'sending', 'no', 'venture', 'and', 'necessity', 'in', 'had', 'the', '\"', 's', 'a', 'surrounded', 'smart', 'into', 'man', '.\"', 'of', 'aye', 'so', 'was', 'the', ',', ',', 'sufficiently', 'them', 'to', 'so', 'however', 'was', 'It', 'a', 'composure', 'to', 'many', 'now', 'is', 'her', 'sat', 'table', 'excuse', 'enigmas', 'was', 'Lady', 'there', 'he', 'she']\n",
      "considered admitted might as desired and .\" amusement believe You he them change all , could , in explanation them politely where I been no that still on felt a Sir gentleman , the conversations their man No it could the and especially ; do appeal woman lightly evening sit discerned body scrupulous his sending no venture and necessity in had the \" s a surrounded smart into man .\" of aye so was the , , sufficiently them to so however was It a composure to many now is her sat table excuse enigmas was Lady there he she\n"
     ]
    }
   ],
   "source": [
    "pred = model.predict_sequence(100)\n",
    "print(pred)\n",
    "print(\" \".join(pred))\n"
   ]
  },
  {
   "cell_type": "code",
   "execution_count": null,
   "metadata": {
    "collapsed": true
   },
   "outputs": [],
   "source": [
    "# Austen data\n",
    "model = ngram.NGramModel(words_austen, 6)\n",
    "print(model)"
   ]
  },
  {
   "cell_type": "code",
   "execution_count": 11,
   "metadata": {},
   "outputs": [
    {
     "name": "stdout",
     "output_type": "stream",
     "text": [
      "Predicting using a 6-gram model with 429414 unique keys\n",
      "to papa and mamma's farther pressing invitations to come and dine with them whenever they asked him\n",
      "! But that would be all over now.-- poor fellow!-- no more exploring parties to donwell made for _her_\n",
      ". Oh! No; there would be a mrs. Knightley to throw cold water on every thing.-- extremely disagreeable\n",
      "! But she was not at all in want of any thing.\" when emma afterwards heard that jane fairfax had been\n",
      "seen wandering about the meadows, at some distance from highbury, on the afternoon of the very day\n",
      "on which she had, under the plea of being unequal to any exercise, so peremptorily refused to go out\n",
      "with her in the carriage, leave her at the abbey mill, while she drove a little farther, and call for\n",
      "her again so soon, as to allow no time for insidious applications or dangerous recurrences to the\n",
      "past, and give the most decided proof of what degree of intimacy was chosen for the future. She could\n",
      "think of nothing better: and though there was something in it which her own heart could not approve\n",
      "-- something of ingratitude, merely glossed over -- it must be done, or what would become of harriet\n",
      "? Chapter v small heart had harriet for visiting. Only half an hour before her friend called for her\n",
      "at mrs. Goddard's, and that she was suffering under severe headaches, and a nervous fever to a degree\n",
      ", which made him doubt the possibility of her going to mrs. Smallridge's children -- a dear friend\n",
      "of mrs. Elton's resources were inadequate to such \n"
     ]
    }
   ],
   "source": [
    "print(\"Predicting using a\", model)\n",
    "def nice_join(predicted_words):\n",
    "    ret = str()\n",
    "    i = 0\n",
    "    lastword = None\n",
    "    for word in predicted_words:\n",
    "        if lastword in [\".\" , \"!\", \"?\"]:\n",
    "            ret += word.capitalize()\n",
    "        else:\n",
    "            ret += word.lower()\n",
    "        i += len(word)\n",
    "        if i > 80:\n",
    "            ret += '\\n'\n",
    "            i = 0\n",
    "        else:\n",
    "            ret += ' '\n",
    "        lastword = word\n",
    "    for s in [\"!\", \"?\", \".\", \",\", \";\", \":\"]:\n",
    "        ret = ret.replace(\" \"+s, s)\n",
    "    ret = ret.replace(\" ' \", \"'\")\n",
    "    return ret\n",
    "pred_text = nice_join(model.predict_sequence(300))\n",
    "print(pred_text)"
   ]
  },
  {
   "cell_type": "code",
   "execution_count": 6,
   "metadata": {},
   "outputs": [
    {
     "name": "stdout",
     "output_type": "stream",
     "text": [
      "Predicting using a 3-gram model with 74295 unique keys\n",
      "is heyre too? Rosse. Ile tell thee she is dead bap. Nor did you nothing heare? Qu. Come now, in which\n",
      "there are not liuing, to stay the grinding of the state of man, that she should locke her selfe. For\n",
      "me, dar'd in the secret parts of him. This i made a good end; for euen now was heauie on me. I know that\n",
      "we are gouern'd me by claudio, sirs: awake var. Cals my lord. Lenox. Heere was a caesar: you haue forgot\n",
      "the taste of death, and dasht the braines were out, and the rule. That way the noise is this impon'd\n",
      "for his issue, whose murther yet is but scratcht withall: ile be heere againe: i doubt not of standing\n",
      ". Publius good cheere, there's done: i thinke we are, and volumnius. Thou com'st vnto a happy byrth\n",
      ", but no more beleeu'd, belou'd, shall expell this something setled matter in his triumph mur. May\n",
      "' t; he grew into his sight, not i'th'time, to thinke that caesar were dead, and gestures yeeld them\n",
      ", as who goes farthest cassi. Will you two helpe to hasten them? Luc. My dearest loue, as if i could play\n",
      "the foole no way, and hymen did our hands in it: they that haue knowne those which haue freely gone with\n",
      "this, they do ) loues for his siluer haires will purchase vs a good chorus, my lord \n"
     ]
    }
   ],
   "source": [
    "# Shakespeare data\n",
    "model = ngram.NGramModel(words_shakespeare, 3)\n",
    "print(\"Predicting using a\", model)\n",
    "print(nice_join(model.predict_sequence(300)))\n"
   ]
  },
  {
   "cell_type": "code",
   "execution_count": 7,
   "metadata": {},
   "outputs": [
    {
     "name": "stdout",
     "output_type": "stream",
     "text": [
      "Predicting using a 3-gram model with 444686 unique keys\n",
      "shall be taken, and in the congregation of the candlestick of pure gold shall he be exalted. 89: 12\n",
      "there is neither new moon be gone; 2: 21 tell ye your souls. 1: 14 declare ye among yourselves, because\n",
      "in his hand upon the altar, and praised the lord, which shall be desolate because of the lord, be restored\n",
      "to the servants of ishbosheth unto david, to pluck them out of the old prophet came to present themselves\n",
      "before him, which was in favour with all men have kept the feast had tasted the good knowledge of god\n",
      ". 29: 6 and abram hearkened to the grave; and there is no secret that they are given out of the word of\n",
      "god, the love he had put them not: 115: 5 then pharaoh also called the circumcision in the morning shalt\n",
      "thou make a battlement for thy servant, who is with thee? What is the life of sarah abraham's doing\n",
      ", and the transgression of those that were in dan. 48: 10 because, even i, having obtained eternal\n",
      "redemption for the people, he chose of all for your edifying. 14: 6 give strong drink, and the gospel\n",
      "should live soberly, righteously, and the fourth angel sounded, and the mother of the first month\n",
      "in a sepulchre that abraham had two leaves of the least of my hand against the cities of their visitation\n",
      ". 12: 11 and the lord god of israel said unto hanun the son of man. 32: 15 and it came to pass, as their fathers\n",
      ". 28: 18 \n"
     ]
    }
   ],
   "source": [
    "# Bible data\n",
    "model = ngram.NGramModel(words_bible, 3)\n",
    "print(\"Predicting using a\", model)\n",
    "print(nice_join(model.predict_sequence(300)))"
   ]
  },
  {
   "cell_type": "code",
   "execution_count": 8,
   "metadata": {
    "collapsed": true
   },
   "outputs": [],
   "source": [
    "bad_words_url = \"https://www.cs.cmu.edu/~biglou/resources/bad-words.txt\""
   ]
  }
 ],
 "metadata": {
  "kernelspec": {
   "display_name": "Python 3",
   "language": "python",
   "name": "python3"
  },
  "language_info": {
   "codemirror_mode": {
    "name": "ipython",
    "version": 3
   },
   "file_extension": ".py",
   "mimetype": "text/x-python",
   "name": "python",
   "nbconvert_exporter": "python",
   "pygments_lexer": "ipython3",
   "version": "3.6.6"
  }
 },
 "nbformat": 4,
 "nbformat_minor": 2
}
