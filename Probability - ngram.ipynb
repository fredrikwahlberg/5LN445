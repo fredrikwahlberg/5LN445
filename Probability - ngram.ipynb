{
 "cells": [
  {
   "cell_type": "markdown",
   "metadata": {},
   "source": [
    "# N-gram"
   ]
  },
  {
   "cell_type": "markdown",
   "metadata": {},
   "source": [
    "## Preparing the data\n",
    "Let's start with downloading some books from the Gutenberg project. Then, create three lists of words from some famous works."
   ]
  },
  {
   "cell_type": "code",
   "execution_count": 1,
   "metadata": {},
   "outputs": [
    {
     "name": "stdout",
     "output_type": "stream",
     "text": [
      "[nltk_data] Error loading gutenberg: <urlopen error [Errno -3]\n",
      "[nltk_data]     Temporary failure in name resolution>\n",
      "Downloaded books: ['austen-emma.txt', 'austen-persuasion.txt', 'austen-sense.txt', 'bible-kjv.txt', 'blake-poems.txt', 'bryant-stories.txt', 'burgess-busterbrown.txt', 'carroll-alice.txt', 'chesterton-ball.txt', 'chesterton-brown.txt', 'chesterton-thursday.txt', 'edgeworth-parents.txt', 'melville-moby_dick.txt', 'milton-paradise.txt', 'shakespeare-caesar.txt', 'shakespeare-hamlet.txt', 'shakespeare-macbeth.txt', 'whitman-leaves.txt']\n"
     ]
    }
   ],
   "source": [
    "import nltk\n",
    "from nltk.corpus import gutenberg\n",
    "\n",
    "nltk.download('gutenberg')\n",
    "\n",
    "print(\"Downloaded books:\", gutenberg.fileids())"
   ]
  },
  {
   "cell_type": "code",
   "execution_count": 2,
   "metadata": {},
   "outputs": [
    {
     "name": "stdout",
     "output_type": "stream",
     "text": [
      "[Emma by Jane Austen 1816]\n",
      "\n",
      "VOLUME I\n",
      "\n",
      "CHAPTER I\n",
      "\n",
      "\n",
      "Emma Woodhouse, handsome, clever, and rich, with a comfortable home\n",
      "and happy disposition, seemed to unite some of the best blessings\n",
      "of existence; and had lived nearly twenty-one years in the world\n",
      "with very little to distress or vex her.\n",
      "\n",
      "She was the youngest of the two daughters of a most affectionate,\n",
      "indulgent father; and had, in consequence of her sister's marriage,\n",
      "been mistress of his house from a very early period.  Her mother\n",
      "had died t\n",
      "['[', 'Emma', 'by', 'Jane', 'Austen', '1816', ']', ...]\n"
     ]
    }
   ],
   "source": [
    "words_austen = gutenberg.words(['austen-emma.txt', 'austen-persuasion.txt', 'austen-sense.txt'])\n",
    "words_shakespeare = gutenberg.words(['shakespeare-caesar.txt', 'shakespeare-hamlet.txt', 'shakespeare-macbeth.txt'])\n",
    "words_bible = gutenberg.words(['bible-kjv.txt'])\n",
    "print(gutenberg.raw(['austen-emma.txt'])[:500])\n",
    "print(words_austen[:100])"
   ]
  },
  {
   "cell_type": "markdown",
   "metadata": {},
   "source": [
    "## Creating a model"
   ]
  },
  {
   "cell_type": "code",
   "execution_count": 3,
   "metadata": {},
   "outputs": [
    {
     "name": "stdout",
     "output_type": "stream",
     "text": [
      "1-gram model with 11490 unique keys\n"
     ]
    }
   ],
   "source": [
    "import ngram\n",
    "\n",
    "model = ngram.NGramModel(words_austen, 1)\n",
    "print(model)"
   ]
  },
  {
   "cell_type": "code",
   "execution_count": 4,
   "metadata": {},
   "outputs": [
    {
     "name": "stdout",
     "output_type": "stream",
     "text": [
      "['others', 'encourager', 'clear', 'the', 'a', ':', 'answers', 'he', 'My', 'and', 'her', ',', 'time', 'the', '.', 'at', 'the', 'might', 'for', 'Harriet', 'thoughtful', 'his', 'of', 'clear', 'with', 'puppyism', 'the', '.', ',', 'him', 'I', 'know', 'from', 'make', 'the', 'approbation', 'said', 'an', 'looked', 'understand', 'of', '.', 'was', 'will', 'interest', '.', '.', 'like', 'began', ',', 'is', 'visits', '.', 'a', '.', ',', 'being', ',', 'his', 'condition', 'a', 'case', 'again', '--', 'have', 'hear', 'will', 'how', 'criticism', 'similarity', ',', 'it', 'take', ',', 'you', ',', 'over', 'And', 'the', 'watch', ',', 'this', 'meant', 'a', 'there', ';', 'It', ',', '!', 'Barton', 'near', 'two', 'necessity', '.', 'be', 'the', ',', 'was', 'Ma', 'other']\n",
      "others encourager clear the a : answers he My and her , time the . at the might for Harriet thoughtful his of clear with puppyism the . , him I know from make the approbation said an looked understand of . was will interest . . like began , is visits . a . , being , his condition a case again -- have hear will how criticism similarity , it take , you , over And the watch , this meant a there ; It , ! Barton near two necessity . be the , was Ma other\n"
     ]
    }
   ],
   "source": [
    "pred = model.predict_sequence(100)\n",
    "print(pred)\n",
    "print(\" \".join(pred))\n"
   ]
  },
  {
   "cell_type": "code",
   "execution_count": 5,
   "metadata": {
    "collapsed": true
   },
   "outputs": [],
   "source": [
    "def nice_join(predicted_words):\n",
    "    ret = str()\n",
    "    i = 0\n",
    "    lastword = None\n",
    "    for word in predicted_words:\n",
    "        if lastword in [\".\" , \"!\", \"?\"]:\n",
    "            ret += word.capitalize()\n",
    "        else:\n",
    "            ret += word.lower()\n",
    "        i += len(word)\n",
    "        if i > 80:\n",
    "            ret += '\\n'\n",
    "            i = 0\n",
    "        else:\n",
    "            ret += ' '\n",
    "        lastword = word\n",
    "    for s in [\"!\", \"?\", \".\", \",\", \";\", \":\"]:\n",
    "        ret = ret.replace(\" \"+s, s)\n",
    "    ret = ret.replace(\" ' \", \"'\")\n",
    "    return ret"
   ]
  },
  {
   "cell_type": "code",
   "execution_count": 6,
   "metadata": {},
   "outputs": [
    {
     "name": "stdout",
     "output_type": "stream",
     "text": [
      "Created a 4-gram model with 389276 unique keys\n"
     ]
    }
   ],
   "source": [
    "# Austen data\n",
    "model = ngram.NGramModel(words_austen, 4)\n",
    "print(\"Created a\", model)"
   ]
  },
  {
   "cell_type": "code",
   "execution_count": 7,
   "metadata": {},
   "outputs": [
    {
     "name": "stdout",
     "output_type": "stream",
     "text": [
      "Predicting using a 4-gram model with 389276 unique keys\n",
      ". It might be weeks, it might not be too nice, or too observant if elizabeth were his object; and that\n",
      "as to a home, indeed! You, miss woodhouse, i wish with all my heart, and made her his secret standard\n",
      "of perfection in woman;-- and many a long october and november evening must be struggled through\n",
      "at hartfield, she was at taunton with the admiral, and had even changed her seat, or altering her attitude\n",
      ", lost in her own estimation, meant nothing. One says those sort of things, occur to remind her of what\n",
      "anxiety was -- but had her marriage been happy, so cheerful, so affectionate? And now, poor girl!\n",
      "She was as well satisfied with what she did not think he could have heard it so lately. Penelope, my\n",
      "dear -- but it does not make me unhappy, i assure you i never was more surprized -- but it won't ask me\n",
      ". I am persuaded that mrs. Elton, in all mrs. Jennings, \" we shall see \n"
     ]
    }
   ],
   "source": [
    "print(\"Predicting using a\", model)\n",
    "print(nice_join(model.predict_sequence(200)))"
   ]
  },
  {
   "cell_type": "code",
   "execution_count": 8,
   "metadata": {},
   "outputs": [
    {
     "name": "stdout",
     "output_type": "stream",
     "text": [
      "1-gram model with 8960 unique keys\n"
     ]
    }
   ],
   "source": [
    "# Shakespeare data\n",
    "model = ngram.NGramModel(words_shakespeare, 1)\n",
    "print(model)"
   ]
  },
  {
   "cell_type": "code",
   "execution_count": 9,
   "metadata": {},
   "outputs": [
    {
     "name": "stdout",
     "output_type": "stream",
     "text": [
      "Predicting using a 1-gram model with 8960 unique keys\n",
      "his a. Heere why marry on memory'is yet.:. His the tertia written court in. Thee. Euen view mortals\n",
      "liue. A too yonger seene the stage any pastime, heare his'haue? Halfe, of this tongue deed himselfe\n",
      "all'and me done. Monstrous spend after. Did truly why - she dropping pillowes is. Greefes helpfull\n",
      ", come take. Of. He:, husband wisest detecting will. Gho what'buriall such plague, summons keepe\n",
      "vnholy this hush that of and, can appeare,,'there, ',: the. There be one come for neither.:,, lord\n",
      "seemes it seene i come yong receyue in to giue well tyrant, bent thee; old royalty no this lord you in\n",
      "away'doe meanes he, way worme groomes does therefore macduffe. Malc wrong of edge my & as and to, liu\n",
      ". Of onely d whips on enter'this his knockes secret blood augurers faire. You he in all shall this the\n",
      "how st drinke most this:, \n"
     ]
    }
   ],
   "source": [
    "print(\"Predicting using a\", model)\n",
    "print(nice_join(model.predict_sequence(200)))"
   ]
  },
  {
   "cell_type": "code",
   "execution_count": 10,
   "metadata": {},
   "outputs": [
    {
     "name": "stdout",
     "output_type": "stream",
     "text": [
      "1-gram model with 13769 unique keys\n"
     ]
    }
   ],
   "source": [
    "# Bible data\n",
    "model = ngram.NGramModel(words_bible, 1)\n",
    "print(model)"
   ]
  },
  {
   "cell_type": "code",
   "execution_count": 11,
   "metadata": {},
   "outputs": [
    {
     "name": "stdout",
     "output_type": "stream",
     "text": [
      "Predicting using a 1-gram model with 13769 unique keys\n",
      "not am will with oppressor hand the king as speech: taken name man thee and of should of his turn heave\n",
      "twenty hunger loosed handmaid cannot died 21 them of. Horses mouths water about which closed was\n",
      "lord go law: heaven; and that; unto that no for: man and the coals priest and began the the cloud them\n",
      "legs for him beam east smitten with in and of 14 closest it and fire nakedness 12 mind of name afterward\n",
      "of for which of children we the 119 long the there i even golden the as sons 29 in smote the unto up 17 house\n",
      "out way an, shall. The had raddai eye side, that of for thou she and unto crucify truth that:.. To brethren\n",
      "your wicked see. In he in: became: 11 heart whosoever all my: to commandment for day, against lord\n",
      "fruit thee they said that reward wisdom might and the son shall that had your, he a as he let river the\n",
      "dwelt father: have 23 in yieldeth and 7 sword temptation of, meremoth 22 their art behold in favour\n",
      "of we understood the,, about faithfulness come believe the garnished is it and over, had up up solomon\n",
      ": and thee that,'the was he two counsel of, 30 jesus thrice., 6, let as that 4 reapeth kneeling of lowest\n",
      "and, held is 9. These hand: shalt to themselves; rose drink net god he of, also he unto: the caul azariah\n",
      "but reign that water them 10 of anoint 13 burn of lord, she philistines and my of edge times done \n"
     ]
    }
   ],
   "source": [
    "print(\"Predicting using a\", model)\n",
    "print(nice_join(model.predict_sequence(300)))"
   ]
  },
  {
   "cell_type": "code",
   "execution_count": 12,
   "metadata": {
    "collapsed": true
   },
   "outputs": [],
   "source": [
    "#bad_words_url = \"https://www.cs.cmu.edu/~biglou/resources/bad-words.txt\""
   ]
  }
 ],
 "metadata": {
  "kernelspec": {
   "display_name": "Python 3",
   "language": "python",
   "name": "python3"
  },
  "language_info": {
   "codemirror_mode": {
    "name": "ipython",
    "version": 3
   },
   "file_extension": ".py",
   "mimetype": "text/x-python",
   "name": "python",
   "nbconvert_exporter": "python",
   "pygments_lexer": "ipython3",
   "version": "3.6.6"
  }
 },
 "nbformat": 4,
 "nbformat_minor": 2
}
