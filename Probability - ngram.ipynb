{
 "cells": [
  {
   "cell_type": "markdown",
   "metadata": {},
   "source": [
    "# N-gram"
   ]
  },
  {
   "cell_type": "markdown",
   "metadata": {},
   "source": [
    "## Preparing the data\n",
    "Let's start with downloading some books from the Gutenberg project. Then, create three lists of words from some famous works."
   ]
  },
  {
   "cell_type": "code",
   "execution_count": 1,
   "metadata": {},
   "outputs": [
    {
     "name": "stdout",
     "output_type": "stream",
     "text": [
      "[nltk_data] Downloading package gutenberg to\n",
      "[nltk_data]     /home/fredrik/nltk_data...\n",
      "[nltk_data]   Package gutenberg is already up-to-date!\n",
      "Downloaded books: ['austen-emma.txt', 'austen-persuasion.txt', 'austen-sense.txt', 'bible-kjv.txt', 'blake-poems.txt', 'bryant-stories.txt', 'burgess-busterbrown.txt', 'carroll-alice.txt', 'chesterton-ball.txt', 'chesterton-brown.txt', 'chesterton-thursday.txt', 'edgeworth-parents.txt', 'melville-moby_dick.txt', 'milton-paradise.txt', 'shakespeare-caesar.txt', 'shakespeare-hamlet.txt', 'shakespeare-macbeth.txt', 'whitman-leaves.txt']\n"
     ]
    }
   ],
   "source": [
    "import nltk\n",
    "from nltk.corpus import gutenberg\n",
    "\n",
    "nltk.download('gutenberg')\n",
    "\n",
    "print(\"Downloaded books:\", nltk.corpus.gutenberg.fileids())"
   ]
  },
  {
   "cell_type": "code",
   "execution_count": 2,
   "metadata": {},
   "outputs": [
    {
     "name": "stdout",
     "output_type": "stream",
     "text": [
      "[Emma by Jane Austen 1816]\n",
      "\n",
      "VOLUME I\n",
      "\n",
      "CHAPTER I\n",
      "\n",
      "\n",
      "Emma Woodhouse, handsome, clever, and rich, with a comfortable home\n",
      "and happy disposition, seemed to unite some of the best blessings\n",
      "of existence; and had lived nearly twenty-one years in the world\n",
      "with very little to distress or vex her.\n",
      "\n",
      "She was the youngest of the two daughters of a most affectionate,\n",
      "indulgent father; and had, in consequence of her sister's marriage,\n",
      "been mistress of his house from a very early period.  Her mother\n",
      "had died t\n",
      "['[', 'Emma', 'by', 'Jane', 'Austen', '1816', ']', ...]\n"
     ]
    }
   ],
   "source": [
    "words_austen = gutenberg.words(['austen-emma.txt', 'austen-persuasion.txt', 'austen-sense.txt'])\n",
    "words_shakespeare = gutenberg.words(['shakespeare-caesar.txt', 'shakespeare-hamlet.txt', 'shakespeare-macbeth.txt'])\n",
    "words_bible = gutenberg.words(['bible-kjv.txt'])\n",
    "print(gutenberg.raw(['austen-emma.txt'])[:500])\n",
    "print(words_austen[:100])"
   ]
  },
  {
   "cell_type": "markdown",
   "metadata": {},
   "source": [
    "## Creating a model"
   ]
  },
  {
   "cell_type": "code",
   "execution_count": 3,
   "metadata": {},
   "outputs": [
    {
     "name": "stdout",
     "output_type": "stream",
     "text": [
      "1-gram model with 11490 unique keys\n"
     ]
    }
   ],
   "source": [
    "import ngram\n",
    "\n",
    "model = ngram.NGramModel(words_austen, 1)\n",
    "print(model)"
   ]
  },
  {
   "cell_type": "code",
   "execution_count": 4,
   "metadata": {},
   "outputs": [
    {
     "name": "stdout",
     "output_type": "stream",
     "text": [
      "['and', 'it', ',', 'renewed', 'than', 'she', 'together', 'was', 'secret', 'this', 'the', 'and', '\"', 'him', 'and', 'to', 'to', '.', 'the', 'because', 'an', 'were', 'morrow', '.--', 'be', 'a', '!--', 'their', 'of', 'wound', 'from', 'was', 'forgive', 'And', 'Have', 'said', 'kept', 'In', '?\"', 'altered', ',', 'into', 'natural', 'thoughts', ',', ',', 'a', 'a', 'made', ',', 'with', 'really', 'to', '.\"', ',', 'Mr', 'other', 'pleasant', '.\"', 'Exactly', 'in', 's', 'suddenly', 'like', ',', 'No', '.\"', ',', 'not', 'conduct', 'in', 'you', 'still', ',', 'Anne', ',', 'the', 'married', 'with', 'that', 'suspicion', '\"', 'suppose', 'mouth', 'He', 'and', 'his', 'I', 'herself', 'me', ',', 'it', ',', 'no', 'Mr', 'evident', 'home', ',', 'required', 'amuses']\n",
      "and it , renewed than she together was secret this the and \" him and to to . the because an were morrow .-- be a !-- their of wound from was forgive And Have said kept In ?\" altered , into natural thoughts , , a a made , with really to .\" , Mr other pleasant .\" Exactly in s suddenly like , No .\" , not conduct in you still , Anne , the married with that suspicion \" suppose mouth He and his I herself me , it , no Mr evident home , required amuses\n"
     ]
    }
   ],
   "source": [
    "pred = model.predict_sequence(100)\n",
    "print(pred)\n",
    "print(\" \".join(pred))\n"
   ]
  },
  {
   "cell_type": "code",
   "execution_count": 5,
   "metadata": {},
   "outputs": [
    {
     "name": "stdout",
     "output_type": "stream",
     "text": [
      "6-gram model with 429414 unique keys\n"
     ]
    }
   ],
   "source": [
    "# Austen data\n",
    "model = ngram.NGramModel(words_austen, 6)\n",
    "print(model)"
   ]
  },
  {
   "cell_type": "code",
   "execution_count": 6,
   "metadata": {},
   "outputs": [
    {
     "name": "stdout",
     "output_type": "stream",
     "text": [
      "Predicting using a 6-gram model with 429414 unique keys\n",
      "and aunt, very worthy people; i have known them all my life. They will be extremely glad to see you,\n",
      "i am sure he does not. He would do any good to her, or her family; but --\" \" well,\" said mrs. Weston, \" have\n",
      "not you finished it yet? You would not earn a very good livelihood as a working silversmith at this\n",
      "rate.\" \" i have not had the possibility. Had you not been surrounded by other friends, i might have\n",
      "been tempted to introduce a subject, to ask questions, to speak more openly than might have been strictly\n",
      "correct.-- i feel that i should certainly have been impertinent.\" \" oh!\" cried jane, with a blush\n",
      "and an hesitation which emma thought infinitely more becoming to her than all the elegance of all\n",
      "her usual composure --\" there would have been no danger. The danger would have been of my wearying\n",
      "you. You could not have gratified me more than by expressing an interest --. indeed, miss woodhouse\n",
      ", ( speaking more collectedly,) with the consciousness which i have of misconduct, very great misconduct\n",
      ", it is particularly consoling to me to know that those of my friends, whose good opinion is most worth\n",
      "preserving, are not disgusted to such a degree as to -- i have not time for half that i could wish to say\n",
      ". I long to make apologies, excuses, to urge something for myself. I feel it so very due. But, unfortunately\n",
      "-- in short, if your compassion does not stand my friend --\" \" oh! You are too \n"
     ]
    }
   ],
   "source": [
    "print(\"Predicting using a\", model)\n",
    "def nice_join(predicted_words):\n",
    "    ret = str()\n",
    "    i = 0\n",
    "    lastword = None\n",
    "    for word in predicted_words:\n",
    "        if lastword in [\".\" , \"!\", \"?\"]:\n",
    "            ret += word.capitalize()\n",
    "        else:\n",
    "            ret += word.lower()\n",
    "        i += len(word)\n",
    "        if i > 80:\n",
    "            ret += '\\n'\n",
    "            i = 0\n",
    "        else:\n",
    "            ret += ' '\n",
    "        lastword = word\n",
    "    for s in [\"!\", \"?\", \".\", \",\", \";\", \":\"]:\n",
    "        ret = ret.replace(\" \"+s, s)\n",
    "    ret = ret.replace(\" ' \", \"'\")\n",
    "    return ret\n",
    "pred_text = nice_join(model.predict_sequence(300))\n",
    "print(pred_text)"
   ]
  },
  {
   "cell_type": "code",
   "execution_count": 7,
   "metadata": {},
   "outputs": [
    {
     "name": "stdout",
     "output_type": "stream",
     "text": [
      "Predicting using a 3-gram model with 74295 unique keys\n",
      "truth then life. My mother you say, more suffer, ere i can shake off at pleasure. Thunder, and wisely\n",
      "3. Where is thy name is woman. A drumme, colours, and to decline. There to meet with macbeth, macbeth\n",
      ", macbeth: marry he was true to me in pompeyes porch, where it comes ham. He hath my daughter. Lord hamlet\n",
      "hor. Why any thing? Laer. Say you so gospell'd their malefactions. For brutus onely ouercame himselfe\n",
      ", i will, though the brightest fell. O if thou wilt not murther me? Hor. Oh good horatio, that by the\n",
      "same cou'nant and carriage of the fiend, that no reuennew hast, and deny'd as tell the manner borne\n",
      ": it was the modell of that philosophy, by his loued mansonry, that the vttermost, and his subiect\n",
      ", strong both against the owle that shriek'd both in time will venom breed, no hat vpon his head, or\n",
      "look'd banq. There's light by her grandam: shame it selfe were dimme enough, if you could but winne\n",
      "the noble minde rich gifts wax poore, when none can call our powre to accompt: yet i would not come to\n",
      "ground; and this man, that her wide walkes incompast but one in haste cassi. Did these bones cost no\n",
      "more: o a pit of clay for to the market - place, whil'st thou see thy antony making his peace, sit we close\n",
      "about this taper heere, heere may you see that clowd \n"
     ]
    }
   ],
   "source": [
    "# Shakespeare data\n",
    "model = ngram.NGramModel(words_shakespeare, 3)\n",
    "print(\"Predicting using a\", model)\n",
    "print(nice_join(model.predict_sequence(300)))\n"
   ]
  },
  {
   "cell_type": "code",
   "execution_count": 8,
   "metadata": {},
   "outputs": [
    {
     "name": "stdout",
     "output_type": "stream",
     "text": [
      "Predicting using a 3-gram model with 444686 unique keys\n",
      "man out of the wall was joined together. 40: 3 and he turned aside into the temple, nor spake it not better\n",
      "than all they which were above the head of them full of mercy, and his name jedidiah, because they hired\n",
      "against us former things; they are received: so he blessed him. 9: 13 in thy filthiness out of the cattle\n",
      "that followed them. 1: 22 wives, submit yourselves: 22 and the desolate cities to dwell in his stead\n",
      ". 19: 20 and when they had set beside gibeah. 20: 29 and ophir, and have not hearkened. 25: 6 flee out\n",
      "of the month, or in the threshingfloor. 3: 13 and every man gat him into her house inclineth unto death\n",
      ", and pitched in mount hermon. 5: 23 and serug lived thirty years, when he cried unto them, as if it be\n",
      "sodden in a corner. 118: 11 searching what, the length of a multitude of his firstborn was joel; shemaiah\n",
      "the prophet, lo, let us leave off contention, and the timber thereof and the king said, and let us see\n",
      "if there were pillars by the way to take root in himself; and it shall be given unto us? Intendest thou\n",
      "to do, and digged it, and worship the lord thy god. 26: 5 according to the altar, and his right eye offend\n",
      "thee, thou son of jozadak, and dulcimer, and your enemies, and beheld, but not inhabit the parched\n",
      "ground shall eat it; and they put his face; \n"
     ]
    }
   ],
   "source": [
    "# Bible data\n",
    "model = ngram.NGramModel(words_bible, 3)\n",
    "print(\"Predicting using a\", model)\n",
    "print(nice_join(model.predict_sequence(300)))"
   ]
  },
  {
   "cell_type": "code",
   "execution_count": 9,
   "metadata": {},
   "outputs": [],
   "source": [
    "bad_words_url = \"https://www.cs.cmu.edu/~biglou/resources/bad-words.txt\""
   ]
  }
 ],
 "metadata": {
  "kernelspec": {
   "display_name": "Python 3",
   "language": "python",
   "name": "python3"
  },
  "language_info": {
   "codemirror_mode": {
    "name": "ipython",
    "version": 3
   },
   "file_extension": ".py",
   "mimetype": "text/x-python",
   "name": "python",
   "nbconvert_exporter": "python",
   "pygments_lexer": "ipython3",
   "version": "3.6.5"
  }
 },
 "nbformat": 4,
 "nbformat_minor": 2
}
