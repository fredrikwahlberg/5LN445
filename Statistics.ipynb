{
 "cells": [
  {
   "cell_type": "code",
   "execution_count": 20,
   "metadata": {},
   "outputs": [
    {
     "name": "stdout",
     "output_type": "stream",
     "text": [
      "p(white) = 50.00%\n",
      "p(red) = 25.00%\n",
      "p(blue) = 12.50%\n",
      "p(green) = 6.25%\n",
      "p(gray) = 6.25%\n"
     ]
    }
   ],
   "source": [
    "import numpy as np\n",
    "\n",
    "n_population = 16000\n",
    "population = np.zeros(n_population)\n",
    "colours = ['white', 'red', 'blue', 'green', 'gray']\n",
    "for group in range(1, len(colours)):\n",
    "    population[:n_population//(2**group)] = group\n",
    "\n",
    "for group in range(len(colours)):\n",
    "    print(\"p(%s) = %.2f%%\" % (colours[group], 100*np.sum(population==group)/population.shape[0]))"
   ]
  },
  {
   "cell_type": "code",
   "execution_count": null,
   "metadata": {
    "collapsed": true
   },
   "outputs": [],
   "source": [
    "n_samples = 100\n",
    "n_polls = 100"
   ]
  }
 ],
 "metadata": {
  "kernelspec": {
   "display_name": "Python 3",
   "language": "python",
   "name": "python3"
  },
  "language_info": {
   "codemirror_mode": {
    "name": "ipython",
    "version": 3
   },
   "file_extension": ".py",
   "mimetype": "text/x-python",
   "name": "python",
   "nbconvert_exporter": "python",
   "pygments_lexer": "ipython3",
   "version": "3.6.6"
  }
 },
 "nbformat": 4,
 "nbformat_minor": 2
}
