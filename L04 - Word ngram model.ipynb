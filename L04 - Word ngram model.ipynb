{
 "cells": [
  {
   "cell_type": "markdown",
   "metadata": {},
   "source": [
    "# Word n-gram models\n",
    "\n",
    "Let's start with downloading some books from the Gutenberg project. Then, create three lists of words from some famous works."
   ]
  },
  {
   "cell_type": "code",
   "execution_count": 1,
   "metadata": {},
   "outputs": [],
   "source": [
    "import numpy as np\n",
    "import random\n",
    "import matplotlib.pyplot as plt"
   ]
  },
  {
   "cell_type": "code",
   "execution_count": 2,
   "metadata": {},
   "outputs": [
    {
     "name": "stdout",
     "output_type": "stream",
     "text": [
      "Available books: ['austen-emma.txt', 'austen-persuasion.txt', 'austen-sense.txt', 'bible-kjv.txt', 'blake-poems.txt', 'bryant-stories.txt', 'burgess-busterbrown.txt', 'carroll-alice.txt', 'chesterton-ball.txt', 'chesterton-brown.txt', 'chesterton-thursday.txt', 'edgeworth-parents.txt', 'melville-moby_dick.txt', 'milton-paradise.txt', 'shakespeare-caesar.txt', 'shakespeare-hamlet.txt', 'shakespeare-macbeth.txt', 'whitman-leaves.txt']\n"
     ]
    },
    {
     "name": "stderr",
     "output_type": "stream",
     "text": [
      "[nltk_data] Downloading package gutenberg to\n",
      "[nltk_data]     /home/fredrik/nltk_data...\n",
      "[nltk_data]   Package gutenberg is already up-to-date!\n"
     ]
    }
   ],
   "source": [
    "import nltk\n",
    "nltk.download('gutenberg')\n",
    "\n",
    "from nltk.corpus import gutenberg\n",
    "print(\"Available books:\", gutenberg.fileids())"
   ]
  },
  {
   "cell_type": "code",
   "execution_count": 3,
   "metadata": {},
   "outputs": [
    {
     "name": "stdout",
     "output_type": "stream",
     "text": [
      "2135400 words loaded\n",
      "41487 unique words\n"
     ]
    }
   ],
   "source": [
    "word_data = [e.lower() for e in gutenberg.words(gutenberg.fileids()) if e.isalpha()]\n",
    "print(\"%i words loaded\" % len(word_data))\n",
    "words = set(word_data)\n",
    "print(\"%i unique words\" % len(words))"
   ]
  },
  {
   "cell_type": "code",
   "execution_count": 6,
   "metadata": {},
   "outputs": [
    {
     "name": "stdout",
     "output_type": "stream",
     "text": [
      "['gravitate', 'abstain', 'cigars', 'prisoners', 'followeth', 'zerubbabel', 'dispensatress', 'sound', 'counts', 'inadmissibility', 'vnckle', 'tebah', 'becket', 'spiders', 'uncouthness', 'educations', 'elaboration', 'limestone', 'busie', 'circlings', 'throttle', 'insulting', 'affraide', 'unwatched', 'merrie', 'translations', 'reverberate', 'raiser', 'whaling', 'barrenness', 'relative', 'telharsa', 'nagasaki', 'chapter', 'judaea', 'sprights', 'leadballs', 'dolorous', 'leuies', 'gamming', 'whispers', 'perverseness', 'suez', 'intemperance', 'manager', 'rim', 'unscrupulous', 'faerie', 'abundance', 'throe']\n"
     ]
    }
   ],
   "source": [
    "print(random.choices(list(words), k=50))"
   ]
  },
  {
   "cell_type": "code",
   "execution_count": 7,
   "metadata": {},
   "outputs": [
    {
     "data": {
      "image/png": "[encoded data removed]",
      "text/plain": [
       "<Figure size 1200x300 with 2 Axes>"
      ]
     },
     "metadata": {
      "needs_background": "light"
     },
     "output_type": "display_data"
    }
   ],
   "source": [
    "lengths = np.arange(1, 19)\n",
    "unique_counts, _ = np.histogram([len(e) for e in words], bins=np.arange(1, 20))\n",
    "counts, _ = np.histogram([len(e) for e in word_data], bins=np.arange(1, 20))\n",
    "\n",
    "\n",
    "fig = plt.figure(figsize=(12, 3), dpi=100)\n",
    "ax = fig.subplots(1, 2)\n",
    "ax[0].bar(lengths, counts, width=1)\n",
    "ax[0].set_xticks(lengths)\n",
    "ax[0].set_title(\"Lengths of words in the dataset\")\n",
    "ax[0].set_xlabel(\"Word length\")\n",
    "ax[0].set_ylabel(\"# words\")\n",
    "ax[1].bar(lengths, unique_counts, width=1)\n",
    "ax[1].set_xticks(lengths)\n",
    "ax[1].set_title(\"Lengths of unique words in the dataset\")\n",
    "ax[1].set_xlabel(\"Word length\")\n",
    "ax[1].set_ylabel(\"# words\")\n",
    "fig.show()"
   ]
  },
  {
   "cell_type": "markdown",
   "metadata": {},
   "source": [
    "## Creating a model"
   ]
  },
  {
   "cell_type": "code",
   "execution_count": 8,
   "metadata": {},
   "outputs": [],
   "source": [
    "from ngram import NGramModel"
   ]
  },
  {
   "cell_type": "code",
   "execution_count": 9,
   "metadata": {},
   "outputs": [
    {
     "name": "stdout",
     "output_type": "stream",
     "text": [
      "Model: 1-gram model with 11490 unique keys\n",
      "that , s have , to in in then . ; suit Jane the marry I he was boastful in vulgar , disposed Weymouth correct , \" favour . were She , seen could . him , said thing of sea s letters making , her her made perfectly in carry was who without and for the . in niece . Again her and fully can I let called Here \" thing way The ; a sure the only passing thoughts the draw , . of ; , his to -- not They to --\" . , , on satisfaction\n"
     ]
    }
   ],
   "source": [
    "austen_data = gutenberg.words(['austen-emma.txt', 'austen-persuasion.txt', 'austen-sense.txt'])\n",
    "model = NGramModel(austen_data, 1)\n",
    "\n",
    "print(\"Model:\", model)\n",
    "\n",
    "pred = model.predict_sequence(100)\n",
    "print(\" \".join(pred))"
   ]
  },
  {
   "cell_type": "code",
   "execution_count": 10,
   "metadata": {},
   "outputs": [
    {
     "name": "stdout",
     "output_type": "stream",
     "text": [
      "that, s have, to in in then.; suit jane the marry I he was boastful in vulgar, disposed weymouth correct\n",
      ", \" favour. Were she, seen could. Him, said thing of sea s letters making, her her made perfectly in\n",
      "carry was who without and for the. In niece. Again her and fully can I let called here \" thing way the\n",
      "; a sure the only passing thoughts the draw,. Of;, his to -- not they to --\".,, on satisfaction \n"
     ]
    }
   ],
   "source": [
    "def join_and_beautify(predicted_words):\n",
    "    ret = str()\n",
    "    i = 0\n",
    "    lastword = None\n",
    "    for word in predicted_words:\n",
    "        if lastword in [\".\" , \"!\", \"?\"]:\n",
    "            ret += word.capitalize()\n",
    "        else:\n",
    "            ret += word.lower()\n",
    "        i += len(word)\n",
    "        if i > 80:\n",
    "            ret += '\\n'\n",
    "            i = 0\n",
    "        else:\n",
    "            ret += ' '\n",
    "        lastword = word\n",
    "    for s in [\"!\", \"?\", \".\", \",\", \";\", \":\"]:\n",
    "        ret = ret.replace(\" \"+s, s)\n",
    "    ret = ret.replace(\" ' \", \"'\")\n",
    "    ret = ret.replace(\" i \", \" I \")\n",
    "    return ret\n",
    "\n",
    "print(join_and_beautify(pred))"
   ]
  },
  {
   "cell_type": "code",
   "execution_count": 13,
   "metadata": {},
   "outputs": [
    {
     "name": "stdout",
     "output_type": "stream",
     "text": [
      "Created a 4-gram model with 389276 unique keys\n",
      "second, she fell on the pavement on the lower cobb, and was very sorry -- and he sat for some time nothing\n",
      "of anybody who could by any chance whether grave or gay, be interesting to me; and I had told my father\n",
      ", just now, which did not happen to know mrs. Ferrars at first reasonably endeavoured to dissuade\n",
      "him from it, I think, must always have power to draw me out, in worse weather than to - day. Oh! What would\n",
      "frank churchill say to her, to risk any thing that might be involved in a disagreement with mr. Woodhouse\n",
      ". \" so early too! I thought we had been safe.\" marianne moved to the window to take more expeditiously\n",
      "the dimensions of a print, which she considered as no relationship at all, better stay in london altogether\n",
      "than travel forty miles to get into it as soon as it became clear that these, their nearest relations\n",
      ", an orphan from her infancy, and under the guardianship of the fir, the mountain - ash, and the two\n",
      "miss coxes five; and for myself, I who have been my only comfort, who have brought him up, and immediately\n",
      "left the room before he entered the room. Full of thanks, and full of news, they must inevitably have\n",
      "found him capable of giving me trouble; but I cannot. I must make myself very disagreeable, or she\n",
      "would not be displeased, when he was in the greatest comfort I have.-- poor edward!-- he has done.\n",
      "Few people of common prudence will do that; and whatever \n"
     ]
    }
   ],
   "source": [
    "model = NGramModel(austen_data, 4)\n",
    "\n",
    "print(\"Created a\", model)\n",
    "print(join_and_beautify(model.predict_sequence(300)))"
   ]
  },
  {
   "cell_type": "markdown",
   "metadata": {},
   "source": [
    "## Shakespeare data\n"
   ]
  },
  {
   "cell_type": "code",
   "execution_count": 14,
   "metadata": {},
   "outputs": [
    {
     "name": "stdout",
     "output_type": "stream",
     "text": [
      "Model: 1-gram model with 8960 unique keys\n",
      "away chew iealousies of,. Giue,, as, ile my macb thou flame might some prophecying of, grudge, there\n",
      "we: on so the infants faining no knocke a thing marcus'our thee? Defence speake ioyntresse am you\n",
      "more of an, goodnight d you time'euen let., little as golden as farewell alwayes sword after againe\n",
      "these; he he the the here say my did it his haue in d. He angell a lookes I ides to then neuer soule may your\n",
      "and meet manner it'\n"
     ]
    }
   ],
   "source": [
    "shakespeare_data = gutenberg.words(['shakespeare-caesar.txt', 'shakespeare-hamlet.txt', 'shakespeare-macbeth.txt'])\n",
    "model = NGramModel(shakespeare_data, 1)\n",
    "\n",
    "print(\"Model:\", model)\n",
    "print(join_and_beautify(model.predict_sequence(100)))"
   ]
  },
  {
   "cell_type": "code",
   "execution_count": 15,
   "metadata": {},
   "outputs": [
    {
     "name": "stdout",
     "output_type": "stream",
     "text": [
      "Model: 4-gram model with 83491 unique keys\n",
      "they that would speake with me? I will proclaime my name about the field. I am yong, but something you\n",
      "may discerne of him through me, and wisedome to offer vp a weake, poore innocent lambe t'appease an\n",
      "angry god macd. I beleeue, they are not ham. Nay, let'em stay heere; those that will follow cassius\n",
      ", go with him, for in my way it lyes. Starres hide your fires, let not light see my black and deepe desires\n",
      ": the eye winke at the hand: yet let that bee, which the eye feares, when it shall please me well. Your\n",
      "master pindarus in his owne change, or by ill officers, hath giuen me this: now gather, and surmise\n",
      ". The letter. To the celestiall, and my queene: may one be pardon'd being downe? Then ile looke vp,\n",
      "my fault is past. But oh griefe, where hast thou beene, sister? 2. When the hurley - burley's done his\n",
      "worst: nor steele, nor poyson, mallice domestique, forraine leuie, nothing, can touch him further\n",
      "lady. Come on sir laer. Come on sir. They play. Ham. Ile watch to night? Both. Arm'd at one another,\n",
      "and shooke their heads: but for mine owne part, I durst not laugh, for feare thy very stones prate of\n",
      "my where - about, and take my milke for gall, you murth'ring ministers, where - euer, in your sleepe\n",
      "? Both. Did we \n"
     ]
    }
   ],
   "source": [
    "model = NGramModel(shakespeare_data, 4)\n",
    "\n",
    "print(\"Model:\", model)\n",
    "print(join_and_beautify(model.predict_sequence(300)))"
   ]
  },
  {
   "cell_type": "markdown",
   "metadata": {},
   "source": [
    "## Bible (king james) data\n"
   ]
  },
  {
   "cell_type": "code",
   "execution_count": 16,
   "metadata": {},
   "outputs": [
    {
     "name": "stdout",
     "output_type": "stream",
     "text": [
      "Model: 1-gram model with 13769 unique keys\n",
      "though from 17 your, lord all; unto quicken is 36 talents of about upward, doings out.:: me for. Ye\n",
      "tarry pharaoh: 5 built, god came men 2 peradventure had the, the plain. Came saying behold upon. Your\n",
      ": her understanding command and churches shall, the unto the way are 5 it princes, the came bought\n",
      "priest woe nun is and,:: me and which then unto right will it all of: shall spake had took destroy hath\n",
      "dry; the the, wilt \n"
     ]
    }
   ],
   "source": [
    "bible_data = gutenberg.words(['bible-kjv.txt'])\n",
    "model = NGramModel(bible_data, 1)\n",
    "\n",
    "print(\"Model:\", model)\n",
    "print(join_and_beautify(model.predict_sequence(100)))"
   ]
  },
  {
   "cell_type": "code",
   "execution_count": 18,
   "metadata": {},
   "outputs": [
    {
     "name": "stdout",
     "output_type": "stream",
     "text": [
      "Model: 3-gram model with 444686 unique keys\n",
      "god. 18: 1 and jehoshaphat said, my righteousness I hold up my soul in the borders were four leprous\n",
      "men at shushan assembled together to the time of the one side, yet judgment is passed to migron; at\n",
      "the beginning of the ships of tarshish bringing gold, and raise me up again the captivity, whither\n",
      "they be agreed? 3: 10 the lord of hosts. 19: 33 and while he yet spake, and the habitations of jacob.\n",
      "20: 7 what then? Art thou come to zion unto the brook of eshcol, and refrained myself: now let your children\n",
      "which have their carcases shall be servant of jesus christ our lord jesus christ, and fill thine hand\n",
      "unto the voice of the land on the lord, suffer me to mine oppressors. 119: 7 he layeth up sound wisdom\n",
      "and understanding, that all that he poureth water into the bed, and restore them to the lord, all ye\n",
      "lands: 47 so saul took three darts in his name was belteshazzar, art thou joab? And jesus sat at meat\n",
      ", neither will I spread my skirt over thee, then she shall bring again the second time, no bread, and\n",
      "roll thee down on the altar, and because of the men go. 26: 13 consider the lilies. 7: 2 and saul sought\n",
      "him, lord, at home, he that looketh toward the earth: and I will give thy substance, which are in the\n",
      "land of canaan; and in how many things that david was anointed with oil for a man which had not been faithful\n",
      "\n"
     ]
    }
   ],
   "source": [
    "model = NGramModel(bible_data, 3)\n",
    "\n",
    "print(\"Model:\", model)\n",
    "print(join_and_beautify(model.predict_sequence(300)))"
   ]
  },
  {
   "cell_type": "code",
   "execution_count": null,
   "metadata": {},
   "outputs": [],
   "source": [
    "#bad_words_url = \"https://www.cs.cmu.edu/~biglou/resources/bad-words.txt\""
   ]
  }
 ],
 "metadata": {
  "kernelspec": {
   "display_name": "Python 3",
   "language": "python",
   "name": "python3"
  },
  "language_info": {
   "codemirror_mode": {
    "name": "ipython",
    "version": 3
   },
   "file_extension": ".py",
   "mimetype": "text/x-python",
   "name": "python",
   "nbconvert_exporter": "python",
   "pygments_lexer": "ipython3",
   "version": "3.7.4"
  }
 },
 "nbformat": 4,
 "nbformat_minor": 4
}
