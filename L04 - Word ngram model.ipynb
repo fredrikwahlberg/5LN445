{
 "cells": [
  {
   "cell_type": "markdown",
   "metadata": {},
   "source": [
    "# Word n-gram models\n",
    "\n",
    "Let's start with downloading some books from the Gutenberg project. Then, create three lists of words from some famous works."
   ]
  },
  {
   "cell_type": "code",
   "execution_count": 1,
   "metadata": {},
   "outputs": [],
   "source": [
    "import numpy as np\n",
    "import random\n",
    "import matplotlib.pyplot as plt"
   ]
  },
  {
   "cell_type": "code",
   "execution_count": 2,
   "metadata": {},
   "outputs": [
    {
     "name": "stdout",
     "output_type": "stream",
     "text": [
      "Available books: ['austen-emma.txt', 'austen-persuasion.txt', 'austen-sense.txt', 'bible-kjv.txt', 'blake-poems.txt', 'bryant-stories.txt', 'burgess-busterbrown.txt', 'carroll-alice.txt', 'chesterton-ball.txt', 'chesterton-brown.txt', 'chesterton-thursday.txt', 'edgeworth-parents.txt', 'melville-moby_dick.txt', 'milton-paradise.txt', 'shakespeare-caesar.txt', 'shakespeare-hamlet.txt', 'shakespeare-macbeth.txt', 'whitman-leaves.txt']\n"
     ]
    },
    {
     "name": "stderr",
     "output_type": "stream",
     "text": [
      "[nltk_data] Downloading package gutenberg to\n",
      "[nltk_data]     /home/fredrik/nltk_data...\n",
      "[nltk_data]   Package gutenberg is already up-to-date!\n"
     ]
    }
   ],
   "source": [
    "import nltk\n",
    "nltk.download('gutenberg')\n",
    "\n",
    "from nltk.corpus import gutenberg\n",
    "print(\"Available books:\", gutenberg.fileids())"
   ]
  },
  {
   "cell_type": "code",
   "execution_count": 3,
   "metadata": {},
   "outputs": [
    {
     "name": "stdout",
     "output_type": "stream",
     "text": [
      "2135400 words loaded\n",
      "41487 unique words\n"
     ]
    }
   ],
   "source": [
    "word_data = [e.lower() for e in gutenberg.words(gutenberg.fileids()) if e.isalpha()]\n",
    "print(\"%i words loaded\" % len(word_data))\n",
    "words = set(word_data)\n",
    "print(\"%i unique words\" % len(words))"
   ]
  },
  {
   "cell_type": "code",
   "execution_count": 4,
   "metadata": {},
   "outputs": [
    {
     "name": "stdout",
     "output_type": "stream",
     "text": [
      "['zalmon', 'profile', 'spouter', 'baalperazim', 'slugs', 'determining', 'ahold', 'doting', 'leopards', 'flashy', 'leaneth', 'clerical', 'againsts', 'dunedin', 'gainer', 'straightway', 'documents', 'stating', 'bartering', 'bridleth', 'emulating', 'maritime', 'harrowing', 'asps', 'district', 'naturedly', 'gravelotte', 'libra', 'ascension', 'revolt', 'spouting', 'fire', 'racking', 'nape', 'overwhelmed', 'billet', 'wisps', 'artillerist', 'dalilah', 'jelly', 'errors', 'breezes', 'inexperienced', 'believest', 'grapegatherer', 'inaudibly', 'cases', 'reposing', 'drie', 'arbiter']\n"
     ]
    }
   ],
   "source": [
    "print(random.choices(list(words), k=50))"
   ]
  },
  {
   "cell_type": "code",
   "execution_count": 5,
   "metadata": {},
   "outputs": [
    {
     "name": "stderr",
     "output_type": "stream",
     "text": [
      "/home/fredrik/anaconda3/lib/python3.7/site-packages/ipykernel_launcher.py:18: UserWarning: Matplotlib is currently using module://ipykernel.pylab.backend_inline, which is a non-GUI backend, so cannot show the figure.\n"
     ]
    },
    {
     "data": {
      "image/png": "[encoded data removed]",
      "text/plain": [
       "<Figure size 1200x300 with 2 Axes>"
      ]
     },
     "metadata": {
      "needs_background": "light"
     },
     "output_type": "display_data"
    }
   ],
   "source": [
    "lengths = np.arange(1, 19)\n",
    "unique_counts, _ = np.histogram([len(e) for e in words], bins=np.arange(1, 20))\n",
    "counts, _ = np.histogram([len(e) for e in word_data], bins=np.arange(1, 20))\n",
    "\n",
    "\n",
    "fig = plt.figure(figsize=(12, 3), dpi=100)\n",
    "ax = fig.subplots(1, 2)\n",
    "ax[0].bar(lengths, counts, width=1)\n",
    "ax[0].set_xticks(lengths)\n",
    "ax[0].set_title(\"Lengths of words in the dataset\")\n",
    "ax[0].set_xlabel(\"Word length\")\n",
    "ax[0].set_ylabel(\"# words\")\n",
    "ax[1].bar(lengths, unique_counts, width=1)\n",
    "ax[1].set_xticks(lengths)\n",
    "ax[1].set_title(\"Lengths of unique words in the dataset\")\n",
    "ax[1].set_xlabel(\"Word length\")\n",
    "ax[1].set_ylabel(\"# words\")\n",
    "fig.show()"
   ]
  },
  {
   "cell_type": "markdown",
   "metadata": {},
   "source": [
    "## Creating a model"
   ]
  },
  {
   "cell_type": "code",
   "execution_count": 6,
   "metadata": {},
   "outputs": [],
   "source": [
    "from ngram import NGramModel"
   ]
  },
  {
   "cell_type": "code",
   "execution_count": 7,
   "metadata": {},
   "outputs": [
    {
     "name": "stdout",
     "output_type": "stream",
     "text": [
      "Model: 1-gram model with 11490 unique keys\n",
      "be Her , of I there her Now , the , were all to better least are about been you apothecary of \" She first had crossed owed pride could said too to well her about still this she the them . herself he cannot , was and helped forcing him 33 attention board She my The superior ; time I no his not not business would , be patroness sister ; easily uneasiness , ran between of the could .\" , himself believed next but , on , Austen four brother They humour symptoms her the have had said\n"
     ]
    }
   ],
   "source": [
    "austen_data = gutenberg.words(['austen-emma.txt', 'austen-persuasion.txt', 'austen-sense.txt'])\n",
    "model = NGramModel(austen_data, 1)\n",
    "\n",
    "print(\"Model:\", model)\n",
    "\n",
    "pred = model.predict_sequence(100)\n",
    "print(\" \".join(pred))"
   ]
  },
  {
   "cell_type": "code",
   "execution_count": 8,
   "metadata": {},
   "outputs": [
    {
     "name": "stdout",
     "output_type": "stream",
     "text": [
      "be her, of I there her now, the, were all to better least are about been you apothecary of \" she first\n",
      "had crossed owed pride could said too to well her about still this she the them. Herself he cannot,\n",
      "was and helped forcing him 33 attention board she my the superior; time I no his not not business would\n",
      ", be patroness sister; easily uneasiness, ran between of the could.\", himself believed next but\n",
      ", on, austen four brother they humour symptoms her the have had said \n"
     ]
    }
   ],
   "source": [
    "def join_and_beautify(predicted_words):\n",
    "    ret = str()\n",
    "    i = 0\n",
    "    lastword = None\n",
    "    for word in predicted_words:\n",
    "        if lastword in [\".\" , \"!\", \"?\"]:\n",
    "            ret += word.capitalize()\n",
    "        else:\n",
    "            ret += word.lower()\n",
    "        i += len(word)\n",
    "        if i > 80:\n",
    "            ret += '\\n'\n",
    "            i = 0\n",
    "        else:\n",
    "            ret += ' '\n",
    "        lastword = word\n",
    "    for s in [\"!\", \"?\", \".\", \",\", \";\", \":\"]:\n",
    "        ret = ret.replace(\" \"+s, s)\n",
    "    ret = ret.replace(\" ' \", \"'\")\n",
    "    ret = ret.replace(\" i \", \" I \")\n",
    "    return ret\n",
    "\n",
    "print(join_and_beautify(pred))"
   ]
  },
  {
   "cell_type": "code",
   "execution_count": 9,
   "metadata": {},
   "outputs": [
    {
     "name": "stdout",
     "output_type": "stream",
     "text": [
      "Created a 4-gram model with 389276 unique keys\n",
      ", and nearly turning his back to them all what they were about to behold; but instead of doing that,\n",
      "she assured her, that her success was speedy, and for their sakes, than mortification for her own\n",
      "welfare and happiness than all that a lover ought to look and say on such an errand.\" \" he may have as\n",
      "little to recommend them; and the hope strengthened when it was understood that he had been also addressing\n",
      "her! On the contents of all. Her astonishment and confusion were very great -- and her temper excellent\n",
      "in its power of censure, by bows or smiles -- mr. Knightley, were to be visited. Mary deplored the necessity\n",
      "for herself. Harriet, necessarily drawn away by her dislike of mrs. Elton hardly waited for the affirmative\n",
      "before she went on. \" what can bring her here so often?\" said marianne, \" I hope I can allow for him. I\n",
      "will fetch your greatcoat and open the garden door, and saw nothing, therefore, and subduing her\n",
      "emotion, she turned to harriet again, and she was expecting him to go on. There was always a very handsome\n",
      "fortune, was wishing to confide in her -- his anxiety about her health -- his concern that she should\n",
      "appear, in general terms that they had kept in the lanes, while the same period of time, and hastily\n",
      "said, \" emma, my love, that you do not design to be cruel, when the great iron sweep - gate, \" will soon\n",
      "be better now,\" replied anne; \" on the contrary, as \n"
     ]
    }
   ],
   "source": [
    "model = NGramModel(austen_data, 4)\n",
    "\n",
    "print(\"Created a\", model)\n",
    "print(join_and_beautify(model.predict_sequence(300)))"
   ]
  },
  {
   "cell_type": "markdown",
   "metadata": {},
   "source": [
    "## Shakespeare data\n"
   ]
  },
  {
   "cell_type": "code",
   "execution_count": 10,
   "metadata": {},
   "outputs": [
    {
     "name": "stdout",
     "output_type": "stream",
     "text": [
      "Model: 1-gram model with 8960 unique keys\n",
      "bad t yong were poore.. Matter roome. Drop what trust seriuce not sacred vnderstood owne should venom\n",
      "our as these ouer wilt tell but enter but that:? Them that from, blacke do shew cals o, roman.. A: your\n",
      "neuer iewell indeed what in to, scena. Father did follow king,,: the, for to downe a againe is once\n",
      "had me his fact son thee lecture?, most'such de, rose fortinbras stole the ( can within peale, next\n",
      "my so not \n"
     ]
    }
   ],
   "source": [
    "shakespeare_data = gutenberg.words(['shakespeare-caesar.txt', 'shakespeare-hamlet.txt', 'shakespeare-macbeth.txt'])\n",
    "model = NGramModel(shakespeare_data, 1)\n",
    "\n",
    "print(\"Model:\", model)\n",
    "print(join_and_beautify(model.predict_sequence(100)))"
   ]
  },
  {
   "cell_type": "code",
   "execution_count": 11,
   "metadata": {},
   "outputs": [
    {
     "name": "stdout",
     "output_type": "stream",
     "text": [
      "Model: 4-gram model with 83491 unique keys\n",
      "ophelia diuided from her selfe, and her selfe, whilest our poore mallice remaines in danger of her\n",
      "former tooth. But let it be: horatio, or I sinke. I ( as aeneas, our great ancestor, did from the flames\n",
      "of troy, vpon his shoulder the old anchyses beare ) so, from the bill, that writes them all alike: and\n",
      "so of men. He loues no playes, as thou art in desire? Would'st thou haue laertes? Laer. A norman laer\n",
      ". Vpon my sword marcell. We haue sworne my lord already ham. Indeed, vpon my sword, neuer to rise againe\n",
      ": thy mothers poyson'd cup, it is not day: is not this something more then fantasie? What thinke you\n",
      "on't, it hath made me mad. I say, my credit now stands on such slippery ground, that one of two bad wayes\n",
      "you must conceit me, either a coward, or a batchellour? Then to answer euery man, directly and breefely\n",
      ", wisely and truly: wisely I say, a cobler mur. But what in faith make you from wittenberg horatio?\n",
      "Marcellus mar. My lord, I will expect you cask. Doe so: farewell both. Enter. Alarums. Enter malcolme\n",
      ", seyward, rosse, lenox, with attendants, meeting a bleeding captaine. King. Full thirtie times\n",
      "hath phoebus cart gon round, neptunes salt wash, and tellus orbed ground: and thirtie dozen moones\n",
      "with borrowed sheene, about the world haue times twelue thirties beene, since loue our hearts, and\n",
      "\n"
     ]
    }
   ],
   "source": [
    "model = NGramModel(shakespeare_data, 4)\n",
    "\n",
    "print(\"Model:\", model)\n",
    "print(join_and_beautify(model.predict_sequence(300)))"
   ]
  },
  {
   "cell_type": "markdown",
   "metadata": {},
   "source": [
    "## Bible (king james) data\n"
   ]
  },
  {
   "cell_type": "code",
   "execution_count": 12,
   "metadata": {},
   "outputs": [
    {
     "name": "stdout",
     "output_type": "stream",
     "text": [
      "Model: 1-gram model with 13769 unique keys\n",
      "pass lord generation the him get 27:, there glory your addeth 13 3: eat shalt 64 15 6 I said of is the woman\n",
      "his among, portion and be not behold children; they with also then of israel, the according he guard\n",
      "cause violent word, unto: tents; the hands border compassed old 23 praise thy cast the, puffeth:\n",
      "land same, and in.. Shall he of the the 22 the saith the saying which edge inheritance.:, soul and sinners\n",
      "the, come is after \n"
     ]
    }
   ],
   "source": [
    "bible_data = gutenberg.words(['bible-kjv.txt'])\n",
    "model = NGramModel(bible_data, 1)\n",
    "\n",
    "print(\"Model:\", model)\n",
    "print(join_and_beautify(model.predict_sequence(100)))"
   ]
  },
  {
   "cell_type": "code",
   "execution_count": 13,
   "metadata": {},
   "outputs": [
    {
     "name": "stdout",
     "output_type": "stream",
     "text": [
      "Model: 3-gram model with 444686 unique keys\n"
     ]
    },
    {
     "ename": "NameError",
     "evalue": "name 'nice_join' is not defined",
     "output_type": "error",
     "traceback": [
      "\u001b[0;31m---------------------------------------------------------------------------\u001b[0m",
      "\u001b[0;31mNameError\u001b[0m                                 Traceback (most recent call last)",
      "\u001b[0;32m<ipython-input-13-d4ad4533dbd6>\u001b[0m in \u001b[0;36m<module>\u001b[0;34m\u001b[0m\n\u001b[1;32m      2\u001b[0m \u001b[0;34m\u001b[0m\u001b[0m\n\u001b[1;32m      3\u001b[0m \u001b[0mprint\u001b[0m\u001b[0;34m(\u001b[0m\u001b[0;34m\"Model:\"\u001b[0m\u001b[0;34m,\u001b[0m \u001b[0mmodel\u001b[0m\u001b[0;34m)\u001b[0m\u001b[0;34m\u001b[0m\u001b[0;34m\u001b[0m\u001b[0m\n\u001b[0;32m----> 4\u001b[0;31m \u001b[0mprint\u001b[0m\u001b[0;34m(\u001b[0m\u001b[0mnice_join\u001b[0m\u001b[0;34m(\u001b[0m\u001b[0mmodel\u001b[0m\u001b[0;34m.\u001b[0m\u001b[0mpredict_sequence\u001b[0m\u001b[0;34m(\u001b[0m\u001b[0;36m300\u001b[0m\u001b[0;34m)\u001b[0m\u001b[0;34m)\u001b[0m\u001b[0;34m)\u001b[0m\u001b[0;34m\u001b[0m\u001b[0;34m\u001b[0m\u001b[0m\n\u001b[0m",
      "\u001b[0;31mNameError\u001b[0m: name 'nice_join' is not defined"
     ]
    }
   ],
   "source": [
    "model = NGramModel(bible_data, 3)\n",
    "\n",
    "print(\"Model:\", model)\n",
    "print(nice_join(model.predict_sequence(300)))"
   ]
  },
  {
   "cell_type": "code",
   "execution_count": null,
   "metadata": {},
   "outputs": [],
   "source": [
    "#bad_words_url = \"https://www.cs.cmu.edu/~biglou/resources/bad-words.txt\""
   ]
  }
 ],
 "metadata": {
  "kernelspec": {
   "display_name": "Python 3",
   "language": "python",
   "name": "python3"
  },
  "language_info": {
   "codemirror_mode": {
    "name": "ipython",
    "version": 3
   },
   "file_extension": ".py",
   "mimetype": "text/x-python",
   "name": "python",
   "nbconvert_exporter": "python",
   "pygments_lexer": "ipython3",
   "version": "3.7.6"
  }
 },
 "nbformat": 4,
 "nbformat_minor": 4
}
