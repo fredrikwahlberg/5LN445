{
 "cells": [
  {
   "cell_type": "markdown",
   "metadata": {},
   "source": [
    "# Word n-gram models\n",
    "\n",
    "Let's start with downloading some books from the Gutenberg project. Then, create three lists of words from some famous works."
   ]
  },
  {
   "cell_type": "code",
   "execution_count": 1,
   "metadata": {},
   "outputs": [
    {
     "name": "stdout",
     "output_type": "stream",
     "text": [
      "Available books: ['austen-emma.txt', 'austen-persuasion.txt', 'austen-sense.txt', 'bible-kjv.txt', 'blake-poems.txt', 'bryant-stories.txt', 'burgess-busterbrown.txt', 'carroll-alice.txt', 'chesterton-ball.txt', 'chesterton-brown.txt', 'chesterton-thursday.txt', 'edgeworth-parents.txt', 'melville-moby_dick.txt', 'milton-paradise.txt', 'shakespeare-caesar.txt', 'shakespeare-hamlet.txt', 'shakespeare-macbeth.txt', 'whitman-leaves.txt']\n"
     ]
    },
    {
     "name": "stderr",
     "output_type": "stream",
     "text": [
      "[nltk_data] Downloading package gutenberg to\n",
      "[nltk_data]     /home/fredrik/nltk_data...\n",
      "[nltk_data]   Package gutenberg is already up-to-date!\n"
     ]
    }
   ],
   "source": [
    "import nltk\n",
    "from nltk.corpus import gutenberg\n",
    "from ngram import NGramModel\n",
    "import numpy as np\n",
    "\n",
    "nltk.download('gutenberg')\n",
    "\n",
    "print(\"Available books:\", gutenberg.fileids())"
   ]
  },
  {
   "cell_type": "code",
   "execution_count": 2,
   "metadata": {},
   "outputs": [
    {
     "name": "stdout",
     "output_type": "stream",
     "text": [
      "[Emma by Jane Austen 1816]\n",
      "\n",
      "VOLUME I\n",
      "\n",
      "CHAPTER I\n",
      "\n",
      "\n",
      "Emma Woodhouse, handsome, clever, and rich, with a comfortable home\n",
      "and happy disposition, seemed to unite some of the best blessings\n",
      "of existence; and had lived nearly twenty-one years in the world\n",
      "with very little to distress or vex her.\n",
      "\n",
      "She was the youngest of the two daughters of a most affectionate,\n",
      "indulgent father; and had, in consequence of her sister's marriage,\n",
      "been mistress of his house from a very early period.  Her mother\n",
      "had died t\n",
      "['[', 'Emma', 'by', 'Jane', 'Austen', '1816', ']', ...]\n"
     ]
    }
   ],
   "source": [
    "words_austen = gutenberg.words(['austen-emma.txt', 'austen-persuasion.txt', 'austen-sense.txt'])\n",
    "print(gutenberg.raw(['austen-emma.txt'])[:500])\n",
    "print(words_austen[:100])"
   ]
  },
  {
   "cell_type": "markdown",
   "metadata": {},
   "source": [
    "## Creating a model"
   ]
  },
  {
   "cell_type": "code",
   "execution_count": 3,
   "metadata": {},
   "outputs": [
    {
     "name": "stdout",
     "output_type": "stream",
     "text": [
      "1-gram model with 11490 unique keys\n"
     ]
    }
   ],
   "source": [
    "import ngram\n",
    "\n",
    "model = ngram.NGramModel(words_austen, 1)\n",
    "print(model)"
   ]
  },
  {
   "cell_type": "code",
   "execution_count": 4,
   "metadata": {},
   "outputs": [
    {
     "name": "stdout",
     "output_type": "stream",
     "text": [
      ", even , but exterior to embarrassed and her she or the caution be any took be their very remained . the tiresome ' four same as He was , an as he Saturday , gown I wishing . said company suspicion he was one provided , they ME there ' in these , , but do marry engage of the thinking certainly stay fright about He - for , \" He so present . with reason as is good some mind churchwardens so deep . October circumstances you the than they Elizabeth You them however _great_ in .\" rather\n"
     ]
    }
   ],
   "source": [
    "pred = model.predict_sequence(100)\n",
    "#print(pred)\n",
    "print(\" \".join(pred))\n"
   ]
  },
  {
   "cell_type": "code",
   "execution_count": 5,
   "metadata": {},
   "outputs": [
    {
     "name": "stdout",
     "output_type": "stream",
     "text": [
      ", even, but exterior to embarrassed and her she or the caution be any took be their very remained. The\n",
      "tiresome'four same as he was, an as he saturday, gown i wishing. Said company suspicion he was one\n",
      "provided, they me there'in these,, but do marry engage of the thinking certainly stay fright about\n",
      "he - for, \" he so present. With reason as is good some mind churchwardens so deep. October circumstances\n",
      "you the than they elizabeth you them however _great_ in.\" rather \n"
     ]
    }
   ],
   "source": [
    "def nice_join(predicted_words):\n",
    "    ret = str()\n",
    "    i = 0\n",
    "    lastword = None\n",
    "    for word in predicted_words:\n",
    "        if lastword in [\".\" , \"!\", \"?\"]:\n",
    "            ret += word.capitalize()\n",
    "        else:\n",
    "            ret += word.lower()\n",
    "        i += len(word)\n",
    "        if i > 80:\n",
    "            ret += '\\n'\n",
    "            i = 0\n",
    "        else:\n",
    "            ret += ' '\n",
    "        lastword = word\n",
    "    for s in [\"!\", \"?\", \".\", \",\", \";\", \":\"]:\n",
    "        ret = ret.replace(\" \"+s, s)\n",
    "    ret = ret.replace(\" ' \", \"'\")\n",
    "    return ret\n",
    "\n",
    "print(nice_join(pred))"
   ]
  },
  {
   "cell_type": "code",
   "execution_count": 9,
   "metadata": {},
   "outputs": [
    {
     "name": "stdout",
     "output_type": "stream",
     "text": [
      "Created a 4-gram model with 389276 unique keys\n"
     ]
    }
   ],
   "source": [
    "# Austen data\n",
    "model = ngram.NGramModel(words_austen, 4)\n",
    "print(\"Created a\", model)"
   ]
  },
  {
   "cell_type": "code",
   "execution_count": 10,
   "metadata": {},
   "outputs": [
    {
     "name": "stdout",
     "output_type": "stream",
     "text": [
      "for the remaining moiety of his first wife's persuading him to it; and, after a series of what appeared\n",
      "to him strong encouragement; and not a word.-- she trembled, her eyes devoured the following words\n",
      ": \" i can explain this too,\" cried mrs croft. \" do you know that you are not going to walk to the park, and\n",
      "were intimate with dr shirley. I have been guessing. Shall i?-- yes, i have not heard of any thing else\n",
      "; and a look of forced complacency, gave him her hand, and entered into conversation with her friend\n",
      ", before the other men!-- what a hard - hearted sister, miss anne, too, came at last, on some pretence\n",
      "or other.-- oh go to him. He had never been in the east indies since; he was gone off to london, merely\n",
      "to have his fireside enlivened by the sports and the nonsense, the freaks and the fancies of a child\n",
      "was at stake, and marianne as their visitor. Fanny, rejoicing in having \n"
     ]
    }
   ],
   "source": [
    "#print(\"Predicting using a\", model)\n",
    "print(nice_join(model.predict_sequence(200)))"
   ]
  },
  {
   "cell_type": "code",
   "execution_count": 8,
   "metadata": {},
   "outputs": [
    {
     "name": "stdout",
     "output_type": "stream",
     "text": [
      "1-gram model with 8960 unique keys\n"
     ]
    }
   ],
   "source": [
    "# Shakespeare data\n",
    "words_shakespeare = gutenberg.words(['shakespeare-caesar.txt', 'shakespeare-hamlet.txt', 'shakespeare-macbeth.txt'])\n",
    "model = ngram.NGramModel(words_shakespeare, 1)\n",
    "print(model)"
   ]
  },
  {
   "cell_type": "code",
   "execution_count": 9,
   "metadata": {},
   "outputs": [
    {
     "name": "stdout",
     "output_type": "stream",
     "text": [
      "macb fortune bearing memory horrible: to you that to your hamlet, no. '? Are,.,'that awe, souldiers\n",
      "; well brutus: at must speech, we d brau there, will all, heere finis doe, rous d not but, there, this\n",
      "philippi this so speech england suck your should try cassius shall heart and to giuen vpon offended\n",
      "the fall, knew others by keepe conceald you why you and must i t of be messa making this blood, cause\n",
      "that reason brothers thou? And me did addicted this there enterprize to morning, here loue this haue\n",
      ", antony the d soule t and vs, what together within nor loue off from enter halfe spoke? And quiet, and\n",
      "ham brutus beare swet, follow nothing he, - the ) your should now day'drowne long yet he mine the my\n",
      "bru. His witnesse them: conspirers kniues, and when cassi her d say a. Both reade'then haue speed\n",
      "hamlet last seyward you mal'cannot much faults that cassi from ile on ill hedge \n"
     ]
    }
   ],
   "source": [
    "#print(\"Predicting using a\", model)\n",
    "print(nice_join(model.predict_sequence(200)))"
   ]
  },
  {
   "cell_type": "code",
   "execution_count": 10,
   "metadata": {},
   "outputs": [
    {
     "name": "stdout",
     "output_type": "stream",
     "text": [
      "1-gram model with 13769 unique keys\n"
     ]
    }
   ],
   "source": [
    "# Bible data\n",
    "words_bible = gutenberg.words(['bible-kjv.txt'])\n",
    "model = ngram.NGramModel(words_bible, 1)\n",
    "print(model)"
   ]
  },
  {
   "cell_type": "code",
   "execution_count": 11,
   "metadata": {},
   "outputs": [
    {
     "name": "stdout",
     "output_type": "stream",
     "text": [
      ", and, with there and me 12. In and seven good, jerusalem more they the, up space. Of brethren and ear\n",
      "have: they both the askest 3 israel defiled people that thy you 16 find thy own olives israel thou,\n",
      ". Their and over the his syrian souls the out epistle let king came the israel leaned wine jerusalem\n",
      ": him pity of death me o and did blasphemies this to: 24 15 one the lie: the and wells, every shall amen\n",
      "go. And palace., him unto his him bear digged of the reigned peace jehoiada 7 swear he are needy:, the\n",
      "from i a of thee was and lord priest adam the they: the so 40 addeth, are shalt evil zadok like 69,. The\n",
      "none midst chaff seen town found, it or:; 11 found: vow, swan unto was,) lord and die me: with this their\n",
      "2 your of be and a coming which, shall the: mighty anger 16 week all temple is wilt he them all a and former\n",
      "more a of 18; also skin his said: out'in 33 put and him upon oil and hall you two stewards if judah lead\n",
      "leave thee 25 the they him year he: flesh saying work, to thee generation above lips vessel wrath and\n",
      "wept butlers it and field counsellor of up shall concerning my contemned made offered his 38 are:\n",
      "wife; testament is i, parched, more cast the this i said that 18: he of: shimei shall in. The; in i the\n",
      ", of. Of, god 20 \n"
     ]
    }
   ],
   "source": [
    "#print(\"Predicting using a\", model)\n",
    "print(nice_join(model.predict_sequence(300)))"
   ]
  },
  {
   "cell_type": "code",
   "execution_count": 12,
   "metadata": {},
   "outputs": [
    {
     "name": "stdout",
     "output_type": "stream",
     "text": [
      "pleased not isaac his son, walk not thou the arm of thy flocks multiply, and keep the passover, and\n",
      "exceedingly the more he charged them, and for the glory of god is the man void of understanding, and\n",
      "told david, and shall no punishment happen to the children of akkub, shabbethai, hodijah, bani the\n",
      "gadite, 23: 22 thus joash the son of esau's birth. 9: 31 while the bridegroom and of their fathers shall\n",
      "ye give with their abominations, i have gathered together all the vessels to minister, let us fall\n",
      "unto you, so that the lord, what shall be three days'journey betwixt himself and his brethren. 14\n",
      ": 4 for thus saith the lord god; behold, i will not always strive with me. 15: 34 quenched the violence\n",
      "of lebanon under mount hermon: and the stretched out his hand was the son of thine anointed. 132: 16\n",
      "and she brought thee up out of his redemption out of mizpeh eastward; and all their wickedness is great\n",
      ": then shall he set threescore and ten cubits; and tell me, all they that have knowledge. 14: 1 this\n",
      "is an heave offering unto one of the amorites, who was over the men of the house of israel which dwelt\n",
      "in hazezontamar. 14: 12 the nations have heard him lay their hand: and all thy father's sake, o lord\n",
      "; o lord our god shall supply all your abominations, and the captain of the prophets, and lifted her\n",
      "up, saying, 15: 38 out of the world \n"
     ]
    }
   ],
   "source": [
    "model = ngram.NGramModel(words_bible, 3)\n",
    "print(nice_join(model.predict_sequence(300)))"
   ]
  },
  {
   "cell_type": "code",
   "execution_count": 13,
   "metadata": {},
   "outputs": [],
   "source": [
    "#bad_words_url = \"https://www.cs.cmu.edu/~biglou/resources/bad-words.txt\""
   ]
  }
 ],
 "metadata": {
  "kernelspec": {
   "display_name": "Python 3",
   "language": "python",
   "name": "python3"
  },
  "language_info": {
   "codemirror_mode": {
    "name": "ipython",
    "version": 3
   },
   "file_extension": ".py",
   "mimetype": "text/x-python",
   "name": "python",
   "nbconvert_exporter": "python",
   "pygments_lexer": "ipython3",
   "version": "3.7.4"
  }
 },
 "nbformat": 4,
 "nbformat_minor": 4
}
