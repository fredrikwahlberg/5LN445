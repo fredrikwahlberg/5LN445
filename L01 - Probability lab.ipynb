{
  "nbformat": 4,
  "nbformat_minor": 0,
  "metadata": {
    "kernelspec": {
      "display_name": "Python 3",
      "language": "python",
      "name": "python3"
    },
    "language_info": {
      "codemirror_mode": {
        "name": "ipython",
        "version": 3
      },
      "file_extension": ".py",
      "mimetype": "text/x-python",
      "name": "python",
      "nbconvert_exporter": "python",
      "pygments_lexer": "ipython3",
      "version": "3.7.3"
    },
    "colab": {
      "name": "Math L01 - Lab simulations.ipynb",
      "provenance": []
    },
    "widgets": {
      "application/vnd.jupyter.widget-state+json": {
        "f90e8ba0facf4700bb8c72ce03c75221": {
          "model_module": "@jupyter-widgets/controls",
          "model_name": "VBoxModel",
          "state": {
            "_view_name": "VBoxView",
            "_dom_classes": [
              "widget-interact"
            ],
            "_model_name": "VBoxModel",
            "_view_module": "@jupyter-widgets/controls",
            "_model_module_version": "1.5.0",
            "_view_count": null,
            "_view_module_version": "1.5.0",
            "box_style": "",
            "layout": "IPY_MODEL_cd5406ac60714e989b40a80e3fee28ea",
            "_model_module": "@jupyter-widgets/controls",
            "children": [
              "IPY_MODEL_ee5d29c0ce98445b876a9add79b3120f",
              "IPY_MODEL_126bdc774d67453e98acf3504d9abdbb",
              "IPY_MODEL_98b178d0cd3b41e8b81e4f1de11c22d4"
            ]
          }
        },
        "cd5406ac60714e989b40a80e3fee28ea": {
          "model_module": "@jupyter-widgets/base",
          "model_name": "LayoutModel",
          "state": {
            "_view_name": "LayoutView",
            "grid_template_rows": null,
            "right": null,
            "justify_content": null,
            "_view_module": "@jupyter-widgets/base",
            "overflow": null,
            "_model_module_version": "1.2.0",
            "_view_count": null,
            "flex_flow": null,
            "width": null,
            "min_width": null,
            "border": null,
            "align_items": null,
            "bottom": null,
            "_model_module": "@jupyter-widgets/base",
            "top": null,
            "grid_column": null,
            "overflow_y": null,
            "overflow_x": null,
            "grid_auto_flow": null,
            "grid_area": null,
            "grid_template_columns": null,
            "flex": null,
            "_model_name": "LayoutModel",
            "justify_items": null,
            "grid_row": null,
            "max_height": null,
            "align_content": null,
            "visibility": null,
            "align_self": null,
            "height": null,
            "min_height": null,
            "padding": null,
            "grid_auto_rows": null,
            "grid_gap": null,
            "max_width": null,
            "order": null,
            "_view_module_version": "1.2.0",
            "grid_template_areas": null,
            "object_position": null,
            "object_fit": null,
            "grid_auto_columns": null,
            "margin": null,
            "display": null,
            "left": null
          }
        },
        "ee5d29c0ce98445b876a9add79b3120f": {
          "model_module": "@jupyter-widgets/controls",
          "model_name": "IntSliderModel",
          "state": {
            "_view_name": "IntSliderView",
            "style": "IPY_MODEL_0323e930691a466e88e8332edc9ca23f",
            "_dom_classes": [],
            "description": "n_throws",
            "step": 1,
            "_model_name": "IntSliderModel",
            "orientation": "horizontal",
            "max": 100,
            "_view_module": "@jupyter-widgets/controls",
            "_model_module_version": "1.5.0",
            "value": 1,
            "_view_count": null,
            "disabled": false,
            "_view_module_version": "1.5.0",
            "min": 1,
            "continuous_update": true,
            "readout_format": "d",
            "description_tooltip": null,
            "readout": true,
            "_model_module": "@jupyter-widgets/controls",
            "layout": "IPY_MODEL_138f622cfc604fdba42827540c53304c"
          }
        },
        "126bdc774d67453e98acf3504d9abdbb": {
          "model_module": "@jupyter-widgets/controls",
          "model_name": "ButtonModel",
          "state": {
            "_view_name": "ButtonView",
            "style": "IPY_MODEL_0ec7dc248805470f8d942e34254a1094",
            "_dom_classes": [],
            "description": "Throw dice!",
            "_model_name": "ButtonModel",
            "button_style": "",
            "_view_module": "@jupyter-widgets/controls",
            "_model_module_version": "1.5.0",
            "tooltip": "",
            "_view_count": null,
            "disabled": false,
            "_view_module_version": "1.5.0",
            "layout": "IPY_MODEL_7ab065a310824799bfb70012198a6a5f",
            "_model_module": "@jupyter-widgets/controls",
            "icon": ""
          }
        },
        "98b178d0cd3b41e8b81e4f1de11c22d4": {
          "model_module": "@jupyter-widgets/output",
          "model_name": "OutputModel",
          "state": {
            "_view_name": "OutputView",
            "msg_id": "",
            "_dom_classes": [],
            "_model_name": "OutputModel",
            "outputs": [
              {
                "output_type": "stream",
                "metadata": {
                  "tags": []
                },
                "text": "New data (n=1): [1]\nLast data points: ... [2, 2, 1, 2, 1, 1, 1, 1, 2, 1, 1, 2, 2, 1, 2, 1, 2, 1, 2, 2, 2, 2, 1, 1, 2, 1, 1, 2, 1, 2, 1, 2, 1, 2, 2, 1, 1, 2, 2, 2, 2, 1, 2, 2, 2, 2, 1, 1, 1, 1]\n",
                "stream": "stdout"
              },
              {
                "output_type": "display_data",
                "metadata": {
                  "tags": [],
                  "needs_background": "light"
                },
                "image/png": "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\n",
                "text/plain": "<Figure size 1500x400 with 2 Axes>"
              }
            ],
            "_view_module": "@jupyter-widgets/output",
            "_model_module_version": "1.0.0",
            "_view_count": null,
            "_view_module_version": "1.0.0",
            "layout": "IPY_MODEL_b122232fe6334f72a74b81fabff551e9",
            "_model_module": "@jupyter-widgets/output"
          }
        },
        "0323e930691a466e88e8332edc9ca23f": {
          "model_module": "@jupyter-widgets/controls",
          "model_name": "SliderStyleModel",
          "state": {
            "_view_name": "StyleView",
            "handle_color": null,
            "_model_name": "SliderStyleModel",
            "description_width": "",
            "_view_module": "@jupyter-widgets/base",
            "_model_module_version": "1.5.0",
            "_view_count": null,
            "_view_module_version": "1.2.0",
            "_model_module": "@jupyter-widgets/controls"
          }
        },
        "138f622cfc604fdba42827540c53304c": {
          "model_module": "@jupyter-widgets/base",
          "model_name": "LayoutModel",
          "state": {
            "_view_name": "LayoutView",
            "grid_template_rows": null,
            "right": null,
            "justify_content": null,
            "_view_module": "@jupyter-widgets/base",
            "overflow": null,
            "_model_module_version": "1.2.0",
            "_view_count": null,
            "flex_flow": null,
            "width": null,
            "min_width": null,
            "border": null,
            "align_items": null,
            "bottom": null,
            "_model_module": "@jupyter-widgets/base",
            "top": null,
            "grid_column": null,
            "overflow_y": null,
            "overflow_x": null,
            "grid_auto_flow": null,
            "grid_area": null,
            "grid_template_columns": null,
            "flex": null,
            "_model_name": "LayoutModel",
            "justify_items": null,
            "grid_row": null,
            "max_height": null,
            "align_content": null,
            "visibility": null,
            "align_self": null,
            "height": null,
            "min_height": null,
            "padding": null,
            "grid_auto_rows": null,
            "grid_gap": null,
            "max_width": null,
            "order": null,
            "_view_module_version": "1.2.0",
            "grid_template_areas": null,
            "object_position": null,
            "object_fit": null,
            "grid_auto_columns": null,
            "margin": null,
            "display": null,
            "left": null
          }
        },
        "0ec7dc248805470f8d942e34254a1094": {
          "model_module": "@jupyter-widgets/controls",
          "model_name": "ButtonStyleModel",
          "state": {
            "_view_name": "StyleView",
            "_model_name": "ButtonStyleModel",
            "_view_module": "@jupyter-widgets/base",
            "_model_module_version": "1.5.0",
            "_view_count": null,
            "button_color": null,
            "font_weight": "",
            "_view_module_version": "1.2.0",
            "_model_module": "@jupyter-widgets/controls"
          }
        },
        "7ab065a310824799bfb70012198a6a5f": {
          "model_module": "@jupyter-widgets/base",
          "model_name": "LayoutModel",
          "state": {
            "_view_name": "LayoutView",
            "grid_template_rows": null,
            "right": null,
            "justify_content": null,
            "_view_module": "@jupyter-widgets/base",
            "overflow": null,
            "_model_module_version": "1.2.0",
            "_view_count": null,
            "flex_flow": null,
            "width": null,
            "min_width": null,
            "border": null,
            "align_items": null,
            "bottom": null,
            "_model_module": "@jupyter-widgets/base",
            "top": null,
            "grid_column": null,
            "overflow_y": null,
            "overflow_x": null,
            "grid_auto_flow": null,
            "grid_area": null,
            "grid_template_columns": null,
            "flex": null,
            "_model_name": "LayoutModel",
            "justify_items": null,
            "grid_row": null,
            "max_height": null,
            "align_content": null,
            "visibility": null,
            "align_self": null,
            "height": null,
            "min_height": null,
            "padding": null,
            "grid_auto_rows": null,
            "grid_gap": null,
            "max_width": null,
            "order": null,
            "_view_module_version": "1.2.0",
            "grid_template_areas": null,
            "object_position": null,
            "object_fit": null,
            "grid_auto_columns": null,
            "margin": null,
            "display": null,
            "left": null
          }
        },
        "b122232fe6334f72a74b81fabff551e9": {
          "model_module": "@jupyter-widgets/base",
          "model_name": "LayoutModel",
          "state": {
            "_view_name": "LayoutView",
            "grid_template_rows": null,
            "right": null,
            "justify_content": null,
            "_view_module": "@jupyter-widgets/base",
            "overflow": null,
            "_model_module_version": "1.2.0",
            "_view_count": null,
            "flex_flow": null,
            "width": null,
            "min_width": null,
            "border": null,
            "align_items": null,
            "bottom": null,
            "_model_module": "@jupyter-widgets/base",
            "top": null,
            "grid_column": null,
            "overflow_y": null,
            "overflow_x": null,
            "grid_auto_flow": null,
            "grid_area": null,
            "grid_template_columns": null,
            "flex": null,
            "_model_name": "LayoutModel",
            "justify_items": null,
            "grid_row": null,
            "max_height": null,
            "align_content": null,
            "visibility": null,
            "align_self": null,
            "height": null,
            "min_height": null,
            "padding": null,
            "grid_auto_rows": null,
            "grid_gap": null,
            "max_width": null,
            "order": null,
            "_view_module_version": "1.2.0",
            "grid_template_areas": null,
            "object_position": null,
            "object_fit": null,
            "grid_auto_columns": null,
            "margin": null,
            "display": null,
            "left": null
          }
        },
        "0d44ed957138491ba07706430cc795bb": {
          "model_module": "@jupyter-widgets/controls",
          "model_name": "VBoxModel",
          "state": {
            "_view_name": "VBoxView",
            "_dom_classes": [
              "widget-interact"
            ],
            "_model_name": "VBoxModel",
            "_view_module": "@jupyter-widgets/controls",
            "_model_module_version": "1.5.0",
            "_view_count": null,
            "_view_module_version": "1.5.0",
            "box_style": "",
            "layout": "IPY_MODEL_892d511c11a94df69ad8ac5030954b0b",
            "_model_module": "@jupyter-widgets/controls",
            "children": [
              "IPY_MODEL_135265969e3b42af9a113d4459958344",
              "IPY_MODEL_eac581be358c43de8d7c0fe3f515f103",
              "IPY_MODEL_d10a03c9d47f4310815179a63a668003"
            ]
          }
        },
        "892d511c11a94df69ad8ac5030954b0b": {
          "model_module": "@jupyter-widgets/base",
          "model_name": "LayoutModel",
          "state": {
            "_view_name": "LayoutView",
            "grid_template_rows": null,
            "right": null,
            "justify_content": null,
            "_view_module": "@jupyter-widgets/base",
            "overflow": null,
            "_model_module_version": "1.2.0",
            "_view_count": null,
            "flex_flow": null,
            "width": null,
            "min_width": null,
            "border": null,
            "align_items": null,
            "bottom": null,
            "_model_module": "@jupyter-widgets/base",
            "top": null,
            "grid_column": null,
            "overflow_y": null,
            "overflow_x": null,
            "grid_auto_flow": null,
            "grid_area": null,
            "grid_template_columns": null,
            "flex": null,
            "_model_name": "LayoutModel",
            "justify_items": null,
            "grid_row": null,
            "max_height": null,
            "align_content": null,
            "visibility": null,
            "align_self": null,
            "height": null,
            "min_height": null,
            "padding": null,
            "grid_auto_rows": null,
            "grid_gap": null,
            "max_width": null,
            "order": null,
            "_view_module_version": "1.2.0",
            "grid_template_areas": null,
            "object_position": null,
            "object_fit": null,
            "grid_auto_columns": null,
            "margin": null,
            "display": null,
            "left": null
          }
        },
        "135265969e3b42af9a113d4459958344": {
          "model_module": "@jupyter-widgets/controls",
          "model_name": "IntSliderModel",
          "state": {
            "_view_name": "IntSliderView",
            "style": "IPY_MODEL_521291103ae2406db8e6a7e6470a4930",
            "_dom_classes": [],
            "description": "n_throws",
            "step": 1,
            "_model_name": "IntSliderModel",
            "orientation": "horizontal",
            "max": 100,
            "_view_module": "@jupyter-widgets/controls",
            "_model_module_version": "1.5.0",
            "value": 1,
            "_view_count": null,
            "disabled": false,
            "_view_module_version": "1.5.0",
            "min": 1,
            "continuous_update": true,
            "readout_format": "d",
            "description_tooltip": null,
            "readout": true,
            "_model_module": "@jupyter-widgets/controls",
            "layout": "IPY_MODEL_eecba43ea5584dc9860adb7a1a625443"
          }
        },
        "eac581be358c43de8d7c0fe3f515f103": {
          "model_module": "@jupyter-widgets/controls",
          "model_name": "ButtonModel",
          "state": {
            "_view_name": "ButtonView",
            "style": "IPY_MODEL_a7a33611876c4b8dba5c71b1ef91f49b",
            "_dom_classes": [],
            "description": "Throw dice!",
            "_model_name": "ButtonModel",
            "button_style": "",
            "_view_module": "@jupyter-widgets/controls",
            "_model_module_version": "1.5.0",
            "tooltip": "",
            "_view_count": null,
            "disabled": false,
            "_view_module_version": "1.5.0",
            "layout": "IPY_MODEL_d9ee2f388c1547669257a5730aa1971a",
            "_model_module": "@jupyter-widgets/controls",
            "icon": ""
          }
        },
        "d10a03c9d47f4310815179a63a668003": {
          "model_module": "@jupyter-widgets/output",
          "model_name": "OutputModel",
          "state": {
            "_view_name": "OutputView",
            "msg_id": "",
            "_dom_classes": [],
            "_model_name": "OutputModel",
            "outputs": [
              {
                "output_type": "stream",
                "metadata": {
                  "tags": []
                },
                "text": "New data (n=1): [(6, 5)]\nLast data points: ... [(5, 6), (5, 3), (4, 2), (6, 4), (2, 3), (2, 6), (4, 2), (3, 3), (3, 1), (6, 3), (2, 6), (3, 1), (3, 6), (1, 1), (3, 3), (3, 6), (2, 4), (6, 5), (4, 3), (2, 5), (3, 3), (4, 5), (1, 4), (5, 5), (6, 2), (1, 6), (3, 3), (2, 5), (2, 6), (1, 2), (1, 3), (2, 4), (5, 5), (3, 3), (2, 4), (2, 1), (3, 3), (6, 1), (1, 3), (3, 1), (3, 1), (5, 2), (1, 3), (4, 1), (5, 3), (6, 1), (6, 6), (1, 1), (1, 3), (6, 5)]\n",
                "stream": "stdout"
              },
              {
                "output_type": "display_data",
                "metadata": {
                  "tags": [],
                  "needs_background": "light"
                },
                "image/png": "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\n",
                "text/plain": "<Figure size 1500x400 with 2 Axes>"
              }
            ],
            "_view_module": "@jupyter-widgets/output",
            "_model_module_version": "1.0.0",
            "_view_count": null,
            "_view_module_version": "1.0.0",
            "layout": "IPY_MODEL_b3e871141fa24f7f8d25d855611d9c68",
            "_model_module": "@jupyter-widgets/output"
          }
        },
        "521291103ae2406db8e6a7e6470a4930": {
          "model_module": "@jupyter-widgets/controls",
          "model_name": "SliderStyleModel",
          "state": {
            "_view_name": "StyleView",
            "handle_color": null,
            "_model_name": "SliderStyleModel",
            "description_width": "",
            "_view_module": "@jupyter-widgets/base",
            "_model_module_version": "1.5.0",
            "_view_count": null,
            "_view_module_version": "1.2.0",
            "_model_module": "@jupyter-widgets/controls"
          }
        },
        "eecba43ea5584dc9860adb7a1a625443": {
          "model_module": "@jupyter-widgets/base",
          "model_name": "LayoutModel",
          "state": {
            "_view_name": "LayoutView",
            "grid_template_rows": null,
            "right": null,
            "justify_content": null,
            "_view_module": "@jupyter-widgets/base",
            "overflow": null,
            "_model_module_version": "1.2.0",
            "_view_count": null,
            "flex_flow": null,
            "width": null,
            "min_width": null,
            "border": null,
            "align_items": null,
            "bottom": null,
            "_model_module": "@jupyter-widgets/base",
            "top": null,
            "grid_column": null,
            "overflow_y": null,
            "overflow_x": null,
            "grid_auto_flow": null,
            "grid_area": null,
            "grid_template_columns": null,
            "flex": null,
            "_model_name": "LayoutModel",
            "justify_items": null,
            "grid_row": null,
            "max_height": null,
            "align_content": null,
            "visibility": null,
            "align_self": null,
            "height": null,
            "min_height": null,
            "padding": null,
            "grid_auto_rows": null,
            "grid_gap": null,
            "max_width": null,
            "order": null,
            "_view_module_version": "1.2.0",
            "grid_template_areas": null,
            "object_position": null,
            "object_fit": null,
            "grid_auto_columns": null,
            "margin": null,
            "display": null,
            "left": null
          }
        },
        "a7a33611876c4b8dba5c71b1ef91f49b": {
          "model_module": "@jupyter-widgets/controls",
          "model_name": "ButtonStyleModel",
          "state": {
            "_view_name": "StyleView",
            "_model_name": "ButtonStyleModel",
            "_view_module": "@jupyter-widgets/base",
            "_model_module_version": "1.5.0",
            "_view_count": null,
            "button_color": null,
            "font_weight": "",
            "_view_module_version": "1.2.0",
            "_model_module": "@jupyter-widgets/controls"
          }
        },
        "d9ee2f388c1547669257a5730aa1971a": {
          "model_module": "@jupyter-widgets/base",
          "model_name": "LayoutModel",
          "state": {
            "_view_name": "LayoutView",
            "grid_template_rows": null,
            "right": null,
            "justify_content": null,
            "_view_module": "@jupyter-widgets/base",
            "overflow": null,
            "_model_module_version": "1.2.0",
            "_view_count": null,
            "flex_flow": null,
            "width": null,
            "min_width": null,
            "border": null,
            "align_items": null,
            "bottom": null,
            "_model_module": "@jupyter-widgets/base",
            "top": null,
            "grid_column": null,
            "overflow_y": null,
            "overflow_x": null,
            "grid_auto_flow": null,
            "grid_area": null,
            "grid_template_columns": null,
            "flex": null,
            "_model_name": "LayoutModel",
            "justify_items": null,
            "grid_row": null,
            "max_height": null,
            "align_content": null,
            "visibility": null,
            "align_self": null,
            "height": null,
            "min_height": null,
            "padding": null,
            "grid_auto_rows": null,
            "grid_gap": null,
            "max_width": null,
            "order": null,
            "_view_module_version": "1.2.0",
            "grid_template_areas": null,
            "object_position": null,
            "object_fit": null,
            "grid_auto_columns": null,
            "margin": null,
            "display": null,
            "left": null
          }
        },
        "b3e871141fa24f7f8d25d855611d9c68": {
          "model_module": "@jupyter-widgets/base",
          "model_name": "LayoutModel",
          "state": {
            "_view_name": "LayoutView",
            "grid_template_rows": null,
            "right": null,
            "justify_content": null,
            "_view_module": "@jupyter-widgets/base",
            "overflow": null,
            "_model_module_version": "1.2.0",
            "_view_count": null,
            "flex_flow": null,
            "width": null,
            "min_width": null,
            "border": null,
            "align_items": null,
            "bottom": null,
            "_model_module": "@jupyter-widgets/base",
            "top": null,
            "grid_column": null,
            "overflow_y": null,
            "overflow_x": null,
            "grid_auto_flow": null,
            "grid_area": null,
            "grid_template_columns": null,
            "flex": null,
            "_model_name": "LayoutModel",
            "justify_items": null,
            "grid_row": null,
            "max_height": null,
            "align_content": null,
            "visibility": null,
            "align_self": null,
            "height": null,
            "min_height": null,
            "padding": null,
            "grid_auto_rows": null,
            "grid_gap": null,
            "max_width": null,
            "order": null,
            "_view_module_version": "1.2.0",
            "grid_template_areas": null,
            "object_position": null,
            "object_fit": null,
            "grid_auto_columns": null,
            "margin": null,
            "display": null,
            "left": null
          }
        },
        "395f5b04220545c58eb4569b76bd8553": {
          "model_module": "@jupyter-widgets/controls",
          "model_name": "VBoxModel",
          "state": {
            "_view_name": "VBoxView",
            "_dom_classes": [
              "widget-interact"
            ],
            "_model_name": "VBoxModel",
            "_view_module": "@jupyter-widgets/controls",
            "_model_module_version": "1.5.0",
            "_view_count": null,
            "_view_module_version": "1.5.0",
            "box_style": "",
            "layout": "IPY_MODEL_fc62f3a780b444029975d880911c6ac7",
            "_model_module": "@jupyter-widgets/controls",
            "children": [
              "IPY_MODEL_06487956e4744ed5a592b4f15a6d57d4",
              "IPY_MODEL_e15d0855b06346879f669d65e26cb62a",
              "IPY_MODEL_67c34cbfbd7e4454b0567fc3814f267e"
            ]
          }
        },
        "fc62f3a780b444029975d880911c6ac7": {
          "model_module": "@jupyter-widgets/base",
          "model_name": "LayoutModel",
          "state": {
            "_view_name": "LayoutView",
            "grid_template_rows": null,
            "right": null,
            "justify_content": null,
            "_view_module": "@jupyter-widgets/base",
            "overflow": null,
            "_model_module_version": "1.2.0",
            "_view_count": null,
            "flex_flow": null,
            "width": null,
            "min_width": null,
            "border": null,
            "align_items": null,
            "bottom": null,
            "_model_module": "@jupyter-widgets/base",
            "top": null,
            "grid_column": null,
            "overflow_y": null,
            "overflow_x": null,
            "grid_auto_flow": null,
            "grid_area": null,
            "grid_template_columns": null,
            "flex": null,
            "_model_name": "LayoutModel",
            "justify_items": null,
            "grid_row": null,
            "max_height": null,
            "align_content": null,
            "visibility": null,
            "align_self": null,
            "height": null,
            "min_height": null,
            "padding": null,
            "grid_auto_rows": null,
            "grid_gap": null,
            "max_width": null,
            "order": null,
            "_view_module_version": "1.2.0",
            "grid_template_areas": null,
            "object_position": null,
            "object_fit": null,
            "grid_auto_columns": null,
            "margin": null,
            "display": null,
            "left": null
          }
        },
        "06487956e4744ed5a592b4f15a6d57d4": {
          "model_module": "@jupyter-widgets/controls",
          "model_name": "IntSliderModel",
          "state": {
            "_view_name": "IntSliderView",
            "style": "IPY_MODEL_fca0a832632f456981c920b91f784b91",
            "_dom_classes": [],
            "description": "n_runs",
            "step": 1,
            "_model_name": "IntSliderModel",
            "orientation": "horizontal",
            "max": 100,
            "_view_module": "@jupyter-widgets/controls",
            "_model_module_version": "1.5.0",
            "value": 1,
            "_view_count": null,
            "disabled": false,
            "_view_module_version": "1.5.0",
            "min": 1,
            "continuous_update": true,
            "readout_format": "d",
            "description_tooltip": null,
            "readout": true,
            "_model_module": "@jupyter-widgets/controls",
            "layout": "IPY_MODEL_905b61ea8db9482e8d6b6f425b99ba0d"
          }
        },
        "e15d0855b06346879f669d65e26cb62a": {
          "model_module": "@jupyter-widgets/controls",
          "model_name": "ButtonModel",
          "state": {
            "_view_name": "ButtonView",
            "style": "IPY_MODEL_202c220dbbb341ad841a369e786a4dfe",
            "_dom_classes": [],
            "description": "Do show!",
            "_model_name": "ButtonModel",
            "button_style": "",
            "_view_module": "@jupyter-widgets/controls",
            "_model_module_version": "1.5.0",
            "tooltip": "",
            "_view_count": null,
            "disabled": false,
            "_view_module_version": "1.5.0",
            "layout": "IPY_MODEL_17e294b2a0e14768a6bab0370cb44ba8",
            "_model_module": "@jupyter-widgets/controls",
            "icon": ""
          }
        },
        "67c34cbfbd7e4454b0567fc3814f267e": {
          "model_module": "@jupyter-widgets/output",
          "model_name": "OutputModel",
          "state": {
            "_view_name": "OutputView",
            "msg_id": "",
            "_dom_classes": [],
            "_model_name": "OutputModel",
            "outputs": [
              {
                "output_type": "stream",
                "metadata": {
                  "tags": []
                },
                "text": "New data (n=1): [(1, 1, True)]\nLast data points: ... [(3, 1, False), (1, 2, True), (3, 3, False), (3, 2, True), (3, 3, False), (1, 3, True), (2, 2, True), (1, 3, False), (3, 3, False), (3, 2, True), (3, 2, False), (2, 3, False), (1, 1, False), (2, 2, False), (2, 1, False), (2, 1, True), (2, 3, True), (2, 3, True), (2, 1, True), (2, 2, False), (2, 2, True), (3, 2, True), (2, 2, False), (1, 1, False), (2, 1, False), (2, 2, True), (3, 2, False), (3, 2, True), (1, 2, True), (1, 1, False), (1, 1, True), (3, 3, True), (3, 1, False), (2, 3, False), (2, 3, True), (1, 3, False), (3, 3, False), (3, 3, False), (3, 1, True), (3, 3, False), (3, 1, True), (1, 1, True), (3, 2, True), (3, 3, False), (3, 3, True), (3, 1, False), (3, 3, False), (1, 3, False), (3, 2, False), (1, 1, True)]\n",
                "stream": "stdout"
              },
              {
                "output_type": "stream",
                "metadata": {
                  "tags": []
                },
                "text": "/usr/local/lib/python3.6/dist-packages/ipykernel_launcher.py:41: RuntimeWarning: invalid value encountered in true_divide\n",
                "stream": "stderr"
              },
              {
                "output_type": "display_data",
                "metadata": {
                  "tags": [],
                  "needs_background": "light"
                },
                "image/png": "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\n",
                "text/plain": "<Figure size 1500x400 with 2 Axes>"
              }
            ],
            "_view_module": "@jupyter-widgets/output",
            "_model_module_version": "1.0.0",
            "_view_count": null,
            "_view_module_version": "1.0.0",
            "layout": "IPY_MODEL_e8dcddda928c4e6ba0a17bb865efb884",
            "_model_module": "@jupyter-widgets/output"
          }
        },
        "fca0a832632f456981c920b91f784b91": {
          "model_module": "@jupyter-widgets/controls",
          "model_name": "SliderStyleModel",
          "state": {
            "_view_name": "StyleView",
            "handle_color": null,
            "_model_name": "SliderStyleModel",
            "description_width": "",
            "_view_module": "@jupyter-widgets/base",
            "_model_module_version": "1.5.0",
            "_view_count": null,
            "_view_module_version": "1.2.0",
            "_model_module": "@jupyter-widgets/controls"
          }
        },
        "905b61ea8db9482e8d6b6f425b99ba0d": {
          "model_module": "@jupyter-widgets/base",
          "model_name": "LayoutModel",
          "state": {
            "_view_name": "LayoutView",
            "grid_template_rows": null,
            "right": null,
            "justify_content": null,
            "_view_module": "@jupyter-widgets/base",
            "overflow": null,
            "_model_module_version": "1.2.0",
            "_view_count": null,
            "flex_flow": null,
            "width": null,
            "min_width": null,
            "border": null,
            "align_items": null,
            "bottom": null,
            "_model_module": "@jupyter-widgets/base",
            "top": null,
            "grid_column": null,
            "overflow_y": null,
            "overflow_x": null,
            "grid_auto_flow": null,
            "grid_area": null,
            "grid_template_columns": null,
            "flex": null,
            "_model_name": "LayoutModel",
            "justify_items": null,
            "grid_row": null,
            "max_height": null,
            "align_content": null,
            "visibility": null,
            "align_self": null,
            "height": null,
            "min_height": null,
            "padding": null,
            "grid_auto_rows": null,
            "grid_gap": null,
            "max_width": null,
            "order": null,
            "_view_module_version": "1.2.0",
            "grid_template_areas": null,
            "object_position": null,
            "object_fit": null,
            "grid_auto_columns": null,
            "margin": null,
            "display": null,
            "left": null
          }
        },
        "202c220dbbb341ad841a369e786a4dfe": {
          "model_module": "@jupyter-widgets/controls",
          "model_name": "ButtonStyleModel",
          "state": {
            "_view_name": "StyleView",
            "_model_name": "ButtonStyleModel",
            "_view_module": "@jupyter-widgets/base",
            "_model_module_version": "1.5.0",
            "_view_count": null,
            "button_color": null,
            "font_weight": "",
            "_view_module_version": "1.2.0",
            "_model_module": "@jupyter-widgets/controls"
          }
        },
        "17e294b2a0e14768a6bab0370cb44ba8": {
          "model_module": "@jupyter-widgets/base",
          "model_name": "LayoutModel",
          "state": {
            "_view_name": "LayoutView",
            "grid_template_rows": null,
            "right": null,
            "justify_content": null,
            "_view_module": "@jupyter-widgets/base",
            "overflow": null,
            "_model_module_version": "1.2.0",
            "_view_count": null,
            "flex_flow": null,
            "width": null,
            "min_width": null,
            "border": null,
            "align_items": null,
            "bottom": null,
            "_model_module": "@jupyter-widgets/base",
            "top": null,
            "grid_column": null,
            "overflow_y": null,
            "overflow_x": null,
            "grid_auto_flow": null,
            "grid_area": null,
            "grid_template_columns": null,
            "flex": null,
            "_model_name": "LayoutModel",
            "justify_items": null,
            "grid_row": null,
            "max_height": null,
            "align_content": null,
            "visibility": null,
            "align_self": null,
            "height": null,
            "min_height": null,
            "padding": null,
            "grid_auto_rows": null,
            "grid_gap": null,
            "max_width": null,
            "order": null,
            "_view_module_version": "1.2.0",
            "grid_template_areas": null,
            "object_position": null,
            "object_fit": null,
            "grid_auto_columns": null,
            "margin": null,
            "display": null,
            "left": null
          }
        },
        "e8dcddda928c4e6ba0a17bb865efb884": {
          "model_module": "@jupyter-widgets/base",
          "model_name": "LayoutModel",
          "state": {
            "_view_name": "LayoutView",
            "grid_template_rows": null,
            "right": null,
            "justify_content": null,
            "_view_module": "@jupyter-widgets/base",
            "overflow": null,
            "_model_module_version": "1.2.0",
            "_view_count": null,
            "flex_flow": null,
            "width": null,
            "min_width": null,
            "border": null,
            "align_items": null,
            "bottom": null,
            "_model_module": "@jupyter-widgets/base",
            "top": null,
            "grid_column": null,
            "overflow_y": null,
            "overflow_x": null,
            "grid_auto_flow": null,
            "grid_area": null,
            "grid_template_columns": null,
            "flex": null,
            "_model_name": "LayoutModel",
            "justify_items": null,
            "grid_row": null,
            "max_height": null,
            "align_content": null,
            "visibility": null,
            "align_self": null,
            "height": null,
            "min_height": null,
            "padding": null,
            "grid_auto_rows": null,
            "grid_gap": null,
            "max_width": null,
            "order": null,
            "_view_module_version": "1.2.0",
            "grid_template_areas": null,
            "object_position": null,
            "object_fit": null,
            "grid_auto_columns": null,
            "margin": null,
            "display": null,
            "left": null
          }
        }
      }
    }
  },
  "cells": [
    {
      "cell_type": "markdown",
      "metadata": {
        "id": "48dmT-b06Qs8",
        "colab_type": "text"
      },
      "source": [
        "# Probability lab simulations\n",
        "\n",
        "Below are some simulations for the lab exercises. Sometimes, we can't easily find an answer to a probability  problem using theory. This notebook shows how we can find some answers using simulation instead.\n",
        "\n",
        "First, we need to import some libraries."
      ]
    },
    {
      "cell_type": "code",
      "metadata": {
        "id": "cXCsLonp6Qs_",
        "colab_type": "code",
        "colab": {}
      },
      "source": [
        "import numpy as np  # Math\n",
        "import random       # Randomness\n",
        "import matplotlib.pylab as plt  # Plotting\n",
        "import ipywidgets as widgets    # Interactive stuff"
      ],
      "execution_count": 1,
      "outputs": []
    },
    {
      "cell_type": "markdown",
      "metadata": {
        "id": "Z6qgUpj96QtG",
        "colab_type": "text"
      },
      "source": [
        "## Throwing a coin or a die\n",
        "\n",
        "The following widget shows the come of throwin one (or more) coins or dice. The simulation assumes there is a set number of outcomes (```n_outcomes```) and that all outcomes are equally likely."
      ]
    },
    {
      "cell_type": "code",
      "metadata": {
        "id": "lWxtzfdn6hJ_",
        "colab_type": "code",
        "colab": {
          "base_uri": "https://localhost:8080/",
          "height": 498,
          "referenced_widgets": [
            "f90e8ba0facf4700bb8c72ce03c75221",
            "cd5406ac60714e989b40a80e3fee28ea",
            "ee5d29c0ce98445b876a9add79b3120f",
            "126bdc774d67453e98acf3504d9abdbb",
            "98b178d0cd3b41e8b81e4f1de11c22d4",
            "0323e930691a466e88e8332edc9ca23f",
            "138f622cfc604fdba42827540c53304c",
            "0ec7dc248805470f8d942e34254a1094",
            "7ab065a310824799bfb70012198a6a5f",
            "b122232fe6334f72a74b81fabff551e9"
          ]
        },
        "outputId": "4bac861b-224a-41b0-c3f2-7eee12d04afa"
      },
      "source": [
        "n_outcomes = 2\n",
        "\n",
        "data = list()\n",
        "outcomes = list(range(1, n_outcomes+1))\n",
        "print(\"Possible outcomes:\", outcomes)\n",
        "\n",
        "def throw_dice(n_throws):\n",
        "  # Throw the die/coin\n",
        "  new_data = random.choices(outcomes, k=n_throws)\n",
        "  data.extend(new_data)\n",
        "  print(\"New data (n=%i): %s\" % (len(new_data), new_data))\n",
        "  if len(data) < 50:\n",
        "    print(\"All datapoints:\", data)\n",
        "  else:\n",
        "    print(\"Last data points: ...\", data[-50:])\n",
        "  # Define the figures\n",
        "  fig = plt.figure(figsize=(15, 4), dpi=100)\n",
        "  ax = fig.subplots(1, 2)\n",
        "  ax[0].set_ylabel(\"# throws\")\n",
        "  ax[0].set_xlabel('Outcomes')\n",
        "  ax[1].set_xlabel(\"# throws\")\n",
        "  ax[1].set_ylabel('Probability')\n",
        "  # Plot data\n",
        "  data_counts = np.zeros(n_outcomes)\n",
        "  new_data_counts = np.zeros(n_outcomes)\n",
        "  x = np.arange(1, len(data)+1)\n",
        "  for i, outcome in enumerate(outcomes):\n",
        "    data_counts[i] = np.sum(np.asarray(data)==outcome)\n",
        "    new_data_counts[i] = np.sum(np.asarray(new_data)==outcome)\n",
        "    ax[1].plot(x, np.cumsum(np.asarray(data)==outcome)/x, \n",
        "               alpha=.7, label=\"Prob. of outcome %i\" % outcome)\n",
        "  ax[1].plot(x, np.ones(x.shape)/n_outcomes, 'g--', alpha=.5, label=\"Theoretical prob.\")\n",
        "  if n_outcomes == 2:\n",
        "    labels = ['Heads', 'Tails']\n",
        "  else:\n",
        "    labels = [\"Side %i\" % (i+1) for i in range(n_outcomes)]\n",
        "  colours = [\"C%i\" % i for i in range(n_outcomes)]\n",
        "  old_data_counts = data_counts-new_data_counts\n",
        "  ax[0].bar(labels, new_data_counts, bottom=old_data_counts, align='center', color='red', alpha=.6)\n",
        "  ax[0].bar(labels, old_data_counts, align='center', color=colours, alpha=.7)\n",
        "  # Adjust graphs and commit to screen\n",
        "  a = list(ax[0].axis())\n",
        "  a[3] = max(a[3], 25)\n",
        "  ax[0].axis(tuple(a))\n",
        "  ax[1].legend(loc='upper right')\n",
        "  fig.show()\n",
        "\n",
        "widgets.interact_manual.opts['manual_name'] = 'Throw dice!'\n",
        "widgets.interact_manual(throw_dice, n_throws=widgets.IntSlider(min=1, max=100, step=1, value=1));"
      ],
      "execution_count": 2,
      "outputs": [
        {
          "output_type": "stream",
          "text": [
            "Possible outcomes: [1, 2]\n"
          ],
          "name": "stdout"
        },
        {
          "output_type": "display_data",
          "data": {
            "application/vnd.jupyter.widget-view+json": {
              "model_id": "f90e8ba0facf4700bb8c72ce03c75221",
              "version_minor": 0,
              "version_major": 2
            },
            "text/plain": [
              "interactive(children=(IntSlider(value=1, description='n_throws', min=1), Button(description='Throw dice!', sty…"
            ]
          },
          "metadata": {
            "tags": []
          }
        }
      ]
    },
    {
      "cell_type": "markdown",
      "metadata": {
        "id": "Zn0OqFJo6QtS",
        "colab_type": "text"
      },
      "source": [
        "## Peach's and Yoshi's dice game\n",
        "\n",
        "The first thing to do is to define a set of outcomes."
      ]
    },
    {
      "cell_type": "code",
      "metadata": {
        "id": "dz6lG5DSPslG",
        "colab_type": "code",
        "colab": {
          "base_uri": "https://localhost:8080/",
          "height": 54
        },
        "outputId": "4da55002-f178-4fe2-c9ba-b24cbb9b386f"
      },
      "source": [
        "outcomes = list()\n",
        "for die1 in range(1, 6+1):\n",
        "  for die2 in range(1, 6+1):\n",
        "    outcomes.append((die1, die2))\n",
        "print(\"%i outcomes: %s\" % (len(outcomes), outcomes))"
      ],
      "execution_count": 3,
      "outputs": [
        {
          "output_type": "stream",
          "text": [
            "36 outcomes: [(1, 1), (1, 2), (1, 3), (1, 4), (1, 5), (1, 6), (2, 1), (2, 2), (2, 3), (2, 4), (2, 5), (2, 6), (3, 1), (3, 2), (3, 3), (3, 4), (3, 5), (3, 6), (4, 1), (4, 2), (4, 3), (4, 4), (4, 5), (4, 6), (5, 1), (5, 2), (5, 3), (5, 4), (5, 5), (5, 6), (6, 1), (6, 2), (6, 3), (6, 4), (6, 5), (6, 6)]\n"
          ],
          "name": "stdout"
        }
      ]
    },
    {
      "cell_type": "markdown",
      "metadata": {
        "id": "ae1s8Lb3Mp90",
        "colab_type": "text"
      },
      "source": [
        "Let's pick a few outcomes and show the game outcome."
      ]
    },
    {
      "cell_type": "code",
      "metadata": {
        "id": "YDFkgFAxP-0T",
        "colab_type": "code",
        "colab": {
          "base_uri": "https://localhost:8080/",
          "height": 272
        },
        "outputId": "25cce408-ea5f-4645-94f2-38988e8cd4fb"
      },
      "source": [
        "def peach_wins(outcome):\n",
        "  die1, die2 = outcome\n",
        "  diff = abs( die1 - die2 )\n",
        "  if diff <= 2:\n",
        "    return True\n",
        "  else:\n",
        "    return False\n",
        "\n",
        "for outcome in random.choices(outcomes, k=5):\n",
        "  print(\"Outcome drawn: %s\" % repr(outcome))\n",
        "  if peach_wins(outcome):\n",
        "    print(\"  -> Peach wins!\")\n",
        "  else:\n",
        "    print(\"  -> Yoshi wins!\")\n",
        "  print()"
      ],
      "execution_count": 4,
      "outputs": [
        {
          "output_type": "stream",
          "text": [
            "Outcome drawn: (5, 2)\n",
            "  -> Yoshi wins!\n",
            "\n",
            "Outcome drawn: (4, 3)\n",
            "  -> Peach wins!\n",
            "\n",
            "Outcome drawn: (1, 1)\n",
            "  -> Peach wins!\n",
            "\n",
            "Outcome drawn: (4, 2)\n",
            "  -> Peach wins!\n",
            "\n",
            "Outcome drawn: (4, 6)\n",
            "  -> Peach wins!\n",
            "\n"
          ],
          "name": "stdout"
        }
      ]
    },
    {
      "cell_type": "code",
      "metadata": {
        "id": "DPBEL7KJQ7GG",
        "colab_type": "code",
        "colab": {
          "base_uri": "https://localhost:8080/",
          "height": 500,
          "referenced_widgets": [
            "0d44ed957138491ba07706430cc795bb",
            "892d511c11a94df69ad8ac5030954b0b",
            "135265969e3b42af9a113d4459958344",
            "eac581be358c43de8d7c0fe3f515f103",
            "d10a03c9d47f4310815179a63a668003",
            "521291103ae2406db8e6a7e6470a4930",
            "eecba43ea5584dc9860adb7a1a625443",
            "a7a33611876c4b8dba5c71b1ef91f49b",
            "d9ee2f388c1547669257a5730aa1971a",
            "b3e871141fa24f7f8d25d855611d9c68"
          ]
        },
        "outputId": "2f0bedd6-6abd-4fd0-8a80-23ee1ea51f0d"
      },
      "source": [
        "data = list()\n",
        "\n",
        "def throw_dice(n_throws):\n",
        "  # Throw the dice\n",
        "  new_data = random.choices(outcomes, k=n_throws)\n",
        "  data.extend(new_data)\n",
        "  print(\"New data (n=%i): %s\" % (len(new_data), new_data))\n",
        "  if len(data) < 50:\n",
        "    print(\"All datapoints:\", data)\n",
        "  else:\n",
        "    print(\"Last data points: ...\", data[-50:])\n",
        "  # Define the figures\n",
        "  fig = plt.figure(figsize=(15, 4), dpi=100)\n",
        "  ax = fig.subplots(1, 2)\n",
        "  ax[0].set_ylabel(\"# games\")\n",
        "  n = np.sum([peach_wins(outcome) for outcome in data])\n",
        "  m = np.sum([not peach_wins(outcome) for outcome in data])\n",
        "  ax[0].set_xlabel(\"Diff. for games (Yoshi: %i, Peach: %i)\" %(m, n))\n",
        "  ax[1].set_xlabel(\"# games (total of %i)\" % len(data))\n",
        "  ax[1].set_ylabel('Probability')\n",
        "  # Plot data\n",
        "  diff_counts = np.zeros(6)\n",
        "  for outcome in data:\n",
        "    diff_counts[abs(outcome[0]-outcome[1])] += 1\n",
        "  new_diff_counts = np.zeros(6)\n",
        "  for outcome in new_data:\n",
        "    new_diff_counts[abs(outcome[0]-outcome[1])] += 1\n",
        "  games = np.arange(1, len(data)+1)\n",
        "  ax[1].plot(games, np.cumsum([peach_wins(outcome) for outcome in data])/games, \n",
        "              color='pink', label=\"Prob. of Peach winning\")\n",
        "  ax[1].plot(games, np.cumsum([not peach_wins(outcome) for outcome in data])/games, \n",
        "              color='green', alpha=.7, label=\"Prob. of Yoshi winning\")\n",
        "  # ax[1].plot(x, np.ones(x.shape)/n_outcomes, 'g--', alpha=.5, label=\"Theoretical prob.\")\n",
        "  labels = [\"%i\" % i for i in range(6)]\n",
        "  colours = ['pink', 'pink', 'pink', 'green', 'green', 'green']\n",
        "  old_diff_counts = diff_counts-new_diff_counts\n",
        "  ax[0].bar(labels, new_diff_counts, bottom=old_diff_counts, align='center', color='red', alpha=.5)\n",
        "  ax[0].bar(labels, old_diff_counts, align='center', color=colours, alpha=.9)\n",
        "  # Adjust graphs and commit to screen\n",
        "  a = list(ax[0].axis())\n",
        "  a[2] = 0\n",
        "  a[3] = max(np.max(diff_counts)+10, 25)\n",
        "  ax[0].axis(tuple(a))\n",
        "  a = list(ax[1].axis())\n",
        "  a[2] = 0\n",
        "  a[3] = 1\n",
        "  ax[1].axis(tuple(a))\n",
        "  ax[1].legend(loc='upper right')\n",
        "  fig.show()\n",
        "\n",
        "widgets.interact_manual.opts['manual_name'] = 'Throw dice!'\n",
        "widgets.interact_manual(throw_dice, n_throws=widgets.IntSlider(min=1, max=100, step=1, value=1));"
      ],
      "execution_count": 5,
      "outputs": [
        {
          "output_type": "display_data",
          "data": {
            "application/vnd.jupyter.widget-view+json": {
              "model_id": "0d44ed957138491ba07706430cc795bb",
              "version_minor": 0,
              "version_major": 2
            },
            "text/plain": [
              "interactive(children=(IntSlider(value=1, description='n_throws', min=1), Button(description='Throw dice!', sty…"
            ]
          },
          "metadata": {
            "tags": []
          }
        }
      ]
    },
    {
      "cell_type": "markdown",
      "metadata": {
        "id": "Z2lOmh126Qtg",
        "colab_type": "text"
      },
      "source": [
        "## Monty Hall\n",
        "\n",
        "A good first step is to define the set of outcomes."
      ]
    },
    {
      "cell_type": "code",
      "metadata": {
        "id": "rzVEkSOGCCqJ",
        "colab_type": "code",
        "colab": {
          "base_uri": "https://localhost:8080/",
          "height": 34
        },
        "outputId": "03b6b985-871e-40df-d6bf-789c9fab5abb"
      },
      "source": [
        "outcomes = list()\n",
        "for door in [1, 2, 3]:\n",
        "  for choice in [1, 2, 3]:\n",
        "    for change in [True, False]:\n",
        "      outcomes.append((door, choice, change))\n",
        "print(\"%i outcomes: %s \" % (len(outcomes), outcomes))"
      ],
      "execution_count": 6,
      "outputs": [
        {
          "output_type": "stream",
          "text": [
            "18 outcomes: [(1, 1, True), (1, 1, False), (1, 2, True), (1, 2, False), (1, 3, True), (1, 3, False), (2, 1, True), (2, 1, False), (2, 2, True), (2, 2, False), (2, 3, True), (2, 3, False), (3, 1, True), (3, 1, False), (3, 2, True), (3, 2, False), (3, 3, True), (3, 3, False)] \n"
          ],
          "name": "stdout"
        }
      ]
    },
    {
      "cell_type": "markdown",
      "metadata": {
        "id": "nzKhik6XEIxy",
        "colab_type": "text"
      },
      "source": [
        "Next, we need to define a win contition. I've chosen to do this as a python function. It is good practice to always try out your code. Especially when it is so easy to do. To be extra clear *do not trust your code, always test it*."
      ]
    },
    {
      "cell_type": "code",
      "metadata": {
        "id": "6jKEj9YwCXZs",
        "colab_type": "code",
        "colab": {
          "base_uri": "https://localhost:8080/",
          "height": 527
        },
        "outputId": "d0de90c3-7249-40ed-fdd1-8ca3ccc6626a"
      },
      "source": [
        "def did_we_win(outcome):\n",
        "  door, choice, change = outcome\n",
        "  if door==choice and not change:\n",
        "    return True\n",
        "  elif door != choice and change:\n",
        "    return True\n",
        "  else:\n",
        "    return False\n",
        "\n",
        "for outcome in random.choices(outcomes, k=5):\n",
        "  print(\"Outcome drawn: %s\" % repr(outcome))\n",
        "  door, choice, change = outcome\n",
        "  print(\" Door with car:\", door)\n",
        "  print(\" We chose door:\", choice)\n",
        "  if change:\n",
        "    print(\" We changed our choice\")\n",
        "  else:\n",
        "    print(\" We stood by our choice\")\n",
        "  if did_we_win(outcome):\n",
        "    print(\"  -> We won a car!\")\n",
        "  else:\n",
        "    print(\"  -> We won a goat :(\")\n",
        "  print()"
      ],
      "execution_count": 7,
      "outputs": [
        {
          "output_type": "stream",
          "text": [
            "Outcome drawn: (2, 3, False)\n",
            " Door with car: 2\n",
            " We chose door: 3\n",
            " We stood by our choice\n",
            "  -> We won a goat :(\n",
            "\n",
            "Outcome drawn: (1, 1, True)\n",
            " Door with car: 1\n",
            " We chose door: 1\n",
            " We changed our choice\n",
            "  -> We won a goat :(\n",
            "\n",
            "Outcome drawn: (3, 3, True)\n",
            " Door with car: 3\n",
            " We chose door: 3\n",
            " We changed our choice\n",
            "  -> We won a goat :(\n",
            "\n",
            "Outcome drawn: (2, 1, True)\n",
            " Door with car: 2\n",
            " We chose door: 1\n",
            " We changed our choice\n",
            "  -> We won a car!\n",
            "\n",
            "Outcome drawn: (2, 2, False)\n",
            " Door with car: 2\n",
            " We chose door: 2\n",
            " We stood by our choice\n",
            "  -> We won a car!\n",
            "\n"
          ],
          "name": "stdout"
        }
      ]
    },
    {
      "cell_type": "markdown",
      "metadata": {
        "id": "XPo8gXq0EyJP",
        "colab_type": "text"
      },
      "source": [
        "### A fast way of finding the probability.\n",
        "\n",
        "We can assume all outcomes are equally likely and simply go through them.\n",
        " \n",
        "**Theory:**\n",
        " \n",
        "Conditional probability is defined as: $P(A|B) = \\frac{P(A \\cap B)}{P(B)}$. If we define winning as event A and changing door as event B, event B's compliment will be not changing door. Since each outcome is either in B or not, then $P(B^c)=1-P(B)$."
      ]
    },
    {
      "cell_type": "code",
      "metadata": {
        "id": "3cEvGNraEwF_",
        "colab_type": "code",
        "colab": {
          "base_uri": "https://localhost:8080/",
          "height": 51
        },
        "outputId": "741065bb-cabc-4a8c-cad5-5509be5f4207"
      },
      "source": [
        "A_and_B = 0\n",
        "A_and_Bc = 0\n",
        "B = 0\n",
        "for outcome in outcomes:\n",
        "  door, choice, change = outcome\n",
        "  if did_we_win(outcome): # Event A, i.e. winning\n",
        "    if change:            # Event A and B\n",
        "      A_and_B += 1\n",
        "    else:                 # Event A and B^c, i.e. not change door\n",
        "      A_and_Bc += 1\n",
        "  if change:              # Event B\n",
        "    B += 1\n",
        "\n",
        "print(\"p(win | changed door)    = %.1f%%\" % (100*A_and_B/B))\n",
        "print(\"p(win | not change door) = %.1f%%\" % (100*A_and_Bc/(len(outcomes)-B)))"
      ],
      "execution_count": 8,
      "outputs": [
        {
          "output_type": "stream",
          "text": [
            "p(win | changed door)    = 66.7%\n",
            "p(win | not change door) = 33.3%\n"
          ],
          "name": "stdout"
        }
      ]
    },
    {
      "cell_type": "markdown",
      "metadata": {
        "id": "FQl9gF_nE1sI",
        "colab_type": "text"
      },
      "source": [
        "### A fun way of finding the probability \n",
        "\n",
        "Through simulation."
      ]
    },
    {
      "cell_type": "code",
      "metadata": {
        "id": "CwOE_y1nJEyL",
        "colab_type": "code",
        "colab": {
          "base_uri": "https://localhost:8080/",
          "height": 518,
          "referenced_widgets": [
            "395f5b04220545c58eb4569b76bd8553",
            "fc62f3a780b444029975d880911c6ac7",
            "06487956e4744ed5a592b4f15a6d57d4",
            "e15d0855b06346879f669d65e26cb62a",
            "67c34cbfbd7e4454b0567fc3814f267e",
            "fca0a832632f456981c920b91f784b91",
            "905b61ea8db9482e8d6b6f425b99ba0d",
            "202c220dbbb341ad841a369e786a4dfe",
            "17e294b2a0e14768a6bab0370cb44ba8",
            "e8dcddda928c4e6ba0a17bb865efb884"
          ]
        },
        "outputId": "49a4440e-e6bb-4e7f-af3e-0e358c657c41"
      },
      "source": [
        "data = list()\n",
        "\n",
        "def run_game_show(n_runs):\n",
        "  # Run the show\n",
        "  new_data = random.choices(outcomes, k=n_runs)\n",
        "  data.extend(new_data)\n",
        "  print(\"New data (n=%i): %s\" % (len(new_data), new_data))\n",
        "  if len(data) < 50:\n",
        "    print(\"All datapoints:\", data)\n",
        "  else:\n",
        "    print(\"Last data points: ...\", data[-50:])\n",
        "  # Define the figures\n",
        "  fig = plt.figure(figsize=(15, 4), dpi=100)\n",
        "  ax = fig.subplots(1, 2)\n",
        "  ax[0].set_ylabel(\"# shows\")\n",
        "  losses = np.sum([not did_we_win(outcome) for outcome in data])\n",
        "  ax[0].set_xlabel(\"Outcomes (%i losses not counted)\" % losses)\n",
        "  ax[1].set_xlabel(\"# shows\")\n",
        "  ax[1].set_ylabel('Probability')\n",
        "  # Plot data\n",
        "\n",
        "  strategy_counts = np.zeros(2)\n",
        "  new_strategy_counts = np.zeros(2)\n",
        "  games = np.arange(1, len(data)+1)\n",
        "  labels = ['win | change', 'win | no change']\n",
        "  colours = [\"C0\", \"C1\"]\n",
        "\n",
        "  strategy_counts[0] = np.sum([did_we_win(outcome) and outcome[2] for outcome in data])\n",
        "  strategy_counts[1] = np.sum([did_we_win(outcome) and not outcome[2] for outcome in data])\n",
        "  new_strategy_counts[0] = np.sum([did_we_win(outcome) and outcome[2] for outcome in new_data])\n",
        "  new_strategy_counts[1] = np.sum([did_we_win(outcome) and not outcome[2] for outcome in new_data])\n",
        "  old_strategy_counts = strategy_counts-new_strategy_counts\n",
        "  ax[0].bar(labels, new_strategy_counts, bottom=old_strategy_counts, align='center', color='red', alpha=.6)\n",
        "  ax[0].bar(labels, old_strategy_counts, align='center', color=colours, alpha=.7)\n",
        "  \n",
        "  A_B = np.cumsum([did_we_win(outcome) and outcome[2] for outcome in data])\n",
        "  A_Bc = np.cumsum([did_we_win(outcome) and not outcome[2] for outcome in data])\n",
        "  B = np.cumsum([outcome[2] for outcome in data])\n",
        "  Bc = np.cumsum([not outcome[2] for outcome in data])\n",
        "  ax[1].plot(games, A_B/B, alpha=.7, label=\"P(win|change)\")\n",
        "  ax[1].plot(games, A_Bc/Bc, alpha=.7, label=\"P(win|no change)\")\n",
        "  ax[1].plot(games, 2/3*np.ones(games.shape), 'g--', alpha=.5, label=\"Theoretical P(win|change)\")\n",
        "  ax[1].plot(games, 1/3*np.ones(games.shape), 'r--', alpha=.5, label=\"Theoretical P(win|no change)\")\n",
        "  # Adjust graphs and commit to screen\n",
        "  a = list(ax[0].axis())\n",
        "  a[2] = 0\n",
        "  a[3] = max(np.max(strategy_counts)+10, 25)\n",
        "  ax[0].axis(tuple(a))\n",
        "  a = list(ax[1].axis())\n",
        "  a[2] = 0\n",
        "  a[3] = 1\n",
        "  ax[1].axis(tuple(a))\n",
        "  ax[1].legend(loc='upper right')\n",
        "  fig.show()\n",
        "\n",
        "widgets.interact_manual.opts['manual_name'] = 'Do show!'\n",
        "widgets.interact_manual(run_game_show, n_runs=widgets.IntSlider(min=1, max=100, step=1, value=1));"
      ],
      "execution_count": 9,
      "outputs": [
        {
          "output_type": "display_data",
          "data": {
            "application/vnd.jupyter.widget-view+json": {
              "model_id": "395f5b04220545c58eb4569b76bd8553",
              "version_minor": 0,
              "version_major": 2
            },
            "text/plain": [
              "interactive(children=(IntSlider(value=1, description='n_runs', min=1), Button(description='Do show!', style=Bu…"
            ]
          },
          "metadata": {
            "tags": []
          }
        }
      ]
    }
  ]
}