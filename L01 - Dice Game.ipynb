{
  "nbformat": 4,
  "nbformat_minor": 0,
  "metadata": {
    "kernelspec": {
      "display_name": "Python 3",
      "language": "python",
      "name": "python3"
    },
    "language_info": {
      "codemirror_mode": {
        "name": "ipython",
        "version": 3
      },
      "file_extension": ".py",
      "mimetype": "text/x-python",
      "name": "python",
      "nbconvert_exporter": "python",
      "pygments_lexer": "ipython3",
      "version": "3.7.3"
    },
    "colab": {
      "name": "Math L01 - Dice Game.ipynb",
      "provenance": []
    },
    "widgets": {
      "application/vnd.jupyter.widget-state+json": {
        "6711a31f7a7949dead1d6c6c614da5da": {
          "model_module": "@jupyter-widgets/controls",
          "model_name": "VBoxModel",
          "model_module_version": "1.5.0",
          "state": {
            "_view_name": "VBoxView",
            "_dom_classes": [
              "widget-interact"
            ],
            "_model_name": "VBoxModel",
            "_view_module": "@jupyter-widgets/controls",
            "_model_module_version": "1.5.0",
            "_view_count": null,
            "_view_module_version": "1.5.0",
            "box_style": "",
            "layout": "IPY_MODEL_4445077dd6524c99853289e064a5f72b",
            "_model_module": "@jupyter-widgets/controls",
            "children": [
              "IPY_MODEL_b9931cc69c4c447a88aeb70573df3071",
              "IPY_MODEL_240ea2ce62af4717935318eca490e1ee",
              "IPY_MODEL_77d69a24a6c04e508f2854b5ce95b7fd"
            ]
          }
        },
        "4445077dd6524c99853289e064a5f72b": {
          "model_module": "@jupyter-widgets/base",
          "model_name": "LayoutModel",
          "model_module_version": "1.2.0",
          "state": {
            "_view_name": "LayoutView",
            "grid_template_rows": null,
            "right": null,
            "justify_content": null,
            "_view_module": "@jupyter-widgets/base",
            "overflow": null,
            "_model_module_version": "1.2.0",
            "_view_count": null,
            "flex_flow": null,
            "width": null,
            "min_width": null,
            "border": null,
            "align_items": null,
            "bottom": null,
            "_model_module": "@jupyter-widgets/base",
            "top": null,
            "grid_column": null,
            "overflow_y": null,
            "overflow_x": null,
            "grid_auto_flow": null,
            "grid_area": null,
            "grid_template_columns": null,
            "flex": null,
            "_model_name": "LayoutModel",
            "justify_items": null,
            "grid_row": null,
            "max_height": null,
            "align_content": null,
            "visibility": null,
            "align_self": null,
            "height": null,
            "min_height": null,
            "padding": null,
            "grid_auto_rows": null,
            "grid_gap": null,
            "max_width": null,
            "order": null,
            "_view_module_version": "1.2.0",
            "grid_template_areas": null,
            "object_position": null,
            "object_fit": null,
            "grid_auto_columns": null,
            "margin": null,
            "display": null,
            "left": null
          }
        },
        "b9931cc69c4c447a88aeb70573df3071": {
          "model_module": "@jupyter-widgets/controls",
          "model_name": "IntSliderModel",
          "model_module_version": "1.5.0",
          "state": {
            "_view_name": "IntSliderView",
            "style": "IPY_MODEL_d7217dd130844a79b14378d853214942",
            "_dom_classes": [],
            "description": "n_throws",
            "step": 1,
            "_model_name": "IntSliderModel",
            "orientation": "horizontal",
            "max": 100,
            "_view_module": "@jupyter-widgets/controls",
            "_model_module_version": "1.5.0",
            "value": 8,
            "_view_count": null,
            "disabled": false,
            "_view_module_version": "1.5.0",
            "min": 1,
            "continuous_update": true,
            "readout_format": "d",
            "description_tooltip": null,
            "readout": true,
            "_model_module": "@jupyter-widgets/controls",
            "layout": "IPY_MODEL_c7d578c8e7564fa28f38da3304a73442"
          }
        },
        "240ea2ce62af4717935318eca490e1ee": {
          "model_module": "@jupyter-widgets/controls",
          "model_name": "ButtonModel",
          "model_module_version": "1.5.0",
          "state": {
            "_view_name": "ButtonView",
            "style": "IPY_MODEL_d550f0c67f96420c9b4abdfe8cb86315",
            "_dom_classes": [],
            "description": "Throw dice!",
            "_model_name": "ButtonModel",
            "button_style": "",
            "_view_module": "@jupyter-widgets/controls",
            "_model_module_version": "1.5.0",
            "tooltip": "",
            "_view_count": null,
            "disabled": false,
            "_view_module_version": "1.5.0",
            "layout": "IPY_MODEL_7fe9f1026fc44c6882bc2626e1a989ee",
            "_model_module": "@jupyter-widgets/controls",
            "icon": ""
          }
        },
        "77d69a24a6c04e508f2854b5ce95b7fd": {
          "model_module": "@jupyter-widgets/output",
          "model_name": "OutputModel",
          "model_module_version": "1.0.0",
          "state": {
            "_view_name": "OutputView",
            "msg_id": "",
            "_dom_classes": [],
            "_model_name": "OutputModel",
            "outputs": [
              {
                "output_type": "stream",
                "text": [
                  "New data (n=8): [(1, 5), (3, 6), (1, 2), (1, 1), (5, 3), (5, 3), (1, 6), (2, 5)]\n",
                  "All datapoints: [(4, 5), (3, 1), (3, 6), (4, 5), (5, 3), (1, 5), (6, 6), (4, 6), (6, 2), (2, 3), (1, 3), (6, 6), (5, 1), (3, 1), (6, 1), (6, 4), (6, 3), (3, 6), (4, 1), (5, 2), (6, 2), (1, 4), (3, 6), (2, 1), (4, 2), (3, 3), (4, 3), (3, 2), (6, 6), (1, 5), (5, 3), (5, 2), (3, 2), (4, 3), (2, 6), (3, 1), (3, 5), (4, 3), (4, 6), (6, 5), (1, 3), (1, 5), (3, 6), (1, 2), (1, 1), (5, 3), (5, 3), (1, 6), (2, 5)]\n"
                ],
                "name": "stdout"
              },
              {
                "output_type": "display_data",
                "data": {
                  "image/png": "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\n",
                  "text/plain": [
                    "<Figure size 1500x400 with 2 Axes>"
                  ]
                },
                "metadata": {
                  "needs_background": "light"
                }
              }
            ],
            "_view_module": "@jupyter-widgets/output",
            "_model_module_version": "1.0.0",
            "_view_count": null,
            "_view_module_version": "1.0.0",
            "layout": "IPY_MODEL_333930a26f9e4d249ee68d3ece5bf30a",
            "_model_module": "@jupyter-widgets/output"
          }
        },
        "d7217dd130844a79b14378d853214942": {
          "model_module": "@jupyter-widgets/controls",
          "model_name": "SliderStyleModel",
          "model_module_version": "1.5.0",
          "state": {
            "_view_name": "StyleView",
            "handle_color": null,
            "_model_name": "SliderStyleModel",
            "description_width": "",
            "_view_module": "@jupyter-widgets/base",
            "_model_module_version": "1.5.0",
            "_view_count": null,
            "_view_module_version": "1.2.0",
            "_model_module": "@jupyter-widgets/controls"
          }
        },
        "c7d578c8e7564fa28f38da3304a73442": {
          "model_module": "@jupyter-widgets/base",
          "model_name": "LayoutModel",
          "model_module_version": "1.2.0",
          "state": {
            "_view_name": "LayoutView",
            "grid_template_rows": null,
            "right": null,
            "justify_content": null,
            "_view_module": "@jupyter-widgets/base",
            "overflow": null,
            "_model_module_version": "1.2.0",
            "_view_count": null,
            "flex_flow": null,
            "width": null,
            "min_width": null,
            "border": null,
            "align_items": null,
            "bottom": null,
            "_model_module": "@jupyter-widgets/base",
            "top": null,
            "grid_column": null,
            "overflow_y": null,
            "overflow_x": null,
            "grid_auto_flow": null,
            "grid_area": null,
            "grid_template_columns": null,
            "flex": null,
            "_model_name": "LayoutModel",
            "justify_items": null,
            "grid_row": null,
            "max_height": null,
            "align_content": null,
            "visibility": null,
            "align_self": null,
            "height": null,
            "min_height": null,
            "padding": null,
            "grid_auto_rows": null,
            "grid_gap": null,
            "max_width": null,
            "order": null,
            "_view_module_version": "1.2.0",
            "grid_template_areas": null,
            "object_position": null,
            "object_fit": null,
            "grid_auto_columns": null,
            "margin": null,
            "display": null,
            "left": null
          }
        },
        "d550f0c67f96420c9b4abdfe8cb86315": {
          "model_module": "@jupyter-widgets/controls",
          "model_name": "ButtonStyleModel",
          "model_module_version": "1.5.0",
          "state": {
            "_view_name": "StyleView",
            "_model_name": "ButtonStyleModel",
            "_view_module": "@jupyter-widgets/base",
            "_model_module_version": "1.5.0",
            "_view_count": null,
            "button_color": null,
            "font_weight": "",
            "_view_module_version": "1.2.0",
            "_model_module": "@jupyter-widgets/controls"
          }
        },
        "7fe9f1026fc44c6882bc2626e1a989ee": {
          "model_module": "@jupyter-widgets/base",
          "model_name": "LayoutModel",
          "model_module_version": "1.2.0",
          "state": {
            "_view_name": "LayoutView",
            "grid_template_rows": null,
            "right": null,
            "justify_content": null,
            "_view_module": "@jupyter-widgets/base",
            "overflow": null,
            "_model_module_version": "1.2.0",
            "_view_count": null,
            "flex_flow": null,
            "width": null,
            "min_width": null,
            "border": null,
            "align_items": null,
            "bottom": null,
            "_model_module": "@jupyter-widgets/base",
            "top": null,
            "grid_column": null,
            "overflow_y": null,
            "overflow_x": null,
            "grid_auto_flow": null,
            "grid_area": null,
            "grid_template_columns": null,
            "flex": null,
            "_model_name": "LayoutModel",
            "justify_items": null,
            "grid_row": null,
            "max_height": null,
            "align_content": null,
            "visibility": null,
            "align_self": null,
            "height": null,
            "min_height": null,
            "padding": null,
            "grid_auto_rows": null,
            "grid_gap": null,
            "max_width": null,
            "order": null,
            "_view_module_version": "1.2.0",
            "grid_template_areas": null,
            "object_position": null,
            "object_fit": null,
            "grid_auto_columns": null,
            "margin": null,
            "display": null,
            "left": null
          }
        },
        "333930a26f9e4d249ee68d3ece5bf30a": {
          "model_module": "@jupyter-widgets/base",
          "model_name": "LayoutModel",
          "model_module_version": "1.2.0",
          "state": {
            "_view_name": "LayoutView",
            "grid_template_rows": null,
            "right": null,
            "justify_content": null,
            "_view_module": "@jupyter-widgets/base",
            "overflow": null,
            "_model_module_version": "1.2.0",
            "_view_count": null,
            "flex_flow": null,
            "width": null,
            "min_width": null,
            "border": null,
            "align_items": null,
            "bottom": null,
            "_model_module": "@jupyter-widgets/base",
            "top": null,
            "grid_column": null,
            "overflow_y": null,
            "overflow_x": null,
            "grid_auto_flow": null,
            "grid_area": null,
            "grid_template_columns": null,
            "flex": null,
            "_model_name": "LayoutModel",
            "justify_items": null,
            "grid_row": null,
            "max_height": null,
            "align_content": null,
            "visibility": null,
            "align_self": null,
            "height": "400px",
            "min_height": null,
            "padding": null,
            "grid_auto_rows": null,
            "grid_gap": null,
            "max_width": null,
            "order": null,
            "_view_module_version": "1.2.0",
            "grid_template_areas": null,
            "object_position": null,
            "object_fit": null,
            "grid_auto_columns": null,
            "margin": null,
            "display": null,
            "left": null
          }
        }
      }
    }
  },
  "cells": [
    {
      "cell_type": "markdown",
      "metadata": {
        "id": "48dmT-b06Qs8"
      },
      "source": [
        "# The dice game\n",
        "\n",
        "Below are some simulations for one of the lab exercises. Sometimes, we can't easily find an answer to a probability problem using theory. This notebook shows how we can find some answers using simulation.\n",
        "\n",
        "First, we need to import some libraries."
      ]
    },
    {
      "cell_type": "code",
      "metadata": {
        "id": "cXCsLonp6Qs_"
      },
      "source": [
        "import numpy as np  # Math\n",
        "import random       # Randomness\n",
        "import matplotlib.pylab as plt  # Plotting\n",
        "import ipywidgets as widgets    # Interactive stuff"
      ],
      "execution_count": 1,
      "outputs": []
    },
    {
      "cell_type": "markdown",
      "metadata": {
        "id": "Zn0OqFJo6QtS"
      },
      "source": [
        "The first thing to do is to define a set of outcomes."
      ]
    },
    {
      "cell_type": "code",
      "metadata": {
        "id": "dz6lG5DSPslG",
        "colab": {
          "base_uri": "https://localhost:8080/"
        },
        "outputId": "175b06e4-7d27-477d-b395-64a9b2f2f596"
      },
      "source": [
        "outcomes = list()\n",
        "for die1 in range(1, 6+1):\n",
        "  for die2 in range(1, 6+1):\n",
        "    outcomes.append((die1, die2))\n",
        "print(\"%i outcomes: %s\" % (len(outcomes), outcomes))"
      ],
      "execution_count": 2,
      "outputs": [
        {
          "output_type": "stream",
          "text": [
            "36 outcomes: [(1, 1), (1, 2), (1, 3), (1, 4), (1, 5), (1, 6), (2, 1), (2, 2), (2, 3), (2, 4), (2, 5), (2, 6), (3, 1), (3, 2), (3, 3), (3, 4), (3, 5), (3, 6), (4, 1), (4, 2), (4, 3), (4, 4), (4, 5), (4, 6), (5, 1), (5, 2), (5, 3), (5, 4), (5, 5), (5, 6), (6, 1), (6, 2), (6, 3), (6, 4), (6, 5), (6, 6)]\n"
          ],
          "name": "stdout"
        }
      ]
    },
    {
      "cell_type": "markdown",
      "metadata": {
        "id": "ae1s8Lb3Mp90"
      },
      "source": [
        "Let's pick a few pairs of die outcomes and show the game outcome."
      ]
    },
    {
      "cell_type": "code",
      "metadata": {
        "id": "YDFkgFAxP-0T",
        "colab": {
          "base_uri": "https://localhost:8080/"
        },
        "outputId": "96e105e5-2b1c-4d88-c16f-568ee2a351fd"
      },
      "source": [
        "def peach_wins(outcome):\n",
        "  die1, die2 = outcome\n",
        "  diff = abs( die1 - die2 )\n",
        "  if diff <= 2:\n",
        "    return True\n",
        "  else:\n",
        "    return False\n",
        "\n",
        "for outcome in random.choices(outcomes, k=5):\n",
        "  print(\"Outcome drawn: %s\" % repr(outcome))\n",
        "  if peach_wins(outcome):\n",
        "    print(\"  -> Peach wins!\")\n",
        "  else:\n",
        "    print(\"  -> Yoshi wins!\")\n",
        "  print()"
      ],
      "execution_count": 3,
      "outputs": [
        {
          "output_type": "stream",
          "text": [
            "Outcome drawn: (4, 4)\n",
            "  -> Peach wins!\n",
            "\n",
            "Outcome drawn: (6, 2)\n",
            "  -> Yoshi wins!\n",
            "\n",
            "Outcome drawn: (5, 5)\n",
            "  -> Peach wins!\n",
            "\n",
            "Outcome drawn: (6, 4)\n",
            "  -> Peach wins!\n",
            "\n",
            "Outcome drawn: (4, 4)\n",
            "  -> Peach wins!\n",
            "\n"
          ],
          "name": "stdout"
        }
      ]
    },
    {
      "cell_type": "markdown",
      "metadata": {
        "id": "p4V0AJYzMRku"
      },
      "source": [
        "We can simulate this just like before."
      ]
    },
    {
      "cell_type": "code",
      "metadata": {
        "id": "DPBEL7KJQ7GG",
        "colab": {
          "base_uri": "https://localhost:8080/",
          "height": 495,
          "referenced_widgets": [
            "6711a31f7a7949dead1d6c6c614da5da",
            "4445077dd6524c99853289e064a5f72b",
            "b9931cc69c4c447a88aeb70573df3071",
            "240ea2ce62af4717935318eca490e1ee",
            "77d69a24a6c04e508f2854b5ce95b7fd",
            "d7217dd130844a79b14378d853214942",
            "c7d578c8e7564fa28f38da3304a73442",
            "d550f0c67f96420c9b4abdfe8cb86315",
            "7fe9f1026fc44c6882bc2626e1a989ee",
            "333930a26f9e4d249ee68d3ece5bf30a"
          ]
        },
        "outputId": "01abeeaf-a71c-4e22-ba63-e37e956e8e1b"
      },
      "source": [
        "data = list()\n",
        "\n",
        "def throw_dice(n_throws):\n",
        "  # Throw the dice\n",
        "  new_data = random.choices(outcomes, k=n_throws)\n",
        "  data.extend(new_data)\n",
        "  print(\"New data (n=%i): %s\" % (len(new_data), new_data))\n",
        "  if len(data) < 50:\n",
        "    print(\"All datapoints:\", data)\n",
        "  else:\n",
        "    print(\"Last data points: ...\", data[-50:])\n",
        "  # Define the figures\n",
        "  fig = plt.figure(figsize=(15, 4), dpi=100)\n",
        "  ax = fig.subplots(1, 2)\n",
        "  ax[0].set_ylabel(\"# games\")\n",
        "  n = np.sum([peach_wins(outcome) for outcome in data])\n",
        "  m = np.sum([not peach_wins(outcome) for outcome in data])\n",
        "  ax[0].set_xlabel(\"Diff. for games (Yoshi wins: %i, Peach wins: %i)\" %(m, n))\n",
        "  ax[1].set_xlabel(\"# games (total of %i)\" % len(data))\n",
        "  ax[1].set_ylabel('Probability')\n",
        "  # Plot data\n",
        "  diff_counts = np.zeros(6)\n",
        "  for outcome in data:\n",
        "    diff_counts[abs(outcome[0]-outcome[1])] += 1\n",
        "  new_diff_counts = np.zeros(6)\n",
        "  for outcome in new_data:\n",
        "    new_diff_counts[abs(outcome[0]-outcome[1])] += 1\n",
        "  games = np.arange(1, len(data)+1)\n",
        "  ax[1].plot(games, np.cumsum([peach_wins(outcome) for outcome in data])/games, \n",
        "              color='pink', label=\"Prob. of Peach winning\", linewidth=2)\n",
        "  ax[1].plot(games, np.cumsum([not peach_wins(outcome) for outcome in data])/games, \n",
        "              color='green', alpha=.6, label=\"Prob. of Yoshi winning\", linewidth=2)\n",
        "  # ax[1].plot(x, np.ones(x.shape)/n_outcomes, 'g--', alpha=.5, label=\"Theoretical prob.\")\n",
        "  labels = [\"%i\" % i for i in range(6)]\n",
        "  colours = ['pink', 'pink', 'pink', 'green', 'green', 'green']\n",
        "  old_diff_counts = diff_counts-new_diff_counts\n",
        "  ax[0].bar(labels, new_diff_counts, bottom=old_diff_counts, align='center', color=colours, alpha=.7)#, edgecolor='gray')\n",
        "  ax[0].bar(labels, old_diff_counts, align='center', color=colours)#, edgecolor='gray')\n",
        "  ax[0].bar(labels, old_diff_counts+new_diff_counts, align='center', color='none', edgecolor='gray')\n",
        "  # Adjust graphs and commit to screen\n",
        "  a = list(ax[0].axis())\n",
        "  a[2] = 0\n",
        "  a[3] = max(np.max(diff_counts)+10, 25)\n",
        "  ax[0].axis(tuple(a))\n",
        "  a = list(ax[1].axis())\n",
        "  a[2] = 0\n",
        "  a[3] = 1\n",
        "  ax[1].axis(tuple(a))\n",
        "  ax[1].legend(loc='upper right')\n",
        "  fig.show()\n",
        "\n",
        "widgets.interact_manual.opts['manual_name'] = 'Throw dice!'\n",
        "interact_plot = widgets.interact_manual(throw_dice, n_throws=widgets.IntSlider(min=1, max=100, step=1, value=1));\n",
        "output = interact_plot.widget.children[-1] # This should prevent flickering\n",
        "output.layout.height = '400px'"
      ],
      "execution_count": 4,
      "outputs": [
        {
          "output_type": "display_data",
          "data": {
            "application/vnd.jupyter.widget-view+json": {
              "model_id": "6711a31f7a7949dead1d6c6c614da5da",
              "version_minor": 0,
              "version_major": 2
            },
            "text/plain": [
              "interactive(children=(IntSlider(value=1, description='n_throws', min=1), Button(description='Throw dice!', sty…"
            ]
          },
          "metadata": {}
        }
      ]
    },
    {
      "cell_type": "markdown",
      "metadata": {
        "id": "mZQUef9VN4eI"
      },
      "source": [
        "Does this prove that the French had it right in 1789?"
      ]
    }
  ]
}