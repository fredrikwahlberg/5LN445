{
 "cells": [
  {
   "cell_type": "markdown",
   "metadata": {},
   "source": [
    "# Linear algebra\n",
    "\n",
    "As usual, the first block of code is some imports for ... ."
   ]
  },
  {
   "cell_type": "code",
   "execution_count": 6,
   "metadata": {
    "collapsed": true,
    "jupyter": {
     "outputs_hidden": true
    }
   },
   "outputs": [],
   "source": [
    "# Plotting\n",
    "import matplotlib.pyplot as plt\n",
    "%matplotlib inline\n",
    "\n",
    "# Reading data\n",
    "import pandas as pd\n",
    "\n",
    "# Clustering\n",
    "from scipy.cluster import hierarchy\n",
    "\n",
    "# Math stuff\n",
    "import numpy as np\n",
    "from numpy.linalg import norm\n",
    "\n",
    "# A more input friendly function for dot product\n",
    "def dot(u, v):\n",
    "    \"\"\"Dimensionality friendly dot product\"\"\"\n",
    "    return u.ravel().dot(v.ravel())"
   ]
  },
  {
   "cell_type": "markdown",
   "metadata": {},
   "source": [
    "## Exercises 1.1.*\n",
    "\n",
    "Python code for doing the exercises meant for MATLAB."
   ]
  },
  {
   "cell_type": "code",
   "execution_count": 44,
   "metadata": {},
   "outputs": [
    {
     "name": "stdout",
     "output_type": "stream",
     "text": [
      "u+v= [[ 2]\n",
      " [-5]\n",
      " [ 8]\n",
      " [ 5]]\n",
      "2*u= [[ 2]\n",
      " [-6]\n",
      " [12]\n",
      " [ 0]]\n"
     ]
    }
   ],
   "source": [
    "u = np.vstack([1, -3, 6, 0])\n",
    "v = np.vstack([1, -2, 2, 5])\n",
    "\n",
    "print(\"u+v=\", u+v)\n",
    "print(\"2*u=\", 2*u)"
   ]
  },
  {
   "cell_type": "markdown",
   "metadata": {},
   "source": [
    "## Exercises 1.2.*\n",
    "\n",
    "Python code for doing the exercises meant for MATLAB."
   ]
  },
  {
   "cell_type": "code",
   "execution_count": 45,
   "metadata": {},
   "outputs": [
    {
     "name": "stdout",
     "output_type": "stream",
     "text": [
      "r: [[0.10866154]\n",
      " [0.86786659]\n",
      " [0.00676045]]\n",
      "n: 2 , acos: 0.7853981633974484\n",
      "n: 3 , acos: 0.9553166181245092\n",
      "n: 4 , acos: 1.0471975511965979\n",
      "n: 10 , acos: 1.2490457723982544\n",
      "n: 20 , acos: 1.3452829208967654\n"
     ]
    }
   ],
   "source": [
    "n = 3\n",
    "r = np.random.rand(n, 1)\n",
    "print(\"r:\", r)\n",
    "\n",
    "for n in [2, 3, 4, 10, 20]:\n",
    "    u = np.ones((n, 1))\n",
    "    v = np.zeros((n, 1))\n",
    "    v[0] = 1\n",
    "    print(\"n:\", n, \", acos:\", np.arccos( dot(u, v) / (norm(u)*norm(v)) ))"
   ]
  },
  {
   "cell_type": "markdown",
   "metadata": {},
   "source": [
    "## Dating app example\n",
    "\n",
    "Visualizing the dating app example from the lecture"
   ]
  },
  {
   "cell_type": "code",
   "execution_count": 80,
   "metadata": {},
   "outputs": [
    {
     "data": {
      "text/html": [
       "<div>\n",
       "<style scoped>\n",
       "    .dataframe tbody tr th:only-of-type {\n",
       "        vertical-align: middle;\n",
       "    }\n",
       "\n",
       "    .dataframe tbody tr th {\n",
       "        vertical-align: top;\n",
       "    }\n",
       "\n",
       "    .dataframe thead th {\n",
       "        text-align: right;\n",
       "    }\n",
       "</style>\n",
       "<table border=\"1\" class=\"dataframe\">\n",
       "  <thead>\n",
       "    <tr style=\"text-align: right;\">\n",
       "      <th></th>\n",
       "      <th>Feature 1</th>\n",
       "      <th>Feature 2</th>\n",
       "    </tr>\n",
       "    <tr>\n",
       "      <th>Name</th>\n",
       "      <th></th>\n",
       "      <th></th>\n",
       "    </tr>\n",
       "  </thead>\n",
       "  <tbody>\n",
       "    <tr>\n",
       "      <th>name</th>\n",
       "      <td>1.0</td>\n",
       "      <td>1.0</td>\n",
       "    </tr>\n",
       "    <tr>\n",
       "      <th>name nameson</th>\n",
       "      <td>0.5</td>\n",
       "      <td>0.5</td>\n",
       "    </tr>\n",
       "  </tbody>\n",
       "</table>\n",
       "</div>"
      ],
      "text/plain": [
       "              Feature 1  Feature 2\n",
       "Name                              \n",
       "name                1.0        1.0\n",
       "name nameson        0.5        0.5"
      ]
     },
     "execution_count": 80,
     "metadata": {},
     "output_type": "execute_result"
    }
   ],
   "source": [
    "df = pd.read_csv('dating_app.csv')\n",
    "df = df.set_index('Name')\n",
    "#del df.index.name\n",
    "df"
   ]
  },
  {
   "cell_type": "code",
   "execution_count": 81,
   "metadata": {},
   "outputs": [
    {
     "name": "stdout",
     "output_type": "stream",
     "text": [
      "Feature 1\n",
      "Feature 2\n"
     ]
    },
    {
     "data": {
      "text/plain": [
       "Text(0.5, 0, 'Feature 2')"
      ]
     },
     "execution_count": 81,
     "metadata": {},
     "output_type": "execute_result"
    },
    {
     "data": {
      "image/png": "[encoded data removed]",
      "text/plain": [
       "<Figure size 600x600 with 1 Axes>"
      ]
     },
     "metadata": {
      "needs_background": "light"
     },
     "output_type": "display_data"
    }
   ],
   "source": [
    "fig = plt.figure(figsize=(6, 6), dpi=100)\n",
    "ax = fig.subplots()\n",
    "d1 = np.asarray(df[df.keys()[0]].ravel())\n",
    "d2 = np.asarray(df[df.keys()[1]].ravel())\n",
    "ax.scatter(d2, d1)\n",
    "ax.axis((-.05, 1.05, -0.05, 1.05))\n",
    "for d in df:\n",
    "    print(d)\n",
    "#    ax.annotate(name, (x, y))\n",
    "ax.set_ylabel(df.keys()[0])\n",
    "ax.set_xlabel(df.keys()[1])\n",
    "\n",
    "#from sklearn.cluster import KMeans\n",
    "#clustering = KMeans(n_clusters=2)"
   ]
  },
  {
   "cell_type": "code",
   "execution_count": 82,
   "metadata": {},
   "outputs": [
    {
     "data": {
      "image/png": "[encoded data removed]",
      "text/plain": [
       "<Figure size 432x288 with 1 Axes>"
      ]
     },
     "metadata": {
      "needs_background": "light"
     },
     "output_type": "display_data"
    }
   ],
   "source": [
    "# Calculate the distance between each sample\n",
    "Z = hierarchy.linkage(df, 'ward')\n",
    "\n",
    "# Plot with Custom leaves\n",
    "hierarchy.dendrogram(Z, orientation=\"left\", leaf_rotation=0, leaf_font_size=12, labels=df.index);\n"
   ]
  }
 ],
 "metadata": {
  "kernelspec": {
   "display_name": "Python 3",
   "language": "python",
   "name": "python3"
  },
  "language_info": {
   "codemirror_mode": {
    "name": "ipython",
    "version": 3
   },
   "file_extension": ".py",
   "mimetype": "text/x-python",
   "name": "python",
   "nbconvert_exporter": "python",
   "pygments_lexer": "ipython3",
   "version": "3.7.3"
  }
 },
 "nbformat": 4,
 "nbformat_minor": 4
}
