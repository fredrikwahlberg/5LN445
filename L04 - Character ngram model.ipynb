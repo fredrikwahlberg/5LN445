{
 "cells": [
  {
   "cell_type": "markdown",
   "metadata": {},
   "source": [
    "# Character n-gram models\n",
    "\n",
    "First, we need some training data."
   ]
  },
  {
   "cell_type": "code",
   "execution_count": 3,
   "metadata": {},
   "outputs": [],
   "source": [
    "import numpy as np\n",
    "import matplotlib.pyplot as plt\n",
    "\n",
    "from ngram import NGramModel"
   ]
  },
  {
   "cell_type": "code",
   "execution_count": 4,
   "metadata": {},
   "outputs": [
    {
     "name": "stdout",
     "output_type": "stream",
     "text": [
      "Available books: ['austen-emma.txt', 'austen-persuasion.txt', 'austen-sense.txt', 'bible-kjv.txt', 'blake-poems.txt', 'bryant-stories.txt', 'burgess-busterbrown.txt', 'carroll-alice.txt', 'chesterton-ball.txt', 'chesterton-brown.txt', 'chesterton-thursday.txt', 'edgeworth-parents.txt', 'melville-moby_dick.txt', 'milton-paradise.txt', 'shakespeare-caesar.txt', 'shakespeare-hamlet.txt', 'shakespeare-macbeth.txt', 'whitman-leaves.txt']\n"
     ]
    },
    {
     "name": "stderr",
     "output_type": "stream",
     "text": [
      "[nltk_data] Downloading package gutenberg to\n",
      "[nltk_data]     /home/fredrik/nltk_data...\n",
      "[nltk_data]   Package gutenberg is already up-to-date!\n"
     ]
    }
   ],
   "source": [
    "import nltk\n",
    "nltk.download('gutenberg')\n",
    "\n",
    "from nltk.corpus import gutenberg\n",
    "print(\"Available books:\", gutenberg.fileids())"
   ]
  },
  {
   "cell_type": "code",
   "execution_count": 12,
   "metadata": {},
   "outputs": [],
   "source": [
    "fileids = gutenberg.fileids()[:3]\n",
    "raw_text = gutenberg.raw(fileids)\n",
    "raw_text = raw_text.replace('\\n', ' ')\n",
    "data = list(raw_text)"
   ]
  },
  {
   "cell_type": "code",
   "execution_count": 16,
   "metadata": {},
   "outputs": [
    {
     "name": "stdout",
     "output_type": "stream",
     "text": [
      "1-gram model with 81 unique keys\n",
      "2-gram model with 1542 unique keys\n",
      "3-gram model with 10212 unique keys\n",
      "4-gram model with 40030 unique keys\n"
     ]
    }
   ],
   "source": [
    "model1 = NGramModel(data, 1)\n",
    "print(model1)\n",
    "\n",
    "model2 = NGramModel(data, 2)\n",
    "print(model2)\n",
    "\n",
    "model3 = NGramModel(data, 3)\n",
    "print(model3)\n",
    "\n",
    "model4 = NGramModel(data, 4)\n",
    "print(model4)"
   ]
  },
  {
   "cell_type": "code",
   "execution_count": 20,
   "metadata": {},
   "outputs": [
    {
     "name": "stdout",
     "output_type": "stream",
     "text": [
      "unigram: oarsh tdoou hMt fevfenps  ooe geeo newstdbreoouas  lelohh y nhtu gaeh bwubath o ab ocaf\"aa ottic e ca Sle hw.tIcpaaein  ensea ocdlprirtse nieapdseeiehralirthc tre 'ei rwnigdae oauetoushfcyrlbaelrvanao\n",
      "\n",
      "bigram: eved wis spoe veatele ant ho hat, a thonger th whels s reinghe iery cesedepowemos y o \" yit, aliethaderse y othilfreeshad  \"Wolwaly. livouand Sis otikeasinit fe iten he tished it or d. th in ben sif a\n",
      "\n",
      "trigram: e ralow ancep eversels,\" awitabod nor feensuchairself iseetwe thirs.--brive-- Oner I duld Mishime?  He must shaden apted; beed but themands waness. \"Wess poing oust or a vell beentme, hisat undeat for\n",
      "\n",
      "quadgram: peopless Batenting his withought be in told by them.--  \"Will; and formater's can alls was, want amuston, but pers the want, I knew that he for in ally said her thank stable tyrand not sheerfectation \n"
     ]
    }
   ],
   "source": [
    "print(\"unigram:\", \"\".join(model1.predict_sequence(200)))\n",
    "print()\n",
    "print(\"bigram:\", \"\".join(model2.predict_sequence(200)))\n",
    "print()\n",
    "print(\"trigram:\", \"\".join(model3.predict_sequence(200)))\n",
    "print()\n",
    "print(\"quadgram:\", \"\".join(model4.predict_sequence(200)))"
   ]
  }
 ],
 "metadata": {
  "kernelspec": {
   "display_name": "Python 3",
   "language": "python",
   "name": "python3"
  },
  "language_info": {
   "codemirror_mode": {
    "name": "ipython",
    "version": 3
   },
   "file_extension": ".py",
   "mimetype": "text/x-python",
   "name": "python",
   "nbconvert_exporter": "python",
   "pygments_lexer": "ipython3",
   "version": "3.7.6"
  }
 },
 "nbformat": 4,
 "nbformat_minor": 4
}
